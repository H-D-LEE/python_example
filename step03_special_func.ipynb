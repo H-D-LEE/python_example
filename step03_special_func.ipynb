{
 "cells": [
  {
   "cell_type": "code",
   "execution_count": null,
   "metadata": {},
   "outputs": [],
   "source": [
    "'''\n",
    "함수의 가변인수\n",
    " - 한 개 가인수로 여러 개 실인수 받을 수 있는 인수\n",
    " 형식) def 함수명(*인수)\n",
    "'''"
   ]
  },
  {
   "cell_type": "code",
   "execution_count": 1,
   "metadata": {},
   "outputs": [
    {
     "name": "stdout",
     "output_type": "stream",
     "text": [
      "홍길동\n",
      "('이순신', '유관순')\n"
     ]
    }
   ],
   "source": [
    "# (1) 여러 명의 이름 받는 가변인수\n",
    "def Func1(name, *names):\n",
    "    print(name)  # 가인수 : 홍길동\n",
    "    print(names)  # 가변 인수 : ('이순신', '유관순')\n",
    "\n",
    "Func1(\"홍길동\", \"이순신\", \"유관순\")"
   ]
  },
  {
   "cell_type": "code",
   "execution_count": 2,
   "metadata": {},
   "outputs": [
    {
     "name": "stdout",
     "output_type": "stream",
     "text": [
      "avg= 3\n",
      "\n",
      "var= 2.5\n",
      "\n",
      "std= 1.5811388300841898\n",
      "\n",
      "mean = TypeError\n"
     ]
    }
   ],
   "source": [
    "# statistics 모듈 import\n",
    "from statistics import mean, variance, stdev\n",
    "\n",
    "# (2) 통계량 구하는 함수\n",
    "def statis(func, *data):\n",
    "    if func == 'avg':\n",
    "        return mean(data)\n",
    "    elif func == 'var':\n",
    "        return variance(data)\n",
    "    elif func == 'std':\n",
    "        return stdev(data)  # var, sd\n",
    "    else:\n",
    "        return 'TypeError'\n",
    "\n",
    "print('avg=', statis('avg', 1, 2, 3, 4, 5))  # sum= 1500000000000\n",
    "print()\n",
    "print('var=', statis('var', 1, 2, 3, 4, 5))  # avg= 3\n",
    "print()\n",
    "print('std=', statis('std', 1, 2, 3, 4, 5))  # var= (2.5, 1.5811388300841898)\n",
    "print()\n",
    "print('mean =', statis('mean', 1, 2, 3, 4, 5))  # mean = TypeError"
   ]
  },
  {
   "cell_type": "code",
   "execution_count": 7,
   "metadata": {},
   "outputs": [
    {
     "name": "stdout",
     "output_type": "stream",
     "text": [
      "홍길동\n",
      "35\n",
      "{'addre': '서울시', 'height': 175, 'weight': 65}\n"
     ]
    }
   ],
   "source": [
    "# *인수 -> ():tuple\n",
    "# **인수 -> {}:dict\n",
    "\n",
    "# (3) 사전형 가변인수\n",
    "def emp_func(name, age, **other):\n",
    "    print(name)\n",
    "    print(age)\n",
    "    print(other)  # {'addre': '서울시', 'height': 175, 'weight': 65}\n",
    "\n",
    "emp_func('홍길동', 35, addre='서울시', height=175, weight=65)\n",
    "# emp_func('홍길동', 35, {addre='서울시', height:175, weight:65}):"
   ]
  },
  {
   "cell_type": "code",
   "execution_count": null,
   "metadata": {},
   "outputs": [],
   "source": [
    "'''\n",
    "2. 축약함수(Lambda)\n",
    " - 한 줄 함수\n",
    " 형식) 변수 = lambda 인수 : 리턴값\n",
    " ex) lambda x,y : x+y\n",
    "\n",
    "3. scope\n",
    "  - 전역변수/지역변수\n",
    "'''"
   ]
  },
  {
   "cell_type": "code",
   "execution_count": 3,
   "metadata": {},
   "outputs": [
    {
     "name": "stdout",
     "output_type": "stream",
     "text": [
      "add= 30\n"
     ]
    }
   ],
   "source": [
    "# 2. 축약함수(Lambda)\n",
    "\n",
    "# (1) 일반함수\n",
    "def Adder(x, y):\n",
    "    add = x + y\n",
    "    return add\n",
    "\n",
    "print('add=', Adder(10, 20))"
   ]
  },
  {
   "cell_type": "code",
   "execution_count": 5,
   "metadata": {},
   "outputs": [
    {
     "name": "stdout",
     "output_type": "stream",
     "text": [
      "add= 30\n"
     ]
    }
   ],
   "source": [
    "# (2) 람다 함수\n",
    "print('add=', (lambda x, y: x + y)(10, 20)) #lambda 매개변수: 실행문(반환값)"
   ]
  },
  {
   "cell_type": "code",
   "execution_count": 8,
   "metadata": {},
   "outputs": [
    {
     "name": "stdout",
     "output_type": "stream",
     "text": [
      "price = 12500\n",
      "\n",
      "10000 (3, 5) {'a': 2500, 'b': 3000}\n"
     ]
    }
   ],
   "source": [
    "# lambda에서 가변 인수 사용\n",
    "calc = lambda dan, su: dan * su\n",
    "print('price =', calc(2500, 5))  # price = 12500\n",
    "print()\n",
    "\n",
    "calc2 = lambda dan, *su, **product : print(dan, su, product)\n",
    "calc2(10000, 3, 5, a=2500, b=3000)\n",
    "# 10000 (3, 5) {'a': 2500, 'b': 3000}\n",
    "#**product, , product"
   ]
  },
  {
   "cell_type": "code",
   "execution_count": 18,
   "metadata": {},
   "outputs": [
    {
     "name": "stdout",
     "output_type": "stream",
     "text": [
      "x= 100\n",
      "x= 50\n",
      "\n"
     ]
    }
   ],
   "source": [
    "# 3. scope : 전역변수/지역변수\n",
    "\n",
    "# 전역변수 : 전 지역 사용\n",
    "# 지역변수 : 함수 or 블럭(if, while, for) 사용\n",
    "\n",
    "x = 50  # 전역변수\n",
    "\n",
    "\n",
    "def local_func(x):\n",
    "#    print('x=', x)\n",
    "    x += 50  # 지역변수 -> 종료 시점 소멸\n",
    "    print('x=', x)\n",
    "\n",
    "\n",
    "local_func(x)\n",
    "print('x=', x)  # x= 50\n",
    "print()"
   ]
  },
  {
   "cell_type": "code",
   "execution_count": 9,
   "metadata": {},
   "outputs": [
    {
     "name": "stdout",
     "output_type": "stream",
     "text": [
      "x= 150\n",
      "\n"
     ]
    }
   ],
   "source": [
    "x = 100  # 전역변수\n",
    "def global_func():\n",
    "    global x  # 전역변수 x 사용\n",
    "    x += 50  # x+50 = 100\n",
    "\n",
    "\n",
    "global_func()\n",
    "print('x=', x)  # x= 100\n",
    "print()"
   ]
  },
  {
   "cell_type": "code",
   "execution_count": 10,
   "metadata": {},
   "outputs": [
    {
     "name": "stdout",
     "output_type": "stream",
     "text": [
      "data= [1, 3, 5, 7, 9]\n",
      "tot= 25\n"
     ]
    }
   ],
   "source": [
    "data = [1, 3, 5, 7, 9]\n",
    "print('data=', data)\n",
    "\n",
    "tot = 0  # 전역변수\n",
    "\n",
    "def calc_func(data):\n",
    "    global tot  # tot=0\n",
    "    for d in data:\n",
    "        tot += d  # error  tot(null) = tot(null) + d(1)\n",
    "    return tot\n",
    "\n",
    "\n",
    "tot = calc_func(data)\n",
    "print('tot=', tot)  # tot= 25"
   ]
  },
  {
   "cell_type": "code",
   "execution_count": null,
   "metadata": {},
   "outputs": [],
   "source": []
  }
 ],
 "metadata": {
  "kernelspec": {
   "display_name": "Python 3 (ipykernel)",
   "language": "python",
   "name": "python3"
  },
  "language_info": {
   "codemirror_mode": {
    "name": "ipython",
    "version": 3
   },
   "file_extension": ".py",
   "mimetype": "text/x-python",
   "name": "python",
   "nbconvert_exporter": "python",
   "pygments_lexer": "ipython3",
   "version": "3.12.4"
  }
 },
 "nbformat": 4,
 "nbformat_minor": 4
}
