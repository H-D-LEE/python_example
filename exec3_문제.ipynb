{
 "cells": [
  {
   "cell_type": "code",
   "execution_count": null,
   "metadata": {},
   "outputs": [],
   "source": [
    "\"\"\"\n",
    "[문제1-A형] 조건문을 이용한 ‘짐의 무게 계산하기’\n",
    "항공사에서는 짐을 부칠때 10kg 이상이면 수수료 10,000원을 내야한다. \n",
    "만약 10kg 이하이면 수수료는 없다. \n",
    "사용자의 짐의 무게를 키보드를 입력 받아서 사용자가 지불하여야 할 \n",
    "금액을 계산하는 프로그램을 작성하시요\n",
    "\n",
    "<출력 결과 예시>\n",
    "짐의 무게는 얼마입니까? 8\n",
    "수수료는 없습니다.\n",
    "\n",
    "짐의 무게는 얼마입니까? 15\n",
    "수수료는 10,000원 입니다.\n",
    "\"\"\""
   ]
  },
  {
   "cell_type": "code",
   "execution_count": 3,
   "metadata": {},
   "outputs": [
    {
     "name": "stdin",
     "output_type": "stream",
     "text": [
      "짐의 무게는 얼마입니까?  15\n"
     ]
    },
    {
     "name": "stdout",
     "output_type": "stream",
     "text": [
      "수수료는 10,000원입니다.\n"
     ]
    }
   ],
   "source": [
    "weight = float(input('짐의 무게는 얼마입니까? '))\n",
    "\n",
    "if weight >= 10 :\n",
    "    print('수수료는 10,000원입니다.')\n",
    "else :\n",
    "    print('수수료는 없습니다.')"
   ]
  },
  {
   "cell_type": "code",
   "execution_count": null,
   "metadata": {},
   "outputs": [],
   "source": [
    "\"\"\"\n",
    "[문제1-B형] 조건문을 이용한 ‘짐의 무게 계산하기’\n",
    "항공사에서는 짐을 부칠때 10kg 이상부터 수수료를 내야한다. \n",
    "수수료는 10의 배수 단위로 10,000원씩 증가한다. \n",
    "만약 10kg 이하이면 수수료는 없다. \n",
    "사용자의 짐의 무게를 키보드를 입력 받아서 사용자가 지불하여야 할 \n",
    "금액을 계산하는 프로그램을 작성하시요\n",
    "\n",
    "<출력 결과 예시>\n",
    "짐의 무게는 얼마입니까? 8\n",
    "수수료는 없습니다.\n",
    "\n",
    "짐의 무게는 얼마입니까? 15\n",
    "수수료는 10,000원 입니다.\n",
    "\n",
    "짐의 무게는 얼마입니까? 25\n",
    "수수료는 20,000원 입니다.\n",
    "\"\"\""
   ]
  },
  {
   "cell_type": "code",
   "execution_count": 17,
   "metadata": {},
   "outputs": [
    {
     "name": "stdin",
     "output_type": "stream",
     "text": [
      "짐의 무게는 얼마입니까?  5\n"
     ]
    },
    {
     "name": "stdout",
     "output_type": "stream",
     "text": [
      "수수료는 없습니다.\n"
     ]
    }
   ],
   "source": [
    "def weight_charge(weight, charge) :\n",
    "    if weight < 10 :\n",
    "        print('수수료는 없습니다.')\n",
    "    else :\n",
    "        if weight // 10 > 0  :\n",
    "            share = weight // 10\n",
    "            print(f'수수료는 {share * charge:,}원 입니다.')\n",
    "\n",
    "weight = int(input('짐의 무게는 얼마입니까? '))\n",
    "charge = 10000\n",
    "weight_charge(weight, charge)"
   ]
  },
  {
   "cell_type": "code",
   "execution_count": null,
   "metadata": {},
   "outputs": [],
   "source": [
    "\"\"\"\n",
    "[문제2] while 반복문을 이용한 ‘숫자 맞추기 게임’\n",
    "\n",
    "컴퓨터에 의해서 1~10 사이의 난수가 발생될때 \n",
    "사용자가 예상되는 숫자를 키보드를 입력한 경우 일치하면 \n",
    "‘~~성공~~’ 메시지를 출력하고 반복을 탈출한다. \n",
    "만약 사용자가 입력한 수가 난수 보다 더 크면  \n",
    "‘더 작은 수 입력’ 메시지를 출력하고 반복을 계속한다. \n",
    "또한 사용자가 입력한 수가 난수 보다 작은면  \n",
    "‘더 큰 수 입력’ 메시지를 출력하고 반복을 계속한다. \n",
    "\"\"\""
   ]
  },
  {
   "cell_type": "code",
   "execution_count": 23,
   "metadata": {},
   "outputs": [
    {
     "name": "stdin",
     "output_type": "stream",
     "text": [
      " 5\n"
     ]
    },
    {
     "name": "stdout",
     "output_type": "stream",
     "text": [
      "더 작은 수 입력\n"
     ]
    },
    {
     "name": "stdin",
     "output_type": "stream",
     "text": [
      " 4\n"
     ]
    },
    {
     "name": "stdout",
     "output_type": "stream",
     "text": [
      "더 작은 수 입력\n"
     ]
    },
    {
     "name": "stdin",
     "output_type": "stream",
     "text": [
      " 10\n"
     ]
    },
    {
     "name": "stdout",
     "output_type": "stream",
     "text": [
      "더 큰 수 입력\n"
     ]
    },
    {
     "name": "stdin",
     "output_type": "stream",
     "text": [
      " 6\n"
     ]
    },
    {
     "name": "stdout",
     "output_type": "stream",
     "text": [
      "더 작은 수 입력\n"
     ]
    },
    {
     "name": "stdin",
     "output_type": "stream",
     "text": [
      " 2\n"
     ]
    },
    {
     "name": "stdout",
     "output_type": "stream",
     "text": [
      "~~성공~~\n"
     ]
    }
   ],
   "source": [
    "import random\n",
    "\n",
    "while True :\n",
    "    num = random.randint(1, 10)\n",
    "    input_num = int(input())\n",
    "    if num == input_num :\n",
    "        print('~~성공~~')\n",
    "        break\n",
    "    elif num > input_num :\n",
    "        print('더 작은 수 입력')\n",
    "    else :\n",
    "        print('더 큰 수 입력')"
   ]
  },
  {
   "cell_type": "code",
   "execution_count": null,
   "metadata": {},
   "outputs": [],
   "source": [
    "\"\"\"\n",
    "[문제3] while 반복문을 이용한 ‘수열 출력하기’\n",
    "1~100 사이에서 3의 배수이면서 2의 배수가 아닌수를 \n",
    "한줄에 출력하고 누적합을 출력하시오.\n",
    "\"\"\""
   ]
  },
  {
   "cell_type": "code",
   "execution_count": 31,
   "metadata": {},
   "outputs": [
    {
     "name": "stdout",
     "output_type": "stream",
     "text": [
      "3 9 15 21 27 33 39 45 51 57 63 69 75 81 87 93 99 \n",
      "tot = 867\n"
     ]
    }
   ],
   "source": [
    "i = tot = 0\n",
    "while i < 100 :\n",
    "    i += 1\n",
    "    if i % 3 == 0 and i % 2 != 0 :\n",
    "        print(i, end=' ')\n",
    "        tot += i\n",
    "print()\n",
    "print('tot = %d' %tot)"
   ]
  },
  {
   "cell_type": "code",
   "execution_count": null,
   "metadata": {},
   "outputs": [],
   "source": [
    "\"\"\"\n",
    "[문제3] for 반복문을 이용한 ‘수열 출력하기’\n",
    "1~100 사이에서 3의 배수이면서 2의 배수가 아닌수를 \n",
    "한줄에 출력하고 누적합을 출력하시오.\n",
    "\"\"\""
   ]
  },
  {
   "cell_type": "code",
   "execution_count": 33,
   "metadata": {},
   "outputs": [
    {
     "name": "stdout",
     "output_type": "stream",
     "text": [
      "3 9 15 21 27 33 39 45 51 57 63 69 75 81 87 93 99 \n",
      "total = 867\n"
     ]
    }
   ],
   "source": [
    "num = 0;\n",
    "total = 0\n",
    "for num in range(100) :\n",
    "    num += 1\n",
    "    if num % 3 == 0 and num % 2 != 0 :\n",
    "        print(num, end=' ')\n",
    "        total += num\n",
    "print()\n",
    "print(f'total = {total}')"
   ]
  },
  {
   "cell_type": "code",
   "execution_count": null,
   "metadata": {},
   "outputs": [],
   "source": [
    "\"\"\"\n",
    "[문제4] 중첩 반복문을 이용한 ‘단어 카운트 하기’\n",
    "\n",
    "다음과 같은 multiline의 문자열 객체를 이용하여 \n",
    "단어를 추출하고 단어의 개수를 출력하시오.\n",
    "\n",
    "multiline=“””안녕하세요. 파이썬 세계로 오신걸\n",
    "환영합니다.\n",
    "파이썬은 비단뱀 처럼 매력적인 언어입니다.\n",
    "\n",
    "<출력 결과>\n",
    "안녕하세요.\n",
    "파이썬\n",
    "…\n",
    "언어입니다.\n",
    "단어개수 : 10\n",
    "\"\"\""
   ]
  },
  {
   "cell_type": "code",
   "execution_count": 41,
   "metadata": {},
   "outputs": [
    {
     "name": "stdout",
     "output_type": "stream",
     "text": [
      "안녕하세요. 파이썬 세계로 오신걸\n",
      "환영합니다.\n",
      "파이썬은 비단뱀 처럼 매력적인 언어입니다.\n",
      "\n",
      "안녕하세요.\n",
      "파이썬\n",
      "세계로\n",
      "오신걸\n",
      "환영합니다.\n",
      "파이썬은\n",
      "비단뱀\n",
      "처럼\n",
      "매력적인\n",
      "언어입니다.\n",
      "단어개수 : 10\n"
     ]
    }
   ],
   "source": [
    "def for_for_word(str) :\n",
    "    words = []\n",
    "    cnt = 0\n",
    "    \n",
    "    for words_line in str1.split(sep = '\\n') :\n",
    "        print(words_line)\n",
    "        for word in words_line.split() :\n",
    "            words.append(word)\n",
    "            cnt += 1\n",
    "            \n",
    "    for word in words :\n",
    "        print(word)\n",
    "        \n",
    "    print(f'단어개수 : {cnt}')\n",
    "\n",
    "str1 = \"\"\"안녕하세요. 파이썬 세계로 오신걸\n",
    "환영합니다.\n",
    "파이썬은 비단뱀 처럼 매력적인 언어입니다.\n",
    "\"\"\"\n",
    "\n",
    "for_for_word(str1)"
   ]
  },
  {
   "cell_type": "code",
   "execution_count": null,
   "metadata": {},
   "outputs": [],
   "source": []
  }
 ],
 "metadata": {
  "kernelspec": {
   "display_name": "Python 3 (ipykernel)",
   "language": "python",
   "name": "python3"
  },
  "language_info": {
   "codemirror_mode": {
    "name": "ipython",
    "version": 3
   },
   "file_extension": ".py",
   "mimetype": "text/x-python",
   "name": "python",
   "nbconvert_exporter": "python",
   "pygments_lexer": "ipython3",
   "version": "3.12.4"
  }
 },
 "nbformat": 4,
 "nbformat_minor": 4
}
