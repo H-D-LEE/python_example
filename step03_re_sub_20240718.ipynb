{
 "cells": [
  {
   "cell_type": "markdown",
   "metadata": {},
   "source": [
    "### 7.3 문자열 치환\n",
    "#### sub(pattern, repl, string) : 텍스트 전처리 용도"
   ]
  },
  {
   "cell_type": "code",
   "execution_count": 3,
   "metadata": {},
   "outputs": [],
   "source": [
    "from re import sub\n",
    "\n",
    "st3 = 'test^홍길동 abc 대한*민국 123$tbc'\n",
    "\n",
    "# 이스케이프 문자인 경우 : \\\\이스케이프문자"
   ]
  },
  {
   "cell_type": "markdown",
   "metadata": {},
   "source": [
    "#### (1) 특수문자 제거"
   ]
  },
  {
   "cell_type": "code",
   "execution_count": 4,
   "metadata": {},
   "outputs": [
    {
     "name": "stdout",
     "output_type": "stream",
     "text": [
      "test홍길동 abc 대한민국 123tbc\n"
     ]
    },
    {
     "name": "stderr",
     "output_type": "stream",
     "text": [
      "<>:1: SyntaxWarning: invalid escape sequence '\\^'\n",
      "<>:1: SyntaxWarning: invalid escape sequence '\\^'\n",
      "C:\\Users\\user\\AppData\\Local\\Temp\\ipykernel_19376\\1352064681.py:1: SyntaxWarning: invalid escape sequence '\\^'\n",
      "  text1 = sub('[\\^*$]+', '', st3) # ^ 앞부분에 \\를 붙이는 이유 : ^가 메타문자가 아닌 특수문자로 인식(\\특수문자)\n"
     ]
    }
   ],
   "source": [
    "text1 = sub('[\\^*$]+', '', st3) # ^ 앞부분에 \\를 붙이는 이유 : ^가 메타문자가 아닌 특수문자로 인식(\\특수문자)\n",
    "print(text1)"
   ]
  },
  {
   "cell_type": "markdown",
   "metadata": {},
   "source": [
    "#### (2) 숫자 제거"
   ]
  },
  {
   "cell_type": "code",
   "execution_count": 5,
   "metadata": {},
   "outputs": [
    {
     "name": "stdout",
     "output_type": "stream",
     "text": [
      "test홍길동 abc 대한민국 tbc\n"
     ]
    }
   ],
   "source": [
    "text2 = sub('[0-9]', '', text1)\n",
    "print(text2)"
   ]
  },
  {
   "cell_type": "code",
   "execution_count": null,
   "metadata": {},
   "outputs": [],
   "source": []
  }
 ],
 "metadata": {
  "kernelspec": {
   "display_name": "Python 3 (ipykernel)",
   "language": "python",
   "name": "python3"
  },
  "language_info": {
   "codemirror_mode": {
    "name": "ipython",
    "version": 3
   },
   "file_extension": ".py",
   "mimetype": "text/x-python",
   "name": "python",
   "nbconvert_exporter": "python",
   "pygments_lexer": "ipython3",
   "version": "3.12.4"
  }
 },
 "nbformat": 4,
 "nbformat_minor": 4
}
