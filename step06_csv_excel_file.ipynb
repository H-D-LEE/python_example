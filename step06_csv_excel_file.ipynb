{
 "cells": [
  {
   "cell_type": "code",
   "execution_count": null,
   "metadata": {},
   "outputs": [],
   "source": [
    "'''\n",
    "csv, excel file read\n",
    " - 칼럼 단위로 작성된 excel 파일 유형 읽기\n",
    " \n",
    "CMD에서 pandas 패키지 install\n",
    "- pip install pandas\n",
    "- pandas, numpy, pytz, deteutil, six 패키지 install   \n",
    "'''"
   ]
  },
  {
   "cell_type": "code",
   "execution_count": 2,
   "metadata": {},
   "outputs": [],
   "source": [
    "######## csv, excel file 입출력"
   ]
  },
  {
   "cell_type": "code",
   "execution_count": 2,
   "metadata": {},
   "outputs": [
    {
     "name": "stdout",
     "output_type": "stream",
     "text": [
      "C:\\Users\\user\\Documents\\04. 파이썬\\10.실전 예제로 배우는 파이썬 프로그래밍\\2_쥬피터 노트북 파일\\chap8.파일처리와 패키지 설치\\lecture\n"
     ]
    }
   ],
   "source": [
    "import pandas as pd\n",
    "import os\n",
    "\n",
    "print(os.getcwd()) # C:\\SUNMOON\\3_Pywork-I\\workspace\\"
   ]
  },
  {
   "cell_type": "code",
   "execution_count": 3,
   "metadata": {},
   "outputs": [
    {
     "name": "stdout",
     "output_type": "stream",
     "text": [
      "<class 'pandas.core.frame.DataFrame'>\n",
      "RangeIndex: 15 entries, 0 to 14\n",
      "Data columns (total 5 columns):\n",
      " #   Column  Non-Null Count  Dtype\n",
      "---  ------  --------------  -----\n",
      " 0   no      15 non-null     int64\n",
      " 1   kor     15 non-null     int64\n",
      " 2   eng     15 non-null     int64\n",
      " 3   mat     15 non-null     int64\n",
      " 4   dept    15 non-null     int64\n",
      "dtypes: int64(5)\n",
      "memory usage: 732.0 bytes\n",
      "None\n",
      "\n",
      "    no  kor  eng  mat  dept\n",
      "0  101   88   85   86   101\n",
      "1  102   70   90   92   101\n",
      "2  103   90   45   55   101\n",
      "3  104   55   52   74   102\n",
      "4  105   65   85   96   102\n"
     ]
    }
   ],
   "source": [
    "# 1. csv 파일 읽기 \n",
    "# - Pandas 패키지를 이용하여 CSV 파일을 읽어와서 열 단위로 자료를 처리하는 과정\n",
    "\n",
    "###################\n",
    "##  score.csv    ##\n",
    "###################\n",
    "score = pd.read_csv(\"C:\\\\File_Test\\\\data\\\\score.csv\")\n",
    "print(score.info()) # str(data)\n",
    "print()\n",
    "print(score.head())"
   ]
  },
  {
   "cell_type": "code",
   "execution_count": 6,
   "metadata": {},
   "outputs": [],
   "source": [
    "# 칼럼 추출\n",
    "kor = score.kor # 객체.칼럼명\n",
    "eng = score['eng'] # 객체['칼럼명']\n",
    "mat = score['mat']\n",
    "dept = score['dept']"
   ]
  },
  {
   "cell_type": "code",
   "execution_count": 7,
   "metadata": {},
   "outputs": [],
   "source": [
    "# 칼럼 추출\n",
    "kor = score['kor'] # 객체.['칼럼명']\n",
    "eng = score['eng'] # 객체['칼럼명']\n",
    "mat = score['mat']\n",
    "dept = score['dept']"
   ]
  },
  {
   "cell_type": "code",
   "execution_count": 8,
   "metadata": {},
   "outputs": [
    {
     "name": "stdout",
     "output_type": "stream",
     "text": [
      "max kor =  95\n",
      "max eng =  90\n",
      "max mat =  96\n"
     ]
    }
   ],
   "source": [
    "# 과목별 최고 점수\n",
    "print('max kor = ', max(kor)) # max height =  190\n",
    "print('max eng = ', max(eng)) # max weight =  85\n",
    "print('max mat = ', max(mat))"
   ]
  },
  {
   "cell_type": "code",
   "execution_count": 9,
   "metadata": {},
   "outputs": [
    {
     "name": "stdout",
     "output_type": "stream",
     "text": [
      "min kor =  40\n",
      "min eng =  45\n",
      "min mat =  41\n"
     ]
    }
   ],
   "source": [
    "# 과목별 최하 점수\n",
    "print('min kor = ', min(kor)) # max height =  190\n",
    "print('min eng = ', min(eng)) # max weight =  85\n",
    "print('min mat = ', min(mat))"
   ]
  },
  {
   "cell_type": "code",
   "execution_count": 10,
   "metadata": {},
   "outputs": [
    {
     "name": "stdout",
     "output_type": "stream",
     "text": [
      "국어 점수 평균 :  71.4\n",
      "영어 점수 평균 :  67.933\n",
      "수학 점수 평균 :  71.333\n"
     ]
    }
   ],
   "source": [
    "# 과목별 평균 점수\n",
    "from statistics import mean\n",
    "print('국어 점수 평균 : ', round(mean(kor),3))\n",
    "print('영어 점수 평균 : ', round(mean(eng),3))\n",
    "print('수학 점수 평균 : ', round(mean(mat),3))"
   ]
  },
  {
   "cell_type": "code",
   "execution_count": null,
   "metadata": {},
   "outputs": [],
   "source": [
    "# 1. csv 파일 읽기\n",
    "\n",
    "###################\n",
    "##  score.csv    ##\n",
    "###################\n",
    "score = pd.read_csv(\"\"C:/File_Test/data/score.csv\")\n",
    "print(score.info()) # str(data)\n",
    "\n",
    "print(score.head())\n",
    "\n",
    "# 칼럼 추출\n",
    "kor = score.kor # 객체.칼럼명\n",
    "eng = score['eng'] # 객체['칼럼명']\n",
    "mat = score['mat']\n",
    "dept = score['dept']\n",
    "\n",
    "# 과목별 최고 점수\n",
    "print('max kor = ', max(kor)) # max height =  190\n",
    "print('max eng = ', max(eng)) # max weight =  85\n",
    "print('max mat = ', max(mat))\n",
    "\n",
    "# 과목별 최하 점수\n",
    "print('min kor = ', min(kor)) # max height =  190\n",
    "print('min eng = ', min(eng)) # max weight =  85\n",
    "print('min mat = ', min(mat))\n",
    "\n",
    "# 과목별 평균 점수\n",
    "from statistics import mean\n",
    "print('국어 점수 평균 : ', round(mean(kor),3))\n",
    "print('영어 점수 평균 : ', round(mean(eng),3))\n",
    "print('수학 점수 평균 : ', round(mean(mat),3))"
   ]
  },
  {
   "cell_type": "code",
   "execution_count": null,
   "metadata": {},
   "outputs": [],
   "source": []
  },
  {
   "cell_type": "code",
   "execution_count": null,
   "metadata": {},
   "outputs": [],
   "source": [
    "##############################\n",
    "### spam_data.csv : 제목 없음\n",
    "##############################"
   ]
  },
  {
   "cell_type": "code",
   "execution_count": 4,
   "metadata": {},
   "outputs": [
    {
     "name": "stdout",
     "output_type": "stream",
     "text": [
      "<class 'pandas.core.frame.DataFrame'>\n",
      "RangeIndex: 5 entries, 0 to 4\n",
      "Data columns (total 2 columns):\n",
      " #   Column  Non-Null Count  Dtype \n",
      "---  ------  --------------  ----- \n",
      " 0   0       5 non-null      object\n",
      " 1   1       5 non-null      object\n",
      "dtypes: object(2)\n",
      "memory usage: 212.0+ bytes\n",
      "None\n",
      "\n",
      "0     ham\n",
      "1    spam\n",
      "2     ham\n",
      "3    spam\n",
      "4     ham\n",
      "Name: 0, dtype: object\n",
      "\n",
      "0      우리나라    대한민국, 우리나라 만세\n",
      "1        비아그라 500GRAM 정력 최고!\n",
      "2                 나는 대한민국 사람\n",
      "3    보험료 15000원에 평생 보장 마감 임박\n",
      "4                     나는 홍길동\n",
      "Name: 1, dtype: object\n"
     ]
    }
   ],
   "source": [
    "spam_data = pd.read_csv(\"C:/File_Test/data/spam_data.csv\", header=None, encoding='ms949')\n",
    "print(spam_data.info())\n",
    "print()\n",
    "\n",
    "target = spam_data[0] # ham/spam\n",
    "texts = spam_data[1] # message\n",
    "\n",
    "print(target)\n",
    "print()\n",
    "print(texts)"
   ]
  },
  {
   "cell_type": "code",
   "execution_count": 5,
   "metadata": {},
   "outputs": [
    {
     "name": "stdout",
     "output_type": "stream",
     "text": [
      "[0, 1, 0, 1, 0]\n"
     ]
    }
   ],
   "source": [
    "# target -> 더미변수(spam=1, ham=0)\n",
    "target = [ 1 if t == 'spam' else 0 for t in target]\n",
    "print(target) # [0, 1, 0, 1, 0]"
   ]
  },
  {
   "cell_type": "code",
   "execution_count": null,
   "metadata": {},
   "outputs": [],
   "source": []
  },
  {
   "cell_type": "code",
   "execution_count": 6,
   "metadata": {},
   "outputs": [],
   "source": [
    "#pip install xlrd"
   ]
  },
  {
   "cell_type": "code",
   "execution_count": 7,
   "metadata": {},
   "outputs": [],
   "source": [
    "# 2. excel 파일 읽기 : 'xlrd' install"
   ]
  },
  {
   "cell_type": "code",
   "execution_count": 8,
   "metadata": {},
   "outputs": [
    {
     "name": "stdout",
     "output_type": "stream",
     "text": [
      "<pandas.io.excel._base.ExcelFile object at 0x00000264B7E13C50>\n"
     ]
    }
   ],
   "source": [
    "sam = pd.ExcelFile(\"C:/File_Test/data/sam_kospi.xlsx\")\n",
    "# ImportError: Missing optional dependency 'xlrd'.\n",
    "print(sam) # <pandas.io.excel._base.ExcelFile object at 0x1347FE50>"
   ]
  },
  {
   "cell_type": "code",
   "execution_count": 9,
   "metadata": {},
   "outputs": [
    {
     "name": "stdout",
     "output_type": "stream",
     "text": [
      "          Date     Open     High      Low    Close  Volume\n",
      "0   2015-10-30  1345000  1390000  1341000  1372000  498776\n",
      "1   2015-10-29  1330000  1392000  1324000  1325000  622336\n",
      "2   2015-10-28  1294000  1308000  1291000  1308000  257374\n",
      "3   2015-10-27  1282000  1299000  1281000  1298000  131144\n",
      "4   2015-10-26  1298000  1298000  1272000  1292000  151996\n",
      "..         ...      ...      ...      ...      ...     ...\n",
      "242 2014-11-07  1218000  1218000  1195000  1206000  107688\n",
      "243 2014-11-06  1198000  1210000  1193000  1204000  168497\n",
      "244 2014-11-05  1215000  1225000  1194000  1202000  187182\n",
      "245 2014-11-04  1219000  1242000  1205000  1217000  237045\n",
      "246 2014-11-03  1250000  1252000  1216000  1235000  263940\n",
      "\n",
      "[247 rows x 6 columns]\n",
      "\n",
      "<class 'pandas.core.frame.DataFrame'>\n",
      "RangeIndex: 247 entries, 0 to 246\n",
      "Data columns (total 6 columns):\n",
      " #   Column  Non-Null Count  Dtype         \n",
      "---  ------  --------------  -----         \n",
      " 0   Date    247 non-null    datetime64[ns]\n",
      " 1   Open    247 non-null    int64         \n",
      " 2   High    247 non-null    int64         \n",
      " 3   Low     247 non-null    int64         \n",
      " 4   Close   247 non-null    int64         \n",
      " 5   Volume  247 non-null    int64         \n",
      "dtypes: datetime64[ns](1), int64(5)\n",
      "memory usage: 11.7 KB\n",
      "None\n"
     ]
    }
   ],
   "source": [
    "kospi = sam.parse(\"sam_kospi\")\n",
    "print(kospi) # [247 rows x 6 columns]\n",
    "print()\n",
    "print(kospi.info())"
   ]
  },
  {
   "cell_type": "code",
   "execution_count": 28,
   "metadata": {},
   "outputs": [
    {
     "name": "stdout",
     "output_type": "stream",
     "text": [
      "high mean= 1307947.3684210526\n",
      "low mean= 1280919.028340081\n",
      "\n",
      "High mean : 1307947.3684210526\n",
      "Low mean : 1280919.028340081\n"
     ]
    }
   ],
   "source": [
    "high = kospi['High']\n",
    "low = kospi['Low']\n",
    "\n",
    "from statistics import mean\n",
    "print('high mean=', mean(high)) # high mean= 1307947.3684210526\n",
    "print('low mean=', mean(low)) # low mean= 1280919.028340081\n",
    "print()\n",
    "\n",
    "print('High mean :', high.mean())\n",
    "print('Low mean :', low.mean())\n"
   ]
  },
  {
   "cell_type": "code",
   "execution_count": null,
   "metadata": {},
   "outputs": [],
   "source": []
  }
 ],
 "metadata": {
  "kernelspec": {
   "display_name": "Python 3 (ipykernel)",
   "language": "python",
   "name": "python3"
  },
  "language_info": {
   "codemirror_mode": {
    "name": "ipython",
    "version": 3
   },
   "file_extension": ".py",
   "mimetype": "text/x-python",
   "name": "python",
   "nbconvert_exporter": "python",
   "pygments_lexer": "ipython3",
   "version": "3.12.4"
  }
 },
 "nbformat": 4,
 "nbformat_minor": 4
}
