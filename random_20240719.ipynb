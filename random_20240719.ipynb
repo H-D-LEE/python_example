{
 "cells": [
  {
   "cell_type": "code",
   "execution_count": 1,
   "id": "593e2ee0-7dc7-4641-b195-c511a5f7195a",
   "metadata": {},
   "outputs": [],
   "source": [
    "import random"
   ]
  },
  {
   "cell_type": "code",
   "execution_count": 18,
   "id": "dcc56c79-4c69-4654-a946-f1a57eef4a98",
   "metadata": {},
   "outputs": [
    {
     "data": {
      "text/plain": [
       "0.4625931216497472"
      ]
     },
     "execution_count": 18,
     "metadata": {},
     "output_type": "execute_result"
    }
   ],
   "source": [
    "random.random()        # Random float x, 0.0 <= x < 1.0"
   ]
  },
  {
   "cell_type": "code",
   "execution_count": 21,
   "id": "321b7ec2-9db2-4332-b6b9-c29f19ce5512",
   "metadata": {},
   "outputs": [
    {
     "data": {
      "text/plain": [
       "6.09062674532892"
      ]
     },
     "execution_count": 21,
     "metadata": {},
     "output_type": "execute_result"
    }
   ],
   "source": [
    "random.uniform(1, 10)  # Random float x, 1.0 <= x < 10.0"
   ]
  },
  {
   "cell_type": "code",
   "execution_count": 57,
   "id": "76913115-81fd-4453-a881-39c0b2d85a03",
   "metadata": {},
   "outputs": [
    {
     "name": "stdout",
     "output_type": "stream",
     "text": [
      "num1 =  7\n",
      "num1_zfill =  07\n"
     ]
    }
   ],
   "source": [
    "num1 = random.randint(1, 99)  # Integer from 1 to 10, endpoints included\n",
    "print('num1 = ', num1)\n",
    "num1_zfill = str(num1).zfill(2)\n",
    "print('num1_zfill = ', num1_zfill)"
   ]
  },
  {
   "cell_type": "code",
   "execution_count": 26,
   "id": "b045b039-1086-4b10-a87b-52a69052e199",
   "metadata": {},
   "outputs": [
    {
     "data": {
      "text/plain": [
       "60"
      ]
     },
     "execution_count": 26,
     "metadata": {},
     "output_type": "execute_result"
    }
   ],
   "source": [
    "random.randrange(0, 101, 2)  # Even integer from 0 to 100"
   ]
  },
  {
   "cell_type": "code",
   "execution_count": 32,
   "id": "aed5038e-737c-448a-b63f-302b16f7ab0e",
   "metadata": {},
   "outputs": [
    {
     "data": {
      "text/plain": [
       "[4, 2, 3]"
      ]
     },
     "execution_count": 32,
     "metadata": {},
     "output_type": "execute_result"
    }
   ],
   "source": [
    "random.sample([1, 2, 3, 4, 5],  3)  # Choose 3 elements"
   ]
  },
  {
   "cell_type": "code",
   "execution_count": 37,
   "id": "81bad0b6-b917-4a99-a948-6a3dde37962f",
   "metadata": {},
   "outputs": [
    {
     "data": {
      "text/plain": [
       "[5, 2, 3, 1, 4, 7, 6]"
      ]
     },
     "execution_count": 37,
     "metadata": {},
     "output_type": "execute_result"
    }
   ],
   "source": [
    "items = [1, 2, 3, 4, 5, 6, 7]\n",
    "random.shuffle(items)\n",
    "items"
   ]
  },
  {
   "cell_type": "code",
   "execution_count": null,
   "id": "405c568a-6ef9-4f36-b6f0-e247d579d5e9",
   "metadata": {},
   "outputs": [],
   "source": []
  }
 ],
 "metadata": {
  "kernelspec": {
   "display_name": "Python 3 (ipykernel)",
   "language": "python",
   "name": "python3"
  },
  "language_info": {
   "codemirror_mode": {
    "name": "ipython",
    "version": 3
   },
   "file_extension": ".py",
   "mimetype": "text/x-python",
   "name": "python",
   "nbconvert_exporter": "python",
   "pygments_lexer": "ipython3",
   "version": "3.12.4"
  }
 },
 "nbformat": 4,
 "nbformat_minor": 5
}
