{
 "cells": [
  {
   "cell_type": "code",
   "execution_count": null,
   "metadata": {},
   "outputs": [],
   "source": [
    "'''\n",
    "[문제1] \n",
    "다음 조건에 맞게 수량과 단가 변수를 만들어서 금액을 출력하시오\n",
    "\n",
    "<처리 조건>\n",
    "조건1. 수량변수 : su = 5\n",
    "조건2. 단가 변수 : dan = 800\n",
    "조건3. su, dan 변수 주소 확인\n",
    "조건4. 금액 계산 = 수량 * 단가\n",
    "조건5. 기타 세부 내용 < 출력 화면 예시> 참고\n",
    "\n",
    "<출력화면 예시>\n",
    "su 주소 : 123456789\n",
    "dan 주소 : 123456789\n",
    "금액  = 4000\n",
    "'''"
   ]
  },
  {
   "cell_type": "code",
   "execution_count": 5,
   "metadata": {},
   "outputs": [
    {
     "name": "stdout",
     "output_type": "stream",
     "text": [
      "su의 변수 주소 140711048002104\n",
      "dan의 변수 주소 1214333238864\n",
      "금액 = 4000\n"
     ]
    }
   ],
   "source": [
    "su = 5\n",
    "dan = 800\n",
    "print(f'su의 변수 주소 {id(su)}')\n",
    "print(f'dan의 변수 주소 {id(dan)}')\n",
    "price = su * dan\n",
    "print(f'금액 = {price}')"
   ]
  },
  {
   "cell_type": "code",
   "execution_count": null,
   "metadata": {},
   "outputs": [],
   "source": [
    "'''\n",
    "[문제2] \n",
    "다음과 같은 2차 방정식을 파이썬 수식으로 코딩하고 y의 결과를 확인하시오\n",
    "\n",
    "<처리 조건>\n",
    "y = 2.5 * 𝑥^2 + 3.3 * 𝑥 + 6 (단 𝑥 = 2 일때) \n",
    "\n",
    "<출력화면 예시>\n",
    "2차 방정식 결과 = 22.6\n",
    "'''"
   ]
  },
  {
   "cell_type": "code",
   "execution_count": 27,
   "metadata": {},
   "outputs": [
    {
     "name": "stdin",
     "output_type": "stream",
     "text": [
      "x의 값을 입력하시오.  2\n"
     ]
    },
    {
     "name": "stdout",
     "output_type": "stream",
     "text": [
      "22.6\n"
     ]
    }
   ],
   "source": [
    "import math\n",
    "\n",
    "x = int(input('x의 값을 입력하시오. '))\n",
    "if x == 2 :\n",
    "    y = 2.5 * (𝑥**2) + 3.3 * 𝑥 + 6\n",
    "    print(y)"
   ]
  },
  {
   "cell_type": "code",
   "execution_count": null,
   "metadata": {},
   "outputs": [],
   "source": [
    "'''\n",
    "[문제3] \n",
    "지방(fat), 탄수화물(carbohydrate), 단백질(protein)\n",
    "칼로리의 합계를 계산하는 프로그램을 작성하시오.\n",
    "\n",
    "<처리 조건>\n",
    "조건1. 지방, 탄수화물, 단백질의 그램을 키보드로 입력받는다\n",
    "조건2. 총 칼로리 = 지방 * 9 + 단백질 * 4 + 탄수화물 * 4\n",
    "\n",
    "<출력화면 예시>\n",
    "지방의 그램을 입력하시오 : 25\n",
    "탄수화물의 그램을 입력하시오 : 25\n",
    "단백질의 그램을 입력하시오 : 25\n",
    "총 칼로리 : 2,485 cal\n",
    "'''"
   ]
  },
  {
   "cell_type": "code",
   "execution_count": 33,
   "metadata": {},
   "outputs": [
    {
     "name": "stdin",
     "output_type": "stream",
     "text": [
      "지방의 그램을 입력하시오 :  25\n",
      "탄수화물의 그램을 입력하시오 :  25\n",
      "단백질의 그램을 입력하시오 :  25\n"
     ]
    },
    {
     "name": "stdout",
     "output_type": "stream",
     "text": [
      "총 칼로리 : 425\n"
     ]
    }
   ],
   "source": [
    "fat = int(input('지방의 그램을 입력하시오 : '))\n",
    "carbohydrate = int(input('탄수화물의 그램을 입력하시오 : '))\n",
    "protein = int(input('단백질의 그램을 입력하시오 : '))\n",
    "\n",
    "cal = fat * 9 + carbohydrate * 4 + protein * 4\n",
    "print(f'총 칼로리 : {cal}')"
   ]
  },
  {
   "cell_type": "code",
   "execution_count": null,
   "metadata": {},
   "outputs": [],
   "source": [
    "'''\n",
    "[문제4] \n",
    "3개의 단어를 키보드로 입력 받아서 각 단어의 첫글자를 추출하여 단어의 약자를 출력하시오\n",
    "\n",
    "<처리 조건>\n",
    "조건1. 각 단어 변수(word1, word2, word3) 저장\n",
    "조건2. 입력과 출력 구분선 : 문자열 연산\n",
    "조건3. 각 변수의 첫 단어만 추출하여 변수(abbr) 저장\n",
    "\n",
    "<출력화면 예시>\n",
    "첫번째 단어 : \n",
    "두번째 단어 : \n",
    "세번째 단어 : \n",
    "===============\n",
    "약자 : KBO\n",
    "'''"
   ]
  },
  {
   "cell_type": "code",
   "execution_count": 51,
   "metadata": {},
   "outputs": [
    {
     "name": "stdin",
     "output_type": "stream",
     "text": [
      "첫번째 단어 : kokag\n",
      "두번째 단어 : akoa\n",
      "세번째 단어 : dkfl\n"
     ]
    },
    {
     "name": "stdout",
     "output_type": "stream",
     "text": [
      "===============\n",
      "약자 :  kad\n"
     ]
    }
   ],
   "source": [
    "words = []\n",
    "abbreviation = []\n",
    "for i in range(3) :\n",
    "    num = ''\n",
    "    if i == 0 :\n",
    "        num = '첫'\n",
    "    elif i == 1 :\n",
    "        num = '두'\n",
    "    elif i == 2 :\n",
    "        num = '세'\n",
    "        \n",
    "    words.append(input(f'{num}번째 단어 :'))\n",
    "    abbreviation.append(words[i][:1])\n",
    "\n",
    "print('===============')\n",
    "result = ''.join(s for s in abbreviation)\n",
    "print('약자 : ', result)"
   ]
  },
  {
   "cell_type": "code",
   "execution_count": null,
   "metadata": {},
   "outputs": [],
   "source": []
  }
 ],
 "metadata": {
  "kernelspec": {
   "display_name": "Python 3 (ipykernel)",
   "language": "python",
   "name": "python3"
  },
  "language_info": {
   "codemirror_mode": {
    "name": "ipython",
    "version": 3
   },
   "file_extension": ".py",
   "mimetype": "text/x-python",
   "name": "python",
   "nbconvert_exporter": "python",
   "pygments_lexer": "ipython3",
   "version": "3.12.4"
  }
 },
 "nbformat": 4,
 "nbformat_minor": 4
}
