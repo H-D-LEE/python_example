{
 "cells": [
  {
   "cell_type": "code",
   "execution_count": null,
   "metadata": {},
   "outputs": [],
   "source": [
    "[문제1] login.html 웹 문서를 대상으로 다음 조건에 맞게 내용을 추출하시오.\n",
    "\n",
    "<처리 조건>\n",
    "1. <tr> 태그의 하위 태그인 <th> 태그의 모든 내용 출력.\n",
    "2. 각 단계 처리\n",
    "\n",
    "<출력 결과>\n",
    "th 태그 내용\n",
    "아이디\n",
    "비밀번호"
   ]
  },
  {
   "cell_type": "code",
   "execution_count": 5,
   "metadata": {},
   "outputs": [
    {
     "data": {
      "text/plain": [
       "'C:\\\\Users\\\\이병관\\\\Documents\\\\0.강의\\\\2021.01.11~22_국민대\\\\0.국민대_1주차\\\\010.(강의용)실전예제로 배우는 파이썬 프로그래밍_엠제이씨북스\\\\연습문제'"
      ]
     },
     "execution_count": 5,
     "metadata": {},
     "output_type": "execute_result"
    }
   ],
   "source": [
    "import os\n",
    "os.getcwd()"
   ]
  },
  {
   "cell_type": "code",
   "execution_count": 26,
   "metadata": {},
   "outputs": [
    {
     "name": "stdout",
     "output_type": "stream",
     "text": [
      "soup 내용 <!DOCTYPE html>\n",
      "\n",
      "<html>\n",
      "<head>\n",
      "<meta charset=\"utf-8\"/>\n",
      "<title>회원 로그인</title>\n",
      "<!-- 외부 스타일 시트 파일 링크 -->\n",
      "<link href=\"../css/login.css\" rel=\"stylesheet\"/>\n",
      "<!-- jQuery 라이브러리 링크 -->\n",
      "<script src=\"../js/jquery.js\"></script>\n",
      "<!-- javascript 외부 파일 링크 -->\n",
      "<script src=\"../js/login.js\"></script>\n",
      "</head>\n",
      "<body>\n",
      "<div id=\"login_wrap\">\n",
      "<h2 class=\"login_title\"> 회원 로그인 </h2>\n",
      "<form action=\"http://www.naver.com\" method=\"post\" name=\"frm\" onsubmit=\"return login_check()\">\n",
      "<table id=\"login_t\">\n",
      "<tr> <!-- 1행 -->\n",
      "<th> 아이디 </th>\n",
      "<td> <input class=\"input_box\" id=\"id\" name=\"id\" size=\"14\" type=\"text\"/>\n",
      "</td>\n",
      "</tr>\n",
      "<tr> <!-- 2행 -->\n",
      "<th> 비밀번호 </th>\n",
      "<td> <input class=\"input_box\" id=\"pwd\" name=\"pwd\" size=\"14\" type=\"password\"/>\n",
      "</td>\n",
      "</tr>\n",
      "</table>\n",
      "<div id=\"login_btn\">\n",
      "<input class=\"login_b\" type=\"submit\" value=\"로그인\"/>\n",
      "<input class=\"login_b\" onclick=\"$('#id').focus()\" type=\"reset\" value=\"취소\"/>\n",
      "</div>\n",
      "</form>\n",
      "</div>\n",
      "</body>\n",
      "</html>\n",
      "\n",
      "a trs :  [<tr> <!-- 1행 -->\n",
      "<th> 아이디 </th>\n",
      "<td> <input class=\"input_box\" id=\"id\" name=\"id\" size=\"14\" type=\"text\"/>\n",
      "</td>\n",
      "</tr>, <tr> <!-- 2행 -->\n",
      "<th> 비밀번호 </th>\n",
      "<td> <input class=\"input_box\" id=\"pwd\" name=\"pwd\" size=\"14\" type=\"password\"/>\n",
      "</td>\n",
      "</tr>]\n",
      "\n",
      " tag 내용\n",
      " 아이디 \n",
      " 비밀번호 \n"
     ]
    }
   ],
   "source": [
    "from bs4 import BeautifulSoup\n",
    "\n",
    "#1. 파일 읽기\n",
    "file = open(\"C:\\\\Users\\\\이병관\\\\Documents\\\\0.강의\\\\2021.01.11~22_국민대\\\\0.국민대_1주차\\\\010.(강의용)실전예제로 배우는 파이썬 프로그래밍_엠제이씨북스\\\\chap9.웹문서 수집과 처리\\\\data\\\\login.html\", mode = 'r', encoding='utf-8')\n",
    "source =file.read()\n",
    "\n",
    "# 2. html 파싱\n",
    "# html 태그를 인식할 수 있도록 의미있는 단위로 분해하고\n",
    "# 계층적인 트리 구조를 만드는 과정\n",
    "\n",
    "soup = BeautifulSoup(source, 'html.parser') \n",
    "print('soup 내용', soup)\n",
    "\n",
    "# 4. 태그 내용\n",
    "trs = soup.find_all('tr')\n",
    "print('a trs : ', trs)\n",
    "\n",
    "# 5. 태그 내용 출력\n",
    "print('\\n tag 내용')\n",
    "for tr in trs :\n",
    "    th = tr.find('th')\n",
    "    print(th.string)\n",
    "        "
   ]
  },
  {
   "cell_type": "code",
   "execution_count": null,
   "metadata": {},
   "outputs": [],
   "source": [
    "[문제2] login.html 웹 문서를 대상으로 다음 조건에 맞게 내용을 추출하시오.\n",
    "\n",
    "<처리 조건>\n",
    "id = “login_wrap” 선택자의 하위 태그 전체 출력\n",
    "id = “login_wrap” 선택자 > form > table 태그 내용 출력\n",
    "find_all(‘tr’) 함수 이용 th 태그 내용 출력"
   ]
  },
  {
   "cell_type": "code",
   "execution_count": 29,
   "metadata": {},
   "outputs": [
    {
     "name": "stdout",
     "output_type": "stream",
     "text": [
      "soup 내용 <!DOCTYPE html>\n",
      "\n",
      "<html>\n",
      "<head>\n",
      "<meta charset=\"utf-8\"/>\n",
      "<title>회원 로그인</title>\n",
      "<!-- 외부 스타일 시트 파일 링크 -->\n",
      "<link href=\"../css/login.css\" rel=\"stylesheet\"/>\n",
      "<!-- jQuery 라이브러리 링크 -->\n",
      "<script src=\"../js/jquery.js\"></script>\n",
      "<!-- javascript 외부 파일 링크 -->\n",
      "<script src=\"../js/login.js\"></script>\n",
      "</head>\n",
      "<body>\n",
      "<div id=\"login_wrap\">\n",
      "<h2 class=\"login_title\"> 회원 로그인 </h2>\n",
      "<form action=\"http://www.naver.com\" method=\"post\" name=\"frm\" onsubmit=\"return login_check()\">\n",
      "<table id=\"login_t\">\n",
      "<tr> <!-- 1행 -->\n",
      "<th> 아이디 </th>\n",
      "<td> <input class=\"input_box\" id=\"id\" name=\"id\" size=\"14\" type=\"text\"/>\n",
      "</td>\n",
      "</tr>\n",
      "<tr> <!-- 2행 -->\n",
      "<th> 비밀번호 </th>\n",
      "<td> <input class=\"input_box\" id=\"pwd\" name=\"pwd\" size=\"14\" type=\"password\"/>\n",
      "</td>\n",
      "</tr>\n",
      "</table>\n",
      "<div id=\"login_btn\">\n",
      "<input class=\"login_b\" type=\"submit\" value=\"로그인\"/>\n",
      "<input class=\"login_b\" onclick=\"$('#id').focus()\" type=\"reset\" value=\"취소\"/>\n",
      "</div>\n",
      "</form>\n",
      "</div>\n",
      "</body>\n",
      "</html>\n",
      "\n",
      "1.id 선택자\n",
      "<div id=\"login_wrap\">\n",
      "<h2 class=\"login_title\"> 회원 로그인 </h2>\n",
      "<form action=\"http://www.naver.com\" method=\"post\" name=\"frm\" onsubmit=\"return login_check()\">\n",
      "<table id=\"login_t\">\n",
      "<tr> <!-- 1행 -->\n",
      "<th> 아이디 </th>\n",
      "<td> <input class=\"input_box\" id=\"id\" name=\"id\" size=\"14\" type=\"text\"/>\n",
      "</td>\n",
      "</tr>\n",
      "<tr> <!-- 2행 -->\n",
      "<th> 비밀번호 </th>\n",
      "<td> <input class=\"input_box\" id=\"pwd\" name=\"pwd\" size=\"14\" type=\"password\"/>\n",
      "</td>\n",
      "</tr>\n",
      "</table>\n",
      "<div id=\"login_btn\">\n",
      "<input class=\"login_b\" type=\"submit\" value=\"로그인\"/>\n",
      "<input class=\"login_b\" onclick=\"$('#id').focus()\" type=\"reset\" value=\"취소\"/>\n",
      "</div>\n",
      "</form>\n",
      "</div>\n",
      "\n",
      "2.id 선택자 > from > table\n",
      "None\n",
      "\n",
      "3) table > tr > th/td 태그 내용 출력\n",
      "[<tr> <!-- 1행 -->\n",
      "<th> 아이디 </th>\n",
      "<td> <input class=\"input_box\" id=\"id\" name=\"id\" size=\"14\" type=\"text\"/>\n",
      "</td>\n",
      "</tr>, <tr> <!-- 2행 -->\n",
      "<th> 비밀번호 </th>\n",
      "<td> <input class=\"input_box\" id=\"pwd\" name=\"pwd\" size=\"14\" type=\"password\"/>\n",
      "</td>\n",
      "</tr>]\n",
      "\n",
      "nth 내용\n",
      " 아이디 \n",
      " 비밀번호 \n",
      "\n",
      "th input 테그 내용\n",
      "<input class=\"input_box\" id=\"id\" name=\"id\" size=\"14\" type=\"text\"/>\n",
      "<input class=\"input_box\" id=\"pwd\" name=\"pwd\" size=\"14\" type=\"password\"/>\n",
      "[<input class=\"input_box\" id=\"id\" name=\"id\" size=\"14\" type=\"text\"/>, <input class=\"input_box\" id=\"pwd\" name=\"pwd\" size=\"14\" type=\"password\"/>, <input class=\"login_b\" type=\"submit\" value=\"로그인\"/>, <input class=\"login_b\" onclick=\"$('#id').focus()\" type=\"reset\" value=\"취소\"/>]\n",
      "\n",
      "input 태그의 value 속성 값\n"
     ]
    }
   ],
   "source": [
    "from bs4 import BeautifulSoup\n",
    "\n",
    "#1. 파일 읽기\n",
    "file = open(\"C:\\\\Users\\\\이병관\\\\Documents\\\\0.강의\\\\2021.01.11~22_국민대\\\\0.국민대_1주차\\\\010.(강의용)실전예제로 배우는 파이썬 프로그래밍_엠제이씨북스\\\\chap9.웹문서 수집과 처리\\\\data\\\\login.html\", mode = 'r', encoding='utf-8')\n",
    "html =file.read()\n",
    "\n",
    "# 2. html 파싱\n",
    "# html 태그를 인식할 수 있도록 의미있는 단위로 분해하고\n",
    "# 계층적인 트리 구조를 만드는 과정\n",
    "\n",
    "soup = BeautifulSoup(html, 'html.parser') \n",
    "print('soup 내용', soup)\n",
    "\n",
    "# 3. 선택자 이용 태그 내용 가져오기\n",
    "# 1) id 선택자 : <div id=\"login wrap\"\n",
    "print('1.id 선택자')\n",
    "div = soup.select_one(\"div#login_wrap\")\n",
    "print(div)\n",
    "print()      \n",
    "\n",
    "# 2) id 선택자 : <div id=\"login wrap\"\n",
    "print('2.id 선택자 > from > table') \n",
    "table = soup.select_one(\"div#login_wrap > from > table\") #계충적으로 접근 : 열 제목\n",
    "print(table)\n",
    "print()      \n",
    "\n",
    "# 3) table > tr > th/td 태그 내용 출력\n",
    "print('3) table > tr > th/td 태그 내용 출력') \n",
    "trs = soup.find_all(\"tr\")\n",
    "print(trs)\n",
    "print()      \n",
    "\n",
    "print('nth 내용')\n",
    "for tr in trs :\n",
    "    th = tr.find('th')\n",
    "    print(th.string)\n",
    "\n",
    "# [추가] 요소 안에 요소 추출\n",
    "print('\\nth input 테그 내용')\n",
    "for tr in trs :\n",
    "    tds = tr.find('td') # 요소 추출\n",
    "    inp = tds.find('input') # 요소 > 요소 추출\n",
    "    print(inp)\n",
    "\n",
    "# 4) find_all() 이용 input 태그 valuse 속성값 출력\n",
    "inputs = soup.find_all('input')\n",
    "print(inputs)\n",
    "\n",
    "print('\\ninput 태그의 value 속성 값')\n",
    "for inp in inputs : #input 태그 속성과 내용 가져오기\n",
    "    if 'value' in inputs :\n",
    "        value = inp.attrs['value'] #href 속성 가져오기\n",
    "        print(value)"
   ]
  },
  {
   "cell_type": "code",
   "execution_count": null,
   "metadata": {},
   "outputs": [],
   "source": [
    "[문제3] iris.csv 파일을 이용하여 다음과 같이 차트를 그리시오.\n",
    "\n",
    "<처리 조건>\n",
    "iris.csv 파일을 iris 변수명으로 가져온후 파일 정보 보기\n",
    "1번 칼럼과 3번 칼럼을 대상으로 산점도 그래프 그리기\n",
    "1번 칼럼과 3번 칼럼을 대상으로 산점도 그래프 그린후 5번 칼럼으로 색상 적용"
   ]
  },
  {
   "cell_type": "code",
   "execution_count": 44,
   "metadata": {},
   "outputs": [
    {
     "name": "stdout",
     "output_type": "stream",
     "text": [
      "<class 'pandas.core.frame.DataFrame'>\n",
      "RangeIndex: 150 entries, 0 to 149\n",
      "Data columns (total 5 columns):\n",
      " #   Column        Non-Null Count  Dtype  \n",
      "---  ------        --------------  -----  \n",
      " 0   Sepal.Length  150 non-null    float64\n",
      " 1   Sepal.Width   150 non-null    float64\n",
      " 2   Petal.Length  150 non-null    float64\n",
      " 3   Petal.Width   150 non-null    float64\n",
      " 4   Species       150 non-null    object \n",
      "dtypes: float64(4), object(1)\n",
      "memory usage: 6.0+ KB\n",
      "None\n",
      "['setosa' 'versicolor' 'virginica']\n"
     ]
    },
    {
     "data": {
      "text/plain": [
       "Text(0.5, 1.0, 'Sepal.Length vs Petal.Length scatter plotting')"
      ]
     },
     "execution_count": 44,
     "metadata": {},
     "output_type": "execute_result"
    },
    {
     "data": {
      "image/png": "[encoded data removed]",
      "text/plain": [
       "<Figure size 432x288 with 1 Axes>"
      ]
     },
     "metadata": {
      "needs_background": "light"
     },
     "output_type": "display_data"
    }
   ],
   "source": [
    "import pandas as pd\n",
    "import matplotlib.pyplot as plt\n",
    "\n",
    "#조건1\n",
    "iris = pd.read_csv(\"C:\\\\Users\\\\이병관\\\\Documents\\\\0.강의\\\\2021.01.11~22_국민대\\\\0.국민대_1주차\\\\010.(강의용)실전예제로 배우는 파이썬 프로그래밍_엠제이씨북스\\\\chap9.웹문서 수집과 처리\\\\data\\\\iris.csv\")\n",
    "print(iris.info())\n",
    "\n",
    "#조건2\n",
    "plt.scatter(iris['Sepal.Length'], iris['Petal.Length'])\n",
    "\n",
    "# 조건3 : species 컬럼으로 색상 적용\n",
    "# 꽂의 종별 범주 확인\n",
    "print(iris['Species'].unique())\n",
    "\n",
    "#  'setosa=1', 'versicolor=2, 'virginica'\n",
    "species = []\n",
    "for s in iris['Species'] :\n",
    "    if s == 'setosa' :\n",
    "        species.append(1)\n",
    "    elif s == 'versicolor' :\n",
    "        species.append(2)\n",
    "    else :\n",
    "        species.append(3)\n",
    "\n",
    "# 수치화된 변수로 color 적용\n",
    "plt.scatter(iris['Sepal.Length'], iris['Petal.Length'], c = species)\n",
    "plt.xlabel('Sepal.Length')\n",
    "plt.ylabel('Petal.Length')\n",
    "plt.title('Sepal.Length vs Petal.Length scatter plotting')"
   ]
  },
  {
   "cell_type": "code",
   "execution_count": null,
   "metadata": {},
   "outputs": [],
   "source": []
  },
  {
   "cell_type": "code",
   "execution_count": null,
   "metadata": {},
   "outputs": [],
   "source": []
  },
  {
   "cell_type": "code",
   "execution_count": null,
   "metadata": {},
   "outputs": [],
   "source": []
  },
  {
   "cell_type": "code",
   "execution_count": null,
   "metadata": {},
   "outputs": [],
   "source": []
  }
 ],
 "metadata": {
  "kernelspec": {
   "display_name": "Python 3 (ipykernel)",
   "language": "python",
   "name": "python3"
  },
  "language_info": {
   "codemirror_mode": {
    "name": "ipython",
    "version": 3
   },
   "file_extension": ".py",
   "mimetype": "text/x-python",
   "name": "python",
   "nbconvert_exporter": "python",
   "pygments_lexer": "ipython3",
   "version": "3.12.4"
  }
 },
 "nbformat": 4,
 "nbformat_minor": 4
}
