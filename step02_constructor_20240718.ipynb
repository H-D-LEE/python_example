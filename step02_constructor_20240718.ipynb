{
 "cells": [
  {
   "cell_type": "markdown",
   "metadata": {},
   "source": [
    "#### (1) 생성자 이용 멤버변수 초기화"
   ]
  },
  {
   "cell_type": "code",
   "execution_count": 2,
   "metadata": {},
   "outputs": [
    {
     "name": "stdout",
     "output_type": "stream",
     "text": [
      "곱셈 = 200\n"
     ]
    }
   ],
   "source": [
    "class multiply :\n",
    "    # 멤버 변수\n",
    "    a = b = 0\n",
    "\n",
    "    # 생성자 : 초기화\n",
    "    def __init__(self, a, b): # 객체만 생성\n",
    "        self.x = a\n",
    "        self.y = b\n",
    "\n",
    "    def mul(self):\n",
    "        return self.x * self.y\n",
    "\n",
    "    # 소멸자 : 객체 사용 완료시 자동으로 메모리에서 소멸 > 파이썬에서는 메모리 관리를 자동으로 해주기 때문에 많이 사용하지 않는다.\n",
    "    def __del__(self):\n",
    "        del self.x\n",
    "        del self.y\n",
    "\n",
    "obj = multiply(10, 20) # 기본 생성자\n",
    "print('곱셈 =', obj.mul()) # mul = 200"
   ]
  },
  {
   "cell_type": "markdown",
   "metadata": {},
   "source": [
    "#### (2) 메서드 이용 멤버변수 초기화\n",
    "##### 생성자 없을 경우 기본 생성자 제공"
   ]
  },
  {
   "cell_type": "code",
   "execution_count": 3,
   "metadata": {},
   "outputs": [
    {
     "name": "stdout",
     "output_type": "stream",
     "text": [
      "곱셈 = 200\n"
     ]
    }
   ],
   "source": [
    "\n",
    "class multiply2 :\n",
    "    # 멤버 변수\n",
    "    x = y = 0\n",
    "\n",
    "    # 생성자 없음 : 기본 생성자 제공\n",
    "    # def __init__(self):\n",
    "    #     pass\n",
    "\n",
    "    # 멤버변수 초기화\n",
    "    def data(self, a, b):\n",
    "        self.x = a\n",
    "        self.y = b\n",
    "\n",
    "    def mul(self):\n",
    "        return self.x * self.y\n",
    "\n",
    "obj = multiply2() # 기본 생성자\n",
    "obj.data(10, 20)\n",
    "print('곱셈 =', obj.mul()) # mul = 200"
   ]
  },
  {
   "cell_type": "markdown",
   "metadata": {},
   "source": [
    "#### [참고] self 객체 이름은 아무거나 사용할 수 있음(여기서는 multi로 변경)"
   ]
  },
  {
   "cell_type": "code",
   "execution_count": 4,
   "metadata": {},
   "outputs": [
    {
     "name": "stdout",
     "output_type": "stream",
     "text": [
      "곱셈 = 200\n"
     ]
    }
   ],
   "source": [
    "# (2) 메서드 이용 멤버변수 초기화\n",
    "class multiply2 :\n",
    "    # 멤버 변수\n",
    "    x = y = 0\n",
    "\n",
    "    # 생성자 없음 : 기본 생성자 제공\n",
    "#    def __init__(self):\n",
    "#        pass\n",
    "\n",
    "    # 멤버변수 초기화\n",
    "    def data(multi, a, b):\n",
    "        multi.x = a\n",
    "        multi.y = b\n",
    "\n",
    "    def mul(multi):\n",
    "        return multi.x * multi.y\n",
    "\n",
    "obj = multiply2() # 기본 생성자\n",
    "obj.data(10, 20)\n",
    "print('곱셈 =', obj.mul()) # mul = 200"
   ]
  },
  {
   "cell_type": "markdown",
   "metadata": {},
   "source": [
    "#### (3) self로 명령어 사용"
   ]
  },
  {
   "cell_type": "code",
   "execution_count": 5,
   "metadata": {},
   "outputs": [
    {
     "name": "stdout",
     "output_type": "stream",
     "text": [
      "곱셈 = 200\n"
     ]
    }
   ],
   "source": [
    "class multiply3 :\n",
    "    # 멤버변수 없음\n",
    "    # 생성자 없음\n",
    "    # print('a = ', a)\n",
    "    # 동적 멤버변수 생성/초기화\n",
    "    def data(self, a, b):\n",
    "        self.x = a\n",
    "        self.y = b\n",
    "\n",
    "    # 곱셈 연산\n",
    "    def mul(self):\n",
    "        result = self.x * self.y\n",
    "        self.display(result) # 메서드 호출\n",
    "\n",
    "    # 결과 출력\n",
    "    def display(self, result):\n",
    "        print(\"곱셈 = %d\" %(result) )\n",
    "\n",
    "obj = multiply3() # 기본 생성자\n",
    "obj.data(10, 20)\n",
    "obj.mul()"
   ]
  },
  {
   "cell_type": "code",
   "execution_count": null,
   "metadata": {},
   "outputs": [],
   "source": []
  }
 ],
 "metadata": {
  "kernelspec": {
   "display_name": "Python 3 (ipykernel)",
   "language": "python",
   "name": "python3"
  },
  "language_info": {
   "codemirror_mode": {
    "name": "ipython",
    "version": 3
   },
   "file_extension": ".py",
   "mimetype": "text/x-python",
   "name": "python",
   "nbconvert_exporter": "python",
   "pygments_lexer": "ipython3",
   "version": "3.12.4"
  }
 },
 "nbformat": 4,
 "nbformat_minor": 4
}
