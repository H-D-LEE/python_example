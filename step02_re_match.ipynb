{
 "cells": [
  {
   "cell_type": "markdown",
   "metadata": {},
   "source": [
    "### 7.2 문자열 검사\n",
    "#### 2.match(pattern, string, flags) - 패턴 일치 여부 반환 : object 반환(True) or NULL(False)"
   ]
  },
  {
   "cell_type": "code",
   "execution_count": 1,
   "metadata": {},
   "outputs": [],
   "source": [
    "from re import match"
   ]
  },
  {
   "cell_type": "markdown",
   "metadata": {},
   "source": [
    "##### (1) 패턴과 일치된 경우"
   ]
  },
  {
   "cell_type": "code",
   "execution_count": 3,
   "metadata": {},
   "outputs": [
    {
     "name": "stdout",
     "output_type": "stream",
     "text": [
      "<re.Match object; span=(0, 14), match='123456-3234567'>\n",
      "주민번호 일치\n",
      "\n"
     ]
    }
   ],
   "source": [
    "jumin = '123456-3234567' # 생년월일 - 7자리([1-4]:남여, [2-5]:출생지역 지역번호, [6] 출생지역 조합번호(신고 순서), [0-9] : 오류 검증코드\n",
    "result = match('[0-9]{6}-[1-4][0-9]{6}', jumin) # {6}:6자리\n",
    "print(result) # <re.Match object; span=(0, 14), match='123456-1234567'>\n",
    "# None = Null\n",
    "\n",
    "if result : # object\n",
    "    print('주민번호 일치') # 주민번호 일치\n",
    "else : # null\n",
    "    print('잘못된 주민번호')\n",
    "print()\n"
   ]
  },
  {
   "cell_type": "markdown",
   "metadata": {},
   "source": [
    "##### (2) 패턴과 불일치된 경우"
   ]
  },
  {
   "cell_type": "code",
   "execution_count": 4,
   "metadata": {},
   "outputs": [
    {
     "name": "stdout",
     "output_type": "stream",
     "text": [
      "None\n",
      "잘못된 주민번호\n"
     ]
    }
   ],
   "source": [
    "jumin = '123456-5234567'\n",
    "result = match('[0-9]{6}-[1-4][0-9]{6}', jumin)\n",
    "print(result) # <re.Match object; span=(0, 14), match='123456-1234567'>\n",
    "# None = Null\n",
    "\n",
    "if result : # object\n",
    "    print('주민번호 일치') # 주민번호 일치\n",
    "else : # null\n",
    "    print('잘못된 주민번호')\n"
   ]
  },
  {
   "cell_type": "code",
   "execution_count": null,
   "metadata": {},
   "outputs": [],
   "source": []
  }
 ],
 "metadata": {
  "kernelspec": {
   "display_name": "Python 3 (ipykernel)",
   "language": "python",
   "name": "python3"
  },
  "language_info": {
   "codemirror_mode": {
    "name": "ipython",
    "version": 3
   },
   "file_extension": ".py",
   "mimetype": "text/x-python",
   "name": "python",
   "nbconvert_exporter": "python",
   "pygments_lexer": "ipython3",
   "version": "3.12.4"
  }
 },
 "nbformat": 4,
 "nbformat_minor": 4
}
