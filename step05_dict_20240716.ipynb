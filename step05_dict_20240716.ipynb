{
 "cells": [
  {
   "cell_type": "code",
   "execution_count": 12,
   "metadata": {},
   "outputs": [
    {
     "data": {
      "text/plain": [
       "\"\\ndict 특징 \\n  - set 자료구조와 유사함\\n  형식) {'key':value, 'key':value, ...}\\n  - json 형식, R의 list 동일\\n  - key 접근만 가능함(index, value 사용 불가)\\n  - key 중복 불가 \\n  - 출력 순서 random\\n\""
      ]
     },
     "execution_count": 12,
     "metadata": {},
     "output_type": "execute_result"
    }
   ],
   "source": [
    "'''\n",
    "dict 특징 \n",
    "  - set 자료구조와 유사함\n",
    "  형식) {'key':value, 'key':value, ...}\n",
    "  - json 형식, R의 list 동일\n",
    "  - key 접근만 가능함(index, value 사용 불가)\n",
    "  - key 중복 불가 \n",
    "  - 출력 순서 random\n",
    "'''"
   ]
  },
  {
   "cell_type": "code",
   "execution_count": 6,
   "metadata": {},
   "outputs": [
    {
     "name": "stdout",
     "output_type": "stream",
     "text": [
      "{'key1': 100, 'key2': 200, 'key3': 300}\n",
      "\n",
      "{'name': '홍길동', 'age': 35, 'address': '서울시'}\n",
      "\n",
      "홍길동\n",
      "\n",
      "<class 'dict'> <class 'dict'>\n"
     ]
    }
   ],
   "source": [
    "# dict 생성 방법1\n",
    "dic = dict(key1 = 100, key2 = 200, key3 = 300)\n",
    "print(dic) # {'key2': 200, 'key1': 100, 'key3': 300}\n",
    "print()\n",
    "\n",
    "# dict 생성 방법2\n",
    "person = {'name':'홍길동', 'age': 35, 'address' : '서울시'}\n",
    "print(person)\n",
    "print()\n",
    "\n",
    "print( person['name']) # index : key\n",
    "print()\n",
    "\n",
    "print(type(dic), type(person)) # <class 'dict'> <class 'dict'>"
   ]
  },
  {
   "cell_type": "code",
   "execution_count": 7,
   "metadata": {},
   "outputs": [
    {
     "name": "stdout",
     "output_type": "stream",
     "text": [
      "{'name': '홍길동', 'age': 45, 'address': '서울시'}\n",
      "\n",
      "{'name': '홍길동', 'age': 45}\n",
      "\n",
      "{'name': '홍길동', 'age': 45, 'pay': 350}\n",
      "\n"
     ]
    }
   ],
   "source": [
    "# 원소 수정, 삭제, 추가\n",
    "# dict 원소 수정 \n",
    "person['age'] = 45\n",
    "print(person)\n",
    "print()\n",
    "\n",
    "# dict 원소 삭제\n",
    "del person['address']\n",
    "print(person) # {'name': '홍길동', 'age': 45}\n",
    "print()\n",
    "\n",
    "# dict 원소 추가 \n",
    "person['pay'] = 350\n",
    "print(person) # {'name': '홍길동', 'pay': 350, 'age': 45}\n",
    "print()"
   ]
  },
  {
   "cell_type": "code",
   "execution_count": 9,
   "metadata": {},
   "outputs": [
    {
     "name": "stdout",
     "output_type": "stream",
     "text": [
      "45\n",
      "True\n",
      "\n",
      "name\n",
      "age\n",
      "pay\n",
      "\n",
      "홍길동\n",
      "45\n",
      "350\n",
      "\n",
      "('name', '홍길동')\n",
      "('age', 45)\n",
      "('pay', 350)\n"
     ]
    }
   ],
   "source": [
    "# 요소 검사\n",
    "print(person['age']) # 35\n",
    "print('age' in person) # True\n",
    "print()\n",
    "\n",
    "# 요소 반복\n",
    "for key in person.keys() : # key 넘김 \n",
    "    print(key) # key 출력 \n",
    "print()\n",
    "\n",
    "for v in person.values() : # value 넘김 \n",
    "    print(v) # value 출력  \n",
    "print()\n",
    "\n",
    "for i in person.items() : # item 넘김 \n",
    "    print(i) # ('name', '홍길동')"
   ]
  },
  {
   "cell_type": "code",
   "execution_count": 20,
   "metadata": {},
   "outputs": [
    {
     "name": "stdout",
     "output_type": "stream",
     "text": [
      "홍길동\n",
      "홍길동\n"
     ]
    }
   ],
   "source": [
    "# 키로 값 가져오기 : get(key)\n",
    "print( person['name']) # index 형식\n",
    "print( person.get('name')) # get함수 -> 홍길동 "
   ]
  },
  {
   "cell_type": "code",
   "execution_count": 21,
   "metadata": {},
   "outputs": [
    {
     "name": "stdout",
     "output_type": "stream",
     "text": [
      "{}\n"
     ]
    }
   ],
   "source": [
    "# 내용 지우기 obj.clear()\n",
    "person.clear()\n",
    "print(person) # {}"
   ]
  },
  {
   "cell_type": "code",
   "execution_count": 10,
   "metadata": {},
   "outputs": [
    {
     "name": "stdout",
     "output_type": "stream",
     "text": [
      "('광해', [9.24, 1200])\n",
      "\n",
      "('공작', [7.86, 500])\n",
      "\n",
      "('관상', [8.01, 900])\n",
      "\n"
     ]
    },
    {
     "data": {
      "text/plain": [
       "\"\\n('광해', [9.24, 1200])\\n('공작', [7.86, 500])\\n('관상', [7.98, 900])\\n\""
      ]
     },
     "execution_count": 10,
     "metadata": {},
     "output_type": "execute_result"
    }
   ],
   "source": [
    "#  {key : [val1, val2]} - {'영화' : [평점, 관객수]}\n",
    "movie = {'광해' : [9.24, 1200], '공작' : [7.86, 500], '관상' : [8.01, 900],}\n",
    " \n",
    "for r in movie.items() :\n",
    "    print(r)\n",
    "    print()"
   ]
  },
  {
   "cell_type": "code",
   "execution_count": 11,
   "metadata": {},
   "outputs": [
    {
     "name": "stdout",
     "output_type": "stream",
     "text": [
      "광해 [9.24, 1200]\n",
      "\n",
      "공작 [7.86, 500]\n",
      "\n",
      "관상 [8.01, 900]\n",
      "\n"
     ]
    },
    {
     "data": {
      "text/plain": [
       "'\\n광해 [9.24, 1200]\\n공작 [7.86, 500]\\n관상 [8.01, 900]\\n'"
      ]
     },
     "execution_count": 11,
     "metadata": {},
     "output_type": "execute_result"
    }
   ],
   "source": [
    "for r, d in movie.items() :\n",
    "    print(r, d)   \n",
    "    print()"
   ]
  },
  {
   "cell_type": "code",
   "execution_count": 12,
   "metadata": {},
   "outputs": [
    {
     "name": "stdout",
     "output_type": "stream",
     "text": [
      "광해\n",
      "관상\n",
      "누적 관객수 =  2,100\n",
      "\n",
      "{'hong': 350, 'lee': 450, 'kang': 550}\n",
      "450\n",
      "350\n"
     ]
    }
   ],
   "source": [
    "#  문] 평점 8이상인 영화 제목과 누적관객수 출력하기 \n",
    "'''\n",
    "광해\n",
    "관상\n",
    "누적 관객수 =  2,100\n",
    "'''    \n",
    "tot = 0\n",
    "for r, d in movie.items() :\n",
    "    if d[0]  >= 8.0 :\n",
    "        print(r)  # 광해 관상\n",
    "        tot += d[1]\n",
    "print('누적 관객수 = ', format(tot, '3,d'))\n",
    "print()\n",
    "\n",
    "#print(emp)\n",
    "emp = {'hong' : 350, 'lee' : 450, 'kang' : 550}\n",
    "print(emp)\n",
    "print(emp['lee']) # 함수 미사용시\n",
    "print(emp.get('hong')) # 350 함수 사용시"
   ]
  },
  {
   "cell_type": "code",
   "execution_count": 27,
   "metadata": {},
   "outputs": [
    {
     "name": "stdout",
     "output_type": "stream",
     "text": [
      "{'hong': 350, 'lee': 300, 'kang': 550}\n"
     ]
    }
   ],
   "source": [
    "# dict 원소 수정 \n",
    "emp['lee'] = 300\n",
    "print(emp)"
   ]
  },
  {
   "cell_type": "code",
   "execution_count": 28,
   "metadata": {},
   "outputs": [
    {
     "name": "stdout",
     "output_type": "stream",
     "text": [
      "{'lee': 300, 'kang': 550}\n"
     ]
    }
   ],
   "source": [
    "# dict 원소 제거 \n",
    "del emp['hong']\n",
    "print(emp) "
   ]
  },
  {
   "cell_type": "code",
   "execution_count": 29,
   "metadata": {},
   "outputs": [
    {
     "name": "stdout",
     "output_type": "stream",
     "text": [
      "{'lee': 300, 'kang': 550, 'yoo': 250}\n"
     ]
    }
   ],
   "source": [
    "# dict 원소 추가 \n",
    "emp['yoo'] = 250\n",
    "print(emp) # {'lee': 300, 'kang': 550, 'yoo': 250}"
   ]
  },
  {
   "cell_type": "code",
   "execution_count": 13,
   "metadata": {},
   "outputs": [
    {
     "name": "stdout",
     "output_type": "stream",
     "text": [
      "있음\n",
      "\n",
      "name : hong => pay 350\n",
      "name : lee => pay 450\n",
      "name : kang => pay 550\n"
     ]
    }
   ],
   "source": [
    "if 'kang' in emp : \n",
    "    print('있음')\n",
    "else : \n",
    "    print('없음')\n",
    "print()\n",
    "\n",
    "for name, pay in emp.items():\n",
    "    print(f\"name : {name} => pay {pay}\")"
   ]
  },
  {
   "cell_type": "code",
   "execution_count": null,
   "metadata": {},
   "outputs": [],
   "source": []
  }
 ],
 "metadata": {
  "kernelspec": {
   "display_name": "Python 3 (ipykernel)",
   "language": "python",
   "name": "python3"
  },
  "language_info": {
   "codemirror_mode": {
    "name": "ipython",
    "version": 3
   },
   "file_extension": ".py",
   "mimetype": "text/x-python",
   "name": "python",
   "nbconvert_exporter": "python",
   "pygments_lexer": "ipython3",
   "version": "3.12.4"
  }
 },
 "nbformat": 4,
 "nbformat_minor": 4
}
