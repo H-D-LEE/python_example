{
 "cells": [
  {
   "cell_type": "code",
   "execution_count": null,
   "metadata": {},
   "outputs": [],
   "source": [
    "'''\n",
    "제어문(조건문) \n",
    " - 조건문(if), 반복문(for, while) \n",
    "'''\n",
    "\n",
    "'''\n",
    "형식1)\n",
    "if 조건식 :\n",
    "    실행문1 \n",
    "else :\n",
    "    실행문2\n",
    "'''\n"
   ]
  },
  {
   "cell_type": "code",
   "execution_count": 1,
   "metadata": {},
   "outputs": [
    {
     "name": "stdout",
     "output_type": "stream",
     "text": [
      "점수 입력(1~100) : 86\n",
      "num =  86\n",
      "짝수\n"
     ]
    }
   ],
   "source": [
    "num = int(input('점수 입력(1~100) : '))\n",
    "print('num = ', num)\n",
    "\n",
    "if num % 2 != 0 :\n",
    "    print('홀수')\n",
    "else :\n",
    "    print('짝수')"
   ]
  },
  {
   "cell_type": "code",
   "execution_count": 19,
   "metadata": {},
   "outputs": [
    {
     "name": "stdout",
     "output_type": "stream",
     "text": [
      "2020-09-24 11:23:39.789519\n",
      "\n",
      "<class 'datetime.datetime'>\n",
      "\n",
      "2020-09-24 11:23:39.790518\n",
      "\n",
      "2020\n",
      "\n",
      "9\n",
      "\n",
      "24\n",
      "\n"
     ]
    }
   ],
   "source": [
    "########### system 날짜/시간 모듈(*.py) \n",
    "import datetime\n",
    "\n",
    "now_time = datetime.datetime.now() # package.module.function()\n",
    "print(now_time) # 2019-04-16 11:59:03.720903\n",
    "print()\n",
    "print(type(now_time)) # <class 'datetime.datetime'>\n",
    "print()\n",
    "today = datetime.datetime.today()            # 현재 날짜 가져오기\n",
    "print(today)\n",
    "print()\n",
    "year =datetime.datetime.today().year        # 현재 연도 가져오기\n",
    "print(year)\n",
    "print()\n",
    "month = datetime.datetime.today().month      # 현재 월 가져오기\n",
    "print(month)\n",
    "print()\n",
    "day = datetime.datetime.today().day        # 현재 일 가져오기\n",
    "print(day)\n",
    "print()\n"
   ]
  },
  {
   "cell_type": "code",
   "execution_count": 20,
   "metadata": {},
   "outputs": [
    {
     "name": "stdout",
     "output_type": "stream",
     "text": [
      "11\n",
      "\n",
      "20200924112342\n",
      "\n",
      "2020/09/24 11:23:42\n",
      "\n",
      "3\n",
      "\n",
      "평일\n"
     ]
    }
   ],
   "source": [
    "########### system 날짜/시간 모듈(*.py) \n",
    "hour = datetime.datetime.today().hour        # 현재 시간 가져오기\n",
    "print(hour)\n",
    "print()\n",
    "time1 = datetime.datetime.today().strftime(\"%Y%m%d%H%M%S\")    # YYYYmmddHHMMSS 형태의 시간 출력\n",
    "print(time1)\n",
    "print()\n",
    "time2 = datetime.datetime.today().strftime(\"%Y/%m/%d %H:%M:%S\")  # YYYY/mm/dd HH:MM:SS 형태의 시간 출력\n",
    "print(time2)\n",
    "print()\n",
    "\n",
    "day = now_time.weekday()\n",
    "print(day) # 0~6(1) 월:0 일:6\n",
    "\n",
    "print()\n",
    "if day >= 5 :\n",
    "    print('주말')\n",
    "else :\n",
    "    print('평일')"
   ]
  },
  {
   "cell_type": "code",
   "execution_count": 3,
   "metadata": {},
   "outputs": [
    {
     "name": "stdout",
     "output_type": "stream",
     "text": [
      "점수 : 86, 등급 : B\n",
      "점수 : 86, 등급 : B\n"
     ]
    }
   ],
   "source": [
    "'''\n",
    "형식2\n",
    "if 조건식1 :\n",
    "    실행문1\n",
    "elif 조건식2 :\n",
    "    실행문2\n",
    "elif 조건식3 :\n",
    "    실행문3\n",
    "else :\n",
    "    실행문4\n",
    "'''    \n",
    "\n",
    "# 문) num 변수 대상 -> 등급 계산(A:100~90,B:89~80,C:79~70,D:69~60,F:60미만 학점)\n",
    "# 출력 형식 => 점수 : 85, 등급 : B\n",
    "\n",
    "grade = \"\" # 공백 \n",
    "if num >= 90 :\n",
    "    grade = \"A\"\n",
    "elif num >= 80 :\n",
    "    grade = \"B\"\n",
    "elif num >= 70 :\n",
    "    grade = \"C\"\n",
    "elif num >= 60 :\n",
    "    grade = \"D\"\n",
    "else :\n",
    "    grade = \"F\"\n",
    "\n",
    "print(f\"점수 : {num}, 등급 : {grade}\")\n",
    "print(\"점수 : %d, 등급 : %s\"%(num, grade))"
   ]
  },
  {
   "cell_type": "code",
   "execution_count": 5,
   "metadata": {},
   "outputs": [
    {
     "name": "stdout",
     "output_type": "stream",
     "text": [
      "3항 연산자 :  합격\n",
      "문자열 입력 : 홍길동\n",
      "'홍길동' 단어 있음\n"
     ]
    }
   ],
   "source": [
    "# 3항 연산자 \n",
    "if num >= 60 :\n",
    "    grade =\"합격\"\n",
    "else : \n",
    "    grade =\"불합격\"\n",
    "    \n",
    "# 형식) 변수 =  참 if 조건식  else 거짓\n",
    "grade =  \"합격\"  if num >= 60 else \"불합격\"\n",
    "print('3항 연산자 : ', grade) # 3항 연산자 :  합격\n",
    "    \n",
    "# if 조건식 in 열거형data : \n",
    "s = input(\"문자열 입력 : \")\n",
    "\n",
    "# 단어 검색 \n",
    "if '홍길동' in s :\n",
    "    print('\\'홍길동\\' 단어 있음')\n",
    "else :\n",
    "    print('\\'홍길동\\' 단어 없음')\n",
    "    \n",
    "\n",
    "# exam01"
   ]
  },
  {
   "cell_type": "code",
   "execution_count": null,
   "metadata": {},
   "outputs": [],
   "source": []
  }
 ],
 "metadata": {
  "kernelspec": {
   "display_name": "Python 3 (ipykernel)",
   "language": "python",
   "name": "python3"
  },
  "language_info": {
   "codemirror_mode": {
    "name": "ipython",
    "version": 3
   },
   "file_extension": ".py",
   "mimetype": "text/x-python",
   "name": "python",
   "nbconvert_exporter": "python",
   "pygments_lexer": "ipython3",
   "version": "3.12.4"
  }
 },
 "nbformat": 4,
 "nbformat_minor": 4
}
