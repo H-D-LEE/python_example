{
 "cells": [
  {
   "cell_type": "code",
   "execution_count": null,
   "metadata": {},
   "outputs": [],
   "source": [
    "'''\n",
    "연산자(operator) \n",
    "1. 산술연산자\n",
    "2. 관계연산자\n",
    "3. 논리연산자\n",
    "4. 대입연산자\n",
    "5. print 출력 양식\n",
    "6. 키보드 입력, 형 변환(Casting)\n",
    "'''"
   ]
  },
  {
   "cell_type": "code",
   "execution_count": 13,
   "metadata": {},
   "outputs": [
    {
     "name": "stdout",
     "output_type": "stream",
     "text": [
      "add= 120\n",
      "\n",
      "sub= 80\n",
      "\n",
      "mul= 2000\n",
      "\n",
      "div= 5.0\n",
      "\n",
      "div2= 0\n",
      "\n",
      "square= 10000\n"
     ]
    }
   ],
   "source": [
    "# 1. 산술연산자\n",
    "num1 = 100 # 피연산자1\n",
    "num2 = 20  # 피연산자2\n",
    "\n",
    "add = num1 + num2 # 덧셈\n",
    "print('add=', add)\n",
    "print()\n",
    "\n",
    "sub = num1 - num2 # 뺄셈\n",
    "print('sub=', sub) # 80\n",
    "print()\n",
    "\n",
    "mul = num1 * num2 # 곱셈\n",
    "print('mul=', mul)\n",
    "print()\n",
    "\n",
    "div = num1 / num2 # 나눗셈\n",
    "print('div=', div)\n",
    "print()\n",
    "\n",
    "div2 = num1 % num2 # 나머지 계산\n",
    "print('div2=', div2) # 0\n",
    "print()\n",
    "\n",
    "square = num1**2 # 제곱 계산(num1 ** 2)\n",
    "print('square=', square) # 10000"
   ]
  },
  {
   "cell_type": "code",
   "execution_count": 15,
   "metadata": {},
   "outputs": [
    {
     "name": "stdout",
     "output_type": "stream",
     "text": [
      "False\n",
      "\n",
      "True\n",
      "\n"
     ]
    }
   ],
   "source": [
    "#2. 관계연산자 예문\n",
    "# (1) 동등비교\n",
    "bool_result = num1 == num2 # 두 변수의 값이 같은지 비교\n",
    "print(bool_result)\n",
    "print()\n",
    "bool_result = num1 != num2 # 두 변수의 값이 다른지 비교\n",
    "print(bool_result)\n",
    "print()"
   ]
  },
  {
   "cell_type": "code",
   "execution_count": 16,
   "metadata": {},
   "outputs": [
    {
     "name": "stdout",
     "output_type": "stream",
     "text": [
      "True\n",
      "\n",
      "True\n",
      "\n",
      "False\n",
      "\n",
      "False\n"
     ]
    }
   ],
   "source": [
    "# (2) 크기비교\n",
    "bool_result = num1 > num2 # num1값이 큰지 비교\n",
    "print(bool_result)\n",
    "print()\n",
    "bool_result = num1 >= num2 # num1값이 크거나 같은지 비교\n",
    "print(bool_result)\n",
    "print()\n",
    "bool_result = num1 < num2 # num2 이 큰지 비교\n",
    "print(bool_result)\n",
    "print()\n",
    "bool_result = num1 <= num2 # num2 이 크거나 같은지 비교\n",
    "print(bool_result)"
   ]
  },
  {
   "cell_type": "code",
   "execution_count": 17,
   "metadata": {},
   "outputs": [
    {
     "name": "stdout",
     "output_type": "stream",
     "text": [
      "False\n",
      "\n",
      "True\n",
      "\n",
      "True\n",
      "\n",
      "False\n"
     ]
    }
   ],
   "source": [
    "# 3. 논리연산자 예문\n",
    "log_result = num1 >= 50 and num2 <=10 # 두 관계식이 같은지 판단\n",
    "print(log_result) # FALSE\n",
    "print()\n",
    "log_result = num1 >= 50 or num2 <=10 # 두 관계식 중 하나라도 같은지 판단\n",
    "print(log_result)\n",
    "print()\n",
    "\n",
    "log_result = num1 >= 50 # 관계식 판단\n",
    "print(log_result)\n",
    "print()\n",
    "log_result = not(num1 >= 50) # 괄호 안의 관계식 판단 결과에 대한 부정\n",
    "print(log_result)"
   ]
  },
  {
   "cell_type": "code",
   "execution_count": 19,
   "metadata": {},
   "outputs": [
    {
     "name": "stdout",
     "output_type": "stream",
     "text": [
      "11 21\n",
      "\n",
      "출력1 , 출력2\n",
      "\n",
      "100 200\n"
     ]
    }
   ],
   "source": [
    "# 4. 할당 연산자\n",
    "# 1) 변수에 값 할당(=)\n",
    "i = tot = 10 # sum - 경고\n",
    "i += 1       # i = i + 1\n",
    "tot += i     # tot = tot + 1\n",
    "print(i, tot)\n",
    "print()\n",
    "\n",
    "# 같은 줄에 중복 출력 \n",
    "print('출력1', end=' , ') # end='구분자'\n",
    "print('출력2')\n",
    "print()\n",
    "\n",
    "v1, v2 = 100, 200\n",
    "print(v1, v2) # 100 200"
   ]
  },
  {
   "cell_type": "code",
   "execution_count": 20,
   "metadata": {},
   "outputs": [
    {
     "name": "stdout",
     "output_type": "stream",
     "text": [
      "100 200\n",
      "\n",
      "200 100\n"
     ]
    }
   ],
   "source": [
    "# 2) 변수 교체\n",
    "print(v1, v2)\n",
    "print()\n",
    "v2, v1 = v1, v2\n",
    "print(v1, v2) # 200 100"
   ]
  },
  {
   "cell_type": "code",
   "execution_count": 21,
   "metadata": {},
   "outputs": [
    {
     "name": "stdout",
     "output_type": "stream",
     "text": [
      "1 [2, 3, 4, 5]\n",
      "\n",
      "[1, 2, 3, 4] 5\n",
      "\n",
      "[1, 2, 3] 4 5\n"
     ]
    }
   ],
   "source": [
    "###### 3) 패킹(packing) 할당\n",
    "lst = [1,2,3,4,5]\n",
    "v1, *v2 = lst    # * : 패킹연산자(나머지 원소를 묶어서 할당)\n",
    "print(v1, v2) # 1 [2, 3, 4, 5]\n",
    "print()\n",
    "\n",
    "*v1, v2 = lst\n",
    "print(v1, v2) # [1, 2, 3, 4] 5\n",
    "print()\n",
    "\n",
    "*v1, v2, v3 = lst\n",
    "print(v1, v2, v3) # [1, 2, 3] 4 5"
   ]
  },
  {
   "cell_type": "code",
   "execution_count": 22,
   "metadata": {},
   "outputs": [
    {
     "name": "stdout",
     "output_type": "stream",
     "text": [
      "   3.142\n",
      "\n",
      "원주율 =     3.142\n",
      "\n",
      "     12345\n",
      "\n",
      "12,345\n"
     ]
    }
   ],
   "source": [
    "# 2. print 출력 양식\n",
    "\n",
    "# 1) format(value, '양식')\n",
    "print( format(3.14159, '8.3f') ) #    3.142\n",
    "print()\n",
    "print('원주율 = ', format(3.14159, '8.3f'))\n",
    "print()\n",
    "\n",
    "print( format(12345, '10d')) #      12345\n",
    "print()\n",
    "print( format(12345, '3,d')) # 12,345\n",
    "\n",
    "# 함수 도움말 보기 \n",
    "#help(format)\n",
    "# Help on built-in function format in module builtins: 내장함수 \n",
    "#help('FORMATTING') # format 설명서 "
   ]
  },
  {
   "cell_type": "code",
   "execution_count": 23,
   "metadata": {},
   "outputs": [
    {
     "name": "stdout",
     "output_type": "stream",
     "text": [
      "10 + 20 = 30\n",
      "\n",
      "10 + 20 = 30\n",
      "\n",
      "이름은 홍길동 이고, 나이는 35 입니다.\n",
      "\n",
      "이름은 홍 이고, 나이는 35 입니다.\n",
      "\n"
     ]
    }
   ],
   "source": [
    "# 2) 양식문자와 값 표현   \n",
    "# 형식) print( '%양식문자' %(값) )\n",
    "\n",
    "'''\n",
    "%양식문자\n",
    "%s : 문자열\n",
    "%c : 한개 문자 \n",
    "%d : 정수 \n",
    "%f : 실수 \n",
    "%o : 8진수\n",
    "%x : 16진수 \n",
    "%% : % 출력\n",
    "'''\n",
    "\n",
    "num1 = 10; num2 = 20\n",
    "tot = num1 + num2\n",
    "print('10 + 20 = %d' %tot ) # 10 + 20 = 30\n",
    "print()\n",
    "print('%d + %d = %d' %(num1, num2, tot) ) # 10 + 20 = 30\n",
    "print()\n",
    "print('이름은 %s 이고, 나이는 %d 입니다.' %('홍길동', 35))\n",
    "print()\n",
    "####print('이름은 %c 이고, 나이는 %d 입니다.' %('홍길동', 35))\n",
    "print('이름은 %c 이고, 나이는 %d 입니다.' %('홍', 35))\n",
    "print()\n",
    "# 이름은 홍길동 이고, 나이는 35 입니다.\n",
    "\n",
    "####print('전체 %d%%가 170cm 이상이다.' %50) #%% : % 출력\n",
    "# 전체 50%가 170cm 이상이다."
   ]
  },
  {
   "cell_type": "code",
   "execution_count": 24,
   "metadata": {},
   "outputs": [
    {
     "name": "stdout",
     "output_type": "stream",
     "text": [
      "이름은 홍길동 이고, 나이는 35 입니다.\n",
      "\n",
      "이름은 홍길동 이고, 나이는 35 입니다.\n",
      "\n",
      "이름은 홍길동 이고, 나이는 35 입니다.\n"
     ]
    }
   ],
   "source": [
    "# 3) 외부 상수 받기 \n",
    "# 형식) print( '{ }' .format(값) )\n",
    "print('이름은 {} 이고, 나이는 {} 입니다.' .format('홍길동', 35))\n",
    "print()\n",
    "print('이름은 {1} 이고, 나이는 {0} 입니다.' .format(35, '홍길동'))\n",
    "print()\n",
    "\n",
    "# 축약형 \n",
    "name = \"홍길동\"; age = 35\n",
    "print(f'이름은 {name} 이고, 나이는 {age} 입니다.')\n",
    "# 이름은 홍길동 이고, 나이는 35 입니다."
   ]
  },
  {
   "cell_type": "code",
   "execution_count": 25,
   "metadata": {},
   "outputs": [
    {
     "name": "stdout",
     "output_type": "stream",
     "text": [
      "2\n",
      "\n",
      "2\n"
     ]
    }
   ],
   "source": [
    "# 카운터 변수/누적 변수\n",
    "cnt = 0\n",
    "cnt = cnt + 1 # 카운터 변수 \n",
    "cnt += 1  # 카운터 변수\n",
    "#cnt++ \n",
    "print(cnt) # 2\n",
    "print()\n",
    "\n",
    "tot = 0\n",
    "tot += cnt # 누적변수 : tot = tot(0) + cnt(2)\n",
    "print(tot)"
   ]
  },
  {
   "cell_type": "code",
   "execution_count": 12,
   "metadata": {},
   "outputs": [
    {
     "name": "stdout",
     "output_type": "stream",
     "text": [
      "첫번째 숫자 입력 : 10\n",
      "두번째 숫자 입력 : 20\n",
      "add1 = 1020\n",
      "\n",
      "첫번째 숫자 입력 : 10\n",
      "두번째 숫자 입력 : 20\n",
      "add2 = 30\n"
     ]
    }
   ],
   "source": [
    "########## 5. 키보드 입력, 형 변환(Casting)\n",
    "\n",
    "# 키워드(문자열) -> 정수 \n",
    "#a = input('첫번째 숫자 입력 : ') # 키보드 -> 문자 \n",
    "#b = input('두번째 숫자 입력 : ') # 20\n",
    "#add = a + b\n",
    "#add1 = int(add)\n",
    "#print(add1)\n",
    "c = input('첫번째 숫자 입력 : ') # 키보드 -> 정수 \n",
    "d = input('두번째 숫자 입력 : ') # 20\n",
    "add1 = c + d\n",
    "print('add1 = %s'%add1)\n",
    "print()\n",
    "\n",
    "c = int(input('첫번째 숫자 입력 : ')) # 키보드 -> 정수 \n",
    "d = int(input('두번째 숫자 입력 : ')) # 20\n",
    "add2 = c + d\n",
    "print('add2 = %d'%add2)"
   ]
  },
  {
   "cell_type": "code",
   "execution_count": 26,
   "metadata": {},
   "outputs": [
    {
     "name": "stdout",
     "output_type": "stream",
     "text": [
      "첫번째 숫자 입력 : 10\n",
      "두번째 숫자 입력 : 20\n",
      "\n",
      "add = 30.000\n"
     ]
    }
   ],
   "source": [
    "# 키보드(문자열) -> 실수 \n",
    "a = float(input('첫번째 숫자 입력 : ')) # 키보드 -> 실수 \n",
    "b = float(input('두번째 숫자 입력 : ')) # \n",
    "add = a + b\n",
    "print()\n",
    "print('add = %.3f'%add)"
   ]
  },
  {
   "cell_type": "code",
   "execution_count": 15,
   "metadata": {},
   "outputs": [
    {
     "name": "stdout",
     "output_type": "stream",
     "text": [
      "24\n",
      "4\n"
     ]
    }
   ],
   "source": [
    "print(int(24.5)) # 24\n",
    "#print(int('hello')) # ValueError\n",
    "#print(int('two')) # ValueError\n",
    "print(2 + int('2')) # 4"
   ]
  },
  {
   "cell_type": "code",
   "execution_count": 27,
   "metadata": {},
   "outputs": [
    {
     "name": "stdout",
     "output_type": "stream",
     "text": [
      "1\n",
      "\n",
      "0\n"
     ]
    }
   ],
   "source": [
    "# boolean -> 정수 \n",
    "print(int(True)) # 1\n",
    "print()\n",
    "print(int(False)) # 0"
   ]
  },
  {
   "cell_type": "code",
   "execution_count": null,
   "metadata": {},
   "outputs": [],
   "source": []
  }
 ],
 "metadata": {
  "kernelspec": {
   "display_name": "Python 3 (ipykernel)",
   "language": "python",
   "name": "python3"
  },
  "language_info": {
   "codemirror_mode": {
    "name": "ipython",
    "version": 3
   },
   "file_extension": ".py",
   "mimetype": "text/x-python",
   "name": "python",
   "nbconvert_exporter": "python",
   "pygments_lexer": "ipython3",
   "version": "3.12.4"
  }
 },
 "nbformat": 4,
 "nbformat_minor": 4
}
