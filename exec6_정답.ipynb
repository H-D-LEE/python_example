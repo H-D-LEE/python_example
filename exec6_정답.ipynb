{
 "cells": [
  {
   "cell_type": "code",
   "execution_count": null,
   "metadata": {},
   "outputs": [],
   "source": [
    "[문제1] 다음과 같은 <처리조건>에 맞게 Rectangle 클래스를 작성하시오.\n",
    "<처리 조건>\n",
    "1. 멤버변수 : 가로(width), 세로(height)\n",
    "2. 생성자 : 가로(width), 세로(height) 맴버 변수 초기화\n",
    "3. 메서드(area_calc) : 사각형의 넓이를 구하는 함수\n",
    "                            사각형 넓이 = 가로 * 세로\n",
    "4. 메서드(circum_calc) : 사각형의 둘레를 구하는 함수\n",
    "                               사각형 둘레 = (가로 + 세로) * 2\n",
    "5. 기타 세부 내용 < 출력 화면 예시> 참고\n",
    "\n",
    "<출력화면 예시>\n",
    "사각형의 넓이와 둘레를 계산합니다.\n",
    "사각형의 가로 입력 : 10\n",
    "사각형의 세로 입력 : 5\n",
    "---------------------------------------------\n",
    "사각형의 넓이 : 50\n",
    "사각형의 둘레 :30\n"
   ]
  },
  {
   "cell_type": "code",
   "execution_count": 3,
   "metadata": {},
   "outputs": [
    {
     "name": "stdout",
     "output_type": "stream",
     "text": [
      "가로 길이를 입력하세요 : 10\n",
      "가로 길이를 입력하세요 : 5\n",
      "------------------------------\n",
      "사각형 넓이: 50\n",
      "사각형 둘레: 30\n",
      "------------------------------\n"
     ]
    }
   ],
   "source": [
    "x=int(input(\"가로 길이를 입력하세요 : \"))\n",
    "y=int(input(\"세로 길이를 입력하세요 : \"))\n",
    "\n",
    "class Rectangle:\n",
    "    # 1.멤버 변수\n",
    "    width = 0 # 엔진 cc\n",
    "    height = 0 # 문짝 개수\n",
    "\n",
    "    # 2.생성자\n",
    "    def __init__(self, width, height):\n",
    "        # 멤버 변수 초기화\n",
    "        self.width = width\n",
    "        \n",
    "        self.height = height\n",
    "        \n",
    "        \n",
    "    # 넓이 계산\n",
    "    def area_calc(self):\n",
    "#        print('self.width =',self.width)\n",
    "#        print('self.height =',self.height)\n",
    "        area = self.width * self.height\n",
    "#        print('area =',area)\n",
    "        return area\n",
    "\n",
    "    # 둘레 계산\n",
    "    def circum_calc(self):\n",
    "        circum = (self.width + self.height) * 2\n",
    "        return circum\n",
    "\n",
    "# 4.object 생성\n",
    "print('-'*30)\n",
    "rec = Rectangle(x, y)  # 객체 생성 + 초기화\n",
    "area = rec.area_calc()\n",
    "print('사각형 넓이:' , area)\n",
    "\n",
    "\n",
    "circum = Rectangle(x, y)  # 객체 생성 + 초기화\n",
    "area = rec.circum_calc()\n",
    "print('사각형 둘레:' , area)\n",
    "print('-'*30)"
   ]
  },
  {
   "cell_type": "code",
   "execution_count": null,
   "metadata": {},
   "outputs": [],
   "source": [
    "[문제2] \n",
    "동적 멤버 변수를 생성하여 \n",
    "다음과 같은 산포도를 구하는 클래스를 정의하시오\n",
    "\n",
    "<출력화면 예시>\n",
    "분산 : 7.466666666\n",
    "표준편차 : 2.73252020"
   ]
  },
  {
   "cell_type": "code",
   "execution_count": 4,
   "metadata": {},
   "outputs": [
    {
     "name": "stdout",
     "output_type": "stream",
     "text": [
      "------------------------------\n",
      "분산: 2.5\n",
      "표준편차: 1.5811388300841898\n",
      "------------------------------\n"
     ]
    }
   ],
   "source": [
    "from statistics import *\n",
    "from math import *\n",
    "\n",
    "class Scattering:\n",
    "    # 1.멤버 변수\n",
    "\n",
    "    # 2.생성자\n",
    "    def __init__(self, x):\n",
    "        self.x = x\n",
    "        \n",
    "    # 분산\n",
    "    def var_func(self):\n",
    "        avg = mean(self.x)\n",
    "        diff = [(i-avg)**2 for i in self.x]        \n",
    "        self.var = sum(diff)/(len(self.x)-1)       \n",
    "        return self.var\n",
    "\n",
    "    # 표준편차\n",
    "    def std_func(self):\n",
    "        st = sqrt(self.var)\n",
    "        return st\n",
    "\n",
    "# 4.object 생성\n",
    "print('-'*30)\n",
    "x=[1,2,3,4,5]\n",
    "\n",
    "#print(x)\n",
    "var1 = Scattering(x)  # 객체 생성 + 초기화\n",
    "#print(var1)\n",
    "var2 = var1.var_func()\n",
    "print('분산:' , var2)\n",
    "\n",
    "\n",
    "#std1 = Scattering(x)  # 객체 생성 + 초기화\n",
    "std = var1.std_func()\n",
    "print('표준편차:' , std)\n",
    "print('-'*30)"
   ]
  },
  {
   "cell_type": "code",
   "execution_count": null,
   "metadata": {},
   "outputs": [],
   "source": [
    "[문제3] 다음과 같은 <처리조건>에 맞게 Person 클래스를 작성하시오.\n",
    "\n",
    "<처리 조건>\n",
    "1. 멤버변수 : 이름(name), 성별(gender), 나이(age)\n",
    "2. 생성자 : 이름, 성별, 나이 맴버 변수 초기화\n",
    "3. 메서드(display) : 이름, 성별, 나이 출력 기능\n",
    "4. 기타 세부 내용 < 출력 화면 예시> 참고\n",
    "\n",
    "<출력화면 예시>\n",
    "이름 : 유관순\n",
    "나이 : 35\n",
    "성별(male/female)  : female\n",
    "======================\n",
    "이름 : 유관순\n",
    "나이 : 35\n",
    "성별 : 여자"
   ]
  },
  {
   "cell_type": "code",
   "execution_count": 5,
   "metadata": {},
   "outputs": [
    {
     "name": "stdout",
     "output_type": "stream",
     "text": [
      "--------------------------------------------------\n",
      "이름 : 홍길동, 성별 : 남자 나이 : 25\n",
      "--------------------------------------------------\n"
     ]
    }
   ],
   "source": [
    "\n",
    "class person:\n",
    "    # 1.멤버 변수\n",
    "\n",
    "    # 2.생성자\n",
    "    def __init__(self, age, name, gender):\n",
    "        self.age = age\n",
    "        self.name = name\n",
    "        self.gender = gender\n",
    "        \n",
    "    # 분산\n",
    "    def display(self):\n",
    "        print('-'*50)\n",
    "        if self.gender == 'female' :\n",
    "            print(\"이름 : {}, 성별 : {} 나이 : {}\".format(self.name, \"여자\", self.age))\n",
    "        else :\n",
    "            print(\"이름 : {}, 성별 : {} 나이 : {}\".format(self.name, \"남자\", self.age))\n",
    "        print('-'*50)            \n",
    "#        return self.var\n",
    "\n",
    "    # 표준편차\n",
    "    def std_func(self):\n",
    "        st = sqrt(self.var)\n",
    "        return st\n",
    "\n",
    "# 4.object 생성\n",
    "person1 = person(25, '홍길동','male' )  # 객체 생성 + 초기화\n",
    "#person1 = person(26, '유관순','female' )  # 객체 생성 + 초기화\n",
    "\n",
    "person2 = person1.display()"
   ]
  },
  {
   "cell_type": "code",
   "execution_count": null,
   "metadata": {},
   "outputs": [],
   "source": [
    "[문제4] 다음과 같은 <처리조건>에 맞게 Employee 클래스를 상속 받아서 permanent와 Temporary 클래스를 구현하시오.\n",
    "    \n",
    "<처리 조건>\n",
    "조건1. 키보드로 정규직과 임시직을 구분한다.\n",
    "조건2. 정규직인 경우에는 기본급과 상여금을 입력 받아서 급여를 계산한다.\n",
    "조건3. 임시직인 경우에는 작업시간과 시급을 입력 받아서 급여를 계산한다."
   ]
  },
  {
   "cell_type": "code",
   "execution_count": 14,
   "metadata": {},
   "outputs": [
    {
     "name": "stdout",
     "output_type": "stream",
     "text": [
      "정규직<P>, 임시직<T> :t\n",
      "이름 :d\n",
      "작업시간 :5\n",
      "시급 :10\n",
      "고용형태 : 임시직\n",
      "이름 :  d\n",
      "급여 :  15\n"
     ]
    }
   ],
   "source": [
    "# (1) 부모클래스\n",
    "class Employee:\n",
    "    name = None\n",
    "    pay = 0\n",
    "\n",
    "    def __init__(self, name):\n",
    "        self.name = name\n",
    "        self.base = base\n",
    "        self.bonus = bonus\n",
    "\n",
    "    def pay_calc(self):\n",
    "        pass\n",
    "\n",
    "\n",
    "# (2) 자식클래스 : 정규직\n",
    "class Permanent(Employee):\n",
    "    def __init__(self, name, base, bonus ):\n",
    "        super().__init__(name)  # 부모 생성자 호출\n",
    "        self.pay = base + bonus  # 급여 = 기본급+상여금\n",
    "        print('총 수령액 : ', format(self.pay, '3,d'),'원')\n",
    "#     def pay_calc(self, name, base, bonus):\n",
    "#         self.pay = base + bonus  # 급여 = 기본급+상여금\n",
    "#         print('총 수령액 : ', format(self.pay, '3,d'),'원')\n",
    "\n",
    "\n",
    "# (3) 자식클래스 : 임시직\n",
    "class Temporary(Employee):\n",
    "    def __init__(self, name, time, tpay ):\n",
    "        super().__init__(name)  # 부모 생성자 호출\n",
    "        self.pay = tpay * time # 급여 = 작업시간*시급\n",
    "        self.pay = tpay * time # 급여 = 작업시간*시급\n",
    "        \n",
    "#     def pay_calc(self, name, time, tpay):\n",
    "#         self.pay = tpay * time # 급여 = 작업시간*시급\n",
    "#         print('총 수령액 : ', format(self.pay, '3,d'),'원')\n",
    "\n",
    "emp_type = input('정규직<P>, 임시직<T> :' )\n",
    "\n",
    "if emp_type == 'P' or emp_type == 'p':\n",
    "    name  = input('이름 :')\n",
    "    base  = int(input('기본급 :'))\n",
    "    bonus  = int(input('보너스 :'))\n",
    "    p = Permanent(name, base, bonus)\n",
    "    print('고용형태 : 정규직') \n",
    "    print('이름 : ', p.name)    \n",
    "    print('급여 : ', p.pay)                               \n",
    "\n",
    "elif emp_type == 'T' or emp_type == 't':     \n",
    "    name  = input('이름 :')\n",
    "    time  = int(input('작업시간 :'))\n",
    "    tpay  = int(input('시급 :'))\n",
    "    t = Temporary(name, time, tpay)                          \n",
    "    print('고용형태 : 임시직') \n",
    "    print('이름 : ', t.name)    \n",
    "    print('급여 : ', p.pay)                               \n",
    "\n",
    "else :\n",
    "    print('입력 오류')\n"
   ]
  },
  {
   "cell_type": "code",
   "execution_count": null,
   "metadata": {},
   "outputs": [],
   "source": []
  },
  {
   "cell_type": "code",
   "execution_count": null,
   "metadata": {},
   "outputs": [],
   "source": [
    "[문제5] 다음과 같은 <처리조건>에 맞게 \n",
    "사칙연산 관련 패키지와 모듈을 작성하고, \n",
    "다른 모듈에서 import하여 결과를 확인하시오.\n",
    "\n",
    "<처리 조건>\n",
    "1. 패키지명 : myCalcPackage\n",
    "2. 모듈명 : calcModule.py\n",
    "3. 함수명 : Add(), Sub(), Mul(), Div()\n",
    "4. 함수 호출명 : emample.py\n",
    "5. 호출 모듈에서 사칙연산 함수를 호출한 결과 <출력 결과 예시> 참조\n",
    "\n",
    "<출력화면 예시>\n",
    "x = 10; y = 5일때\n",
    "Add = 15\n",
    "Sub = 5\n",
    "Mul = 50\n",
    "Div = 2.0"
   ]
  },
  {
   "cell_type": "code",
   "execution_count": 28,
   "metadata": {},
   "outputs": [
    {
     "name": "stdout",
     "output_type": "stream",
     "text": [
      "Add =  20\n",
      "Sub =  0\n",
      "Mul =  100\n",
      "Div =  1.0\n"
     ]
    }
   ],
   "source": [
    "from myCalcPackage.calcMomodule import Add, Sub, Mul, Div\n",
    "\n",
    "x = 10\n",
    "y = 10\n",
    "print('Add = ', Add(x, y))\n",
    "print('Sub = ', Sub(x, y))\n",
    "print('Mul = ', Mul(x, y))\n",
    "print('Div = ', Div(x, y))"
   ]
  },
  {
   "cell_type": "code",
   "execution_count": null,
   "metadata": {},
   "outputs": [],
   "source": []
  }
 ],
 "metadata": {
  "kernelspec": {
   "display_name": "Python 3",
   "language": "python",
   "name": "python3"
  },
  "language_info": {
   "codemirror_mode": {
    "name": "ipython",
    "version": 3
   },
   "file_extension": ".py",
   "mimetype": "text/x-python",
   "name": "python",
   "nbconvert_exporter": "python",
   "pygments_lexer": "ipython3",
   "version": "3.8.5"
  }
 },
 "nbformat": 4,
 "nbformat_minor": 4
}
