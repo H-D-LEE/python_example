{
 "cells": [
  {
   "cell_type": "markdown",
   "metadata": {},
   "source": [
    "### 7.1 정규표현식\n",
    "#### 7.1.1 메타문자 - 정규표현식에서 일정한 의미를 가지고 있는 특수 문자"
   ]
  },
  {
   "cell_type": "code",
   "execution_count": null,
   "metadata": {},
   "outputs": [],
   "source": [
    "# .x 또는 x. : 임의의 한 문자가 x앞이나 뒤에 오는 패턴 지정\n",
    "# ^x : x로 시작하는 문자열\n",
    "# x$ : x로 끝나는 문자열  \n",
    "# x* : x가 0번이상 반복\n",
    "# x+ : x가 1번이상 반복\n",
    "# x? : x가 0개 또는 1개 존재\n",
    "# abc|ABC : abc 또는 ABC 두개중 하나 선택\n",
    "# [x] : x문자 한개 일치\n",
    "# [^x] : x문자 제외\n",
    "# x{n} : x문자 n개 연속\n",
    "# x{n,} : x문자 n개 이상 연속\n",
    "# x{m,n} : x문자 ㅡ~n개 사이 연속"
   ]
  },
  {
   "cell_type": "markdown",
   "metadata": {},
   "source": [
    "#### 이스케이프 문자 - \\(역슬래시)로 시작해서 의미를 갖는 문자"
   ]
  },
  {
   "cell_type": "code",
   "execution_count": null,
   "metadata": {},
   "outputs": [],
   "source": [
    "# \\n : 줄바꿈 문자\n",
    "# \\t : 탭 문자\n",
    "# \\w : 단어[0-9a-zA-Z_]와 같다.영문자+숫자+_\n",
    "# \\s : 공백문자\n",
    "# \\b : 문자와 공백사이\n",
    "# \\d : 숫자 [0-9]와 같다\n",
    "# 이스케이프 문자로 해석하지 않게 하는 방법 : \\(역슬래시)를 하나 더 붙이거나 문자 앞부분에 'r' 문자를 붙인다."
   ]
  },
  {
   "cell_type": "code",
   "execution_count": 1,
   "metadata": {},
   "outputs": [],
   "source": [
    "import re # 정규표현식 모듈 - 방법1\n",
    "from re import findall, match, sub # - 방법2"
   ]
  },
  {
   "cell_type": "markdown",
   "metadata": {},
   "source": [
    "#### 7.2 문자열 찾기\n",
    "##### 1. findall('pattern', string) -> list 반환"
   ]
  },
  {
   "cell_type": "code",
   "execution_count": 3,
   "metadata": {},
   "outputs": [],
   "source": [
    "st1 = '1234 abc홍길동 ABC_555_6 이사도시'"
   ]
  },
  {
   "cell_type": "markdown",
   "metadata": {},
   "source": [
    "##### 1) 숫자 찾기"
   ]
  },
  {
   "cell_type": "code",
   "execution_count": 26,
   "metadata": {},
   "outputs": [
    {
     "name": "stdout",
     "output_type": "stream",
     "text": [
      "['1234']\n"
     ]
    }
   ],
   "source": [
    "print(findall('1234', st1, flags=0)) # ['1234']"
   ]
  },
  {
   "cell_type": "code",
   "execution_count": 5,
   "metadata": {},
   "outputs": [
    {
     "name": "stdout",
     "output_type": "stream",
     "text": [
      "['1', '2', '3', '4', '5', '5', '5', '6']\n"
     ]
    }
   ],
   "source": [
    "print(findall('[0-9]', st1)) # ['1', '2', '3', '4', '5', '5', '5', '6']"
   ]
  },
  {
   "cell_type": "code",
   "execution_count": 6,
   "metadata": {},
   "outputs": [
    {
     "name": "stdout",
     "output_type": "stream",
     "text": [
      "['123', '555']\n"
     ]
    }
   ],
   "source": [
    "print(findall('[0-9]{3}', st1)) # {3}:숫자가 3개 연속된 패턴 ['123', '555']"
   ]
  },
  {
   "cell_type": "code",
   "execution_count": 7,
   "metadata": {},
   "outputs": [
    {
     "name": "stdout",
     "output_type": "stream",
     "text": [
      "['1234', '555']\n"
     ]
    }
   ],
   "source": [
    "print(findall('[0-9]{3,}', st1)) # {3,}:숫자가 3개 이상 연속된 패턴 ['1234', '555']"
   ]
  },
  {
   "cell_type": "markdown",
   "metadata": {},
   "source": [
    "#### 2) 문자열 찾기"
   ]
  },
  {
   "cell_type": "code",
   "execution_count": 8,
   "metadata": {},
   "outputs": [],
   "source": [
    "st1 = '1234 abc홍길동 ABC_555_6 이사도시'"
   ]
  },
  {
   "cell_type": "code",
   "execution_count": 9,
   "metadata": {},
   "outputs": [
    {
     "name": "stdout",
     "output_type": "stream",
     "text": [
      "['홍길동', '이사도시']\n"
     ]
    }
   ],
   "source": [
    "print(findall('[가-힣]{3,}', st1)) # 이름 찾기 - ['홍길동', '이사도시']"
   ]
  },
  {
   "cell_type": "code",
   "execution_count": 10,
   "metadata": {},
   "outputs": [
    {
     "name": "stdout",
     "output_type": "stream",
     "text": [
      "['abc']\n"
     ]
    }
   ],
   "source": [
    "print(findall('[a-z]{3}', st1)) # ['abc']"
   ]
  },
  {
   "cell_type": "code",
   "execution_count": 11,
   "metadata": {},
   "outputs": [
    {
     "name": "stdout",
     "output_type": "stream",
     "text": [
      "['abc', 'ABC']\n"
     ]
    }
   ],
   "source": [
    "print(findall('[a-z|A-Z]{3}', st1)) # ['abc', 'ABC']"
   ]
  },
  {
   "cell_type": "markdown",
   "metadata": {},
   "source": [
    "#### 단어에서 한글 이름 찾기"
   ]
  },
  {
   "cell_type": "code",
   "execution_count": 13,
   "metadata": {},
   "outputs": [],
   "source": [
    "st_list = ['1234', 'abc홍길동', 'ABC_555_6', '이사도시']"
   ]
  },
  {
   "cell_type": "code",
   "execution_count": 14,
   "metadata": {},
   "outputs": [
    {
     "name": "stdout",
     "output_type": "stream",
     "text": [
      "['1234', 'abc홍길동', 'ABC_555_6', '이사도시']\n"
     ]
    }
   ],
   "source": [
    "st_list = st1.split()\n",
    "print(st_list) # ['1234', 'abc홍길동', 'ABC_555_6', '이사도시']"
   ]
  },
  {
   "cell_type": "code",
   "execution_count": 15,
   "metadata": {},
   "outputs": [
    {
     "name": "stdout",
     "output_type": "stream",
     "text": [
      "names : ['홍길동', '이사도시']\n"
     ]
    }
   ],
   "source": [
    "names = [] # 이름 저장\n",
    "for st in st_list : # 'abc홍길동'\n",
    "    name = findall('[가-힣]{3,}', st) # 'abc홍길동' -> ['홍길동']\n",
    "\n",
    "    if name : # 1개 이상 원소\n",
    "        #names.append(name) # [ ['홍길동'] ] -> 중첩list\n",
    "        names.append(name[0]) # ['홍길동', '이사도시']\n",
    "\n",
    "print('names :', names) # names : ['홍길동', '이사도시']"
   ]
  },
  {
   "cell_type": "markdown",
   "metadata": {},
   "source": [
    "#### 3. 문자열 찾기"
   ]
  },
  {
   "cell_type": "code",
   "execution_count": 16,
   "metadata": {},
   "outputs": [],
   "source": [
    "st2 = 'test1abcABC 123mbc 45test'"
   ]
  },
  {
   "cell_type": "code",
   "execution_count": 17,
   "metadata": {},
   "outputs": [
    {
     "name": "stdout",
     "output_type": "stream",
     "text": [
      "['test']\n"
     ]
    }
   ],
   "source": [
    "# 접두어/접미어\n",
    "print(findall('^test', st2)) # ^:접두어 - ['test']"
   ]
  },
  {
   "cell_type": "code",
   "execution_count": 19,
   "metadata": {},
   "outputs": [
    {
     "name": "stdout",
     "output_type": "stream",
     "text": [
      "['st']\n"
     ]
    }
   ],
   "source": [
    "print(findall('st$', st2)) # $:접미어 - ['st']"
   ]
  },
  {
   "cell_type": "markdown",
   "metadata": {},
   "source": [
    "##### 종료 문자 찾기 : abc, mbc"
   ]
  },
  {
   "cell_type": "code",
   "execution_count": 21,
   "metadata": {},
   "outputs": [
    {
     "name": "stdout",
     "output_type": "stream",
     "text": [
      "['abc', 'mbc']\n"
     ]
    }
   ],
   "source": [
    "print(findall('.bc', st2)) # '.bc':bc로 끝나는 3자리 문자 ['abc', 'mbc']"
   ]
  },
  {
   "cell_type": "markdown",
   "metadata": {},
   "source": [
    "##### 시작 문자 찾기"
   ]
  },
  {
   "cell_type": "code",
   "execution_count": null,
   "metadata": {},
   "outputs": [],
   "source": [
    "print(findall('t.', st2)) # 't.': t로 시작되는 2자리 문자 ['te', 't1', 'te']"
   ]
  },
  {
   "cell_type": "markdown",
   "metadata": {},
   "source": [
    "#### 4. 단어 찾기(\\\\w) - 한글,영문,숫자"
   ]
  },
  {
   "cell_type": "code",
   "execution_count": 29,
   "metadata": {},
   "outputs": [
    {
     "name": "stdout",
     "output_type": "stream",
     "text": [
      "['test', '홍길동', 'abc', '123', 'tbc']\n"
     ]
    }
   ],
   "source": [
    "st3 = 'test^홍길동 abc 대한*민국 123$tbc'\n",
    "\n",
    "words = findall('\\\\w{3,}', st3) # '\\\\w{3,}:한글,영문,숫자가 3자리 이상인 문자열\n",
    "print(words) # ['test', '홍길동', 'abc', '123', 'tbc']"
   ]
  },
  {
   "cell_type": "markdown",
   "metadata": {},
   "source": [
    "##### 특수문자 제외"
   ]
  },
  {
   "cell_type": "code",
   "execution_count": 30,
   "metadata": {},
   "outputs": [
    {
     "name": "stdout",
     "output_type": "stream",
     "text": [
      "['test', '홍길동 abc 대한', '민국 123', 'tbc']\n"
     ]
    }
   ],
   "source": [
    "print(findall('[^^*$]+', st3))"
   ]
  },
  {
   "attachments": {
    "a3226d53-251c-4d4c-9369-e4ce712481a3.png": {
     "image/png": "[encoded data removed]"
    }
   },
   "cell_type": "markdown",
   "metadata": {},
   "source": [
    "![image.png](attachment:a3226d53-251c-4d4c-9369-e4ce712481a3.png)"
   ]
  },
  {
   "cell_type": "code",
   "execution_count": null,
   "metadata": {},
   "outputs": [],
   "source": []
  }
 ],
 "metadata": {
  "kernelspec": {
   "display_name": "Python 3 (ipykernel)",
   "language": "python",
   "name": "python3"
  },
  "language_info": {
   "codemirror_mode": {
    "name": "ipython",
    "version": 3
   },
   "file_extension": ".py",
   "mimetype": "text/x-python",
   "name": "python",
   "nbconvert_exporter": "python",
   "pygments_lexer": "ipython3",
   "version": "3.12.4"
  }
 },
 "nbformat": 4,
 "nbformat_minor": 4
}
