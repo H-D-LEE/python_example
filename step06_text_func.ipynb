{
 "cells": [
  {
   "cell_type": "code",
   "execution_count": 1,
   "metadata": {},
   "outputs": [
    {
     "data": {
      "text/plain": [
       "'\\n텍스트 전처리 함수 구현\\n'"
      ]
     },
     "execution_count": 1,
     "metadata": {},
     "output_type": "execute_result"
    }
   ],
   "source": [
    "'''\n",
    "텍스트 전처리 함수 구현\n",
    "'''"
   ]
  },
  {
   "cell_type": "code",
   "execution_count": 6,
   "metadata": {},
   "outputs": [
    {
     "name": "stdout",
     "output_type": "stream",
     "text": [
      " 우리나라    대한민국, 우리나라%$ 만세\n",
      "\n",
      "우리나라 대한민국 우리나라 만세\n",
      "\n",
      "['우리나라 대한민국 우리나라 만세', '비아그라 정력 최고', '나는 대한민국 사람', '보험료 원에 평생 보장 마감 임박', '나는 홍길동']\n"
     ]
    }
   ],
   "source": [
    "from re import findall, sub\n",
    "\n",
    "# 텍스트 전처리2\n",
    "texts = [' 우리나라    대한민국, 우리나라%$ 만세', '비아그&라 500GRAM 정력 최고!', '나는 대한민국 사람', '보험료 15000원에 평생 보장 마감 임박', '나는 홍길동']\n",
    "\n",
    "# 텍스트 전처리 함수\n",
    "def crean_text(text) : # 문자열 인수\n",
    "    # 1~6단계\n",
    "    texts_re = text.lower()  # 소문자 변경\n",
    "    texts_re2 = sub('[0-9]', '', texts_re)  # 숫자 제거\n",
    "    texts_re3 = sub('[,.?!;:]', '', texts_re2)  # 문장부호 제거\n",
    "    texts_re4 = sub('[@#$%^&*()]', '', texts_re3)   # 특수문자 제거\n",
    "    texts_re5 = sub('[a-z]', '',  texts_re4)  # 영문자 제거\n",
    "    texts_re6 = ' '.join(texts_re5.split()) # white space 제거(단어 구분)\n",
    "    return texts_re6 # 반환값\n",
    "\n",
    "# 함수 호출\n",
    "print(texts[0])\n",
    "print()\n",
    "\n",
    "texts_result = crean_text(texts[0]) # 한 문장 처리\n",
    "print(texts_result) # 우리나라 대한민국 우리나라 만세\n",
    "print()\n",
    "\n",
    "texts_result = [crean_text(text) for text in texts]\n",
    "print(texts_result)"
   ]
  },
  {
   "cell_type": "code",
   "execution_count": null,
   "metadata": {},
   "outputs": [],
   "source": []
  }
 ],
 "metadata": {
  "kernelspec": {
   "display_name": "Python 3",
   "language": "python",
   "name": "python3"
  },
  "language_info": {
   "codemirror_mode": {
    "name": "ipython",
    "version": 3
   },
   "file_extension": ".py",
   "mimetype": "text/x-python",
   "name": "python",
   "nbconvert_exporter": "python",
   "pygments_lexer": "ipython3",
   "version": "3.8.5"
  }
 },
 "nbformat": 4,
 "nbformat_minor": 2
}
