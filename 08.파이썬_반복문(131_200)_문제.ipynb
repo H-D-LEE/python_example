{
 "cells": [
  {
   "cell_type": "markdown",
   "id": "b481d8d2",
   "metadata": {},
   "source": [
    "\n",
    "### 파이썬 for 문은 횟수가 정해져 있거나 상대적으로 횟수가 적은 경우에 대한 반복에 주로 사용됩니다. 파이썬 while문은 횟수가 상대적으로 크거나 무한 루프 형태의 반복문에 사용됩니다."
   ]
  },
  {
   "cell_type": "markdown",
   "id": "cc799c25",
   "metadata": {},
   "source": [
    "#### 131. for문의 실행결과를 예측하라.\n",
    "\n",
    "> 과일 = [\"사과\", \"귤\", \"수박\"]\n",
    "\n",
    "> for 변수 in 과일:\n",
    "    print(변수)"
   ]
  },
  {
   "cell_type": "code",
   "execution_count": null,
   "id": "39e94ecd",
   "metadata": {},
   "outputs": [],
   "source": [
    "사과\n",
    "귤\n",
    "수박 출력"
   ]
  },
  {
   "cell_type": "markdown",
   "id": "00d410e8",
   "metadata": {},
   "source": [
    "#### 132. for문의 실행결과를 예측하라.\n",
    "\n",
    "> 과일 = [\"사과\", \"귤\", \"수박\"]\n",
    "\n",
    "> for 변수 in 과일:\n",
    ">>  print(\"#####\")"
   ]
  },
  {
   "cell_type": "code",
   "execution_count": 3,
   "id": "45a15894",
   "metadata": {},
   "outputs": [],
   "source": [
    "#####\n",
    "#####\n",
    "#####"
   ]
  },
  {
   "cell_type": "markdown",
   "id": "35d02fdc",
   "metadata": {},
   "source": [
    "#### 133.다음 for 문과 동일한 기능을 수행하는 코드를 작성하세요.\n",
    "\n",
    "> for 변수 in [\"A\", \"B\", \"C\"]:\n",
    ">>  print(변수)"
   ]
  },
  {
   "cell_type": "code",
   "execution_count": 7,
   "id": "f154ebb6",
   "metadata": {},
   "outputs": [
    {
     "name": "stdout",
     "output_type": "stream",
     "text": [
      "A\n",
      "B\n",
      "C\n"
     ]
    }
   ],
   "source": [
    "word = [\"A\", \"B\", \"C\"]\n",
    "for i in word :\n",
    "    print(i)"
   ]
  },
  {
   "cell_type": "markdown",
   "id": "72327e11",
   "metadata": {},
   "source": [
    "#### 134. for문을 풀어서 동일한 동작을하는 코드를 작성하라.\n",
    "\n",
    "> for 변수 in [\"A\", \"B\", \"C\"]:\n",
    ">>  print(\"출력:\", 변수)"
   ]
  },
  {
   "cell_type": "code",
   "execution_count": 9,
   "id": "d4dd8fb8",
   "metadata": {},
   "outputs": [
    {
     "name": "stdout",
     "output_type": "stream",
     "text": [
      "출력 :  A\n",
      "출력 :  B\n",
      "출력 :  C\n"
     ]
    }
   ],
   "source": [
    "word = [\"A\", \"B\", \"C\"]\n",
    "print(\"출력 : \", word[0])\n",
    "print(\"출력 : \", word[1])\n",
    "print(\"출력 : \", word[2])"
   ]
  },
  {
   "cell_type": "code",
   "execution_count": 11,
   "id": "bdb44c9f",
   "metadata": {},
   "outputs": [
    {
     "name": "stdout",
     "output_type": "stream",
     "text": [
      "출력 :  A\n",
      "출력 :  B\n",
      "출력 :  C\n"
     ]
    }
   ],
   "source": [
    "word = [\"A\", \"B\", \"C\"]\n",
    "for i in word :\n",
    "    print(\"출력 : \", i)"
   ]
  },
  {
   "cell_type": "markdown",
   "id": "18a38676",
   "metadata": {},
   "source": [
    "#### 135. for문을 풀어서 동일한 동작을 하는 코드를 작성하라.\n",
    "\n",
    "> for 변수 in [\"A\", \"B\", \"C\"]:\n",
    ">>  b = 변수.lower()\n",
    "\n",
    ">>  print(\"변환:\", b)"
   ]
  },
  {
   "cell_type": "code",
   "execution_count": null,
   "id": "bdca6b37",
   "metadata": {},
   "outputs": [],
   "source": [
    "word = [\"A\", \"B\", \"C\"]\n",
    "print(\"출력 : \", word[0].lower())\n",
    "print(\"출력 : \", word[1].lower())\n",
    "print(\"출력 : \", word[2].lower())"
   ]
  },
  {
   "cell_type": "code",
   "execution_count": 13,
   "id": "0a7bff4b",
   "metadata": {},
   "outputs": [
    {
     "name": "stdout",
     "output_type": "stream",
     "text": [
      "출력 :  a\n",
      "출력 :  b\n",
      "출력 :  c\n"
     ]
    }
   ],
   "source": [
    "word = [\"A\", \"B\", \"C\"]\n",
    "for i in word :\n",
    "    print(\"출력 : \", i.lower())"
   ]
  },
  {
   "cell_type": "code",
   "execution_count": 17,
   "id": "f80db1ce",
   "metadata": {},
   "outputs": [
    {
     "name": "stdout",
     "output_type": "stream",
     "text": [
      "출력 :  a\n",
      "출력 :  b\n",
      "출력 :  c\n"
     ]
    }
   ],
   "source": [
    "word = [\"A\", \"B\", \"C\"]\n",
    "for i in range(3) :\n",
    "    print(\"출력 : \", word[i].lower())"
   ]
  },
  {
   "cell_type": "markdown",
   "id": "4ad56e16",
   "metadata": {},
   "source": [
    "#### 136. 다음 코드를 for문으로 작성하라.\n",
    "\n",
    "> 변수 = 10\n",
    "\n",
    "> print(변수)\n",
    "\n",
    "> 변수 = 20\n",
    "\n",
    "> print(변수)\n",
    "\n",
    "> 변수 = 30\n",
    "\n",
    "> print(변수)\n",
    "\n",
    "\n",
    " \n",
    "\n"
   ]
  },
  {
   "cell_type": "code",
   "execution_count": 21,
   "id": "d768bd61",
   "metadata": {},
   "outputs": [
    {
     "name": "stdin",
     "output_type": "stream",
     "text": [
      " 10\n"
     ]
    },
    {
     "name": "stdout",
     "output_type": "stream",
     "text": [
      "10\n"
     ]
    },
    {
     "name": "stdin",
     "output_type": "stream",
     "text": [
      " 20\n"
     ]
    },
    {
     "name": "stdout",
     "output_type": "stream",
     "text": [
      "20\n"
     ]
    },
    {
     "name": "stdin",
     "output_type": "stream",
     "text": [
      " 30\n"
     ]
    },
    {
     "name": "stdout",
     "output_type": "stream",
     "text": [
      "30\n"
     ]
    }
   ],
   "source": [
    "num = 0\n",
    "for i in range(3) :\n",
    "    num = int(input())\n",
    "    print(num)"
   ]
  },
  {
   "cell_type": "code",
   "execution_count": 23,
   "id": "cfc64577",
   "metadata": {},
   "outputs": [
    {
     "name": "stdout",
     "output_type": "stream",
     "text": [
      "10\n",
      "20\n",
      "30\n"
     ]
    }
   ],
   "source": [
    "for i in range(10, 40, 10) :\n",
    "    print(i)"
   ]
  },
  {
   "cell_type": "code",
   "execution_count": 25,
   "id": "7b13fefd",
   "metadata": {},
   "outputs": [
    {
     "name": "stdout",
     "output_type": "stream",
     "text": [
      "10\n",
      "20\n",
      "30\n"
     ]
    }
   ],
   "source": [
    "nums = [10, 20 ,30]\n",
    "for i in range(3) :\n",
    "    print(nums[i])"
   ]
  },
  {
   "cell_type": "markdown",
   "id": "7d265a61",
   "metadata": {},
   "source": [
    "#### 137. 다음 코드를 for문으로 작성하라.\n",
    "\n",
    "> print(10)\n",
    "\n",
    "> print(20)\n",
    "\n",
    "> print(30)\n",
    "\n"
   ]
  },
  {
   "cell_type": "code",
   "execution_count": 27,
   "id": "d546942a",
   "metadata": {},
   "outputs": [
    {
     "name": "stdout",
     "output_type": "stream",
     "text": [
      "10\n",
      "20\n",
      "30\n"
     ]
    }
   ],
   "source": [
    "nums = [10, 20 ,30]\n",
    "for i in range(3) :\n",
    "    print(nums[i])"
   ]
  },
  {
   "cell_type": "code",
   "execution_count": 29,
   "id": "d9d8bf75",
   "metadata": {},
   "outputs": [
    {
     "name": "stdout",
     "output_type": "stream",
     "text": [
      "10\n",
      "20\n",
      "30\n"
     ]
    }
   ],
   "source": [
    "for i in range(10, 40, 10) :\n",
    "    print(i)"
   ]
  },
  {
   "cell_type": "code",
   "execution_count": 31,
   "id": "b8f7d2f0",
   "metadata": {},
   "outputs": [
    {
     "name": "stdin",
     "output_type": "stream",
     "text": [
      " 10\n"
     ]
    },
    {
     "name": "stdout",
     "output_type": "stream",
     "text": [
      "10\n"
     ]
    },
    {
     "name": "stdin",
     "output_type": "stream",
     "text": [
      " 20\n"
     ]
    },
    {
     "name": "stdout",
     "output_type": "stream",
     "text": [
      "20\n"
     ]
    },
    {
     "name": "stdin",
     "output_type": "stream",
     "text": [
      " 30\n"
     ]
    },
    {
     "name": "stdout",
     "output_type": "stream",
     "text": [
      "30\n"
     ]
    }
   ],
   "source": [
    "num = 0\n",
    "for i in range(3) :\n",
    "    num = int(input())\n",
    "    print(num)"
   ]
  },
  {
   "cell_type": "markdown",
   "id": "c9e94387",
   "metadata": {},
   "source": [
    "#### 138. 다음 코드를 for문으로 작성하라.\n",
    "\n",
    "> print(10)\n",
    "\n",
    "> print(\"-------\")\n",
    "\n",
    "> print(20)\n",
    "\n",
    "> print(\"-------\")\n",
    "\n",
    "> print(30)\n",
    "\n",
    "> print(\"-------\")"
   ]
  },
  {
   "cell_type": "code",
   "execution_count": 33,
   "id": "efa091f8",
   "metadata": {},
   "outputs": [
    {
     "name": "stdin",
     "output_type": "stream",
     "text": [
      " 10\n"
     ]
    },
    {
     "name": "stdout",
     "output_type": "stream",
     "text": [
      "10\n",
      "--------\n"
     ]
    },
    {
     "name": "stdin",
     "output_type": "stream",
     "text": [
      " 20\n"
     ]
    },
    {
     "name": "stdout",
     "output_type": "stream",
     "text": [
      "20\n",
      "--------\n"
     ]
    },
    {
     "name": "stdin",
     "output_type": "stream",
     "text": [
      " 30\n"
     ]
    },
    {
     "name": "stdout",
     "output_type": "stream",
     "text": [
      "30\n",
      "--------\n"
     ]
    }
   ],
   "source": [
    "for i in range(3) :\n",
    "    nums = int(input())\n",
    "    print(nums)\n",
    "    print(\"--------\")"
   ]
  },
  {
   "cell_type": "code",
   "execution_count": 35,
   "id": "16c355da",
   "metadata": {},
   "outputs": [
    {
     "name": "stdout",
     "output_type": "stream",
     "text": [
      "10\n",
      "--------\n",
      "20\n",
      "--------\n",
      "30\n",
      "--------\n"
     ]
    }
   ],
   "source": [
    "nums = [10, 20 ,30]\n",
    "for i in range(3) :\n",
    "    print(nums[i])\n",
    "    print(\"--------\")"
   ]
  },
  {
   "cell_type": "markdown",
   "id": "8cabe197",
   "metadata": {},
   "source": [
    "#### 139. 다음 코드를 for문으로 작성하라.\n",
    "\n",
    "- print(\"++++\")\n",
    "- print(10)\n",
    "- print(20)\n",
    "- print(30)"
   ]
  },
  {
   "cell_type": "code",
   "execution_count": 37,
   "id": "cd65cf20",
   "metadata": {},
   "outputs": [
    {
     "name": "stdout",
     "output_type": "stream",
     "text": [
      "++++\n",
      "10\n",
      "20\n",
      "30\n"
     ]
    }
   ],
   "source": [
    "print(\"++++\")\n",
    "for i in nums :\n",
    "    print(i)"
   ]
  },
  {
   "cell_type": "markdown",
   "id": "5fd7c3bb",
   "metadata": {},
   "source": [
    "#### 140. 다음 코드를 for문으로 작성하라.\n",
    "\n",
    "> print(\"-------\")\n",
    "\n",
    "> print(\"-------\")\n",
    "\n",
    "> print(\"-------\")\n",
    "\n",
    "> print(\"-------\")"
   ]
  },
  {
   "cell_type": "code",
   "execution_count": 39,
   "id": "5e5b2a69",
   "metadata": {},
   "outputs": [
    {
     "name": "stdout",
     "output_type": "stream",
     "text": [
      "-------\n",
      "-------\n",
      "-------\n",
      "-------\n"
     ]
    }
   ],
   "source": [
    "for i in range(4) :\n",
    "    print(\"-------\")"
   ]
  },
  {
   "cell_type": "code",
   "execution_count": 41,
   "id": "e07703b2",
   "metadata": {},
   "outputs": [
    {
     "name": "stdout",
     "output_type": "stream",
     "text": [
      "-------\n",
      "-------\n",
      "-------\n",
      "-------\n"
     ]
    }
   ],
   "source": [
    "for i in range(2) :\n",
    "    for j in range(2) :\n",
    "        print(\"-------\")"
   ]
  },
  {
   "cell_type": "code",
   "execution_count": 47,
   "id": "fa579c99",
   "metadata": {},
   "outputs": [
    {
     "name": "stdout",
     "output_type": "stream",
     "text": [
      "-------\n",
      "-------\n",
      "-------\n",
      "-------\n"
     ]
    }
   ],
   "source": [
    "print(\"-------\")\n",
    "\n",
    "print(\"-------\")\n",
    "\n",
    "print(\"-------\")\n",
    "\n",
    "print(\"-------\")"
   ]
  },
  {
   "cell_type": "markdown",
   "id": "28cd8342",
   "metadata": {},
   "source": [
    "#### 141. 다음과 같이 판매가가 저장된 리스트가 있을 때 부가세가 포함된 가격을 for 문을 사용해서 화면에 출력하라. 단 부가세는 10원으로 가정한다.\n",
    "\n",
    "> 리스트 = [100, 200, 300]\n",
    "\n",
    "> 110\n",
    "\n",
    "> 210\n",
    "\n",
    "> 310"
   ]
  },
  {
   "cell_type": "code",
   "execution_count": 49,
   "id": "924553ff",
   "metadata": {},
   "outputs": [
    {
     "name": "stdout",
     "output_type": "stream",
     "text": [
      "110\n",
      "210\n",
      "310\n"
     ]
    }
   ],
   "source": [
    "list = [100, 200, 300]\n",
    "for i in range(3) :\n",
    "    print(list[i] + 10)"
   ]
  },
  {
   "cell_type": "code",
   "execution_count": 63,
   "id": "bb5e4de4",
   "metadata": {},
   "outputs": [
    {
     "name": "stdout",
     "output_type": "stream",
     "text": [
      "110\n",
      "210\n",
      "310\n"
     ]
    }
   ],
   "source": [
    "list1 = [100, 200, 300]\n",
    "for i in list1 :\n",
    "    print(i + 10)"
   ]
  },
  {
   "cell_type": "code",
   "execution_count": null,
   "id": "f552b480",
   "metadata": {},
   "outputs": [],
   "source": []
  },
  {
   "cell_type": "markdown",
   "id": "de312537",
   "metadata": {},
   "source": [
    "#### 142. for 문을 사용해서 리스트에 저장된 값을 다음과 같이 출력하라.\n",
    "\n",
    "> 리스트 = [\"김밥\", \"라면\", \"튀김\"]\n",
    "\n",
    "> 오늘의 메뉴: 김밥\n",
    "\n",
    "> 오늘의 메뉴: 라면\n",
    "\n",
    "> 오늘의 메뉴: 튀김"
   ]
  },
  {
   "cell_type": "code",
   "execution_count": 65,
   "id": "b8dc6834",
   "metadata": {},
   "outputs": [
    {
     "name": "stdout",
     "output_type": "stream",
     "text": [
      "오늘의 메뉴:  김밥\n",
      "오늘의 메뉴:  라면\n",
      "오늘의 메뉴:  튀김\n"
     ]
    }
   ],
   "source": [
    "list1 = [\"김밥\", \"라면\", \"튀김\"]\n",
    "for i in list1 :\n",
    "    print(\"오늘의 메뉴: \", i)"
   ]
  },
  {
   "cell_type": "code",
   "execution_count": 67,
   "id": "ad164631",
   "metadata": {},
   "outputs": [
    {
     "name": "stdout",
     "output_type": "stream",
     "text": [
      "오늘의 메뉴:  김밥\n",
      "오늘의 메뉴:  라면\n",
      "오늘의 메뉴:  튀김\n"
     ]
    }
   ],
   "source": [
    "list1 = [\"김밥\", \"라면\", \"튀김\"]\n",
    "for i in range(len(list1)) :\n",
    "    print(\"오늘의 메뉴: \", list1[i])"
   ]
  },
  {
   "cell_type": "code",
   "execution_count": null,
   "id": "98d80b0f",
   "metadata": {},
   "outputs": [],
   "source": []
  },
  {
   "cell_type": "markdown",
   "id": "c411bb39",
   "metadata": {},
   "source": [
    "#### 143. 리스트에 주식 종목이름이 저장돼 있다.\n",
    "\n",
    "- 리스트 = [\"SK하이닉스\", \"삼성전자\", \"LG전자\"]\n",
    "- 저장된 문자열의 길이를 다음과 같이 출력하라.\n",
    "\n",
    "> 6\n",
    "\n",
    "> 4\n",
    "\n",
    "> 4"
   ]
  },
  {
   "cell_type": "code",
   "execution_count": 71,
   "id": "732c96fa",
   "metadata": {},
   "outputs": [
    {
     "name": "stdout",
     "output_type": "stream",
     "text": [
      "6\n",
      "4\n",
      "4\n"
     ]
    }
   ],
   "source": [
    "list1 = [\"SK하이닉스\", \"삼성전자\", \"LG전자\"]\n",
    "for i in range(3) :\n",
    "    print(len(list1[i]))"
   ]
  },
  {
   "cell_type": "code",
   "execution_count": 73,
   "id": "5711758d",
   "metadata": {},
   "outputs": [
    {
     "name": "stdout",
     "output_type": "stream",
     "text": [
      "6\n",
      "4\n",
      "4\n"
     ]
    }
   ],
   "source": [
    "list1 = [\"SK하이닉스\", \"삼성전자\", \"LG전자\"]\n",
    "for i in list1 :\n",
    "    print(len(i))"
   ]
  },
  {
   "cell_type": "code",
   "execution_count": null,
   "id": "9d4a21b5",
   "metadata": {},
   "outputs": [],
   "source": []
  },
  {
   "cell_type": "markdown",
   "id": "f50e0c17",
   "metadata": {},
   "source": [
    "#### 144. 리스트에는 동물이름이 문자열로 저장돼 있다.\n",
    "\n",
    "- 리스트 = ['dog', 'cat', 'parrot']\n",
    "- 동물 이름과 글자수를 다음과 같이 출력하라.\n",
    "\n",
    "> dog 3\n",
    "\n",
    "> cat 3\n",
    "\n",
    "> parrot 6"
   ]
  },
  {
   "cell_type": "code",
   "execution_count": 77,
   "id": "aea5035d",
   "metadata": {},
   "outputs": [
    {
     "name": "stdout",
     "output_type": "stream",
     "text": [
      "dog 3\n",
      "cat 3\n",
      "parrot 6\n"
     ]
    }
   ],
   "source": [
    "list1 = ['dog', 'cat', 'parrot']\n",
    "for i in range(3) :\n",
    "    print(list1[i], len(list1[i]))"
   ]
  },
  {
   "cell_type": "markdown",
   "id": "6e4066d2",
   "metadata": {},
   "source": [
    "#### 145. 리스트에 동물 이름 저장돼 있다.\n",
    "\n",
    "- 리스트 = ['dog', 'cat', 'parrot']\n",
    "- for문을 사용해서 동물 이름의 첫 글자만 출력하라.\n",
    "\n",
    "> d\n",
    "\n",
    "> c\n",
    "\n",
    "> p"
   ]
  },
  {
   "cell_type": "code",
   "execution_count": 79,
   "id": "87b8f1a9",
   "metadata": {},
   "outputs": [
    {
     "name": "stdout",
     "output_type": "stream",
     "text": [
      "d\n",
      "c\n",
      "p\n"
     ]
    }
   ],
   "source": [
    "list1 = ['dog', 'cat', 'parrot']\n",
    "for i in range(3) :\n",
    "    print(list1[i][:1])"
   ]
  },
  {
   "cell_type": "code",
   "execution_count": 81,
   "id": "ca523455",
   "metadata": {},
   "outputs": [
    {
     "name": "stdout",
     "output_type": "stream",
     "text": [
      "d\n",
      "c\n",
      "p\n"
     ]
    }
   ],
   "source": [
    "list1 = ['dog', 'cat', 'parrot']\n",
    "for i in list1 :\n",
    "    print(i[:1])"
   ]
  },
  {
   "cell_type": "markdown",
   "id": "3cf842fc",
   "metadata": {},
   "source": [
    "#### 146\n",
    "- 리스트에는 세 개의 숫자가 바인딩돼 있다.\n",
    "\n",
    "- 리스트 = [1, 2, 3]\n",
    "- for문을 사용해서 다음과 같이 출력하라.\n",
    "\n",
    "> 3 x 1\n",
    "\n",
    "> 3 x 2\n",
    "\n",
    "> 3 x 3"
   ]
  },
  {
   "cell_type": "code",
   "execution_count": 83,
   "id": "dc96999b",
   "metadata": {},
   "outputs": [
    {
     "name": "stdout",
     "output_type": "stream",
     "text": [
      "3 X 1\n",
      "3 X 2\n",
      "3 X 3\n"
     ]
    }
   ],
   "source": [
    "nums = [1, 2, 3]\n",
    "for i in nums :\n",
    "    print(f\"3 X {i}\")"
   ]
  },
  {
   "cell_type": "code",
   "execution_count": 89,
   "id": "5ac336f2",
   "metadata": {},
   "outputs": [
    {
     "name": "stdout",
     "output_type": "stream",
     "text": [
      "3 X 1\n",
      "3 X 2\n",
      "3 X 3\n"
     ]
    }
   ],
   "source": [
    "nums = [1, 2, 3]\n",
    "for i in nums :\n",
    "    print(\"3 X %d\" %i)"
   ]
  },
  {
   "cell_type": "markdown",
   "id": "4101e8ad",
   "metadata": {},
   "source": [
    "#### 147\n",
    "- 리스트에는 세 개의 숫자가 바인딩돼 있다.\n",
    "\n",
    "- 리스트 = [1, 2, 3]\n",
    "- for문을 사용해서 다음과 같이 출력하라.\n",
    "\n",
    "- 3 x 1 = 3\n",
    "- 3 x 2 = 6\n",
    "- 3 x 3 = 9"
   ]
  },
  {
   "cell_type": "code",
   "execution_count": 91,
   "id": "f88a8a1a",
   "metadata": {},
   "outputs": [
    {
     "name": "stdout",
     "output_type": "stream",
     "text": [
      "3 X 1 = 3\n",
      "3 X 2 = 6\n",
      "3 X 3 = 9\n"
     ]
    }
   ],
   "source": [
    "nums = [1, 2, 3]\n",
    "mul = 0\n",
    "for i in nums :\n",
    "    mul = 3 * i\n",
    "    print(f'3 X {i} = {mul}')"
   ]
  },
  {
   "cell_type": "code",
   "execution_count": 93,
   "id": "2f85887c",
   "metadata": {},
   "outputs": [
    {
     "name": "stdout",
     "output_type": "stream",
     "text": [
      "3 X 1 = 3\n",
      "3 X 2 = 6\n",
      "3 X 3 = 9\n"
     ]
    }
   ],
   "source": [
    "nums = [1, 2, 3]\n",
    "mul = 0\n",
    "for i in range(1, 4) :\n",
    "    mul = 3 * i\n",
    "    print(f'3 X {i} = {mul}')"
   ]
  },
  {
   "cell_type": "code",
   "execution_count": 95,
   "id": "9cecef02",
   "metadata": {},
   "outputs": [
    {
     "name": "stdout",
     "output_type": "stream",
     "text": [
      "3 X 1 = 3\n",
      "3 X 2 = 6\n",
      "3 X 3 = 9\n"
     ]
    }
   ],
   "source": [
    "nums = [1, 2, 3]\n",
    "mul = 0\n",
    "for i in range(1, len(nums) + 1):\n",
    "    mul = 3 * i\n",
    "    print(f'3 X {i} = {mul}')"
   ]
  },
  {
   "cell_type": "markdown",
   "id": "32520706",
   "metadata": {},
   "source": [
    "#### 148. 리스트에는 네 개의 문자열이 바인딩돼 있다.\n",
    "\n",
    "- 리스트 = [\"가\", \"나\", \"다\", \"라\"]\n",
    "- for문을 사용해서 다음과 같이 출력하라.\n",
    "\n",
    "- 나\n",
    "- 다\n",
    "- 라"
   ]
  },
  {
   "cell_type": "code",
   "execution_count": 97,
   "id": "cb10aeb3",
   "metadata": {},
   "outputs": [
    {
     "name": "stdout",
     "output_type": "stream",
     "text": [
      "나\n",
      "다\n",
      "라\n"
     ]
    }
   ],
   "source": [
    "words = [\"가\", \"나\", \"다\", \"라\"]\n",
    "for i in range(1, len(words)) :\n",
    "    print(words[i])"
   ]
  },
  {
   "cell_type": "code",
   "execution_count": 107,
   "id": "d55832a2",
   "metadata": {},
   "outputs": [
    {
     "name": "stdout",
     "output_type": "stream",
     "text": [
      "나\n",
      "다\n",
      "라\n"
     ]
    }
   ],
   "source": [
    "words = [\"가\", \"나\", \"다\", \"라\"]\n",
    "for i in words :\n",
    "    if i != '가' :\n",
    "        print(i)"
   ]
  },
  {
   "cell_type": "code",
   "execution_count": 105,
   "id": "de279594",
   "metadata": {},
   "outputs": [
    {
     "name": "stdout",
     "output_type": "stream",
     "text": [
      "나\n",
      "다\n",
      "라\n"
     ]
    }
   ],
   "source": [
    "words = [\"가\", \"나\", \"다\", \"라\"]\n",
    "for i in range(1, 4) :\n",
    "    print(words[i])"
   ]
  },
  {
   "cell_type": "markdown",
   "id": "17bff52f",
   "metadata": {},
   "source": [
    "#### 149. 리스트에는 네 개의 문자열이 바인딩돼 있다.\n",
    "\n",
    "- 리스트 = [\"가\", \"나\", \"다\", \"라\"]\n",
    "for문을 사용해서 다음과 같이 출력하라.\n",
    "\n",
    "- 가\n",
    "- 다"
   ]
  },
  {
   "cell_type": "code",
   "execution_count": 111,
   "id": "a534f177",
   "metadata": {},
   "outputs": [
    {
     "name": "stdout",
     "output_type": "stream",
     "text": [
      "가\n",
      "다\n"
     ]
    }
   ],
   "source": [
    "words = [\"가\", \"나\", \"다\", \"라\"]\n",
    "for i in range(0, len(words), 2) :\n",
    "    print(words[i])"
   ]
  },
  {
   "cell_type": "markdown",
   "id": "41fc73a9",
   "metadata": {},
   "source": [
    "#### 150. 리스트에는 네 개의 문자열이 바인딩돼 있다.\n",
    "\n",
    "- 리스트 = [\"가\", \"나\", \"다\", \"라\"]\n",
    "- for문을 사용해서 다음과 같이 출력하라.\n",
    "\n",
    "- 라\n",
    "- 다\n",
    "- 나\n",
    "- 가"
   ]
  },
  {
   "cell_type": "code",
   "execution_count": 117,
   "id": "d72651b9",
   "metadata": {},
   "outputs": [
    {
     "name": "stdout",
     "output_type": "stream",
     "text": [
      "라\n",
      "다\n",
      "나\n",
      "가\n"
     ]
    }
   ],
   "source": [
    "words = [\"가\", \"나\", \"다\", \"라\"]\n",
    "for i in range(len(words)) :\n",
    "    words.sort(reverse=True)\n",
    "    print(words[i])"
   ]
  },
  {
   "cell_type": "code",
   "execution_count": 119,
   "id": "d1aa51c4",
   "metadata": {},
   "outputs": [
    {
     "name": "stdout",
     "output_type": "stream",
     "text": [
      "라\n",
      "다\n",
      "나\n",
      "가\n"
     ]
    }
   ],
   "source": [
    "words = [\"가\", \"나\", \"다\", \"라\"]\n",
    "words.sort(reverse=True)\n",
    "for i in words :\n",
    "    print(i)"
   ]
  },
  {
   "cell_type": "markdown",
   "id": "3466b2d2",
   "metadata": {},
   "source": [
    "#### 151. 리스트에는 네 개의 정수가 저장돼 있다.\n",
    "\n",
    "- 리스트 = [3, -20, -3, 44]\n",
    "- for문을 사용해서 리스트의 음수를 출력하라.\n",
    "\n",
    "> 20\n",
    "\n",
    "> 3"
   ]
  },
  {
   "cell_type": "code",
   "execution_count": 121,
   "id": "649e86de",
   "metadata": {},
   "outputs": [
    {
     "name": "stdout",
     "output_type": "stream",
     "text": [
      "20\n",
      "3\n"
     ]
    }
   ],
   "source": [
    "numbers = [3, -20, -3, 44]\n",
    "for i in range(4) :\n",
    "    if numbers[i] < 0 :\n",
    "        print( -1 * numbers[i])"
   ]
  },
  {
   "cell_type": "code",
   "execution_count": 123,
   "id": "055809eb",
   "metadata": {},
   "outputs": [
    {
     "name": "stdout",
     "output_type": "stream",
     "text": [
      "20\n",
      "3\n"
     ]
    }
   ],
   "source": [
    "numbers = [3, -20, -3, 44]\n",
    "for i in numbers :\n",
    "    if i < 0 :\n",
    "        print(-1 * i)"
   ]
  },
  {
   "cell_type": "markdown",
   "id": "d997974a",
   "metadata": {},
   "source": [
    "#### 152. for문을 사용해서 3의 배수만을 출력하라.\n",
    "\n",
    "- 리스트 = [3, 100, 23, 44]\n",
    "> 3"
   ]
  },
  {
   "cell_type": "code",
   "execution_count": 125,
   "id": "1f46485a",
   "metadata": {},
   "outputs": [
    {
     "name": "stdout",
     "output_type": "stream",
     "text": [
      "3\n"
     ]
    }
   ],
   "source": [
    "num = [3, 100, 23, 44]\n",
    "for i in num :\n",
    "    if i % 3 == 0 :\n",
    "        print(i)"
   ]
  },
  {
   "cell_type": "markdown",
   "id": "3128923d",
   "metadata": {},
   "source": [
    "#### 153. 리스트에서 20 보다 작은 3의 배수를 출력하라\n",
    "\n",
    "- 리스트 = [13, 21, 12, 14, 30, 18]\n",
    "\n",
    "> 12\n",
    "\n",
    "> 18"
   ]
  },
  {
   "cell_type": "code",
   "execution_count": 127,
   "id": "b89489e8",
   "metadata": {},
   "outputs": [
    {
     "name": "stdout",
     "output_type": "stream",
     "text": [
      "12\n",
      "18\n"
     ]
    }
   ],
   "source": [
    "nums = [13, 21, 12, 14, 30, 18]\n",
    "for i in nums :\n",
    "    if i < 20 :\n",
    "        if i % 3 == 0:\n",
    "            print(i)"
   ]
  },
  {
   "cell_type": "code",
   "execution_count": 129,
   "id": "7d105ac0",
   "metadata": {},
   "outputs": [
    {
     "name": "stdout",
     "output_type": "stream",
     "text": [
      "12\n",
      "18\n"
     ]
    }
   ],
   "source": [
    "nums = [13, 21, 12, 14, 30, 18]\n",
    "for i in range(len(nums)) :\n",
    "    if nums[i] < 20 :\n",
    "        if nums[i] % 3 == 0:\n",
    "            print(nums[i])"
   ]
  },
  {
   "cell_type": "markdown",
   "id": "89ecd942",
   "metadata": {},
   "source": [
    "#### 154. 리스트에서 세 글자 이상의 문자를 화면에 출력하라\n",
    "\n",
    "- 리스트 = [\"I\", \"study\", \"python\", \"language\", \"!\"]\n",
    "- study\n",
    "- python\n",
    "- language"
   ]
  },
  {
   "cell_type": "code",
   "execution_count": 141,
   "id": "f6963680",
   "metadata": {},
   "outputs": [
    {
     "name": "stdout",
     "output_type": "stream",
     "text": [
      "study\n",
      "python\n",
      "language\n"
     ]
    }
   ],
   "source": [
    "string1 = [\"I\", \"study\", \"python\", \"language\", \"!\"]\n",
    "for i in range(len(string1)) :\n",
    "    if len(string1[i]) >= 3 :\n",
    "        print(string1[i])"
   ]
  },
  {
   "cell_type": "markdown",
   "id": "0ac1fcff",
   "metadata": {},
   "source": [
    "#### 155. 리스트에서 대문자만 화면에 출력하라.\n",
    "\n",
    "- 리스트 = [\"A\", \"b\", \"c\", \"D\"]\n",
    "- A\n",
    "- D\n",
    "- (참고) isupper() 메서드는 대문자 여부를 판별합니다.\n",
    "\n",
    "> 변수 = \"A\"\n",
    "\n",
    "> 변수.isupper()\n",
    "\n",
    "> True\n",
    "\n",
    "> 변수 = \"a\"\n",
    "\n",
    "> 변수.isupper()\n",
    "\n",
    "> False"
   ]
  },
  {
   "cell_type": "code",
   "execution_count": 151,
   "id": "b5492d82",
   "metadata": {},
   "outputs": [
    {
     "name": "stdout",
     "output_type": "stream",
     "text": [
      "A\n",
      "D\n"
     ]
    }
   ],
   "source": [
    "words = [\"A\", \"b\", \"c\", \"D\"]\n",
    "for i in words :\n",
    "    if i.isupper() == True :\n",
    "        print(i)"
   ]
  },
  {
   "cell_type": "markdown",
   "id": "55e9cd50",
   "metadata": {},
   "source": [
    "#### 156. 리스트에서 소문자만 화면에 출력하라.\n",
    "\n",
    "- 리스트 = [\"A\", \"b\", \"c\", \"D\"]\n",
    "- b\n",
    "- c"
   ]
  },
  {
   "cell_type": "code",
   "execution_count": 153,
   "id": "b96e50ed",
   "metadata": {},
   "outputs": [
    {
     "name": "stdout",
     "output_type": "stream",
     "text": [
      "b\n",
      "c\n"
     ]
    }
   ],
   "source": [
    "words = [\"A\", \"b\", \"c\", \"D\"]\n",
    "for i in words :\n",
    "    if i.islower() == True :\n",
    "        print(i)"
   ]
  },
  {
   "cell_type": "code",
   "execution_count": 155,
   "id": "66e23998",
   "metadata": {},
   "outputs": [
    {
     "name": "stdout",
     "output_type": "stream",
     "text": [
      "b\n",
      "c\n"
     ]
    }
   ],
   "source": [
    "words = [\"A\", \"b\", \"c\", \"D\"]\n",
    "for i in range(len(words)) :\n",
    "    if words[i].islower() == True :\n",
    "        print(words[i])"
   ]
  },
  {
   "cell_type": "code",
   "execution_count": null,
   "id": "354116d9",
   "metadata": {},
   "outputs": [],
   "source": []
  },
  {
   "cell_type": "markdown",
   "id": "0a7a6d6b",
   "metadata": {},
   "source": [
    "#### 157. 이름의 첫 글자를 대문자로 변경해서 출력하라.\n",
    "\n",
    "- 리스트 = ['dog', 'cat', 'parrot']\n",
    "- Dog\n",
    "- Cat\n",
    "- Parrot\n",
    "- (참고) upper() 메서드는 문자열을 대문자로 변경합니다.\n",
    "\n",
    "> 변수 = \"a\"\n",
    "\n",
    "> a.upper()\n",
    "\n",
    "> A\n",
    "\n",
    "> 변수 = \"abc\"\n",
    "\n",
    "> 변수.upper()\n",
    "\n",
    "> ABC"
   ]
  },
  {
   "cell_type": "code",
   "execution_count": 165,
   "id": "98030a99",
   "metadata": {},
   "outputs": [
    {
     "name": "stdout",
     "output_type": "stream",
     "text": [
      "Dog\n",
      "Cat\n",
      "Parrot\n"
     ]
    }
   ],
   "source": [
    "animal = ['dog', 'cat', 'parrot']\n",
    "for i in animal :\n",
    "    print(i.capitalize())"
   ]
  },
  {
   "cell_type": "code",
   "execution_count": 167,
   "id": "82029fca",
   "metadata": {},
   "outputs": [
    {
     "name": "stdout",
     "output_type": "stream",
     "text": [
      "Dog\n",
      "Cat\n",
      "Parrot\n"
     ]
    }
   ],
   "source": [
    "animal = ['dog', 'cat', 'parrot']\n",
    "for i in range(len(animal)) :\n",
    "    print(animal[i].capitalize())"
   ]
  },
  {
   "cell_type": "code",
   "execution_count": 169,
   "id": "7821d5e3",
   "metadata": {},
   "outputs": [
    {
     "name": "stdout",
     "output_type": "stream",
     "text": [
      "Dog\n",
      "Cat\n",
      "Parrot\n"
     ]
    }
   ],
   "source": [
    "animal = ['dog', 'cat', 'parrot']\n",
    "for i in range(3) :\n",
    "    print(animal[i].capitalize())"
   ]
  },
  {
   "cell_type": "markdown",
   "id": "9bff28dd",
   "metadata": {},
   "source": [
    "#### 158. 파일 이름이 저장된 리스트에서 확장자를 제거하고 파일 이름만 화면에 출력하라. (힌트: split() 메서드)\n",
    "\n",
    "- 리스트 = ['hello.py', 'ex01.py', 'intro.hwp']\n",
    "- hello\n",
    "- ex01\n",
    "- intro"
   ]
  },
  {
   "cell_type": "code",
   "execution_count": 175,
   "id": "19125588",
   "metadata": {},
   "outputs": [
    {
     "name": "stdout",
     "output_type": "stream",
     "text": [
      "hello\n",
      "ex01\n",
      "intro\n"
     ]
    }
   ],
   "source": [
    "file_name = ['hello.py', 'ex01.py', 'intro.hwp']\n",
    "for i in file_name :\n",
    "    name = i.split('.')[0]\n",
    "    print(name)"
   ]
  },
  {
   "cell_type": "code",
   "execution_count": 177,
   "id": "5cc78e06",
   "metadata": {},
   "outputs": [
    {
     "name": "stdout",
     "output_type": "stream",
     "text": [
      "hello\n",
      "ex01\n",
      "intro\n"
     ]
    }
   ],
   "source": [
    "file_name = ['hello.py', 'ex01.py', 'intro.hwp']\n",
    "for i in range(3) :\n",
    "    name = file_name[i].split('.')[0]\n",
    "    print(name)"
   ]
  },
  {
   "cell_type": "code",
   "execution_count": null,
   "id": "9d3934ac",
   "metadata": {},
   "outputs": [],
   "source": []
  },
  {
   "cell_type": "markdown",
   "id": "5612862e",
   "metadata": {},
   "source": [
    "#### 159. 파일 이름이 저장된 리스트에서 확장자가 .h인 파일 이름을 출력하라.\n",
    "\n",
    "- 리스트 = ['intra.h', 'intra.c', 'define.h', 'run.py']\n",
    "- intra.h\n",
    "- define.h"
   ]
  },
  {
   "cell_type": "code",
   "execution_count": 184,
   "id": "e3b41fd6",
   "metadata": {},
   "outputs": [
    {
     "name": "stdout",
     "output_type": "stream",
     "text": [
      "intra.h\n",
      "define.h\n"
     ]
    }
   ],
   "source": [
    "file_name = ['intra.h', 'intra.c', 'define.h', 'run.py']\n",
    "for i in file_name :\n",
    "    name = i.split('.')[1]\n",
    "    if name == 'h' :\n",
    "        print(i)"
   ]
  },
  {
   "cell_type": "markdown",
   "id": "bf25da9c",
   "metadata": {},
   "source": [
    "#### 160. 파일 이름이 저장된 리스트에서 확장자가 .h나 .c인 파일을 화면에 출력하라.\n",
    "\n",
    "- 리스트 = ['intra.h', 'intra.c', 'define.h', 'run.py']\n",
    "- intra.h\n",
    "- intra.c\n",
    "- define.h"
   ]
  },
  {
   "cell_type": "code",
   "execution_count": 186,
   "id": "7f7ef42f",
   "metadata": {},
   "outputs": [
    {
     "name": "stdout",
     "output_type": "stream",
     "text": [
      "intra.h\n",
      "intra.c\n",
      "define.h\n"
     ]
    }
   ],
   "source": [
    "file_name = ['intra.h', 'intra.c', 'define.h', 'run.py']\n",
    "for i in file_name :\n",
    "    name = i.split('.')[1]\n",
    "    if name == 'h' :\n",
    "        print(i)\n",
    "    elif name == 'c' :\n",
    "        print(i)"
   ]
  },
  {
   "cell_type": "code",
   "execution_count": 190,
   "id": "4f92a126",
   "metadata": {},
   "outputs": [
    {
     "name": "stdout",
     "output_type": "stream",
     "text": [
      "intra.h\n",
      "intra.c\n",
      "define.h\n"
     ]
    }
   ],
   "source": [
    "file_name = ['intra.h', 'intra.c', 'define.h', 'run.py']\n",
    "for i in range(len(file_name)) :\n",
    "    name = file_name[i].split('.')[1]\n",
    "    if name == 'h' :\n",
    "        print(file_name[i])\n",
    "    elif name == 'c' :\n",
    "        print(file_name[i])"
   ]
  },
  {
   "cell_type": "markdown",
   "id": "1aa31940",
   "metadata": {},
   "source": [
    "#### 161. for문과 range 구문을 사용해서 0~99까지 한 라인에 하나씩 순차적으로 출력하는 프로그램을 작성하라."
   ]
  },
  {
   "cell_type": "code",
   "execution_count": 188,
   "id": "c847950a",
   "metadata": {},
   "outputs": [
    {
     "name": "stdout",
     "output_type": "stream",
     "text": [
      "0\n",
      "1\n",
      "2\n",
      "3\n",
      "4\n",
      "5\n",
      "6\n",
      "7\n",
      "8\n",
      "9\n",
      "10\n",
      "11\n",
      "12\n",
      "13\n",
      "14\n",
      "15\n",
      "16\n",
      "17\n",
      "18\n",
      "19\n",
      "20\n",
      "21\n",
      "22\n",
      "23\n",
      "24\n",
      "25\n",
      "26\n",
      "27\n",
      "28\n",
      "29\n",
      "30\n",
      "31\n",
      "32\n",
      "33\n",
      "34\n",
      "35\n",
      "36\n",
      "37\n",
      "38\n",
      "39\n",
      "40\n",
      "41\n",
      "42\n",
      "43\n",
      "44\n",
      "45\n",
      "46\n",
      "47\n",
      "48\n",
      "49\n",
      "50\n",
      "51\n",
      "52\n",
      "53\n",
      "54\n",
      "55\n",
      "56\n",
      "57\n",
      "58\n",
      "59\n",
      "60\n",
      "61\n",
      "62\n",
      "63\n",
      "64\n",
      "65\n",
      "66\n",
      "67\n",
      "68\n",
      "69\n",
      "70\n",
      "71\n",
      "72\n",
      "73\n",
      "74\n",
      "75\n",
      "76\n",
      "77\n",
      "78\n",
      "79\n",
      "80\n",
      "81\n",
      "82\n",
      "83\n",
      "84\n",
      "85\n",
      "86\n",
      "87\n",
      "88\n",
      "89\n",
      "90\n",
      "91\n",
      "92\n",
      "93\n",
      "94\n",
      "95\n",
      "96\n",
      "97\n",
      "98\n",
      "99\n"
     ]
    }
   ],
   "source": [
    "for i in range(100) :\n",
    "    print(i)"
   ]
  },
  {
   "cell_type": "code",
   "execution_count": null,
   "id": "e73655de",
   "metadata": {},
   "outputs": [],
   "source": []
  },
  {
   "cell_type": "code",
   "execution_count": null,
   "id": "6532656d",
   "metadata": {},
   "outputs": [],
   "source": []
  },
  {
   "cell_type": "markdown",
   "id": "cebd33a9",
   "metadata": {},
   "source": [
    "#### 162. 월드컵은 4년에 한 번 개최된다. range()를 사용하여 2002~2050년까지 중 월드컵이 개최되는 연도를 출력하라.\n",
    "\n",
    "- 2002\n",
    "- 2006\n",
    "- 2010\n",
    "- ...\n",
    "- 2042\n",
    "- 2046\n",
    "- 2050\n",
    "- 참고) range의 세번 째 파라미터는 증감폭을 결정합니다.\n",
    "\n",
    "> print(list(range(0, 10, 2)))\n",
    "\n",
    "> [0, 2, 4, 6, 8]"
   ]
  },
  {
   "cell_type": "code",
   "execution_count": 194,
   "id": "c0b232db",
   "metadata": {},
   "outputs": [
    {
     "name": "stdout",
     "output_type": "stream",
     "text": [
      "2002\n",
      "2006\n",
      "2010\n",
      "2014\n",
      "2018\n",
      "2022\n",
      "2026\n",
      "2030\n",
      "2034\n",
      "2038\n",
      "2042\n",
      "2046\n",
      "2050\n"
     ]
    }
   ],
   "source": [
    "for i in range(2002, 2054, 4) :\n",
    "    print(i)"
   ]
  },
  {
   "cell_type": "markdown",
   "id": "748d0002",
   "metadata": {},
   "source": [
    "#### 163. 1부터 30까지의 숫자 중 3의 배수를 출력하라.\n",
    "\n",
    "- 3 \n",
    "- 6 \n",
    "- 9 \n",
    "- 12 \n",
    "- 15 \n",
    "- 18 \n",
    "- 21 \n",
    "- 24 \n",
    "- 27 \n",
    "- 30"
   ]
  },
  {
   "cell_type": "code",
   "execution_count": 198,
   "id": "64696ec6",
   "metadata": {},
   "outputs": [
    {
     "name": "stdout",
     "output_type": "stream",
     "text": [
      "3\n",
      "6\n",
      "9\n",
      "12\n",
      "15\n",
      "18\n",
      "21\n",
      "24\n",
      "27\n",
      "30\n"
     ]
    }
   ],
   "source": [
    "for i in range(1, 31) :\n",
    "    if i % 3 == 0 :\n",
    "        print(i)"
   ]
  },
  {
   "cell_type": "markdown",
   "id": "e667b49d",
   "metadata": {},
   "source": [
    "#### 164. 99부터 0까지 1씩 감소하는 숫자들을, 한 라인에 하나씩 출력하라."
   ]
  },
  {
   "cell_type": "code",
   "execution_count": 202,
   "id": "f9fffc8e",
   "metadata": {},
   "outputs": [
    {
     "name": "stdout",
     "output_type": "stream",
     "text": [
      "99\n",
      "98\n",
      "97\n",
      "96\n",
      "95\n",
      "94\n",
      "93\n",
      "92\n",
      "91\n",
      "90\n",
      "89\n",
      "88\n",
      "87\n",
      "86\n",
      "85\n",
      "84\n",
      "83\n",
      "82\n",
      "81\n",
      "80\n",
      "79\n",
      "78\n",
      "77\n",
      "76\n",
      "75\n",
      "74\n",
      "73\n",
      "72\n",
      "71\n",
      "70\n",
      "69\n",
      "68\n",
      "67\n",
      "66\n",
      "65\n",
      "64\n",
      "63\n",
      "62\n",
      "61\n",
      "60\n",
      "59\n",
      "58\n",
      "57\n",
      "56\n",
      "55\n",
      "54\n",
      "53\n",
      "52\n",
      "51\n",
      "50\n",
      "49\n",
      "48\n",
      "47\n",
      "46\n",
      "45\n",
      "44\n",
      "43\n",
      "42\n",
      "41\n",
      "40\n",
      "39\n",
      "38\n",
      "37\n",
      "36\n",
      "35\n",
      "34\n",
      "33\n",
      "32\n",
      "31\n",
      "30\n",
      "29\n",
      "28\n",
      "27\n",
      "26\n",
      "25\n",
      "24\n",
      "23\n",
      "22\n",
      "21\n",
      "20\n",
      "19\n",
      "18\n",
      "17\n",
      "16\n",
      "15\n",
      "14\n",
      "13\n",
      "12\n",
      "11\n",
      "10\n",
      "9\n",
      "8\n",
      "7\n",
      "6\n",
      "5\n",
      "4\n",
      "3\n",
      "2\n",
      "1\n",
      "0\n"
     ]
    }
   ],
   "source": [
    "for i in range(99, -1, -1) :\n",
    "    print(i)"
   ]
  },
  {
   "cell_type": "markdown",
   "id": "1b5d6c3d",
   "metadata": {},
   "source": [
    "#### 165. for문을 사용해서 아래와 같이 출력하라.\n",
    "\n",
    "- 0.0\n",
    "- 0.1\n",
    "- 0.2\n",
    "- 0.3\n",
    "- 0.4\n",
    "- 0.5\n",
    "- ...\n",
    "- 0.9"
   ]
  },
  {
   "cell_type": "code",
   "execution_count": 206,
   "id": "e98653f0",
   "metadata": {},
   "outputs": [
    {
     "name": "stdout",
     "output_type": "stream",
     "text": [
      "0.0\n",
      "0.1\n",
      "0.2\n",
      "0.3\n",
      "0.4\n",
      "0.5\n",
      "0.6\n",
      "0.7\n",
      "0.8\n",
      "0.9\n"
     ]
    }
   ],
   "source": [
    "for i in range(10) :\n",
    "    print(f'0.{i}')"
   ]
  },
  {
   "cell_type": "markdown",
   "id": "c04f2f1e",
   "metadata": {},
   "source": [
    "#### 166. 구구단 3단을 출력하라.\n",
    "\n",
    "- 3x1 = 3\n",
    "- 3x2 = 6\n",
    "- 3x3 = 9\n",
    "- 3x4 = 12\n",
    "- 3x5 = 15\n",
    "- 3x6 = 18\n",
    "- 3x7 = 21\n",
    "- 3x8 = 24\n",
    "- 3x9 = 27"
   ]
  },
  {
   "cell_type": "code",
   "execution_count": 208,
   "id": "2d7b8626",
   "metadata": {},
   "outputs": [
    {
     "name": "stdout",
     "output_type": "stream",
     "text": [
      "3X1 = 3\n",
      "3X2 = 6\n",
      "3X3 = 9\n",
      "3X4 = 12\n",
      "3X5 = 15\n",
      "3X6 = 18\n",
      "3X7 = 21\n",
      "3X8 = 24\n",
      "3X9 = 27\n"
     ]
    }
   ],
   "source": [
    "for i in range(1, 10) :\n",
    "    mul = 3 * i\n",
    "    print(f'3X{i} = {mul}')"
   ]
  },
  {
   "cell_type": "markdown",
   "id": "224672b1",
   "metadata": {},
   "source": [
    "#### 167. 구구단 3단을 출력하라. 단 홀수 번째만 출력한다.\n",
    "\n",
    "- 3x1 = 3\n",
    "- 3x3 = 9\n",
    "- 3x5 = 15\n",
    "- 3x7 = 21\n",
    "- 3x9 = 27"
   ]
  },
  {
   "cell_type": "code",
   "execution_count": 210,
   "id": "18021e55",
   "metadata": {},
   "outputs": [
    {
     "name": "stdout",
     "output_type": "stream",
     "text": [
      "3X1 = 3\n",
      "3X3 = 9\n",
      "3X5 = 15\n",
      "3X7 = 21\n",
      "3X9 = 27\n"
     ]
    }
   ],
   "source": [
    "for i in range(1, 10) :\n",
    "    mul = 3 * i\n",
    "    if i % 2 == 1 :\n",
    "        print(f'3X{i} = {mul}')"
   ]
  },
  {
   "cell_type": "code",
   "execution_count": 212,
   "id": "933f6783",
   "metadata": {},
   "outputs": [
    {
     "name": "stdout",
     "output_type": "stream",
     "text": [
      "3X1 = 3\n",
      "3X3 = 9\n",
      "3X5 = 15\n",
      "3X7 = 21\n",
      "3X9 = 27\n"
     ]
    }
   ],
   "source": [
    "for i in range(1, 10, 2) :\n",
    "    mul = 3 * i\n",
    "    print(f'3X{i} = {mul}')"
   ]
  },
  {
   "cell_type": "markdown",
   "id": "1749a819",
   "metadata": {},
   "source": [
    "#### 168. 1~10까지의 숫자에 대해 모두 더한 값을 출력하는 프로그램을 for 문을 사용하여 작성하라.\n",
    "\n",
    "- 합 : 55"
   ]
  },
  {
   "cell_type": "code",
   "execution_count": 214,
   "id": "162c8cac",
   "metadata": {},
   "outputs": [
    {
     "name": "stdout",
     "output_type": "stream",
     "text": [
      "55\n"
     ]
    }
   ],
   "source": [
    "sum = 0\n",
    "for i in range(11) :\n",
    "    sum += i\n",
    "print(sum)"
   ]
  },
  {
   "cell_type": "code",
   "execution_count": 216,
   "id": "1c8ca3da",
   "metadata": {},
   "outputs": [
    {
     "name": "stdout",
     "output_type": "stream",
     "text": [
      "55\n"
     ]
    }
   ],
   "source": [
    "sum = 0\n",
    "for i in range(1, 11) :\n",
    "    sum += i\n",
    "print(sum)"
   ]
  },
  {
   "cell_type": "markdown",
   "id": "871bece9",
   "metadata": {},
   "source": [
    "#### 169. 1~10까지의 숫자 중 모든 홀수의 합을 출력하는 프로그램을 for 문을 사용하여 작성하라.\n",
    "\n",
    "- 합: 25"
   ]
  },
  {
   "cell_type": "code",
   "execution_count": 218,
   "id": "37f676b7",
   "metadata": {},
   "outputs": [
    {
     "name": "stdout",
     "output_type": "stream",
     "text": [
      "25\n"
     ]
    }
   ],
   "source": [
    "odd_sum = 0\n",
    "for i in range(1, 11, 2) :\n",
    "    odd_sum += i\n",
    "print(odd_sum)"
   ]
  },
  {
   "cell_type": "markdown",
   "id": "afa2521d",
   "metadata": {},
   "source": [
    "#### 170. 1~10까지의 숫자를 모두 곱한 값을 출력하는 프로그램을 for 문을 사용하여 작성하라."
   ]
  },
  {
   "cell_type": "code",
   "execution_count": 220,
   "id": "fae8f4f9",
   "metadata": {},
   "outputs": [
    {
     "name": "stdout",
     "output_type": "stream",
     "text": [
      "1\n",
      "2\n",
      "6\n",
      "24\n",
      "120\n",
      "720\n",
      "5040\n",
      "40320\n",
      "362880\n",
      "3628800\n"
     ]
    }
   ],
   "source": [
    "mul = 1\n",
    "for i in range(1, 11) :\n",
    "    mul *= i\n",
    "    print(mul)"
   ]
  },
  {
   "cell_type": "markdown",
   "id": "e02bd495",
   "metadata": {},
   "source": [
    "#### 171. 아래와 같이 리스트의 데이터를 출력하라. 단, for문과 range문을 사용하라.\n",
    "\n",
    "- price_list = [32100, 32150, 32000, 32500]\n",
    "- 32100\n",
    "- 32150\n",
    "- 32000\n",
    "- 32500"
   ]
  },
  {
   "cell_type": "code",
   "execution_count": 222,
   "id": "c90d6bc9",
   "metadata": {},
   "outputs": [
    {
     "name": "stdout",
     "output_type": "stream",
     "text": [
      "32100\n",
      "32150\n",
      "32000\n",
      "32500\n"
     ]
    }
   ],
   "source": [
    "price_list = [32100, 32150, 32000, 32500]\n",
    "for i in range(len(price_list)) :\n",
    "    print(price_list[i])"
   ]
  },
  {
   "cell_type": "code",
   "execution_count": 224,
   "id": "5f3bde57",
   "metadata": {},
   "outputs": [
    {
     "name": "stdout",
     "output_type": "stream",
     "text": [
      "32100\n",
      "32150\n",
      "32000\n",
      "32500\n"
     ]
    }
   ],
   "source": [
    "price_list = [32100, 32150, 32000, 32500]\n",
    "for i in range(4) :\n",
    "    print(price_list[i])"
   ]
  },
  {
   "cell_type": "markdown",
   "id": "2197e88f",
   "metadata": {},
   "source": [
    "#### 172. 아래와 같이 리스트의 데이터를 출력하라. 단, for문과 range문을 사용하라.\n",
    "\n",
    "- price_list = [32100, 32150, 32000, 32500]\n",
    "- 0 32100\n",
    "- 1 32150\n",
    "- 2 32000\n",
    "- 3 32500"
   ]
  },
  {
   "cell_type": "code",
   "execution_count": 226,
   "id": "b638072d",
   "metadata": {},
   "outputs": [
    {
     "name": "stdout",
     "output_type": "stream",
     "text": [
      "0 32100\n",
      "1 32150\n",
      "2 32000\n",
      "3 32500\n"
     ]
    }
   ],
   "source": [
    "price_list = [32100, 32150, 32000, 32500]\n",
    "for i in range(4) :\n",
    "    print(i, price_list[i])"
   ]
  },
  {
   "cell_type": "markdown",
   "id": "5713c921",
   "metadata": {},
   "source": [
    "#### 173. 아래와 같이 리스트의 데이터를 출력하라. 단, for문과 range문을 사용하라.\n",
    "\n",
    "- price_list = [32100, 32150, 32000, 32500]\n",
    "- 3 32100\n",
    "- 2 32150\n",
    "- 1 32000\n",
    "- 0 32500"
   ]
  },
  {
   "cell_type": "code",
   "execution_count": 234,
   "id": "d06ab794",
   "metadata": {},
   "outputs": [
    {
     "name": "stdout",
     "output_type": "stream",
     "text": [
      "3 32100\n",
      "2 32150\n",
      "1 32000\n",
      "0 32500\n"
     ]
    }
   ],
   "source": [
    "price_list = [32100, 32150, 32000, 32500]\n",
    "for i in range(3, -1, -1) :\n",
    "    print(i, price_list[3-i])"
   ]
  },
  {
   "cell_type": "code",
   "execution_count": 240,
   "id": "4a285e59",
   "metadata": {},
   "outputs": [
    {
     "name": "stdout",
     "output_type": "stream",
     "text": [
      "3 32100\n",
      "2 32150\n",
      "1 32000\n",
      "0 32500\n"
     ]
    }
   ],
   "source": [
    "price_list = [32100, 32150, 32000, 32500]\n",
    "for i in range(4) :\n",
    "    print(3-i, price_list[i])"
   ]
  },
  {
   "cell_type": "markdown",
   "id": "40721405",
   "metadata": {},
   "source": [
    "#### 174. 아래와 같이 리스트의 데이터를 출력하라. 단, for문과 range문을 사용하라.\n",
    "\n",
    "- price_list = [32100, 32150, 32000, 32500]\n",
    "- 100 32150\n",
    "- 110 32000\n",
    "- 120 32500"
   ]
  },
  {
   "cell_type": "code",
   "execution_count": 242,
   "id": "cc03f4f1",
   "metadata": {},
   "outputs": [
    {
     "name": "stdout",
     "output_type": "stream",
     "text": [
      "100 32150\n",
      "110 32000\n",
      "120 32500\n"
     ]
    }
   ],
   "source": [
    "price_list = [32100, 32150, 32000, 32500]\n",
    "for i in range(1, 4) :\n",
    "    print(100 + (i-1) * 10, price_list[i])"
   ]
  },
  {
   "cell_type": "markdown",
   "id": "1fc673a2",
   "metadata": {},
   "source": [
    "#### 175. my_list를 아래와 같이 출력하라.\n",
    "\n",
    "- my_list = [\"가\", \"나\", \"다\", \"라\"]\n",
    "- 가 나\n",
    "- 나 다\n",
    "- 다 라"
   ]
  },
  {
   "cell_type": "code",
   "execution_count": 250,
   "id": "ef0bb735",
   "metadata": {},
   "outputs": [
    {
     "name": "stdout",
     "output_type": "stream",
     "text": [
      "가 나\n",
      "나 다\n",
      "다 라\n"
     ]
    }
   ],
   "source": [
    "my_list = [\"가\", \"나\", \"다\", \"라\"]\n",
    "for i in range(3) :\n",
    "    print(my_list[i], my_list[i+1])"
   ]
  },
  {
   "cell_type": "code",
   "execution_count": 258,
   "id": "b3716aa3",
   "metadata": {},
   "outputs": [
    {
     "name": "stdout",
     "output_type": "stream",
     "text": [
      "['가', '나']\n",
      "['나', '다']\n",
      "['다', '라']\n"
     ]
    }
   ],
   "source": [
    "my_list = [\"가\", \"나\", \"다\", \"라\"]\n",
    "for i in range(3) :\n",
    "    print(my_list[i:i+2])"
   ]
  },
  {
   "cell_type": "code",
   "execution_count": null,
   "id": "796bbd0e",
   "metadata": {},
   "outputs": [],
   "source": []
  },
  {
   "cell_type": "code",
   "execution_count": null,
   "id": "e09aaac7",
   "metadata": {},
   "outputs": [],
   "source": []
  },
  {
   "cell_type": "code",
   "execution_count": null,
   "id": "a88b02d4",
   "metadata": {},
   "outputs": [],
   "source": []
  },
  {
   "cell_type": "markdown",
   "id": "7f301e43",
   "metadata": {},
   "source": [
    "#### 176. 리스트를 아래와 같이 출력하라.\n",
    "\n",
    "- my_list = [\"가\", \"나\", \"다\", \"라\", \"마\"]\n",
    "- 가 나 다\n",
    "- 나 다 라\n",
    "- 다 라 마"
   ]
  },
  {
   "cell_type": "code",
   "execution_count": 252,
   "id": "e6aa9a67",
   "metadata": {},
   "outputs": [
    {
     "name": "stdout",
     "output_type": "stream",
     "text": [
      "가 나 다\n",
      "나 다 라\n",
      "다 라 마\n"
     ]
    }
   ],
   "source": [
    "my_list = [\"가\", \"나\", \"다\", \"라\", \"마\"]\n",
    "for i in range(3) :\n",
    "    print(my_list[i], my_list[i+1], my_list[i+2])"
   ]
  },
  {
   "cell_type": "code",
   "execution_count": 260,
   "id": "1f6da68a",
   "metadata": {},
   "outputs": [
    {
     "name": "stdout",
     "output_type": "stream",
     "text": [
      "['가', '나', '다']\n",
      "['나', '다', '라']\n",
      "['다', '라', '마']\n"
     ]
    }
   ],
   "source": [
    "my_list = [\"가\", \"나\", \"다\", \"라\", \"마\"]\n",
    "for i in range(3) :\n",
    "    print(my_list[i:i+3])"
   ]
  },
  {
   "cell_type": "code",
   "execution_count": null,
   "id": "ff786d2c",
   "metadata": {},
   "outputs": [],
   "source": []
  },
  {
   "cell_type": "code",
   "execution_count": null,
   "id": "1d6f6319",
   "metadata": {},
   "outputs": [],
   "source": []
  },
  {
   "cell_type": "code",
   "execution_count": null,
   "id": "f6ae73a0",
   "metadata": {},
   "outputs": [],
   "source": []
  },
  {
   "cell_type": "markdown",
   "id": "26940800",
   "metadata": {},
   "source": [
    "#### 177. 복문과 range 함수를 사용해서 my_list를 아래와 같이 출력하라.\n",
    "\n",
    "- my_list = [\"가\", \"나\", \"다\", \"라\"]\n",
    "- 라 다\n",
    "- 다 나\n",
    "- 나 가"
   ]
  },
  {
   "cell_type": "code",
   "execution_count": 269,
   "id": "eadc51c6",
   "metadata": {},
   "outputs": [
    {
     "name": "stdout",
     "output_type": "stream",
     "text": [
      "라 다\n",
      "다 나\n",
      "나 가\n"
     ]
    }
   ],
   "source": [
    "my_list = [\"가\", \"나\", \"다\", \"라\"]\n",
    "for i in range(3) :\n",
    "    print(my_list[3-i], my_list[2-i])"
   ]
  },
  {
   "cell_type": "code",
   "execution_count": null,
   "id": "f70f9e59",
   "metadata": {},
   "outputs": [],
   "source": []
  },
  {
   "cell_type": "code",
   "execution_count": null,
   "id": "79230b4d",
   "metadata": {},
   "outputs": [],
   "source": []
  },
  {
   "cell_type": "code",
   "execution_count": null,
   "id": "67ff0a14",
   "metadata": {},
   "outputs": [],
   "source": []
  },
  {
   "cell_type": "code",
   "execution_count": null,
   "id": "e58f6216",
   "metadata": {},
   "outputs": [],
   "source": []
  },
  {
   "cell_type": "code",
   "execution_count": null,
   "id": "1c1a2df2",
   "metadata": {},
   "outputs": [],
   "source": []
  },
  {
   "cell_type": "markdown",
   "id": "81013de2",
   "metadata": {},
   "source": [
    "#### 178. 리스트에는 네 개의 정수가 저장되어 있다. 각각의 데이터에 대해서 자신과 우측값과의 차분값을 화면에 출력하라.\n",
    "\n",
    "- my_list = [100, 200, 400, 800]\n",
    "- 예를들어 100을 기준으로 우측에 위치한 200과의 차분 값를 화면에 출력하고, 200을 기준으로 우측에 위치한 400과의 차분값을 화면에 출력한다. 이어서 400을 기준으로 우측에 위치한 800과의 차분값을 화면에 출력한다.\n",
    "\n",
    "- 100\n",
    "- 200\n",
    "- 400"
   ]
  },
  {
   "cell_type": "code",
   "execution_count": 300,
   "id": "ccdaa311",
   "metadata": {},
   "outputs": [
    {
     "name": "stdout",
     "output_type": "stream",
     "text": [
      "100\n",
      "200\n",
      "400\n"
     ]
    }
   ],
   "source": [
    "my_list = [100, 200, 400, 800]\n",
    "for i in range(3) :\n",
    "    print(my_list[i+1] - my_list[i])"
   ]
  },
  {
   "cell_type": "code",
   "execution_count": 306,
   "id": "bacbad5a",
   "metadata": {},
   "outputs": [
    {
     "name": "stdout",
     "output_type": "stream",
     "text": [
      "100\n",
      "200\n",
      "400\n"
     ]
    }
   ],
   "source": [
    "my_list = [100, 200, 400, 800]\n",
    "for i in range(3) :\n",
    "    print(my_list[-3+i] - my_list[-4+i])"
   ]
  },
  {
   "cell_type": "code",
   "execution_count": null,
   "id": "e84d4341",
   "metadata": {},
   "outputs": [],
   "source": []
  },
  {
   "cell_type": "markdown",
   "id": "1cb3d280",
   "metadata": {},
   "source": [
    "#### 179. 리스트에는 6일 간의 종가 데이터가 저장되어 있다. 종가 데이터의 3일 이동 평균을 계산하고 이를 화면에 출력하라.\n",
    "\n",
    "- my_list = [100, 200, 400, 800, 1000, 1300]\n",
    "- 첫 번째 줄에는 100, 200, 400의 평균값이 출력된다. 두 번째 줄에는 200, 400, 800의 평균값이 출력된다. 같은 방식으로 나머지 데이터의 평균을 출력한다.\n",
    "\n",
    "- 233.33333333333334\n",
    "- 466.6666666666667\n",
    "- 733.3333333333334\n",
    "- 1033.3333333333333"
   ]
  },
  {
   "cell_type": "code",
   "execution_count": 318,
   "id": "803a1bdc",
   "metadata": {},
   "outputs": [
    {
     "name": "stdout",
     "output_type": "stream",
     "text": [
      "233.33333333333334\n",
      "466.6666666666667\n",
      "733.3333333333334\n",
      "1033.3333333333333\n"
     ]
    }
   ],
   "source": [
    "my_list = [100, 200, 400, 800, 1000, 1300]\n",
    "for i in range(4) :\n",
    "    sum = my_list[i] + my_list[i+1] + my_list[i+2]\n",
    "    avg = sum / 3\n",
    "    print(avg)"
   ]
  },
  {
   "cell_type": "code",
   "execution_count": 322,
   "id": "42bf30a4",
   "metadata": {},
   "outputs": [
    {
     "name": "stdout",
     "output_type": "stream",
     "text": [
      "1033.3333333333333\n",
      "733.3333333333334\n",
      "466.6666666666667\n",
      "233.33333333333334\n"
     ]
    }
   ],
   "source": [
    "my_list = [100, 200, 400, 800, 1000, 1300]\n",
    "for i in range(4) :\n",
    "    sum = my_list[5-i] + my_list[4-i] + my_list[3-i]\n",
    "    avg = sum / 3\n",
    "    print(avg)"
   ]
  },
  {
   "cell_type": "code",
   "execution_count": null,
   "id": "cf75e6db",
   "metadata": {},
   "outputs": [],
   "source": []
  },
  {
   "cell_type": "markdown",
   "id": "1f897e74",
   "metadata": {},
   "source": [
    "#### 180. 리스트에 5일간의 저가, 고가 정보가 저장돼 있다. 고가와 저가의 차를 변동폭이라고 정의할 때, low, high 두 개의 리스트를 사용해서 5일간의 변동폭을 volatility 리스트에 저장하라.\n",
    "\n",
    "- low_prices  = [100, 200, 400, 800, 1000]\n",
    "- high_prices = [150, 300, 430, 880, 1000]"
   ]
  },
  {
   "cell_type": "code",
   "execution_count": 324,
   "id": "b62fb738",
   "metadata": {},
   "outputs": [
    {
     "name": "stdout",
     "output_type": "stream",
     "text": [
      "[50, 100, 30, 80, 0]\n"
     ]
    }
   ],
   "source": [
    "low_prices = [100, 200, 400, 800, 1000]\n",
    "high_prices = [150, 300, 430, 880, 1000]\n",
    "volatility = []\n",
    "\n",
    "for i in range(len(low_prices)) :\n",
    "    volatility.append(high_prices[i] - low_prices[i])\n",
    "print(volatility)"
   ]
  },
  {
   "cell_type": "markdown",
   "id": "169d15f1",
   "metadata": {},
   "source": [
    "#### 181. 아래 표에서 하나의 행을 하나의 리스트로, 총 3개의 리스트를 갖는 이차원 리스트 apart를 정의하라.\n",
    "\n",
    "- 101호 |\t102호\n",
    "- 201호 |\t202호\n",
    "- 301호 |\t302호"
   ]
  },
  {
   "cell_type": "code",
   "execution_count": 328,
   "id": "662fb84e",
   "metadata": {},
   "outputs": [
    {
     "name": "stdout",
     "output_type": "stream",
     "text": [
      "[['101호', '102호'], ['201호', '202호'], ['301호', '302호']]\n"
     ]
    }
   ],
   "source": [
    "apart1 = ['101호', '102호']\n",
    "apart2 = ['201호', '202호']\n",
    "apart3 = ['301호', '302호']\n",
    "apart = [apart1, apart2, apart3]\n",
    "print(apart)"
   ]
  },
  {
   "cell_type": "markdown",
   "id": "7f0000bf",
   "metadata": {},
   "source": [
    "#### 182. 아래 표에서 하나의 열을 하나의 리스트로, 총 2개의 리스트를 갖는 이차원 리스트 stock을 정의하라.\n",
    "\n",
    "- 시가\t종가\n",
    "- 100\t80\n",
    "- 200\t210\n",
    "- 300\t330"
   ]
  },
  {
   "cell_type": "code",
   "execution_count": 330,
   "id": "fe0d2a57",
   "metadata": {},
   "outputs": [
    {
     "name": "stdout",
     "output_type": "stream",
     "text": [
      "[[100, 80], [200, 210], [300, 330]]\n"
     ]
    }
   ],
   "source": [
    "stock1 = [100, 80]\n",
    "stock2 = [200, 210]\n",
    "stock3 = [300, 330]\n",
    "stock = [stock1, stock2, stock3]\n",
    "print(stock)"
   ]
  },
  {
   "cell_type": "markdown",
   "id": "f5a295d6",
   "metadata": {},
   "source": [
    "#### 183. 아래 표를 stock 이름의 딕셔너리로 표현하라.시가를 key로 저장하고, 나머지 같은 열의 데이터를 리스트로 저장해서 value로 저장한다. 종가 역시 key로 저장하고 나머지 같은 열의 데이터를 리스트로 저장해서 value로 저장한다.\n",
    "\n",
    "- 시가\t종가\n",
    "- 100\t80\n",
    "- 200\t210\n",
    "- 300\t330"
   ]
  },
  {
   "cell_type": "code",
   "execution_count": 334,
   "id": "411af977",
   "metadata": {},
   "outputs": [
    {
     "name": "stdout",
     "output_type": "stream",
     "text": [
      "{'시가': [100, 200, 300], '종가': [80, 210, 330]}\n"
     ]
    }
   ],
   "source": [
    "stock = {'시가' : [100, 200, 300], '종가' : [80, 210, 330] }\n",
    "print(stock)"
   ]
  },
  {
   "cell_type": "markdown",
   "id": "b2161b30",
   "metadata": {},
   "source": [
    "#### 184. 아래 표를 stock 이라는 이름의 딕셔너리로 표현하라. 날짜를 key로 저장하고, 나머지 같은 행의 데이터를 리스트로 저장해서 value로 저장한다. 첫 열이 날짜이다.\n",
    "\n",
    "- 10/10\t80\t110\t70\t90\n",
    "- 10/11\t210\t230\t190\t200"
   ]
  },
  {
   "cell_type": "code",
   "execution_count": 336,
   "id": "f7241bed",
   "metadata": {},
   "outputs": [
    {
     "name": "stdout",
     "output_type": "stream",
     "text": [
      "{'10/10': [80, 110, 70, 90], '10/11': [210, 230, 190, 200]}\n"
     ]
    }
   ],
   "source": [
    "stock = {'10/10' : [80, 110, 70, 90], '10/11':[210, 230, 190, 200]}\n",
    "print(stock)"
   ]
  },
  {
   "cell_type": "markdown",
   "id": "9a9134f3",
   "metadata": {},
   "source": [
    "#### 185. 리스트에 저장된 데이터를 아래와 같이 출력하라.\n",
    "\n",
    "- apart = [ [101, 102], [201, 202], [301, 302] ]\n",
    "- 101 호\n",
    "- 102 호\n",
    "- 201 호\n",
    "- 202 호\n",
    "- 301 호\n",
    "- 302 호"
   ]
  },
  {
   "cell_type": "code",
   "execution_count": 342,
   "id": "5f20e71f",
   "metadata": {},
   "outputs": [
    {
     "name": "stdout",
     "output_type": "stream",
     "text": [
      "101호\n",
      "102호\n",
      "201호\n",
      "202호\n",
      "301호\n",
      "302호\n"
     ]
    }
   ],
   "source": [
    "for i in range(3) :\n",
    "    for j in range(2) :\n",
    "        print(apart[i][j])"
   ]
  },
  {
   "cell_type": "markdown",
   "id": "5319e3ac",
   "metadata": {},
   "source": [
    "#### 186. 리스트에 저장된 데이터를 아래와 같이 출력하라.\n",
    "\n",
    "- apart = [ [101, 102], [201, 202], [301, 302] ]\n",
    "- 301 호\n",
    "- 302 호\n",
    "- 201 호\n",
    "- 202 호\n",
    "- 101 호\n",
    "- 102 호"
   ]
  },
  {
   "cell_type": "code",
   "execution_count": 346,
   "id": "2e8ba2f4",
   "metadata": {},
   "outputs": [
    {
     "name": "stdout",
     "output_type": "stream",
     "text": [
      "301호\n",
      "302호\n",
      "201호\n",
      "202호\n",
      "101호\n",
      "102호\n"
     ]
    }
   ],
   "source": [
    "for i in range(3) :\n",
    "    for j in range(2) :\n",
    "        print(apart[2-i][j])"
   ]
  },
  {
   "cell_type": "markdown",
   "id": "af928ed3",
   "metadata": {},
   "source": [
    "#### 187. 리스트에 저장된 데이터를 아래와 같이 출력하라.\n",
    "\n",
    "- apart = [ [101, 102], [201, 202], [301, 302] ]\n",
    "- 302 호\n",
    "- 301 호\n",
    "- 202 호\n",
    "- 201 호\n",
    "- 102 호\n",
    "- 101 호"
   ]
  },
  {
   "cell_type": "code",
   "execution_count": 348,
   "id": "76e2a383",
   "metadata": {},
   "outputs": [
    {
     "name": "stdout",
     "output_type": "stream",
     "text": [
      "302호\n",
      "301호\n",
      "202호\n",
      "201호\n",
      "102호\n",
      "101호\n"
     ]
    }
   ],
   "source": [
    "for i in range(3) :\n",
    "    for j in range(2) :\n",
    "        print(apart[2-i][1-j])"
   ]
  },
  {
   "cell_type": "markdown",
   "id": "1a507329",
   "metadata": {},
   "source": [
    "#### 188. 리스트에 저장된 데이터를 아래와 같이 출력하라.\n",
    "\n",
    "- apart = [ [101, 102], [201, 202], [301, 302] ]\n",
    "- 101 호\n",
    "- -----\n",
    "- 102 호\n",
    "- -----\n",
    "- 201 호\n",
    "- -----\n",
    "- 202 호\n",
    "- -----\n",
    "- 301 호\n",
    "- -----\n",
    "- 302 호\n",
    "- -----"
   ]
  },
  {
   "cell_type": "code",
   "execution_count": 350,
   "id": "58f92f6b",
   "metadata": {},
   "outputs": [
    {
     "name": "stdout",
     "output_type": "stream",
     "text": [
      "101호\n",
      "-----\n",
      "102호\n",
      "-----\n",
      "201호\n",
      "-----\n",
      "202호\n",
      "-----\n",
      "301호\n",
      "-----\n",
      "302호\n",
      "-----\n"
     ]
    }
   ],
   "source": [
    "for i in range(3) :\n",
    "    for j in range(2) :\n",
    "        print(apart[i][j])\n",
    "        print('-----')"
   ]
  },
  {
   "cell_type": "markdown",
   "id": "33b97b65",
   "metadata": {},
   "source": [
    "#### 189. 리스트에 저장된 데이터를 아래와 같이 출력하라.\n",
    "\n",
    "- apart = [ [101, 102], [201, 202], [301, 302] ]\n",
    "- 101 호\n",
    "- 102 호\n",
    "- -----\n",
    "- 201 호\n",
    "- 202 호\n",
    "- -----\n",
    "- 301 호\n",
    "- 302 호\n",
    "- -----"
   ]
  },
  {
   "cell_type": "code",
   "execution_count": 352,
   "id": "db4128f5",
   "metadata": {},
   "outputs": [
    {
     "name": "stdout",
     "output_type": "stream",
     "text": [
      "101호\n",
      "102호\n",
      "-----\n",
      "201호\n",
      "202호\n",
      "-----\n",
      "301호\n",
      "302호\n",
      "-----\n"
     ]
    }
   ],
   "source": [
    "for i in range(3) :\n",
    "    for j in range(2) :\n",
    "        print(apart[i][j])\n",
    "    print('-----')"
   ]
  },
  {
   "cell_type": "markdown",
   "id": "792ddcf0",
   "metadata": {},
   "source": [
    "#### 190. 리스트에 저장된 데이터를 아래와 같이 출력하라.\n",
    "\n",
    "- apart = [ [101, 102], [201, 202], [301, 302] ]\n",
    "- 101 호\n",
    "- 102 호\n",
    "- 201 호\n",
    "- 202 호\n",
    "- 301 호\n",
    "- 302 호\n",
    "- -----"
   ]
  },
  {
   "cell_type": "code",
   "execution_count": 354,
   "id": "e9454246",
   "metadata": {},
   "outputs": [
    {
     "name": "stdout",
     "output_type": "stream",
     "text": [
      "101호\n",
      "102호\n",
      "201호\n",
      "202호\n",
      "301호\n",
      "302호\n",
      "-----\n"
     ]
    }
   ],
   "source": [
    "for i in range(3) :\n",
    "    for j in range(2) :\n",
    "        print(apart[i][j])\n",
    "print('-----')"
   ]
  },
  {
   "cell_type": "markdown",
   "id": "d13728e8",
   "metadata": {},
   "source": [
    "#### 191. data에는 매수한 종목들의 OHLC (open/high/low/close) 가격 정보가 바인딩 되어있다.\n",
    "\n",
    "data = [\n",
    "    [ 2000,  3050,  2050,  1980],\n",
    "    [ 7500,  2050,  2050,  1980],\n",
    "    [15450, 15050, 15550, 14900]\n",
    "]\n",
    "#### 수수료를 0.014 %로 가정할 때, 각 가격에 수수료를 포함한 가격을 한라인에 하나씩 출력하라.\n",
    "\n",
    "- 2000.28\n",
    "- 3050.427\n",
    "- 2050.2870000000003\n",
    "- ..."
   ]
  },
  {
   "cell_type": "code",
   "execution_count": 360,
   "id": "013ee1e4",
   "metadata": {},
   "outputs": [
    {
     "name": "stdout",
     "output_type": "stream",
     "text": [
      "2000.28\n",
      "3050.427\n",
      "2050.287\n",
      "1980.2772\n",
      "7501.05\n",
      "2050.287\n",
      "2050.287\n",
      "1980.2772\n",
      "15452.163\n",
      "15052.107\n",
      "15552.177\n",
      "14902.086\n"
     ]
    }
   ],
   "source": [
    "data = [ [ 2000, 3050, 2050, 1980], [ 7500, 2050, 2050, 1980], [15450, 15050, 15550, 14900] ]\n",
    "for i in range(3) :\n",
    "    for j in range(4) :\n",
    "        su = (data[i][j] * 0.014 / 100)\n",
    "        print(data[i][j] + su)"
   ]
  },
  {
   "cell_type": "markdown",
   "id": "dd638bd5",
   "metadata": {},
   "source": [
    "#### 192. 191번의 출력 결과에 행단위로 \"----\" 구분자를 추가하라.\n",
    "\n",
    "- 2000.28\n",
    "- 3050.427\n",
    "- 2050.2870000000003\n",
    "- 1980.2772\n",
    "- ----\n",
    "- 7501.05\n",
    "- 2050.2870000000003\n",
    "- 2050.2870000000003\n",
    "- 1980.2772\n",
    "- ----\n",
    "- 15452.163\n",
    "- 15052.107\n",
    "- 15552.177\n",
    "- 14902.086000000001\n",
    "- ----"
   ]
  },
  {
   "cell_type": "code",
   "execution_count": 362,
   "id": "d998d2c1",
   "metadata": {},
   "outputs": [
    {
     "name": "stdout",
     "output_type": "stream",
     "text": [
      "2000.28\n",
      "3050.427\n",
      "2050.287\n",
      "1980.2772\n",
      "-----\n",
      "7501.05\n",
      "2050.287\n",
      "2050.287\n",
      "1980.2772\n",
      "-----\n",
      "15452.163\n",
      "15052.107\n",
      "15552.177\n",
      "14902.086\n",
      "-----\n"
     ]
    }
   ],
   "source": [
    "data = [ [ 2000, 3050, 2050, 1980], [ 7500, 2050, 2050, 1980], [15450, 15050, 15550, 14900] ]\n",
    "for i in range(3) :\n",
    "    for j in range(4) :\n",
    "        su = (data[i][j] * 0.014 / 100)\n",
    "        print(data[i][j] + su)\n",
    "    print('-----')"
   ]
  },
  {
   "cell_type": "markdown",
   "id": "66407b9f",
   "metadata": {},
   "source": [
    "#### 193. 192 번 문제의 결과값을 result 이름의 리스트에 1차원 배열로 저장하라.\n",
    "\n",
    "> print(result)\n",
    "\n",
    "> [2000.28, 3050.427, 2050.2870000000003, 1980.2772, 7501.05, 2050.2870000000003, 2050.2870000000003, ...]"
   ]
  },
  {
   "cell_type": "code",
   "execution_count": 366,
   "id": "9d248f95",
   "metadata": {},
   "outputs": [
    {
     "name": "stdout",
     "output_type": "stream",
     "text": [
      "[2000.28, 3050.427, 2050.287, 1980.2772, 7501.05, 2050.287, 2050.287, 1980.2772, 15452.163, 15052.107, 15552.177, 14902.086]\n"
     ]
    }
   ],
   "source": [
    "data = [ [ 2000, 3050, 2050, 1980], [ 7500, 2050, 2050, 1980], [15450, 15050, 15550, 14900] ]\n",
    "result = []\n",
    "for i in range(3) :\n",
    "    for j in range(4) :\n",
    "        su = (data[i][j] * 0.014 / 100)\n",
    "        result.append(data[i][j] + su)\n",
    "print(result)"
   ]
  },
  {
   "cell_type": "markdown",
   "id": "a939cda0",
   "metadata": {},
   "source": [
    "#### 194. 191번 문제의 결괏값을 result 이름의 리스트에 2차원 배열로 저장하라. 저장 포맷은 아래와 같다. 각 행에 대한 데이터끼리 리스트에 저장되어야 한다.\n",
    "\n",
    "> print(result)\n",
    "- [\n",
    " [2000.28, 3050.427, 2050.2870000000003, 1980.2772],\n",
    " [7501.05, 2050.2870000000003, 2050.2870000000003, 1980.2772],\n",
    " [15452.163, 15052.107, 15552.177, 14902.086000000001]\n",
    "]"
   ]
  },
  {
   "cell_type": "code",
   "execution_count": 38,
   "id": "87879703",
   "metadata": {},
   "outputs": [
    {
     "name": "stdout",
     "output_type": "stream",
     "text": [
      "[[2000.28, 3050.427, 2050.287, 1980.2772], [7501.05, 2050.287, 2050.287, 1980.2772], [15452.163, 15052.107, 15552.177, 14902.086]]\n"
     ]
    }
   ],
   "source": [
    "data = [ [ 2000, 3050, 2050, 1980], [ 7500, 2050, 2050, 1980], [15450, 15050, 15550, 14900] ]\n",
    "result = []\n",
    "list_result = []\n",
    "su = 0\n",
    "for i in range(3) :\n",
    "    for j in range(4) :\n",
    "        su = (data[i][j] * 0.014 / 100)\n",
    "        list_result.append(data[i][j] + su)\n",
    "\n",
    "result = [list_result[i:i+4] for i in range(0, len(list_result), 4)]\n",
    "print(result)"
   ]
  },
  {
   "cell_type": "markdown",
   "id": "0477f55f",
   "metadata": {},
   "source": [
    "#### 195. ohlc 리스트에는 시가(open), 고가 (high), 저가 (low) , 종가(close)가 날짜별로 저장돼 있다. 화면에 종가데이터를 출력하라.\n",
    "\n",
    "- ohlc = [[\"open\", \"high\", \"low\", \"close\"],\n",
    "        [100, 110, 70, 100],\n",
    "        [200, 210, 180, 190],\n",
    "        [300, 310, 300, 310]]\n",
    "- 100\n",
    "- 190\n",
    "- 310"
   ]
  },
  {
   "cell_type": "code",
   "execution_count": 40,
   "id": "d62d0c62",
   "metadata": {},
   "outputs": [
    {
     "name": "stdout",
     "output_type": "stream",
     "text": [
      "100\n",
      "190\n",
      "310\n"
     ]
    }
   ],
   "source": [
    "ohlc = [[\"open\", \"high\", \"low\", \"close\"], [100, 110, 70, 100], [200, 210, 180, 190], [300, 310, 300, 310]]\n",
    "for i in range(1, 4) :\n",
    "    print(ohlc[i][3])"
   ]
  },
  {
   "cell_type": "markdown",
   "id": "19d7d7f6",
   "metadata": {},
   "source": [
    "#### 196. ohlc 리스트에는 시가(open), 고가 (high), 저가 (low) , 종가(close)가 날짜별로 저장돼 있다. 종가가 150원보다 큰경우에만 종가를 출력하라.\n",
    "\n",
    "- ohlc = [[\"open\", \"high\", \"low\", \"close\"],\n",
    "        [100, 110, 70, 100],\n",
    "        [200, 210, 180, 190],\n",
    "        [300, 310, 300, 310]]\n",
    "- 190\n",
    "- 310"
   ]
  },
  {
   "cell_type": "code",
   "execution_count": 46,
   "id": "63acf167",
   "metadata": {},
   "outputs": [
    {
     "name": "stdout",
     "output_type": "stream",
     "text": [
      "190\n",
      "310\n"
     ]
    }
   ],
   "source": [
    "ohlc = [[\"open\", \"high\", \"low\", \"close\"], [100, 110, 70, 100], [200, 210, 180, 190], [300, 310, 300, 310]]\n",
    "for i in range(1, 4) :\n",
    "    if ohlc[i][3] > 150 :\n",
    "        print(ohlc[i][3])"
   ]
  },
  {
   "cell_type": "markdown",
   "id": "4c367697",
   "metadata": {},
   "source": [
    "#### 197. ohlc 리스트에는 시가(open), 고가 (high), 저가 (low) , 종가(close)가 날짜별로 저장돼 있다. 종가가 시가 보다 크거나 같은 경우에만 종가를 출력하라.\n",
    "\n",
    "- ohlc = [[\"open\", \"high\", \"low\", \"close\"],\n",
    "        [100, 110, 70, 100],\n",
    "        [200, 210, 180, 190],\n",
    "        [300, 310, 300, 310]]\n",
    "- 100\n",
    "- 310"
   ]
  },
  {
   "cell_type": "code",
   "execution_count": 50,
   "id": "94addac7",
   "metadata": {},
   "outputs": [
    {
     "name": "stdout",
     "output_type": "stream",
     "text": [
      "100\n",
      "310\n"
     ]
    }
   ],
   "source": [
    "ohlc = [[\"open\", \"high\", \"low\", \"close\"], [100, 110, 70, 100], [200, 210, 180, 190], [300, 310, 300, 310]]\n",
    "for i in range(1, 4) :\n",
    "    if ohlc[i][0] <= ohlc[i][3] :\n",
    "        print(ohlc[i][3])"
   ]
  },
  {
   "cell_type": "markdown",
   "id": "98508056",
   "metadata": {},
   "source": [
    "#### 198. ohlc 리스트에는 시가(open), 고가 (high), 저가 (low) , 종가(close)가 날짜별로 저장돼 있다. 고가와 저가의 차이를 변동폭으로 정의할 때 변동폭을 volatility 이름의 리스트에 저장하라.\n",
    "\n",
    "> ohlc = [[\"open\", \"high\", \"low\", \"close\"],\n",
    "        [100, 110, 70, 100],\n",
    "        [200, 210, 180, 190],\n",
    "        [300, 310, 300, 310]]\n",
    "\n",
    "> print(volatility)\n",
    "\n",
    ">[40, 30, 10]"
   ]
  },
  {
   "cell_type": "code",
   "execution_count": 52,
   "id": "1d5b8bbc",
   "metadata": {},
   "outputs": [
    {
     "name": "stdout",
     "output_type": "stream",
     "text": [
      "[40, 30, 10]\n"
     ]
    }
   ],
   "source": [
    "ohlc = [[\"open\", \"high\", \"low\", \"close\"], [100, 110, 70, 100], [200, 210, 180, 190], [300, 310, 300, 310]]\n",
    "volatility = []\n",
    "for i in range(1, 4) :\n",
    "    volatility.append(ohlc[i][1] - ohlc[i][2])\n",
    "print(volatility)"
   ]
  },
  {
   "cell_type": "code",
   "execution_count": 58,
   "id": "898c41b8",
   "metadata": {},
   "outputs": [
    {
     "name": "stdout",
     "output_type": "stream",
     "text": [
      "[40, 30, 10]\n"
     ]
    }
   ],
   "source": [
    "ohlc = [[\"open\", \"high\", \"low\", \"close\"], [100, 110, 70, 100], [200, 210, 180, 190], [300, 310, 300, 310]]\n",
    "volatility = []\n",
    "i = 1\n",
    "while i < 4:\n",
    "    volatility.append(ohlc[i][1] - ohlc[i][2])\n",
    "    i += 1\n",
    "print(volatility)"
   ]
  },
  {
   "cell_type": "markdown",
   "id": "4b51b8f4",
   "metadata": {},
   "source": [
    "#### 199. 리스트에는 3일 간의 ohlc 데이터가 저장돼 있다. 종가가 시가보다 높은 날의 변동성 (고가 - 저가)을 화면에 출력하라.\n",
    "\n",
    "- ohlc = [[\"open\", \"high\", \"low\", \"close\"],\n",
    "        [100, 110, 70, 100],\n",
    "        [200, 210, 180, 190],\n",
    "        [300, 310, 300, 310]]\n",
    "- 종가가 시가보다 높은 거래일의 OHLC는 [300, 310, 300, 310] 이다. 따라서 이 거래일의 변동성은 10 (310 - 300)이다.\n",
    "\n",
    "- 10"
   ]
  },
  {
   "cell_type": "code",
   "execution_count": 60,
   "id": "2ce59f13",
   "metadata": {},
   "outputs": [
    {
     "name": "stdout",
     "output_type": "stream",
     "text": [
      "10\n"
     ]
    }
   ],
   "source": [
    "ohlc = [[\"open\", \"high\", \"low\", \"close\"], [100, 110, 70, 100], [200, 210, 180, 190], [300, 310, 300, 310]]\n",
    "for i in range(1, 4) :\n",
    "    if ohlc[i][0] < ohlc[i][3] :\n",
    "        print(ohlc[i][1] - ohlc[i][2])"
   ]
  },
  {
   "cell_type": "markdown",
   "id": "69b858b8",
   "metadata": {},
   "source": [
    "#### 200. 리스트에는 3일 간의 ohlc 데이터가 저장돼 있다. 시가에 매수해서 종가에 매도 했을 경우 총 수익금을 계산하라.\n",
    "\n",
    "- ohlc = [[\"open\", \"high\", \"low\", \"close\"],\n",
    "        [100, 110, 70, 100],\n",
    "        [200, 210, 180, 190],\n",
    "        [300, 310, 300, 310]]\n",
    "- 1일차 수익 0원 (100 - 100)\n",
    "- 2일차 수익 -10원 (190 - 200)\n",
    "- 3일차 수익 10원 (310 - 300) 이다.\n",
    "\n",
    "- 0"
   ]
  },
  {
   "cell_type": "code",
   "execution_count": 64,
   "id": "c673d682",
   "metadata": {},
   "outputs": [
    {
     "name": "stdout",
     "output_type": "stream",
     "text": [
      "0\n"
     ]
    }
   ],
   "source": [
    "ohlc = [[\"open\", \"high\", \"low\", \"close\"], [100, 110, 70, 100], [200, 210, 180, 190], [300, 310, 300, 310]]\n",
    "ohlc_revenue = 0\n",
    "for i in range(1, 4) :\n",
    "    ohlc_revenue += ohlc[i][3] - ohlc[i][0]\n",
    "print(ohlc_revenue)"
   ]
  }
 ],
 "metadata": {
  "kernelspec": {
   "display_name": "Python 3 (ipykernel)",
   "language": "python",
   "name": "python3"
  },
  "language_info": {
   "codemirror_mode": {
    "name": "ipython",
    "version": 3
   },
   "file_extension": ".py",
   "mimetype": "text/x-python",
   "name": "python",
   "nbconvert_exporter": "python",
   "pygments_lexer": "ipython3",
   "version": "3.12.4"
  }
 },
 "nbformat": 4,
 "nbformat_minor": 5
}
