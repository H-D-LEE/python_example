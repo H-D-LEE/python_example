{
 "cells": [
  {
   "cell_type": "markdown",
   "metadata": {},
   "source": [
    "#### 암호화(encapsulation) : (__변수) 외부에서 접근이 불가능한 은닉 변수가 된다"
   ]
  },
  {
   "cell_type": "code",
   "execution_count": 1,
   "metadata": {},
   "outputs": [],
   "source": [
    "class Account:  # outer -> class\n",
    "    # 은닉 멤버 변수(__변수)\n",
    "    __balance = 0  # 잔액\n",
    "    __accName = None # 예금주\n",
    "    __accNo = None # 계좌번호\n",
    "\n",
    "    # 생성자 : 초기화\n",
    "    def __init__(self, bal, name, no):\n",
    "        self.__balance = bal  # 잔액 초기화\n",
    "        self.__accName = name  # 예금주\n",
    "        self.__accNo = no  # 계좌번호\n",
    "\n",
    "    # 계좌정보 확인 : getter(획득자 : 은닉 변수의 값을 외부에서 받을수 있는 메소드, 값을 가져오는 메서드)\n",
    "    def getBalance(self):\n",
    "        return self.__balance, self.__accName, self.__accNo\n",
    "\n",
    "    # 입금하기 : setter(지정자 : 은닉 변수의 값을 외부에서 변경할 수 있는 메소드, 값을 저장하는 메서드)\n",
    "    def deposit(self, money):\n",
    "        if money < 0:\n",
    "            print('금액 확인')\n",
    "            return  # 함수 종료(exit)\n",
    "\n",
    "        self.__balance += money\n",
    "\n",
    "    # 출금하기 : setter\n",
    "    def withdraw(self, money):\n",
    "        if self.balance < money:\n",
    "            print('잔액 부족')\n",
    "            return  # 함수 종료(exit)\n",
    "\n",
    "        self.__balance -= money"
   ]
  },
  {
   "cell_type": "markdown",
   "metadata": {},
   "source": [
    "##### 객체 생성"
   ]
  },
  {
   "cell_type": "code",
   "execution_count": 2,
   "metadata": {},
   "outputs": [],
   "source": [
    "acc = Account(1000, '홍길동', '125-152-4125-41') "
   ]
  },
  {
   "cell_type": "code",
   "execution_count": 4,
   "metadata": {},
   "outputs": [
    {
     "name": "stdout",
     "output_type": "stream",
     "text": [
      "계좌정보 :  (1000, '홍길동', '125-152-4125-41')\n"
     ]
    }
   ],
   "source": [
    "# object.member()\n",
    "#acc.__balance # error\n",
    "bal = acc.getBalance()\n",
    "print('계좌정보 : ', bal) # 계좌정보 :  (1000, '홍길동', '125-152-4125-41')"
   ]
  },
  {
   "cell_type": "code",
   "execution_count": 3,
   "metadata": {},
   "outputs": [
    {
     "name": "stdout",
     "output_type": "stream",
     "text": [
      "계좌정보 :  (11000, '홍길동', '125-152-4125-41')\n"
     ]
    }
   ],
   "source": [
    "# 10,000원 입금\n",
    "acc.deposit(10000)\n",
    "bal = acc.getBalance()\n",
    "print('계좌정보 : ', bal)"
   ]
  },
  {
   "cell_type": "code",
   "execution_count": null,
   "metadata": {},
   "outputs": [],
   "source": []
  }
 ],
 "metadata": {
  "kernelspec": {
   "display_name": "Python 3 (ipykernel)",
   "language": "python",
   "name": "python3"
  },
  "language_info": {
   "codemirror_mode": {
    "name": "ipython",
    "version": 3
   },
   "file_extension": ".py",
   "mimetype": "text/x-python",
   "name": "python",
   "nbconvert_exporter": "python",
   "pygments_lexer": "ipython3",
   "version": "3.12.4"
  }
 },
 "nbformat": 4,
 "nbformat_minor": 4
}
