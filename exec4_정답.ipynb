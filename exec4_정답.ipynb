{
 "cells": [
  {
   "cell_type": "code",
   "execution_count": null,
   "metadata": {},
   "outputs": [],
   "source": [
    "[문제1] \n",
    "다음 lst 변수를 대상으로 (lst = [10,1,5,2])\n",
    "각 단계별로 list를 연산하시오\n",
    "\n",
    "<각 단계별 출력 결과 예시>\n",
    "단계 1 : [10,1,5,2,10,1,5,2]\n",
    "단계 2 : [10,1,5,2,10,1,5,2,20]\n",
    "단계 3 : [1,2,1,2]"
   ]
  },
  {
   "cell_type": "code",
   "execution_count": 5,
   "metadata": {},
   "outputs": [
    {
     "name": "stdout",
     "output_type": "stream",
     "text": [
      "단계 1 :  [10, 1, 5, 2, 10, 1, 5, 2]\n"
     ]
    }
   ],
   "source": [
    "lst = [10,1,5,2]\n",
    "#단계 2 : [10,1,5,2,10,1,5,2,20]\n",
    "#단계 3 : [1,2,1,2]\n",
    "\n",
    "# 단계 1 : lst 원소를 2개 생성하여 result 변수에 저장/출력\n",
    "result = lst *2\n",
    "print('단계 1 : ', result)"
   ]
  },
  {
   "cell_type": "code",
   "execution_count": 6,
   "metadata": {},
   "outputs": [
    {
     "name": "stdout",
     "output_type": "stream",
     "text": [
      "단계 2 :  [10, 1, 5, 2, 10, 1, 5, 2, 20]\n"
     ]
    }
   ],
   "source": [
    "# 단계 2 : lst의 첫번째 원소에 2를 곱하여 result 변수에 추가/출력\n",
    "first= result[0] * 2\n",
    "result.append(first)\n",
    "print('단계 2 : ', result)\n",
    "\n",
    "#  first= result[0] * 2\n",
    "# result.append(20)\n",
    "# print('단계 2 : ', result)"
   ]
  },
  {
   "cell_type": "code",
   "execution_count": 21,
   "metadata": {},
   "outputs": [
    {
     "name": "stdout",
     "output_type": "stream",
     "text": [
      "[1, 2, 1, 2]\n",
      "단계 3 :  []\n"
     ]
    }
   ],
   "source": [
    "# 단계 3 : lst의 홀수번째 원소만 result2 변수에 추가/출력 = \n",
    "#result2 = [1,2,1,2]\n",
    "result2= result[1::2]\n",
    "print(result2)\n",
    "\n",
    "result2 = []\n",
    "\n",
    "i = 0\n",
    "for n in result2 :\n",
    "    if(i%2) != 0 :\n",
    "        result2.append(n)\n",
    "        i += 1\n",
    "print('단계 3 : ', result2)"
   ]
  },
  {
   "cell_type": "code",
   "execution_count": null,
   "metadata": {},
   "outputs": [],
   "source": []
  },
  {
   "cell_type": "code",
   "execution_count": null,
   "metadata": {},
   "outputs": [],
   "source": [
    "[문제2-A형] list 원소 추가 및 요소 검사하기\n",
    "list 크기를 키보드로 입력 받은후 \n",
    "입력 받은 크기만큼 임의 숫자를 list에 추가하고 \n",
    "list의 크기를 출력하시오.\n",
    "\n",
    "<출력 결과예시>\n",
    "vector 수 : 3\n",
    "4\n",
    "2\n",
    "5\n",
    "vector 크기 : 3\n"
   ]
  },
  {
   "cell_type": "code",
   "execution_count": 1,
   "metadata": {},
   "outputs": [],
   "source": [
    "# size = int(input('vector 수 : '))\n",
    "# lst = [] # 빈 list\n",
    "\n",
    "# for i in range(size) :\n",
    "#     lst.append(int(input()))\n",
    "\n",
    "# print(\"vector 크기\", len(lst))"
   ]
  },
  {
   "cell_type": "code",
   "execution_count": 8,
   "metadata": {},
   "outputs": [
    {
     "name": "stdout",
     "output_type": "stream",
     "text": [
      "vector 수 : 3\n",
      "size =  3\n",
      "16\n",
      "19\n",
      "1\n",
      "lst_result =  [16, 19, 1]\n"
     ]
    }
   ],
   "source": [
    "# # A형 문제\n",
    "import random\n",
    "\n",
    "size = int(input('리스트 들어갈 값의 개수를 입력하시오 : '))\n",
    "lst = []\n",
    "cnt = 0\n",
    "\n",
    "for i in range(size) :\n",
    "    cnt += 1 \n",
    "    ran_num = random.randint(1,3)\n",
    "    print(ran_num)\n",
    "    lst.append(ran_num)\n",
    "    \n",
    "print()    \n",
    "print('list의 크기 = ', cnt, '개다 ')"
   ]
  },
  {
   "cell_type": "code",
   "execution_count": null,
   "metadata": {},
   "outputs": [],
   "source": []
  },
  {
   "cell_type": "code",
   "execution_count": null,
   "metadata": {},
   "outputs": [],
   "source": [
    "[문제2-B형] list 크기를 키보드로 입력 받은 후 \n",
    "입력 받은 크기만큼 임의 숫자를 list에 추가한다. \n",
    "이후 list에서 찾을 값을 키보드로 입력한 후 \n",
    "해당 값이 list에 있으면 “Yes”, 없으면 “NO”를 출력하시오.\n",
    "\n",
    "<출력화면 예시>\n",
    "vector 수 : 5\n",
    "1\n",
    "2\n",
    "3\n",
    "4\n",
    "5\n",
    "3\n",
    "YES"
   ]
  },
  {
   "cell_type": "code",
   "execution_count": 2,
   "metadata": {},
   "outputs": [
    {
     "name": "stdout",
     "output_type": "stream",
     "text": [
      "리스트 들어갈 값의 개수를 입력하시오 : 5\n",
      "3\n",
      "3\n",
      "2\n",
      "1\n",
      "1\n",
      "\n",
      "list의 크기 =  5 개다 \n",
      "list에서 찾을 값을 키보드로 입력해라 : 2\n",
      "YES\n"
     ]
    }
   ],
   "source": [
    "import random\n",
    "\n",
    "size = int(input('리스트 들어갈 값의 개수를 입력하시오 : '))\n",
    "lst = []\n",
    "cnt = 0\n",
    "\n",
    "for i in range(size) :\n",
    "    cnt += 1 \n",
    "    ran_num = random.randint(1,3)\n",
    "    print(ran_num)\n",
    "    lst.append(ran_num)\n",
    "    \n",
    "print()    \n",
    "print('list의 크기 = ', cnt, '개다 ')\n",
    "\n",
    "list_num = int(input('list에서 찾을 값을 키보드로 입력해라 : '))\n",
    "\n",
    "if list_num in lst :\n",
    "    print('YES')\n",
    "else :\n",
    "        print('NO')"
   ]
  },
  {
   "cell_type": "code",
   "execution_count": null,
   "metadata": {},
   "outputs": [],
   "source": []
  },
  {
   "cell_type": "code",
   "execution_count": null,
   "metadata": {},
   "outputs": [],
   "source": [
    "# 문[문제3-A] list 내포를 이용하여 문자열 처리하기\n",
    "message 변수를 대상으로 (message = ['spam','ham','spam','ham','spam'])\n",
    "spam’ 원소는 1, ‘ham’원소는 0으로 \n",
    "dummy 변수를 생성하시오.\n",
    "\n",
    "<조건>\n",
    "list + for 형식 사용\n",
    "\n",
    "<출력화면 예시>\n",
    "\n",
    "[1,0,1,0,1]"
   ]
  },
  {
   "cell_type": "code",
   "execution_count": 8,
   "metadata": {},
   "outputs": [
    {
     "name": "stdout",
     "output_type": "stream",
     "text": [
      "[1, 0, 1, 0, 1]\n"
     ]
    }
   ],
   "source": [
    "message = ['spam','ham','spam','ham','spam']\n",
    "\n",
    "dummy = [1 if msg =='spam' else 0for msg in message ]\n",
    "print(dummy)"
   ]
  },
  {
   "cell_type": "code",
   "execution_count": null,
   "metadata": {},
   "outputs": [],
   "source": [
    "[문제3-B] list 내포를 이용하여 문자열 처리하기\n",
    "message 변수를 대상으로 ‘spam’ 원소만 추출하여 \n",
    "spam_list에 추가하시오.\n",
    "\n",
    "<조건>\n",
    "list + for + if 형식 사용\n",
    "\n",
    "<출력화면 예시>\n",
    "[‘spam’, ‘spam’, ‘spam’]"
   ]
  },
  {
   "cell_type": "code",
   "execution_count": 9,
   "metadata": {},
   "outputs": [
    {
     "name": "stdout",
     "output_type": "stream",
     "text": [
      "['spam', 'spam', 'spam']\n"
     ]
    }
   ],
   "source": [
    "spam_list = [msg for msg in message if msg =='spam']\n",
    "print(spam_list)\n"
   ]
  },
  {
   "cell_type": "code",
   "execution_count": null,
   "metadata": {},
   "outputs": [],
   "source": []
  },
  {
   "cell_type": "code",
   "execution_count": null,
   "metadata": {},
   "outputs": [],
   "source": [
    "[문제4] \n",
    "position 변수를 대상으로 (positon = {'과장','부장','대리','사장','대리','과장'})\n",
    "중복되지 않은 직위와 직위별 빈동수를 출력하시오.\n",
    "\n",
    "<조건>\n",
    "list + for + if 형식 사용\n",
    "\n",
    "<출력 결과 예시>\n",
    "중복되지 않은 직위 : [‘사장’, ‘과장’, ‘대리’,’부 장’]\n",
    "각 직위별 빈도수 : [‘과장’:2, ‘부장’:1,’대리’:2, ‘사장’:1]"
   ]
  },
  {
   "cell_type": "code",
   "execution_count": 10,
   "metadata": {},
   "outputs": [
    {
     "name": "stdout",
     "output_type": "stream",
     "text": [
      "중복되지 않은 직위 :  ['과장', '사장', '대리', '부장']\n",
      "각 직위별 빈도수 :  {'과장': 1, '사장': 1, '대리': 1, '부장': 1}\n"
     ]
    }
   ],
   "source": [
    "positon = {'과장','부장','대리','사장','대리','과장'}\n",
    "uni_positon =list(set(positon))\n",
    "print('중복되지 않은 직위 : ',uni_positon )\n",
    "positon_cnt = {}\n",
    "\n",
    "for p in positon :\n",
    "    positon_cnt[p] = positon_cnt.get(p,0) + 1\n",
    "    \n",
    "print('각 직위별 빈도수 : ', positon_cnt)"
   ]
  },
  {
   "cell_type": "code",
   "execution_count": null,
   "metadata": {},
   "outputs": [],
   "source": []
  },
  {
   "cell_type": "code",
   "execution_count": null,
   "metadata": {},
   "outputs": [],
   "source": []
  }
 ],
 "metadata": {
  "kernelspec": {
   "display_name": "Python 3",
   "language": "python",
   "name": "python3"
  },
  "language_info": {
   "codemirror_mode": {
    "name": "ipython",
    "version": 3
   },
   "file_extension": ".py",
   "mimetype": "text/x-python",
   "name": "python",
   "nbconvert_exporter": "python",
   "pygments_lexer": "ipython3",
   "version": "3.8.5"
  }
 },
 "nbformat": 4,
 "nbformat_minor": 2
}
