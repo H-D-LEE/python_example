{
 "cells": [
  {
   "cell_type": "markdown",
   "metadata": {},
   "source": [
    "### 다형성(polymorphism) 예"
   ]
  },
  {
   "cell_type": "markdown",
   "metadata": {},
   "source": [
    "#### (1) 부모 클래스 - 함수 재정의"
   ]
  },
  {
   "cell_type": "code",
   "execution_count": 6,
   "metadata": {},
   "outputs": [],
   "source": [
    "class Flight:\n",
    "\n",
    "    # 부모 원형 함수\n",
    "    def fly(self):\n",
    "        print('날다, fly 원형 메서드')"
   ]
  },
  {
   "cell_type": "markdown",
   "metadata": {},
   "source": [
    "#### (2) 자식 클래스 : 비행기"
   ]
  },
  {
   "cell_type": "code",
   "execution_count": 7,
   "metadata": {},
   "outputs": [],
   "source": [
    "class Airplane(Flight) :\n",
    "\n",
    "    # 함수 재정의\n",
    "    def fly(self):\n",
    "        print('비행기가 날다.')"
   ]
  },
  {
   "cell_type": "markdown",
   "metadata": {},
   "source": [
    "#### (2) 자식 클래스 : 새"
   ]
  },
  {
   "cell_type": "code",
   "execution_count": 9,
   "metadata": {},
   "outputs": [],
   "source": [
    "class Bird(Flight) :\n",
    "\n",
    "    # 함수 재정의\n",
    "    def fly(self):\n",
    "        print('새가 날다.')"
   ]
  },
  {
   "cell_type": "markdown",
   "metadata": {},
   "source": [
    "#### (2) 자식 클래스 : 종이비행기"
   ]
  },
  {
   "cell_type": "code",
   "execution_count": 11,
   "metadata": {},
   "outputs": [],
   "source": [
    "class PaperAirplane(Flight) :\n",
    "\n",
    "    # 함수 재정의\n",
    "    def fly(self):\n",
    "        print('종이 비행기가 날다.')"
   ]
  },
  {
   "cell_type": "markdown",
   "metadata": {},
   "source": [
    "#### (3) 객체 생성"
   ]
  },
  {
   "cell_type": "code",
   "execution_count": 12,
   "metadata": {},
   "outputs": [],
   "source": [
    "flight = Flight()  # 부모 클래스 객체\n",
    "air = Airplane()   # 부모 Flight 클래스를 상속한 자식 1 클래스 객체\n",
    "bird = Bird()      # 부모 Flight 클래스를 상속한 자식 2 클래스 객체\n",
    "paper = PaperAirplane()  # 부모 Flight 클래스를 상속한 자식 3 클래스 객체"
   ]
  },
  {
   "cell_type": "markdown",
   "metadata": {},
   "source": [
    "#### (4) 다형성"
   ]
  },
  {
   "cell_type": "code",
   "execution_count": 14,
   "metadata": {},
   "outputs": [
    {
     "name": "stdout",
     "output_type": "stream",
     "text": [
      "종이 비행기가 날다.\n",
      "비행기가 날다.\n",
      "새가 날다.\n",
      "종이 비행기가 날다.\n"
     ]
    }
   ],
   "source": [
    "flight.fly() # 날다, fly 원형 메서드\n",
    "\n",
    "flight = air\n",
    "flight.fly() # 비행기가 날다.\n",
    "\n",
    "flight = bird\n",
    "flight.fly() # 새가 날다.\n",
    "\n",
    "flight = paper\n",
    "flight.fly() # 종이 비행기가 날다."
   ]
  },
  {
   "cell_type": "code",
   "execution_count": null,
   "metadata": {},
   "outputs": [],
   "source": []
  }
 ],
 "metadata": {
  "kernelspec": {
   "display_name": "Python 3 (ipykernel)",
   "language": "python",
   "name": "python3"
  },
  "language_info": {
   "codemirror_mode": {
    "name": "ipython",
    "version": 3
   },
   "file_extension": ".py",
   "mimetype": "text/x-python",
   "name": "python",
   "nbconvert_exporter": "python",
   "pygments_lexer": "ipython3",
   "version": "3.12.4"
  }
 },
 "nbformat": 4,
 "nbformat_minor": 4
}
