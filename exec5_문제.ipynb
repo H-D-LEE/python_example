{
 "cells": [
  {
   "cell_type": "code",
   "execution_count": 1,
   "metadata": {},
   "outputs": [],
   "source": [
    "[문제1] \n",
    "다음 height 변수에 별(star)의 층수를 입력하면 \n",
    "각 층 마다 별의 개수가 한 개씩 증가하여 출력되고, \n",
    "마지막 줄에 별의 개수가 출력되도록 \n",
    "프로그램을 작성하여 출력하시오.\n"
   ]
  },
  {
   "cell_type": "code",
   "execution_count": 3,
   "metadata": {},
   "outputs": [
    {
     "name": "stdin",
     "output_type": "stream",
     "text": [
      "별의 층수 8\n"
     ]
    },
    {
     "name": "stdout",
     "output_type": "stream",
     "text": [
      "1층의 별의 개수 2\n",
      "2층의 별의 개수 3\n",
      "3층의 별의 개수 4\n",
      "4층의 별의 개수 5\n",
      "5층의 별의 개수 6\n",
      "6층의 별의 개수 7\n",
      "7층의 별의 개수 8\n",
      "8층의 별의 개수 9\n",
      "별의 개수 44\n"
     ]
    }
   ],
   "source": [
    "def star_count(height) :\n",
    "    \n",
    "star = input('별의 층수')\n",
    "height = int(star)\n",
    "stars_count = 0\n",
    "for i in range(height) :\n",
    "    print(f'{i+1}층의 별의 개수 {i+2}')\n",
    "    stars_count += (i + 2)\n",
    "\n",
    "print(f'별의 개수 {stars_count}')"
   ]
  },
  {
   "cell_type": "code",
   "execution_count": 9,
   "metadata": {},
   "outputs": [],
   "source": [
    "[문제2] \n",
    "중첩함수를 적용하여 다음<조건>에 맞게 \n",
    "은행계좌 함수의 빈 칸을 채우시오.\n",
    "\n",
    "<조건1> 외부 함수 : bank_account() : 잔액(balance) outer 변수\n",
    "<조건2> 내부 함수 : getbalance() : 잔액확인\n",
    "                           deposit(money) : 입금하기\n",
    "                           withdraw(money) : 출금하기\n",
    "<조건3> 출금액이 잔액보다 많은 경우 ‘잔액이 부족합니다.’ \n",
    "             메시지 출력\n",
    "<조건4> 기타 나머지는 출력 예시 참조\n",
    "\n",
    "<출력화면 예시>\n",
    "최초 계좌의 잔액을 입력하세요 : 1000\n",
    "현재 계좌 잔액은 1000원 입니다.\n",
    "15000원 입금후 잔액은 16000원 입니다.\n",
    "출금액을 입력하세요 : 3000\n",
    "3000원 출금후 잔액은 13000원 입니다."
   ]
  },
  {
   "cell_type": "code",
   "execution_count": 31,
   "metadata": {},
   "outputs": [
    {
     "name": "stdin",
     "output_type": "stream",
     "text": [
      "최초 계좌의 잔액을 입력하세요 :  50000\n"
     ]
    },
    {
     "name": "stdout",
     "output_type": "stream",
     "text": [
      "현재 계좌 잔액은 50000원 입니다.\n"
     ]
    },
    {
     "name": "stdin",
     "output_type": "stream",
     "text": [
      "입금액을 입력하세요 :  10000\n",
      "출금액을 입력하세요 :  20000\n"
     ]
    },
    {
     "name": "stdout",
     "output_type": "stream",
     "text": [
      "10000원 입금후 잔액은 60000원 입니다.\n",
      "20000원 출금후 잔액은 40000원 입니다.\n"
     ]
    },
    {
     "data": {
      "text/plain": [
       "(None, None)"
      ]
     },
     "execution_count": 31,
     "metadata": {},
     "output_type": "execute_result"
    }
   ],
   "source": [
    "def bank_account(ball) :\n",
    "    balance = ball\n",
    "    \n",
    "    def getbalance() :\n",
    "        print(f'현재 계좌 잔액은 {balance}원 입니다.')\n",
    "        money1 = int(input('입금액을 입력하세요 : '))\n",
    "\n",
    "        def deposit(money1) :\n",
    "            nonlocal balance\n",
    "            balance += money1\n",
    "            print(f'{money1}원 입금후 잔액은 {balance}원 입니다.')\n",
    "\n",
    "        money2 = int(input('출금액을 입력하세요 : '))\n",
    "        def withdraw(money2) :\n",
    "            nonlocal balance\n",
    "            if balance < money2 :\n",
    "                print('잔액이 부족합니다.')\n",
    "            else :\n",
    "                balance -= money2\n",
    "                print(f'{money2}원 출금후 잔액은 {balance}원 입니다.')\n",
    "        \n",
    "        return deposit(money1), withdraw(money2)\n",
    "    return getbalance\n",
    "    \n",
    "balance = int(input('최초 계좌의 잔액을 입력하세요 : '))\n",
    "\n",
    "getbalance = bank_account(balance)\n",
    "getbalance()"
   ]
  },
  {
   "cell_type": "code",
   "execution_count": null,
   "metadata": {},
   "outputs": [],
   "source": [
    "[문제3] \n",
    "팩토리얼(Factorial)을 계산하는 재귀함수 프로그램을 작성하시오\n",
    "\n",
    "예) 5(5*4*3*2*1) = 120"
   ]
  },
  {
   "cell_type": "code",
   "execution_count": null,
   "metadata": {},
   "outputs": [],
   "source": []
  },
  {
   "cell_type": "code",
   "execution_count": 44,
   "metadata": {},
   "outputs": [
    {
     "data": {
      "text/plain": [
       "120"
      ]
     },
     "execution_count": 44,
     "metadata": {},
     "output_type": "execute_result"
    }
   ],
   "source": [
    "def factorial(n) :\n",
    "    if n == 1 :\n",
    "        return 1\n",
    "    else :\n",
    "        return n * factorial(n-1)\n",
    "\n",
    "factorial(5)"
   ]
  },
  {
   "cell_type": "code",
   "execution_count": null,
   "metadata": {},
   "outputs": [],
   "source": []
  }
 ],
 "metadata": {
  "kernelspec": {
   "display_name": "Python 3 (ipykernel)",
   "language": "python",
   "name": "python3"
  },
  "language_info": {
   "codemirror_mode": {
    "name": "ipython",
    "version": 3
   },
   "file_extension": ".py",
   "mimetype": "text/x-python",
   "name": "python",
   "nbconvert_exporter": "python",
   "pygments_lexer": "ipython3",
   "version": "3.12.4"
  }
 },
 "nbformat": 4,
 "nbformat_minor": 4
}
