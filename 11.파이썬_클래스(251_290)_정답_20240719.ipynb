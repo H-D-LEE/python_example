{
 "cells": [
  {
   "cell_type": "markdown",
   "id": "b481d8d2",
   "metadata": {},
   "source": [
    "\n",
    "### 파이썬 클래스는 타입을 만들어내는 도구입니다. int, float, str과 같이 여러분의 새로운 타입을 만들 수 있습니다."
   ]
  },
  {
   "cell_type": "markdown",
   "id": "cc799c25",
   "metadata": {},
   "source": [
    "#### 251 클래스, 객체, 인스턴스\n",
    "클래스, 객체, 인스턴스에 대해 설명해봅시다."
   ]
  },
  {
   "cell_type": "code",
   "execution_count": null,
   "id": "5fafc030",
   "metadata": {},
   "outputs": [],
   "source": []
  },
  {
   "cell_type": "markdown",
   "id": "00d410e8",
   "metadata": {},
   "source": [
    "#### 252 클래스 정의\n",
    "비어있는 사람 (Human) 클래스를 \"정의\" 해보세요."
   ]
  },
  {
   "cell_type": "code",
   "execution_count": 1,
   "id": "45a15894",
   "metadata": {},
   "outputs": [],
   "source": [
    "class Human:\n",
    "    pass"
   ]
  },
  {
   "cell_type": "markdown",
   "id": "35d02fdc",
   "metadata": {},
   "source": [
    "#### 253 인스턴스 생성\n",
    "사람 (Human) 클래스의 인스턴스를 \"생성\" 하고 이를 areum 변수로 바인딩해보세요."
   ]
  },
  {
   "cell_type": "code",
   "execution_count": 2,
   "id": "f154ebb6",
   "metadata": {},
   "outputs": [],
   "source": [
    "class Human:\n",
    "    pass\n",
    "\n",
    "areum = Human()"
   ]
  },
  {
   "cell_type": "markdown",
   "id": "72327e11",
   "metadata": {},
   "source": [
    "#### 254 클래스 생성자-1\n",
    "사람 (Human) 클래스에 \"응애응애\"를 출력하는 생성자를 추가하세요."
   ]
  },
  {
   "cell_type": "code",
   "execution_count": 3,
   "id": "d4dd8fb8",
   "metadata": {},
   "outputs": [
    {
     "name": "stdout",
     "output_type": "stream",
     "text": [
      "응애응애\n"
     ]
    }
   ],
   "source": [
    "class Human:\n",
    "    def __init__(self):\n",
    "        print(\"응애응애\")\n",
    "\n",
    "areum = Human()"
   ]
  },
  {
   "cell_type": "markdown",
   "id": "18a38676",
   "metadata": {},
   "source": [
    "#### 255 클래스 생성자-2\n",
    "사람 (Human) 클래스에 (이름, 나이, 성별)을 받는 생성자를 추가하세요."
   ]
  },
  {
   "cell_type": "code",
   "execution_count": 4,
   "id": "b0c4dbeb",
   "metadata": {},
   "outputs": [],
   "source": [
    "class Human:\n",
    "    def __init__(self, name, age, sex):\n",
    "        self.name = name\n",
    "        self.age = age\n",
    "        self.sex = sex\n",
    "\n",
    "areum = Human(\"이름\", 25, \"여자\")"
   ]
  },
  {
   "cell_type": "markdown",
   "id": "f5fd9152",
   "metadata": {},
   "source": [
    "#### 256 인스턴스 속성에 접근\n",
    "255에서 생성한 인스턴스의 이름, 나이, 성별을 출력하세요. 인스턴스 변수에 접근하여 값을 출력하면 됩니다."
   ]
  },
  {
   "cell_type": "code",
   "execution_count": null,
   "id": "c3db0add-add8-4df4-ac49-1bf2a1c92cd7",
   "metadata": {},
   "outputs": [],
   "source": [
    "# 이름: 조아름, 나이: 25, 성별: 여자"
   ]
  },
  {
   "cell_type": "code",
   "execution_count": 7,
   "id": "bdca6b37",
   "metadata": {},
   "outputs": [
    {
     "name": "stdout",
     "output_type": "stream",
     "text": [
      "조아름\n",
      "25\n",
      "여자\n"
     ]
    }
   ],
   "source": [
    "class Human:\n",
    "    def __init__(self, name, age, sex):\n",
    "        self.name = name\n",
    "        self.age = age\n",
    "        self.sex = sex\n",
    "\n",
    "areum = Human(\"조아름\", 25, \"여자\")\n",
    "print(areum.name)\n",
    "print(areum.age)\n",
    "print(areum.sex)"
   ]
  },
  {
   "cell_type": "markdown",
   "id": "7d265a61",
   "metadata": {},
   "source": [
    "#### 257 클래스 메소드 - 1\n",
    "사람 (Human) 클래스에서 이름, 나이, 성별을 출력하는 who() 메소드를 추가하세요.자"
   ]
  },
  {
   "cell_type": "code",
   "execution_count": null,
   "id": "feec847f-6c45-423a-a760-11f47434468d",
   "metadata": {},
   "outputs": [],
   "source": [
    "# >>> areum.who()\n",
    "# 이름: 조아름, 나이: 25, 성별: 여자"
   ]
  },
  {
   "cell_type": "code",
   "execution_count": 9,
   "id": "d546942a",
   "metadata": {},
   "outputs": [
    {
     "name": "stdout",
     "output_type": "stream",
     "text": [
      "이름: 아름 나이: 25 성별: 여자\n"
     ]
    }
   ],
   "source": [
    "class Human:\n",
    "    def __init__(self, name, age, sex):\n",
    "        self.name = name\n",
    "        self.age = age\n",
    "        self.sex = sex\n",
    "\n",
    "    def who(self):\n",
    "        print(\"이름: {} 나이: {} 성별: {}\".format(self.name, self.age, self.sex))\n",
    "\n",
    "areum = Human(\"아름\", 25, \"여자\")\n",
    "areum.who()      # Human.who(areum)"
   ]
  },
  {
   "cell_type": "markdown",
   "id": "c9e94387",
   "metadata": {},
   "source": [
    "#### 258 클래스 메소드 - 2\n",
    "사람 (Human) 클래스에 (이름, 나이, 성별)을 받는 setInfo 메소드를 추가하세요."
   ]
  },
  {
   "cell_type": "code",
   "execution_count": 11,
   "id": "4464e51b-4eb9-48aa-a13e-829a699766b5",
   "metadata": {},
   "outputs": [],
   "source": [
    "# >>> areum = Human(\"모름\", 0, \"모름\")\n",
    "# >>> areum.setInfo(\"아름\", 25, \"여자\")"
   ]
  },
  {
   "cell_type": "code",
   "execution_count": 12,
   "id": "efa091f8",
   "metadata": {},
   "outputs": [
    {
     "name": "stdout",
     "output_type": "stream",
     "text": [
      "모름\n",
      "0\n",
      "모름\n"
     ]
    }
   ],
   "source": [
    "class Human:\n",
    "    def __init__(self, name, age, sex):\n",
    "        self.name = name\n",
    "        self.age = age\n",
    "        self.sex = sex\n",
    "        \n",
    "    def setInfo(self, x,y,z):\n",
    "        print(self.name)\n",
    "        print(self.age)\n",
    "        print(self.sex)\n",
    "\n",
    "areum = Human(\"모름\", 0, \"모름\")\n",
    "areum.setInfo(\"아름\", 25, \"여자\")"
   ]
  },
  {
   "cell_type": "markdown",
   "id": "8cabe197",
   "metadata": {},
   "source": [
    "#### 259 클래스 소멸자\n",
    "사람 (human) 클래스에 \"나의 죽음을 알리지 말라\"를 출력하는 소멸자를 추가하세요."
   ]
  },
  {
   "cell_type": "code",
   "execution_count": 13,
   "id": "bf33ce7b-b45b-4ea8-adee-0f2d90ecf6e0",
   "metadata": {},
   "outputs": [],
   "source": [
    "# >>> areum = Human(\"아름\", 25, \"여자\")\n",
    "# >>> del areum\n",
    "# 나의 죽음을 알리지 말라"
   ]
  },
  {
   "cell_type": "code",
   "execution_count": 14,
   "id": "cd65cf20",
   "metadata": {},
   "outputs": [
    {
     "name": "stdout",
     "output_type": "stream",
     "text": [
      "나의 죽음을 알리지 말라\n"
     ]
    }
   ],
   "source": [
    "class Human:\n",
    "    def __init__(self, name, age, sex):\n",
    "        self.name = name\n",
    "        self.age = age\n",
    "        self.sex = sex\n",
    "        \n",
    "    def setInfo(self, x,y,z):\n",
    "        print(self.name)\n",
    "        print(self.age)\n",
    "        print(self.sex)\n",
    "        \n",
    "    def __del__(self):\n",
    "        del self.name \n",
    "        del self.age\n",
    "        del self.sex\n",
    "        print('나의 죽음을 알리지 말라')\n",
    "        \n",
    "areum = Human(\"아름\", 25, \"여자\")\n",
    "del areum"
   ]
  },
  {
   "cell_type": "markdown",
   "id": "5fd7c3bb",
   "metadata": {},
   "source": [
    "#### 260 에러의 원인\n",
    "아래와 같은 에러가 발생한 원인에 대해 설명하세요. 그리고 정상적으로 \"Oh my god\" 결과값이 화면에 나오도록 수정하세요"
   ]
  },
  {
   "cell_type": "code",
   "execution_count": 17,
   "id": "e494e27d-c03e-4bff-a921-dd6fccab0edb",
   "metadata": {},
   "outputs": [
    {
     "ename": "TypeError",
     "evalue": "OMG.print() takes 0 positional arguments but 1 was given",
     "output_type": "error",
     "traceback": [
      "\u001b[1;31m---------------------------------------------------------------------------\u001b[0m",
      "\u001b[1;31mTypeError\u001b[0m                                 Traceback (most recent call last)",
      "Cell \u001b[1;32mIn[17], line 7\u001b[0m\n\u001b[0;32m      3\u001b[0m         \u001b[38;5;28mprint\u001b[39m(\u001b[38;5;124m\"\u001b[39m\u001b[38;5;124mOh my god\u001b[39m\u001b[38;5;124m\"\u001b[39m)\n\u001b[0;32m      6\u001b[0m mystock \u001b[38;5;241m=\u001b[39m OMG()\n\u001b[1;32m----> 7\u001b[0m mystock\u001b[38;5;241m.\u001b[39mprint()\n",
      "\u001b[1;31mTypeError\u001b[0m: OMG.print() takes 0 positional arguments but 1 was given"
     ]
    }
   ],
   "source": [
    "class OMG :\n",
    "    def print() :\n",
    "        print(\"Oh my god\")\n",
    "\n",
    "\n",
    "mystock = OMG()\n",
    "mystock.print()      # OMG.print(mystock)"
   ]
  },
  {
   "cell_type": "code",
   "execution_count": 18,
   "id": "5e5b2a69",
   "metadata": {},
   "outputs": [
    {
     "name": "stdout",
     "output_type": "stream",
     "text": [
      "Oh my god\n"
     ]
    }
   ],
   "source": [
    "class OMG :\n",
    "    def __init__(self) :\n",
    "        pass\n",
    "        \n",
    "    def print(self) :\n",
    "        print(\"Oh my god\")\n",
    "\n",
    "\n",
    "mystock = OMG()\n",
    "mystock.print()      # OMG.print(mystock)"
   ]
  },
  {
   "cell_type": "markdown",
   "id": "28cd8342",
   "metadata": {},
   "source": [
    "#### 261 Stock 클래스 생성\n",
    "주식 종목에 대한 정보를 저장하는 Stock 클래스를 정의해보세요. 클래스는 속성과 메서드를 갖고 있지 않습니다."
   ]
  },
  {
   "cell_type": "code",
   "execution_count": null,
   "id": "924553ff",
   "metadata": {},
   "outputs": [],
   "source": [
    "class Stock:\n",
    "    pass"
   ]
  },
  {
   "cell_type": "markdown",
   "id": "de312537",
   "metadata": {},
   "source": [
    "#### 262 생성자\n",
    "Stock 클래스의 객체가 생성될 때 종목명과 종목코드를 입력 받을 수 있도록 생성자를 정의해보세요."
   ]
  },
  {
   "cell_type": "code",
   "execution_count": 19,
   "id": "7614535f-4077-4a08-a276-b542a0507685",
   "metadata": {},
   "outputs": [],
   "source": [
    "# 삼성 = Stock(\"삼성전자\", \"005930\")"
   ]
  },
  {
   "cell_type": "code",
   "execution_count": null,
   "id": "b8dc6834",
   "metadata": {},
   "outputs": [],
   "source": [
    "class Stock:\n",
    "    def __init__(self, name, code):\n",
    "        self.name = name\n",
    "        self.code = code\n",
    "\n",
    "삼성 = Stock(\"삼성전자\", \"005930\")\n",
    "print(삼성.name)\n",
    "print(삼성.code)"
   ]
  },
  {
   "cell_type": "markdown",
   "id": "c411bb39",
   "metadata": {},
   "source": [
    "#### 263 메서드\n",
    "객체에 종목명을 입력할 수 있는 set_name 메서드를 추가해보세요."
   ]
  },
  {
   "cell_type": "code",
   "execution_count": 20,
   "id": "5b17dcd4-4266-4806-9e19-86c5018b7ce7",
   "metadata": {},
   "outputs": [],
   "source": [
    "# a = Stock(None, None)\n",
    "# a.set_name(\"삼성전자\")"
   ]
  },
  {
   "cell_type": "code",
   "execution_count": null,
   "id": "732c96fa",
   "metadata": {},
   "outputs": [],
   "source": [
    "class Stock:\n",
    "    def __init__(self, name, code):\n",
    "        self.name = name\n",
    "        self.code = code\n",
    "\n",
    "    def set_name(self, name):\n",
    "        self.name = name\n",
    "\n",
    "a = Stock(None, None)\n",
    "a.set_name(\"삼성전자\")  # Stock.set_name(a, \"삼성전자\")\n",
    "print(a.name)"
   ]
  },
  {
   "cell_type": "markdown",
   "id": "f50e0c17",
   "metadata": {},
   "source": [
    "#### 264 메서드\n",
    "객체에 종목코드를 입력할 수 있는 set_code 메서드를 추가해보세요."
   ]
  },
  {
   "cell_type": "code",
   "execution_count": null,
   "id": "9a505d72-5f68-4122-8638-cac6e7b8c1ba",
   "metadata": {},
   "outputs": [],
   "source": [
    "a = Stock(None, None)\n",
    "a.set_code(\"005930\")"
   ]
  },
  {
   "cell_type": "code",
   "execution_count": null,
   "id": "aea5035d",
   "metadata": {},
   "outputs": [],
   "source": [
    "class Stock:\n",
    "    def __init__(self, name, code):\n",
    "        self.name = name\n",
    "        self.code = code\n",
    "\n",
    "    def set_name(self, name):\n",
    "        self.name = name\n",
    "\n",
    "    def set_code(self, code):\n",
    "        self.code = code\n",
    "\n",
    "a = Stock(None, None)\n",
    "a.set_code(\"005930\")\n",
    "print(a.code)"
   ]
  },
  {
   "cell_type": "markdown",
   "id": "6e4066d2",
   "metadata": {},
   "source": [
    "#### 265 메서드\n",
    "종목명과 종목코드를 리턴하는 get_name, get_code 메서드를 추가하세요. 해당 메서드를 사용하여 종목명과 종목코드를 얻고 이를 출력해보세요."
   ]
  },
  {
   "cell_type": "code",
   "execution_count": 22,
   "id": "251ee2c8-730e-45ad-9701-bada8b99f9f7",
   "metadata": {},
   "outputs": [],
   "source": [
    "# 삼성 = Stock(\"삼성전자\", \"005930\")"
   ]
  },
  {
   "cell_type": "code",
   "execution_count": null,
   "id": "87b8f1a9",
   "metadata": {},
   "outputs": [],
   "source": [
    "class Stock:\n",
    "    def __init__(self, name, code):\n",
    "        self.name = name\n",
    "        self.code = code\n",
    "\n",
    "    def set_name(self, name):\n",
    "        self.name = name\n",
    "\n",
    "    def set_code(self, code):\n",
    "        self.code = code\n",
    "\n",
    "    def get_name(self):\n",
    "        return self.name\n",
    "\n",
    "    def get_code(self):\n",
    "        return self.code\n",
    "\n",
    "삼성 = Stock(\"삼성전자\", \"005930\")\n",
    "print(삼성.name)\n",
    "print(삼성.code)\n",
    "print(삼성.get_name())\n",
    "print(삼성.get_code())"
   ]
  },
  {
   "cell_type": "markdown",
   "id": "3cf842fc",
   "metadata": {},
   "source": [
    "#### 266 객체의 속성값 업데이트\n",
    "생성자에서 종목명, 종목코드, PER, PBR, 배당수익률을 입력 받을 수 있도록 생성자를 수정하세요. PER, PBR, 배당수익률은 float 타입입니다."
   ]
  },
  {
   "cell_type": "code",
   "execution_count": null,
   "id": "dc96999b",
   "metadata": {},
   "outputs": [],
   "source": [
    "class Stock:\n",
    "    def __init__(self, name, code, per, pbr, 배당수익률):\n",
    "        self.name = name\n",
    "        self.code = code\n",
    "        self.per = per\n",
    "        self.pbr = pbr\n",
    "        self.배당수익률 = 배당수익률\n",
    "\n",
    "    def set_name(self, name):\n",
    "        self.name = name\n",
    "\n",
    "    def set_code(self, code):\n",
    "        self.code = code\n",
    "\n",
    "    def get_name(self):\n",
    "        return self.name\n",
    "\n",
    "    def get_code(self):\n",
    "        return self.code"
   ]
  },
  {
   "attachments": {
    "8ca44caf-ce45-4197-b7b1-9c4d4a72dbe3.png": {
     "image/png": "[encoded data removed]"
    }
   },
   "cell_type": "markdown",
   "id": "224672b1",
   "metadata": {},
   "source": [
    "#### 267 객체 생성\n",
    "266번에서 정의한 생성자를 통해 다음 정보를 갖는 객체를 생성해보세요.\n",
    "\n",
    "![image.png](attachment:8ca44caf-ce45-4197-b7b1-9c4d4a72dbe3.png)"
   ]
  },
  {
   "cell_type": "code",
   "execution_count": null,
   "id": "18021e55",
   "metadata": {},
   "outputs": [],
   "source": [
    "삼성 = Stock(\"삼성전자\", \"005930\", 15.79, 1.33, 2.83)\n",
    "print(삼성.배당수익률)"
   ]
  },
  {
   "cell_type": "markdown",
   "id": "1749a819",
   "metadata": {},
   "source": [
    "#### 268. 객체의 속성 수정\n",
    "PER, PBR, 배당수익률은 변경될 수 있는 값입니다. 이 값을 변경할 때 사용하는 set_per, set_pbr, set_dividend 메서드를 추가하세요."
   ]
  },
  {
   "cell_type": "code",
   "execution_count": 55,
   "id": "162c8cac",
   "metadata": {},
   "outputs": [],
   "source": [
    "class Stock:\n",
    "    def __init__(self, name, code, per, pbr, dividend): # \"삼성전자\", \"005930\", 15.79, 1.33, 2.83\n",
    "        self.name = name # name=\"삼성전자\"\n",
    "        self.code = code # code=\"005930\"\n",
    "        self.per = per   # per=15.79\n",
    "        self.pbr = pbr   # pbr=1.33\n",
    "        self.dividend = dividend # dividend=2.83\n",
    "\n",
    "    def set_name(self, name): # name=\"삼성전자\n",
    "        self.name = name      # self.name = name=\"삼성전자\n",
    "\n",
    "    def set_code(self, code):\n",
    "        self.code = code\n",
    "\n",
    "    def get_name(self):\n",
    "        return self.name\n",
    "\n",
    "    def get_code(self):\n",
    "        return self.code\n",
    "\n",
    "    def set_per(self, per): # per=15.79\n",
    "        self.per = per      # per=15.79 > per=12.75\n",
    "\n",
    "    def set_pbr(self, pbr):\n",
    "        self.pbr = pbr\n",
    "\n",
    "    def set_dividend(self, dividend):\n",
    "        self.dividend = dividend"
   ]
  },
  {
   "cell_type": "markdown",
   "id": "871bece9",
   "metadata": {},
   "source": [
    "#### 269. 객체의 속성 수정\n",
    "267번에서 생성한 객체에 set_per 메서드를 호출하여 per 값을 12.75로 수정해보세요."
   ]
  },
  {
   "cell_type": "code",
   "execution_count": 61,
   "id": "37f676b7",
   "metadata": {},
   "outputs": [
    {
     "name": "stdout",
     "output_type": "stream",
     "text": [
      "12.75\n"
     ]
    }
   ],
   "source": [
    "삼성 = Stock(\"삼성전자\", \"005930\", 15.79, 1.33, 2.83)\n",
    "삼성.set_per(12.75)\n",
    "print(삼성.per)"
   ]
  },
  {
   "attachments": {
    "9f7bb83e-5aba-45ce-a191-7503da5f5c00.png": {
     "image/png": "[encoded data removed]"
    }
   },
   "cell_type": "markdown",
   "id": "afa2521d",
   "metadata": {},
   "source": [
    "#### 270. 여러 종목의 객체 생성\n",
    "아래의 표를 참조하여 3종목에 대해 객체를 생성하고 이를 파이썬 리스트에 저장하세요. 파이썬 리스트에 저장된 각 종목에 대해 for 루프를 통해 종목코드와 PER을 출력해보세요.\n",
    "\n",
    "![image.png](attachment:9f7bb83e-5aba-45ce-a191-7503da5f5c00.png)"
   ]
  },
  {
   "cell_type": "code",
   "execution_count": 62,
   "id": "a31aea58",
   "metadata": {},
   "outputs": [
    {
     "name": "stdout",
     "output_type": "stream",
     "text": [
      "005930 15.79\n",
      "005380 8.7\n",
      "066570 317.34\n"
     ]
    }
   ],
   "source": [
    "종목 = []\n",
    "\n",
    "삼성 = Stock(\"삼성전자\", \"005930\", 15.79, 1.33, 2.83)\n",
    "현대차 = Stock(\"현대차\", \"005380\", 8.70, 0.35, 4.27)\n",
    "LG전자 = Stock(\"LG전자\", \"066570\", 317.34, 0.69, 1.37)\n",
    "\n",
    "종목.append(삼성)\n",
    "종목.append(현대차)\n",
    "종목.append(LG전자)\n",
    "\n",
    "for i in 종목:\n",
    "    print(i.code, i.per)        # i-> Stock 클래스의 객체를 바인딩하기 때문"
   ]
  },
  {
   "cell_type": "markdown",
   "id": "d4684c0f",
   "metadata": {},
   "source": [
    "#### 271. Account 클래스\n",
    "은행에 가서 계좌를 개설하면 은행이름, 예금주, 계좌번호, 잔액이 설정됩니다. Account 클래스를 생성한 후 생성자를 구현해보세요. 생성자에서는 예금주와 초기 잔액만 입력 받습니다. 은행이름은 SC은행으로 계좌번호는 3자리-2자리-6자리 형태로 랜덤하게 생성됩니다.\n",
    "- 은행이름: SC은행\n",
    "- 계좌번호: 111-11-111111"
   ]
  },
  {
   "cell_type": "code",
   "execution_count": 43,
   "id": "61c784a6",
   "metadata": {},
   "outputs": [
    {
     "name": "stdout",
     "output_type": "stream",
     "text": [
      "num1 =  42\n",
      "num1 =  042\n",
      "김민수\n",
      "100\n",
      "SC은행\n",
      "042-67-739887\n"
     ]
    }
   ],
   "source": [
    "import random\n",
    "\n",
    "class Account:\n",
    "    def __init__(self, name, balance):\n",
    "        self.name = name\n",
    "        self.balance = balance\n",
    "        self.bank = \"SC은행\"\n",
    "        num1 = random.randint(0, 999)\n",
    "        print('num1 = ', num1)\n",
    "        num2 = random.randint(0, 99)\n",
    "        num3 = random.randint(0, 999999)\n",
    "\n",
    "        # zfill(3) 비어진 공간을 0으로 채워줌\n",
    "        num1 = str(num1).zfill(3)      # 1 -> '1' -> '001'\n",
    "        print('num1 = ', num1)\n",
    "        num2 = str(num2).zfill(2)      # 1 -> '1' -> '01'\n",
    "        num3 = str(num3).zfill(6)      # 1 -> '1' -> '0000001'\n",
    "        self.account_number = num1 + '-' + num2 + '-' + num3  # 001-01-000001\n",
    "\n",
    "kim = Account(\"김민수\", 100)\n",
    "print(kim.name)\n",
    "print(kim.balance)\n",
    "print(kim.bank)\n",
    "print(kim.account_number)"
   ]
  },
  {
   "cell_type": "markdown",
   "id": "84f267b5",
   "metadata": {},
   "source": [
    "#### 272. 클래스 변수\n",
    "클래스 변수를 사용해서 Account 클래스로부터 생성된 계좌 객체의 개수를 저장하세요."
   ]
  },
  {
   "cell_type": "code",
   "execution_count": 34,
   "id": "967a1353",
   "metadata": {},
   "outputs": [
    {
     "name": "stdout",
     "output_type": "stream",
     "text": [
      "1\n",
      "2\n"
     ]
    }
   ],
   "source": [
    "import random\n",
    "\n",
    "class Account:\n",
    "    # class variable\n",
    "    account_count = 0\n",
    "\n",
    "    def __init__(self, name, balance):\n",
    "        self.name = name\n",
    "        self.balance = balance\n",
    "        self.bank = \"SC은행\"\n",
    "\n",
    "        num1 = random.randint(0, 999)\n",
    "        num2 = random.randint(0, 99)\n",
    "        num3 = random.randint(0, 999999)\n",
    "\n",
    "        num1 = str(num1).zfill(3)      # 1 -> '1' -> '001'\n",
    "        num2 = str(num2).zfill(2)      # 1 -> '1' -> '01'\n",
    "        num3 = str(num3).zfill(6)      # 1 -> '1' -> '0000001'\n",
    "        self.account_number = num1 + '-' + num2 + '-' + num3  # 001-01-000001\n",
    "\n",
    "        Account.account_count += 1\n",
    "\n",
    "\n",
    "kim = Account(\"김민수\", 100)\n",
    "print(Account.account_count)\n",
    "lee = Account(\"이민수\", 100)\n",
    "print(Account.account_count)"
   ]
  },
  {
   "cell_type": "markdown",
   "id": "84fec643",
   "metadata": {},
   "source": [
    "#### 273. 클래스 변수 출력\n",
    "Account 클래스로부터 생성된 계좌의 개수를 출력하는 get_account_num() 메서드를 추가하세요."
   ]
  },
  {
   "cell_type": "code",
   "execution_count": null,
   "id": "b4e0bfe2",
   "metadata": {},
   "outputs": [],
   "source": [
    "import random\n",
    "\n",
    "class Account:\n",
    "    # class variable\n",
    "    account_count = 0\n",
    "\n",
    "    def __init__(self, name, balance):\n",
    "        self.name = name\n",
    "        self.balance = balance\n",
    "        self.bank = \"SC은행\"\n",
    "\n",
    "        # 3-2-6\n",
    "        num1 = random.randint(0, 999)\n",
    "        num2 = random.randint(0, 99)\n",
    "        num3 = random.randint(0, 999999)\n",
    "\n",
    "        num1 = str(num1).zfill(3)      # 1 -> '1' -> '001'\n",
    "        num2 = str(num2).zfill(2)      # 1 -> '1' -> '01'\n",
    "        num3 = str(num3).zfill(6)      # 1 -> '1' -> '0000001'\n",
    "        self.account_number = num1 + '-' + num2 + '-' + num3  # 001-01-000001\n",
    "        Account.account_count +=1\n",
    "\n",
    "    @classmethod\n",
    "    def get_account_num(cls):\n",
    "        print(cls.account_count)     # Account.account_count\n",
    "\n",
    "\n",
    "kim = Account(\"김민수\", 100)\n",
    "lee = Account(\"이민수\", 100)\n",
    "kim.get_account_num()"
   ]
  },
  {
   "cell_type": "markdown",
   "id": "3b08d467",
   "metadata": {},
   "source": [
    "#### 274. 입금 메서드\n",
    "Account 클래스에 입금을 위한 deposit 메서드를 추가하세요. 입금은 최소 1원 이상만 가능합니다."
   ]
  },
  {
   "cell_type": "code",
   "execution_count": null,
   "id": "b8377a37",
   "metadata": {},
   "outputs": [],
   "source": [
    "import random\n",
    "\n",
    "class Account:\n",
    "    # class variable\n",
    "    account_count = 0\n",
    "\n",
    "    def __init__(self, name, balance):\n",
    "        self.name = name\n",
    "        self.balance = balance\n",
    "        self.bank = \"SC은행\"\n",
    "\n",
    "        # 3-2-6\n",
    "        num1 = random.randint(0, 999)\n",
    "        num2 = random.randint(0, 99)\n",
    "        num3 = random.randint(0, 999999)\n",
    "\n",
    "        num1 = str(num1).zfill(3)      # 1 -> '1' -> '001'\n",
    "        num2 = str(num2).zfill(2)      # 1 -> '1' -> '01'\n",
    "        num3 = str(num3).zfill(6)      # 1 -> '1' -> '0000001'\n",
    "        self.account_number = num1 + '-' + num2 + '-' + num3  # 001-01-000001\n",
    "        Account.account_count +=1\n",
    "\n",
    "    @classmethod\n",
    "    def get_account_num(cls):\n",
    "        print(cls.account_count)     # Account.account_count\n",
    "\n",
    "    def deposit(self, amount):\n",
    "        if amount >= 1:\n",
    "            self.balance += amount"
   ]
  },
  {
   "cell_type": "markdown",
   "id": "530f981b",
   "metadata": {},
   "source": [
    "#### 275. 출금 메서드\n",
    "Account 클래스에 출금을 위한 withdraw 메서드를 추가하세요. 출금은 계좌의 잔고 이상으로 출금할 수는 없습니다."
   ]
  },
  {
   "cell_type": "code",
   "execution_count": null,
   "id": "a19b6d7f",
   "metadata": {},
   "outputs": [],
   "source": [
    "import random\n",
    "\n",
    "\n",
    "class Account:\n",
    "    # class variable\n",
    "    account_count = 0\n",
    "\n",
    "    def __init__(self, name, balance):\n",
    "        self.name = name\n",
    "        self.balance = balance\n",
    "        self.bank = \"SC은행\"\n",
    "\n",
    "        # 3-2-6\n",
    "        num1 = random.randint(0, 999)\n",
    "        num2 = random.randint(0, 99)\n",
    "        num3 = random.randint(0, 999999)\n",
    "\n",
    "        num1 = str(num1).zfill(3)  # 1 -> '1' -> '001'\n",
    "        num2 = str(num2).zfill(2)  # 1 -> '1' -> '01'\n",
    "        num3 = str(num3).zfill(6)  # 1 -> '1' -> '0000001'\n",
    "        self.account_number = num1 + '-' + num2 + '-' + num3  # 001-01-000001\n",
    "        Account.account_count += 1\n",
    "\n",
    "    @classmethod\n",
    "    def get_account_num(cls):\n",
    "        print(cls.account_count)  # Account.account_count\n",
    "\n",
    "    def deposit(self, amount):\n",
    "        if amount >= 1:\n",
    "            self.balance += amount\n",
    "\n",
    "    def withdraw(self, amount):\n",
    "        if self.balance > amount:\n",
    "            self.balance -= amount\n",
    "\n",
    "k = Account(\"kim\", 100)\n",
    "k.deposit(100)\n",
    "k.withdraw(90)\n",
    "print(k.balance)"
   ]
  },
  {
   "cell_type": "markdown",
   "id": "31a913c6",
   "metadata": {},
   "source": [
    "#### 276. 정보 출력 메서드\n",
    "Account 인스턴스에 저장된 정보를 출력하는 display_info() 메서드를 추가하세요. 잔고는 세자리마다 쉼표를 출력하세요.\n",
    "\n",
    "- 은행이름: SC은행\n",
    "- 예금주: 파이썬\n",
    "- 계좌번호: 111-11-111111\n",
    "- 잔고: 10,000원"
   ]
  },
  {
   "cell_type": "code",
   "execution_count": null,
   "id": "aa5e2b9c",
   "metadata": {},
   "outputs": [],
   "source": [
    "import random\n",
    "\n",
    "\n",
    "class Account:\n",
    "    # class variable\n",
    "    account_count = 0\n",
    "\n",
    "    def __init__(self, name, balance):\n",
    "        self.name = name\n",
    "        self.balance = balance\n",
    "        self.bank = \"SC은행\"\n",
    "\n",
    "        # 3-2-6\n",
    "        num1 = random.randint(0, 999)\n",
    "        num2 = random.randint(0, 99)\n",
    "        num3 = random.randint(0, 999999)\n",
    "\n",
    "        num1 = str(num1).zfill(3)  # 1 -> '1' -> '001'\n",
    "        num2 = str(num2).zfill(2)  # 1 -> '1' -> '01'\n",
    "        num3 = str(num3).zfill(6)  # 1 -> '1' -> '0000001'\n",
    "        self.account_number = num1 + '-' + num2 + '-' + num3  # 001-01-000001\n",
    "        Account.account_count += 1\n",
    "\n",
    "    @classmethod\n",
    "    def get_account_num(cls):\n",
    "        print(cls.account_count)  # Account.account_count\n",
    "\n",
    "    def deposit(self, amount):\n",
    "        if amount >= 1:\n",
    "            self.balance += amount\n",
    "\n",
    "    def withdraw(self, amount):\n",
    "        if self.balance > amount:\n",
    "            self.balance -= amount\n",
    "\n",
    "    def display_info(self):\n",
    "        print(\"은행이름: \", self.bank)\n",
    "        print(\"예금주: \", self.name)\n",
    "        print(\"계좌번호: \", self.account_number)\n",
    "        print(\"잔고: \", self.balance)\n",
    "\n",
    "\n",
    "p = Account(\"파이썬\", 10000)\n",
    "p.display_info()"
   ]
  },
  {
   "cell_type": "markdown",
   "id": "efae0457",
   "metadata": {},
   "source": [
    "#### 277. 이자 지급하기\n",
    "입금 횟수가 5회가 될 때 잔고를 기준으로 1%의 이자가 잔고에 추가되도록 코드를 변경해보세요."
   ]
  },
  {
   "cell_type": "code",
   "execution_count": null,
   "id": "e308e03d",
   "metadata": {},
   "outputs": [],
   "source": [
    "import random\n",
    "\n",
    "\n",
    "class Account:\n",
    "    # class variable\n",
    "    account_count = 0\n",
    "\n",
    "    def __init__(self, name, balance):\n",
    "        self.deposit_count = 0\n",
    "\n",
    "        self.name = name\n",
    "        self.balance = balance\n",
    "        self.bank = \"SC은행\"\n",
    "\n",
    "        # 3-2-6\n",
    "        num1 = random.randint(0, 999)\n",
    "        num2 = random.randint(0, 99)\n",
    "        num3 = random.randint(0, 999999)\n",
    "\n",
    "        num1 = str(num1).zfill(3)  # 1 -> '1' -> '001'\n",
    "        num2 = str(num2).zfill(2)  # 1 -> '1' -> '01'\n",
    "        num3 = str(num3).zfill(6)  # 1 -> '1' -> '0000001'\n",
    "        self.account_number = num1 + '-' + num2 + '-' + num3  # 001-01-000001\n",
    "        Account.account_count += 1\n",
    "\n",
    "    @classmethod\n",
    "    def get_account_num(cls):\n",
    "        print(cls.account_count)  # Account.account_count\n",
    "\n",
    "    def deposit(self, amount):\n",
    "        if amount >= 1:\n",
    "            self.balance += amount\n",
    "\n",
    "            self.deposit_count += 1\n",
    "            if self.deposit_count % 5 == 0:         # 5, 10, 15\n",
    "                # 이자 지금\n",
    "                self.balance = (self.balance * 1.01)\n",
    "\n",
    "\n",
    "    def withdraw(self, amount):\n",
    "        if self.balance > amount:\n",
    "            self.balance -= amount\n",
    "\n",
    "    def display_info(self):\n",
    "        print(\"은행이름: \", self.bank)\n",
    "        print(\"예금주: \", self.name)\n",
    "        print(\"계좌번호: \", self.account_number)\n",
    "        print(\"잔고: \", self.balance)\n",
    "\n",
    "p = Account(\"파이썬\", 10000)\n",
    "p.deposit(10000)\n",
    "p.deposit(10000)\n",
    "p.deposit(10000)\n",
    "p.deposit(5000)\n",
    "p.deposit(5000)\n",
    "print(p.balance)"
   ]
  },
  {
   "cell_type": "markdown",
   "id": "e456b3e0",
   "metadata": {},
   "source": [
    "#### 278. 여러 객체 생성\n",
    "Account 클래스로부터 3개 이상 인스턴스를 생성하고 생성된 인스턴스를 리스트에 저장해보세요."
   ]
  },
  {
   "cell_type": "code",
   "execution_count": null,
   "id": "aafe5ba3",
   "metadata": {},
   "outputs": [],
   "source": [
    "import random\n",
    "\n",
    "\n",
    "class Account:\n",
    "    # class variable\n",
    "    account_count = 0\n",
    "\n",
    "    def __init__(self, name, balance):\n",
    "        self.deposit_count = 0\n",
    "\n",
    "        self.name = name\n",
    "        self.balance = balance\n",
    "        self.bank = \"SC은행\"\n",
    "\n",
    "        # 3-2-6\n",
    "        num1 = random.randint(0, 999)\n",
    "        num2 = random.randint(0, 99)\n",
    "        num3 = random.randint(0, 999999)\n",
    "\n",
    "        num1 = str(num1).zfill(3)  # 1 -> '1' -> '001'\n",
    "        num2 = str(num2).zfill(2)  # 1 -> '1' -> '01'\n",
    "        num3 = str(num3).zfill(6)  # 1 -> '1' -> '0000001'\n",
    "        self.account_number = num1 + '-' + num2 + '-' + num3  # 001-01-000001\n",
    "        Account.account_count += 1\n",
    "\n",
    "    @classmethod\n",
    "    def get_account_num(cls):\n",
    "        print(cls.account_count)  # Account.account_count\n",
    "\n",
    "    def deposit(self, amount):\n",
    "        if amount >= 1:\n",
    "            self.balance += amount\n",
    "\n",
    "            self.deposit_count += 1\n",
    "            if self.deposit_count % 5 == 0:         # 5, 10, 15\n",
    "                # 이자 지금\n",
    "                self.balance = (self.balance * 1.01)\n",
    "\n",
    "\n",
    "    def withdraw(self, amount):\n",
    "        if self.balance > amount:\n",
    "            self.balance -= amount\n",
    "\n",
    "    def display_info(self):\n",
    "        print(\"은행이름: \", self.bank)\n",
    "        print(\"예금주: \", self.name)\n",
    "        print(\"계좌번호: \", self.account_number)\n",
    "        print(\"잔고: \", self.balance)\n",
    "\n",
    "data = []\n",
    "k = Account(\"KIM\", 10000000)\n",
    "l = Account(\"LEE\", 10000)\n",
    "p = Account(\"PARK\", 10000)\n",
    "\n",
    "data.append(k)\n",
    "data.append(l)\n",
    "data.append(p)\n",
    "\n",
    "print(data)"
   ]
  },
  {
   "cell_type": "markdown",
   "id": "63e3e838",
   "metadata": {},
   "source": [
    "#### 279. 객체 순회\n",
    "반복문을 통해 리스트에 있는 객체를 순회하면서 잔고가 100만원 이상인 고객의 정보만 출력하세요."
   ]
  },
  {
   "cell_type": "code",
   "execution_count": null,
   "id": "1e95005f",
   "metadata": {},
   "outputs": [],
   "source": [
    "import random\n",
    "\n",
    "\n",
    "class Account:\n",
    "    # class variable\n",
    "    account_count = 0\n",
    "\n",
    "    def __init__(self, name, balance):\n",
    "        self.deposit_count = 0\n",
    "\n",
    "        self.name = name\n",
    "        self.balance = balance\n",
    "        self.bank = \"SC은행\"\n",
    "\n",
    "        # 3-2-6\n",
    "        num1 = random.randint(0, 999)\n",
    "        num2 = random.randint(0, 99)\n",
    "        num3 = random.randint(0, 999999)\n",
    "\n",
    "        num1 = str(num1).zfill(3)  # 1 -> '1' -> '001'\n",
    "        num2 = str(num2).zfill(2)  # 1 -> '1' -> '01'\n",
    "        num3 = str(num3).zfill(6)  # 1 -> '1' -> '0000001'\n",
    "        self.account_number = num1 + '-' + num2 + '-' + num3  # 001-01-000001\n",
    "        Account.account_count += 1\n",
    "\n",
    "    @classmethod\n",
    "    def get_account_num(cls):\n",
    "        print(cls.account_count)  # Account.account_count\n",
    "\n",
    "    def deposit(self, amount):\n",
    "        if amount >= 1:\n",
    "            self.balance += amount\n",
    "\n",
    "            self.deposit_count += 1\n",
    "            if self.deposit_count % 5 == 0:         # 5, 10, 15\n",
    "                # 이자 지금\n",
    "                self.balance = (self.balance * 1.01)\n",
    "\n",
    "\n",
    "    def withdraw(self, amount):\n",
    "        if self.balance > amount:\n",
    "            self.balance -= amount\n",
    "\n",
    "    def display_info(self):\n",
    "        print(\"은행이름: \", self.bank)\n",
    "        print(\"예금주: \", self.name)\n",
    "        print(\"계좌번호: \", self.account_number)\n",
    "        print(\"잔고: \", self.balance)\n",
    "\n",
    "data = []\n",
    "k = Account(\"KIM\", 10000000)\n",
    "l = Account(\"LEE\", 10000)\n",
    "p = Account(\"PARK\", 10000)\n",
    "data.append(k)\n",
    "data.append(l)\n",
    "data.append(p)\n",
    "\n",
    "for c in data:\n",
    "    if c.balance >= 1000000:\n",
    "        c.display_info()"
   ]
  },
  {
   "cell_type": "markdown",
   "id": "c2f9c27f",
   "metadata": {},
   "source": [
    "#### 280. 입출금 내역\n",
    "입금과 출금 내역이 기록되도록 코드를 업데이트 하세요. 입금 내역과 출금 내역을 출력하는 deposit_history와 withdraw_history 메서드를 추가하세요."
   ]
  },
  {
   "cell_type": "code",
   "execution_count": null,
   "id": "1d5f657e",
   "metadata": {},
   "outputs": [],
   "source": [
    "import random\n",
    "\n",
    "\n",
    "class Account:\n",
    "    # class variable\n",
    "    account_count = 0\n",
    "\n",
    "    def __init__(self, name, balance):\n",
    "        self.deposit_count = 0\n",
    "        self.deposit_log = []\n",
    "        self.withdraw_log = []\n",
    "\n",
    "        self.name = name\n",
    "        self.balance = balance\n",
    "        self.bank = \"SC은행\"\n",
    "\n",
    "        # 3-2-6\n",
    "        num1 = random.randint(0, 999)\n",
    "        num2 = random.randint(0, 99)\n",
    "        num3 = random.randint(0, 999999)\n",
    "\n",
    "        num1 = str(num1).zfill(3)  # 1 -> '1' -> '001'\n",
    "        num2 = str(num2).zfill(2)  # 1 -> '1' -> '01'\n",
    "        num3 = str(num3).zfill(6)  # 1 -> '1' -> '0000001'\n",
    "        self.account_number = num1 + '-' + num2 + '-' + num3  # 001-01-000001\n",
    "        Account.account_count += 1\n",
    "\n",
    "    @classmethod\n",
    "    def get_account_num(cls):\n",
    "        print(cls.account_count)  # Account.account_count\n",
    "\n",
    "    def deposit(self, amount):\n",
    "        if amount >= 1:\n",
    "            self.deposit_log.append(amount)\n",
    "            self.balance += amount\n",
    "\n",
    "            self.deposit_count += 1\n",
    "            if self.deposit_count % 5 == 0:         # 5, 10, 15\n",
    "                # 이자 지금\n",
    "                self.balance = (self.balance * 1.01)\n",
    "\n",
    "\n",
    "    def withdraw(self, amount):\n",
    "        if self.balance > amount:\n",
    "            self.withdraw_log.append(amount)\n",
    "            self.balance -= amount\n",
    "\n",
    "    def display_info(self):\n",
    "        print(\"은행이름: \", self.bank)\n",
    "        print(\"예금주: \", self.name)\n",
    "        print(\"계좌번호: \", self.account_number)\n",
    "        print(\"잔고: \", self.balance)\n",
    "\n",
    "    def withdraw_history(self):\n",
    "        for amount in self.withdraw_log:\n",
    "            print(amount)\n",
    "\n",
    "    def deposit_history(self):\n",
    "        for amount in self.deposit_log:\n",
    "            print(amount)\n",
    "\n",
    "\n",
    "k = Account(\"Kim\", 1000)\n",
    "k.deposit(100)\n",
    "k.deposit(200)\n",
    "k.deposit(300)\n",
    "k.deposit_history()\n",
    "\n",
    "k.withdraw(100)\n",
    "k.withdraw(200)\n",
    "k.withdraw_history()"
   ]
  },
  {
   "cell_type": "markdown",
   "id": "6216cf8d",
   "metadata": {},
   "source": [
    "#### 281. 클래스 정의\n",
    "다음 코드가 동작하도록 차 클래스를 정의하세요."
   ]
  },
  {
   "cell_type": "code",
   "execution_count": null,
   "id": "e597e15b-bbc4-4604-9af5-309fa5054662",
   "metadata": {},
   "outputs": [],
   "source": [
    "# >> car = 차(2, 1000)\n",
    "# >> car.바퀴\n",
    "# 2\n",
    "# >> car.가격\n",
    "# 1000"
   ]
  },
  {
   "cell_type": "code",
   "execution_count": null,
   "id": "15b1b7fe",
   "metadata": {},
   "outputs": [],
   "source": [
    "class 차:\n",
    "    def __init__(self, 바퀴, 가격):\n",
    "        self.바퀴 = 바퀴\n",
    "        self.가격 = 가격\n",
    "\n",
    "\n",
    "car = 차(2, 1000)\n",
    "print(car.바퀴)\n",
    "print(car.가격)"
   ]
  },
  {
   "cell_type": "markdown",
   "id": "b7ccdd6f",
   "metadata": {},
   "source": [
    "#### 282. 클래스 상속\n",
    "차 클래스를 상속받은 자전차 클래스를 정의하세요."
   ]
  },
  {
   "cell_type": "code",
   "execution_count": null,
   "id": "4e08cc6f",
   "metadata": {},
   "outputs": [],
   "source": [
    "class 차:\n",
    "    def __init__(self, 바퀴, 가격):\n",
    "        self.바퀴 = 바퀴\n",
    "        self.가격 = 가격\n",
    "\n",
    "\n",
    "class 자전차(차):\n",
    "    pass"
   ]
  },
  {
   "cell_type": "markdown",
   "id": "771ea185",
   "metadata": {},
   "source": [
    "#### 283. 클래스 상속\n",
    "다음 코드가 동작하도록 자전차 클래스를 정의하세요. 단 자전차 클래스는 차 클래스를 상속받습니다."
   ]
  },
  {
   "cell_type": "code",
   "execution_count": null,
   "id": "d2f0032b-ce93-4cbb-870a-1a7131d86c55",
   "metadata": {},
   "outputs": [],
   "source": [
    "# >> bicycle = 자전차(2, 100)\n",
    "# >> bicycle.가격\n",
    "# 100"
   ]
  },
  {
   "cell_type": "code",
   "execution_count": null,
   "id": "b35bc0aa",
   "metadata": {},
   "outputs": [],
   "source": [
    "class 차:\n",
    "    def __init__(self, 바퀴, 가격):\n",
    "        self.바퀴 = 바퀴\n",
    "        self.가격 = 가격\n",
    "\n",
    "\n",
    "class 자전차(차):\n",
    "    def __init__(self, 바퀴, 가격):\n",
    "        self.바퀴 = 바퀴\n",
    "        self.가격 = 가격\n",
    "\n",
    "\n",
    "bicycle = 자전차(2, 100)\n",
    "print(bicycle.가격)"
   ]
  },
  {
   "cell_type": "markdown",
   "id": "f56054ed",
   "metadata": {},
   "source": [
    "#### 284. 클래스 상속\n",
    "다음 코드가 동작하도록 자전차 클래스를 정의하세요. 단 자전차 클래스는 차 클래스를 상속받습니다."
   ]
  },
  {
   "cell_type": "code",
   "execution_count": null,
   "id": "832763a7-2ee4-4ac7-a261-1e556973d010",
   "metadata": {},
   "outputs": [],
   "source": [
    "# >> bicycle = 자전차(2, 100, \"시마노\")\n",
    "# >> bicycle.구동계\n",
    "# 시마노"
   ]
  },
  {
   "cell_type": "code",
   "execution_count": null,
   "id": "c66b716b",
   "metadata": {},
   "outputs": [],
   "source": [
    "class 차:\n",
    "    def __init__(self, 바퀴, 가격):\n",
    "        self.바퀴 = 바퀴\n",
    "        self.가격 = 가격\n",
    "\n",
    "\n",
    "class 자전차(차):\n",
    "    def __init__(self, 바퀴, 가격, 구동계):\n",
    "        super().__init__(바퀴, 가격)\n",
    "        #차.__init__(self, 바퀴, 가격)\n",
    "        self.구동계 = 구동계\n",
    "\n",
    "\n",
    "bicycle = 자전차(2, 100, \"시마노\")\n",
    "print(bicycle.구동계)\n",
    "print(bicycle.바퀴)"
   ]
  },
  {
   "cell_type": "markdown",
   "id": "ff15684c",
   "metadata": {},
   "source": [
    "#### 285. 클래스 상속\n",
    "다음 코드가 동작하도록 차 클래스를 상속받는 자동차 클래스를 정의하세요."
   ]
  },
  {
   "cell_type": "code",
   "execution_count": 23,
   "id": "aa1133cd-a353-400e-bf2c-db36879129e5",
   "metadata": {},
   "outputs": [],
   "source": [
    "# >> car = 자동차(4, 1000)\n",
    "# >> car.정보()\n",
    "# 바퀴수 4\n",
    "# 가격 1000"
   ]
  },
  {
   "cell_type": "code",
   "execution_count": null,
   "id": "a77d8fdc",
   "metadata": {},
   "outputs": [],
   "source": [
    "class 차:\n",
    "    def __init__(self, 바퀴, 가격):\n",
    "        self.바퀴 = 바퀴\n",
    "        self.가격 = 가격\n",
    "\n",
    "\n",
    "class 자동차(차):\n",
    "    def __init__(self, 바퀴, 가격):\n",
    "        super().__init__(바퀴, 가격)\n",
    "\n",
    "    def 정보(self):\n",
    "        print(\"바퀴수 \", self.바퀴)\n",
    "        print(\"가격 \", self.가격)\n",
    "\n",
    "\n",
    "car = 자동차(4, 1000)\n",
    "car.정보()"
   ]
  },
  {
   "cell_type": "markdown",
   "id": "320ca0da",
   "metadata": {},
   "source": [
    "#### 286. 부모 클래스 생성자 호출\n",
    "다음 코드가 동작하도록 자전차 클래스를 수정하세요."
   ]
  },
  {
   "cell_type": "code",
   "execution_count": null,
   "id": "4476a66d-74c9-4b1c-a272-d0d2a175d246",
   "metadata": {},
   "outputs": [],
   "source": [
    "# >> bicycle = 자전차(2, 100, \"시마노\")\n",
    "# >> bicycle.정보()\n",
    "# 바퀴수 2\n",
    "# 가격 100"
   ]
  },
  {
   "cell_type": "code",
   "execution_count": null,
   "id": "7644ca77",
   "metadata": {},
   "outputs": [],
   "source": [
    "class 차:\n",
    "    def __init__(self, 바퀴, 가격):\n",
    "        self.바퀴 = 바퀴\n",
    "        self.가격 = 가격\n",
    "\n",
    "    def 정보(self):\n",
    "        print(\"바퀴수 \", self.바퀴)\n",
    "        print(\"가격 \", self.가격)\n",
    "\n",
    "class 자동차(차):\n",
    "    def __init__(self, 바퀴, 가격):\n",
    "        super().__init__(바퀴, 가격)\n",
    "\n",
    "class 자전차(차):\n",
    "    def __init__(self, 바퀴, 가격, 구동계):\n",
    "        super().__init__(바퀴, 가격)\n",
    "        self.구동계 = 구동계\n",
    "\n",
    "bicycle = 자전차(2, 100, \"시마노\")\n",
    "bicycle.정보()"
   ]
  },
  {
   "cell_type": "markdown",
   "id": "1196b5e2",
   "metadata": {},
   "source": [
    "#### 287. 부모 클래스 메서드 호출\n",
    "자전차의 정보() 메서드로 구동계 정보까지 출력하도록 수정해보세요."
   ]
  },
  {
   "cell_type": "code",
   "execution_count": 24,
   "id": "3c1bad57-3160-4a07-bc47-bfaff4450cea",
   "metadata": {},
   "outputs": [],
   "source": [
    "# >> bicycle = 자전차(2, 100, \"시마노\")\n",
    "# >> bicycle.정보()\n",
    "# 바퀴수 2\n",
    "# 가격 100\n",
    "# 구동계 시마노"
   ]
  },
  {
   "cell_type": "code",
   "execution_count": null,
   "id": "1928d332",
   "metadata": {},
   "outputs": [],
   "source": [
    "class 차:\n",
    "    def __init__(self, 바퀴, 가격):\n",
    "        self.바퀴 = 바퀴\n",
    "        self.가격 = 가격\n",
    "\n",
    "    def 정보(self):\n",
    "        print(\"바퀴수 \", self.바퀴)\n",
    "        print(\"가격 \", self.가격)\n",
    "\n",
    "class 자동차(차):\n",
    "    def __init__(self, 바퀴, 가격):\n",
    "        super().__init__(바퀴, 가격)\n",
    "\n",
    "class 자전차(차):\n",
    "    def __init__(self, 바퀴, 가격, 구동계):\n",
    "        super().__init__(바퀴, 가격)\n",
    "        self.구동계 = 구동계\n",
    "\n",
    "    def 정보(self):\n",
    "        super().정보()\n",
    "        print(\"구동계 \", self.구동계)\n",
    "\n",
    "bicycle = 자전차(2, 100, \"시마노\")\n",
    "bicycle.정보()"
   ]
  },
  {
   "cell_type": "markdown",
   "id": "189e5c3a",
   "metadata": {},
   "source": [
    "#### 288. 메서드 오버라이딩\n",
    "다음 코드의 실행 결과를 예상해보세요."
   ]
  },
  {
   "cell_type": "code",
   "execution_count": 25,
   "id": "d443a0f5-05b9-41dc-ba26-e6da5f19e3bc",
   "metadata": {},
   "outputs": [],
   "source": [
    "class 부모:\n",
    "  def 호출(self):\n",
    "    print(\"부모호출\")\n",
    "\n",
    "class 자식(부모):\n",
    "  def 호출(self):\n",
    "    print(\"자식호출\")"
   ]
  },
  {
   "cell_type": "code",
   "execution_count": 26,
   "id": "8f44a608-13e0-4ba7-973d-e0fd5aea0437",
   "metadata": {},
   "outputs": [
    {
     "name": "stdout",
     "output_type": "stream",
     "text": [
      "자식호출\n"
     ]
    }
   ],
   "source": [
    "나 = 자식()\n",
    "나.호출()"
   ]
  },
  {
   "cell_type": "markdown",
   "id": "1d5eea3a",
   "metadata": {},
   "source": [
    "#### 289 생성자\n",
    "다음 코드의 실행 결과를 예상해보세요."
   ]
  },
  {
   "cell_type": "code",
   "execution_count": 27,
   "id": "514cf20f-7fa2-4a5f-9620-09f068289998",
   "metadata": {},
   "outputs": [],
   "source": [
    "class 부모:\n",
    "  def __init__(self):\n",
    "    print(\"부모생성\")\n",
    "\n",
    "class 자식(부모):\n",
    "  def __init__(self):\n",
    "    print(\"자식생성\")"
   ]
  },
  {
   "cell_type": "code",
   "execution_count": 28,
   "id": "8772bc7e-a630-4501-b29f-b84a5289658a",
   "metadata": {},
   "outputs": [
    {
     "name": "stdout",
     "output_type": "stream",
     "text": [
      "자식생성\n"
     ]
    }
   ],
   "source": [
    "나 = 자식()"
   ]
  },
  {
   "cell_type": "markdown",
   "id": "dea2a767",
   "metadata": {},
   "source": [
    "#### 290. 부모클래스 생성자 호출\n",
    "다음 코드의 실행 결과를 예상해보세요."
   ]
  },
  {
   "cell_type": "code",
   "execution_count": 29,
   "id": "56ebeefe",
   "metadata": {},
   "outputs": [
    {
     "name": "stdout",
     "output_type": "stream",
     "text": [
      "자식생성\n",
      "부모생성\n"
     ]
    }
   ],
   "source": [
    "class 부모:\n",
    "    def __init__(self):\n",
    "        print(\"부모생성\")\n",
    "\n",
    "class 자식(부모):\n",
    "    def __init__(self):\n",
    "        print(\"자식생성\")\n",
    "        super().__init__()\n",
    "\n",
    "나 = 자식()"
   ]
  },
  {
   "cell_type": "code",
   "execution_count": null,
   "id": "b12c435b-0767-4c4d-9618-b77fcf36bb61",
   "metadata": {},
   "outputs": [],
   "source": []
  }
 ],
 "metadata": {
  "kernelspec": {
   "display_name": "Python 3 (ipykernel)",
   "language": "python",
   "name": "python3"
  },
  "language_info": {
   "codemirror_mode": {
    "name": "ipython",
    "version": 3
   },
   "file_extension": ".py",
   "mimetype": "text/x-python",
   "name": "python",
   "nbconvert_exporter": "python",
   "pygments_lexer": "ipython3",
   "version": "3.12.4"
  }
 },
 "nbformat": 4,
 "nbformat_minor": 5
}
