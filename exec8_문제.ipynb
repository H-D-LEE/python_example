{
 "cells": [
  {
   "cell_type": "code",
   "execution_count": null,
   "metadata": {},
   "outputs": [],
   "source": [
    "[문제1] ftest.txt 파일을 읽어서 다음과 같이 줄 수와 단어 수를 카운트 하시오.\n",
    "\n",
    "<처리 조건>\n",
    "1. 문장은 ‘n’을 구분자로 한다.\n",
    "2. 단어는 공백을 구분자로 한다.\n",
    "\n",
    "<출력 결과>\n",
    "문장내용\n",
    "[‘programming is fun’,  ‘very fun!’, ‘hava a good time’, ‘mouse is input device’, ‘keyboard is input device’, ‘computer’]\n",
    "문장수 : 6\n",
    "\n",
    "단어내용\n",
    "[‘programming ‘, ‘is’, ‘fun’,  ‘very’, fun!’, ‘hava’, ‘a’, ‘good’, ‘time’, ‘mouse’, ‘is’, ‘input’, ‘device’, ‘keyboard’, ‘is’, ‘input’, ‘device’, ‘computer’]\n",
    "단어 수 : 12"
   ]
  },
  {
   "cell_type": "code",
   "execution_count": 3,
   "metadata": {},
   "outputs": [
    {
     "name": "stdout",
     "output_type": "stream",
     "text": [
      "문장내용\n",
      "['programming is fun', 'very fun!', 'have a good time', 'mouse is input device', 'keyboard is input device', 'computer is input output system']\n",
      "\n",
      "\n",
      "단어내용\n",
      "['programming', 'is', 'fun', 'very', 'fun!', 'have', 'a', 'good', 'time', 'mouse', 'is', 'input', 'device', 'keyboard', 'is', 'input', 'device', 'computer', 'is', 'input', 'output', 'system']\n"
     ]
    }
   ],
   "source": [
    "import os\n",
    "os.getcwd()\n",
    "\n",
    "file = open('C:/Users/user/Downloads/data/data/ftest.txt', mode = 'r')\n",
    "lines = file.readlines()\n",
    "docs = []\n",
    "words = []\n",
    "\n",
    "for i in lines :\n",
    "    docs.append(i.strip())\n",
    "    for word in i.split() :\n",
    "        words.append(word)\n",
    "\n",
    "print('문장내용')\n",
    "print(docs)\n",
    "print('\\n')\n",
    "print('단어내용')\n",
    "print(words)"
   ]
  },
  {
   "cell_type": "code",
   "execution_count": null,
   "metadata": {},
   "outputs": [],
   "source": [
    "[문제2] emp.csv 파일을 읽어서 다음 출력 예시와 같이 출력하시오.\n",
    "\n",
    "<출력 예시>\n",
    "관측치 길이 : 5\n",
    "전체 평균 급여 : 370.0\n",
    "최저 급여 : 150, 이름 : 홍길동\n",
    "최고 급여 : 500, 이름 : 강감찬"
   ]
  },
  {
   "cell_type": "code",
   "execution_count": 7,
   "metadata": {},
   "outputs": [
    {
     "name": "stdout",
     "output_type": "stream",
     "text": [
      "관측지 길이 : 5\n",
      "전체 평균 급여 : 370\n",
      "최저 급여 : 150, 이름 : 홍길동\n",
      "최고 급여 : 500, 이름 : 강감찬\n"
     ]
    }
   ],
   "source": [
    "import pandas as pd\n",
    "from statistics import mean\n",
    "import os\n",
    "os.getcwd()\n",
    "emp = pd.read_csv('C:/Users/user/Downloads/data/data/emp.csv', encoding='UTF-8')\n",
    "\n",
    "name = emp.Name\n",
    "pay = emp.Pay\n",
    "print(f'관측지 길이 : {len(emp)}')\n",
    "print(f'전체 평균 급여 : {mean(pay)}')\n",
    "\n",
    "max_pay = max(pay)\n",
    "min_pay = min(pay)\n",
    "\n",
    "for i in range(len(pay)) :\n",
    "    if pay[i] == max_pay :\n",
    "        print(f'최고 급여 : {max_pay}, 이름 : {name[i]}')\n",
    "    if pay[i] == min_pay :\n",
    "        print(f'최저 급여 : {min_pay}, 이름 : {name[i]}')"
   ]
  },
  {
   "cell_type": "code",
   "execution_count": null,
   "metadata": {},
   "outputs": [],
   "source": []
  }
 ],
 "metadata": {
  "kernelspec": {
   "display_name": "Python 3 (ipykernel)",
   "language": "python",
   "name": "python3"
  },
  "language_info": {
   "codemirror_mode": {
    "name": "ipython",
    "version": 3
   },
   "file_extension": ".py",
   "mimetype": "text/x-python",
   "name": "python",
   "nbconvert_exporter": "python",
   "pygments_lexer": "ipython3",
   "version": "3.12.4"
  }
 },
 "nbformat": 4,
 "nbformat_minor": 4
}
