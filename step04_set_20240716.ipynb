{
 "cells": [
  {
   "cell_type": "code",
   "execution_count": 1,
   "metadata": {},
   "outputs": [
    {
     "data": {
      "text/plain": [
       "'\\nset 특징\\n - 순서 없음, 중복 허용 불가\\n 형식) 변수 = {값1, 값2,...} \\n - 집합 개념 \\n'"
      ]
     },
     "execution_count": 1,
     "metadata": {},
     "output_type": "execute_result"
    }
   ],
   "source": [
    "'''\n",
    "set 특징\n",
    " - 순서 없음, 중복 허용 불가\n",
    " 형식) 변수 = {값1, 값2,...} \n",
    " - 집합 개념 \n",
    "'''"
   ]
  },
  {
   "cell_type": "code",
   "execution_count": 1,
   "metadata": {},
   "outputs": [
    {
     "name": "stdout",
     "output_type": "stream",
     "text": [
      "3\n",
      "\n",
      "{1, 3, 5}\n"
     ]
    }
   ],
   "source": [
    "# 중복 불가\n",
    "s = {1,3,5,3,1}\n",
    "print(len(s)) # 3\n",
    "print()\n",
    "print(s) # {1, 3, 5}"
   ]
  },
  {
   "cell_type": "code",
   "execution_count": 2,
   "metadata": {},
   "outputs": [
    {
     "name": "stdout",
     "output_type": "stream",
     "text": [
      "1 3 5 \n"
     ]
    }
   ],
   "source": [
    "# for + set 이용\n",
    "s = {1,3,5,3,1}\n",
    "for d in s :\n",
    "    print(d, end=' ')  # 1 3 5\n",
    "print()"
   ]
  },
  {
   "cell_type": "code",
   "execution_count": 3,
   "metadata": {},
   "outputs": [
    {
     "name": "stdout",
     "output_type": "stream",
     "text": [
      "{1, 3, 5, 6}\n",
      "\n",
      "{1, 5}\n",
      "\n",
      "{3}\n"
     ]
    }
   ],
   "source": [
    "# 집합관련 함수\n",
    "s2 = {3, 6}\n",
    "print(s.union(s2)) # 합집합 : s + s2 = {1, 3, 5, 6}\n",
    "print()\n",
    "\n",
    "print(s.difference(s2)) # 차집합 : s - s2 = {1, 5}\n",
    "print()\n",
    "\n",
    "print(s.intersection(s2)) # 교집합 : {3}"
   ]
  },
  {
   "cell_type": "code",
   "execution_count": 5,
   "metadata": {},
   "outputs": [
    {
     "name": "stdout",
     "output_type": "stream",
     "text": [
      "{1, 3, 5}\n",
      "\n",
      "{1, 3, 5, 7}\n",
      "\n",
      "{'다섯', 1, 3, 5, 7}\n",
      "\n",
      "{'다섯', 1, 5, 7}\n"
     ]
    }
   ],
   "source": [
    "# 추가, 수정, 삭제 함수\n",
    "s3 = {1, 3, 5}\n",
    "print(s3)\n",
    "print()\n",
    "\n",
    "s3.add(7) # 원소 추가 \n",
    "print(s3) # {1, 3, 5, 7}\n",
    "print()\n",
    "\n",
    "s3.discard(3) # 원소 삭제\n",
    "print(s3) # {1, 5, 7}"
   ]
  },
  {
   "cell_type": "code",
   "execution_count": 6,
   "metadata": {},
   "outputs": [
    {
     "name": "stdout",
     "output_type": "stream",
     "text": [
      "['남', '여']\n",
      "여\n"
     ]
    }
   ],
   "source": [
    "# 중복 데이터 제거\n",
    "gender = ['남','여','남','여']\n",
    "sgender = set(gender) # list -> set\n",
    "lgender = list(sgender) # set -> list\n",
    "print(lgender) # ['남', '여']\n",
    "\n",
    "print(lgender[1])"
   ]
  },
  {
   "cell_type": "code",
   "execution_count": null,
   "metadata": {},
   "outputs": [],
   "source": []
  }
 ],
 "metadata": {
  "kernelspec": {
   "display_name": "Python 3 (ipykernel)",
   "language": "python",
   "name": "python3"
  },
  "language_info": {
   "codemirror_mode": {
    "name": "ipython",
    "version": 3
   },
   "file_extension": ".py",
   "mimetype": "text/x-python",
   "name": "python",
   "nbconvert_exporter": "python",
   "pygments_lexer": "ipython3",
   "version": "3.12.4"
  }
 },
 "nbformat": 4,
 "nbformat_minor": 4
}
