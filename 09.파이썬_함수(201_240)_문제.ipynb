{
 "cells": [
  {
   "cell_type": "markdown",
   "id": "b481d8d2",
   "metadata": {},
   "source": [
    "\n",
    "### 함수란 자주 사용하는 코드에 대한 이름표입니다. 변수가 어떤 값을 바인딩하는 것처럼 함수는 어떤 코드를 바인딩합니다."
   ]
  },
  {
   "cell_type": "markdown",
   "id": "cc799c25",
   "metadata": {},
   "source": [
    "#### 201. \"비트코인\" 문자열을 화면에 출력하는 print_coin() 함수를 정의하라."
   ]
  },
  {
   "cell_type": "code",
   "execution_count": 1,
   "id": "5fafc030",
   "metadata": {},
   "outputs": [],
   "source": [
    "def print_coin() :\n",
    "    print(\"비트코인\")"
   ]
  },
  {
   "cell_type": "markdown",
   "id": "00d410e8",
   "metadata": {},
   "source": [
    "#### 202. 201번에서 정의한 함수를 호출하라."
   ]
  },
  {
   "cell_type": "code",
   "execution_count": 3,
   "id": "45a15894",
   "metadata": {},
   "outputs": [
    {
     "name": "stdout",
     "output_type": "stream",
     "text": [
      "비트코인\n"
     ]
    }
   ],
   "source": [
    "print_coin()"
   ]
  },
  {
   "cell_type": "markdown",
   "id": "35d02fdc",
   "metadata": {},
   "source": [
    "#### 203. 201번에서 정의한 print_coin 함수를 100번호출하라."
   ]
  },
  {
   "cell_type": "code",
   "execution_count": 5,
   "id": "f154ebb6",
   "metadata": {},
   "outputs": [
    {
     "name": "stdout",
     "output_type": "stream",
     "text": [
      "비트코인\n",
      "비트코인\n",
      "비트코인\n",
      "비트코인\n",
      "비트코인\n",
      "비트코인\n",
      "비트코인\n",
      "비트코인\n",
      "비트코인\n",
      "비트코인\n",
      "비트코인\n",
      "비트코인\n",
      "비트코인\n",
      "비트코인\n",
      "비트코인\n",
      "비트코인\n",
      "비트코인\n",
      "비트코인\n",
      "비트코인\n",
      "비트코인\n",
      "비트코인\n",
      "비트코인\n",
      "비트코인\n",
      "비트코인\n",
      "비트코인\n",
      "비트코인\n",
      "비트코인\n",
      "비트코인\n",
      "비트코인\n",
      "비트코인\n",
      "비트코인\n",
      "비트코인\n",
      "비트코인\n",
      "비트코인\n",
      "비트코인\n",
      "비트코인\n",
      "비트코인\n",
      "비트코인\n",
      "비트코인\n",
      "비트코인\n",
      "비트코인\n",
      "비트코인\n",
      "비트코인\n",
      "비트코인\n",
      "비트코인\n",
      "비트코인\n",
      "비트코인\n",
      "비트코인\n",
      "비트코인\n",
      "비트코인\n",
      "비트코인\n",
      "비트코인\n",
      "비트코인\n",
      "비트코인\n",
      "비트코인\n",
      "비트코인\n",
      "비트코인\n",
      "비트코인\n",
      "비트코인\n",
      "비트코인\n",
      "비트코인\n",
      "비트코인\n",
      "비트코인\n",
      "비트코인\n",
      "비트코인\n",
      "비트코인\n",
      "비트코인\n",
      "비트코인\n",
      "비트코인\n",
      "비트코인\n",
      "비트코인\n",
      "비트코인\n",
      "비트코인\n",
      "비트코인\n",
      "비트코인\n",
      "비트코인\n",
      "비트코인\n",
      "비트코인\n",
      "비트코인\n",
      "비트코인\n",
      "비트코인\n",
      "비트코인\n",
      "비트코인\n",
      "비트코인\n",
      "비트코인\n",
      "비트코인\n",
      "비트코인\n",
      "비트코인\n",
      "비트코인\n",
      "비트코인\n",
      "비트코인\n",
      "비트코인\n",
      "비트코인\n",
      "비트코인\n",
      "비트코인\n",
      "비트코인\n",
      "비트코인\n",
      "비트코인\n",
      "비트코인\n",
      "비트코인\n"
     ]
    }
   ],
   "source": [
    "for i in range(100) :\n",
    "    print_coin()"
   ]
  },
  {
   "cell_type": "markdown",
   "id": "72327e11",
   "metadata": {},
   "source": [
    "#### 204. \"비트코인\" 문자열을 100번 화면에 출력하는 print_coins() 함수를 정의하라."
   ]
  },
  {
   "cell_type": "code",
   "execution_count": 7,
   "id": "d4dd8fb8",
   "metadata": {},
   "outputs": [],
   "source": [
    "def print_coins() :\n",
    "    for i in range(100) :\n",
    "        print(\"비트코인\")"
   ]
  },
  {
   "cell_type": "markdown",
   "id": "18a38676",
   "metadata": {},
   "source": [
    "#### 205. 아래의 에러가 발생하는 이유에 대해 설명하라.\n",
    "\n",
    "> hello()\n",
    "\n",
    "> def hello():\n",
    "\n",
    ">     print(\"Hi\")\n",
    "    \n",
    "- 실행 예\n",
    "\n",
    "NameError: name 'hello' is not defined"
   ]
  },
  {
   "cell_type": "code",
   "execution_count": null,
   "id": "b0c4dbeb",
   "metadata": {},
   "outputs": [],
   "source": [
    "# hello() 함수가 정의 되기 전에 실행되기 떄문이다."
   ]
  },
  {
   "cell_type": "markdown",
   "id": "f5fd9152",
   "metadata": {},
   "source": [
    "#### 206. 아래 코드의 실행 결과를 예측하라.\n",
    "\n",
    "def message() :\n",
    "    print(\"A\")\n",
    "    print(\"B\")\n",
    "\n",
    "message()\n",
    "print(\"C\")\n",
    "message()"
   ]
  },
  {
   "cell_type": "code",
   "execution_count": null,
   "id": "99e780df-b739-43d0-8962-6bde73de4ea8",
   "metadata": {},
   "outputs": [],
   "source": [
    "invalid syntax\n",
    "A\n",
    "B\n",
    "C\n",
    "A\n",
    "B"
   ]
  },
  {
   "cell_type": "markdown",
   "id": "7d265a61",
   "metadata": {},
   "source": [
    "#### 207. 아래 코드의 실행 결과를 예측하라. (읽기 어려운 코드의 예입니다.)\n",
    "\n",
    "print(\"A\")\n",
    "\n",
    "def message() :\n",
    ">    print(\"B\")\n",
    "\n",
    "print(\"C\")\n",
    "message()"
   ]
  },
  {
   "cell_type": "code",
   "execution_count": null,
   "id": "d546942a",
   "metadata": {},
   "outputs": [],
   "source": [
    "A\n",
    "C\n",
    "B"
   ]
  },
  {
   "cell_type": "markdown",
   "id": "c9e94387",
   "metadata": {},
   "source": [
    "#### 208. 아래 코드의 실행 결과를 예측하라. (읽기 어려운 코드의 예입니다.)\n",
    "\n",
    "> print(\"A\")\n",
    "\n",
    "> def message1() :\n",
    ">>    print(\"B\")\n",
    "\n",
    "> print(\"C\")\n",
    "\n",
    "> def message2() :\n",
    ">>    print(\"D\")\n",
    "\n",
    "> message1()\n",
    "\n",
    "> print(\"E\")\n",
    "\n",
    "> message2()"
   ]
  },
  {
   "cell_type": "code",
   "execution_count": null,
   "id": "efa091f8",
   "metadata": {},
   "outputs": [],
   "source": [
    "A\n",
    "C\n",
    "B\n",
    "E\n",
    "D"
   ]
  },
  {
   "cell_type": "markdown",
   "id": "8cabe197",
   "metadata": {},
   "source": [
    "#### 209. 아래 코드의 실행 결과를 예측하라.\n",
    "\n",
    "> def message1():\n",
    ">>     print(\"A\")\n",
    "\n",
    "> def message2():\n",
    ">>     print(\"B\")\n",
    ">>     message1()\n",
    "\n",
    "> message2()"
   ]
  },
  {
   "cell_type": "code",
   "execution_count": null,
   "id": "cd65cf20",
   "metadata": {},
   "outputs": [],
   "source": [
    "B\n",
    "A"
   ]
  },
  {
   "cell_type": "markdown",
   "id": "5fd7c3bb",
   "metadata": {},
   "source": [
    "#### 210. 아래 코드의 실행 결과를 예측하라.\n",
    "\n",
    "> def message1():\n",
    ">>     print(\"A\")\n",
    "\n",
    "> def message2():\n",
    ">>     print(\"B\")\n",
    "\n",
    "> def message3():\n",
    ">>     for i in range (3) :\n",
    ">>>         message2()\n",
    ">>>         print(\"C\")\n",
    ">>     message1()\n",
    "\n",
    "> message3()"
   ]
  },
  {
   "cell_type": "code",
   "execution_count": null,
   "id": "5e5b2a69",
   "metadata": {},
   "outputs": [],
   "source": [
    "B\n",
    "C\n",
    "A\n",
    "B\n",
    "C\n",
    "A\n",
    "B\n",
    "C\n",
    "A"
   ]
  },
  {
   "cell_type": "markdown",
   "id": "28cd8342",
   "metadata": {},
   "source": [
    "#### 211. 함수의 호출 결과를 예측하라.\n",
    "\n",
    "> def 함수(문자열) :\n",
    ">>     print(문자열)\n",
    "\n",
    "> 함수(\"안녕\")\n",
    "\n",
    "> 함수(\"Hi\")"
   ]
  },
  {
   "cell_type": "code",
   "execution_count": null,
   "id": "924553ff",
   "metadata": {},
   "outputs": [],
   "source": [
    "안녕\n",
    "Hi"
   ]
  },
  {
   "cell_type": "markdown",
   "id": "de312537",
   "metadata": {},
   "source": [
    "#### 212. 함수의 호출 결과를 예측하라.\n",
    "\n",
    "> def 함수(a, b) :\n",
    ">>     print(a + b)\n",
    "\n",
    "> 함수(3, 4)\n",
    "\n",
    "> 함수(7, 8)"
   ]
  },
  {
   "cell_type": "code",
   "execution_count": null,
   "id": "b8dc6834",
   "metadata": {},
   "outputs": [],
   "source": [
    "7\n",
    "15"
   ]
  },
  {
   "cell_type": "markdown",
   "id": "c411bb39",
   "metadata": {},
   "source": [
    "#### 213. 아래와 같은 에러가 발생하는 원인을 설명하라.\n",
    "\n",
    "> def 함수(문자열) :\n",
    ">>     print(문자열)\n",
    "\n",
    "> 함수()\n",
    "\n",
    "> TypeError: 함수() missing 1 required positional argument: '문자열'"
   ]
  },
  {
   "cell_type": "code",
   "execution_count": null,
   "id": "732c96fa",
   "metadata": {},
   "outputs": [],
   "source": [
    "함수를 호출할때 매개변수 안에 문자열을 집어넣지 않고 실행 시켰기 때문이다."
   ]
  },
  {
   "cell_type": "markdown",
   "id": "f50e0c17",
   "metadata": {},
   "source": [
    "#### 214. 아래와 같은 에러가 발생하는 원인을 설명하라.\n",
    "\n",
    "> def 함수(a, b) :\n",
    ">>     print(a + b)\n",
    "\n",
    "> 함수(\"안녕\", 3)\n",
    "\n",
    "> TypeError: must be str, not int"
   ]
  },
  {
   "cell_type": "code",
   "execution_count": null,
   "id": "aea5035d",
   "metadata": {},
   "outputs": [],
   "source": [
    "함수내에서 입력 받은 매개변수를 더하고 출력하는것을 실행 시키는데 \n",
    "입력 받은 값은 문자열과 정수형이므로 데이터 타입이 달라 실행되지 않는다."
   ]
  },
  {
   "cell_type": "markdown",
   "id": "6e4066d2",
   "metadata": {},
   "source": [
    "#### 215. 하나의 문자를 입력받아 문자열 끝에 \":D\" 스마일 문자열을 이어 붙여 출력하는 print_with_smile 함수를 정의하라."
   ]
  },
  {
   "cell_type": "code",
   "execution_count": 30,
   "id": "87b8f1a9",
   "metadata": {},
   "outputs": [],
   "source": [
    "def print_with_smile(a) :\n",
    "    print(a + \":D\")"
   ]
  },
  {
   "cell_type": "markdown",
   "id": "3cf842fc",
   "metadata": {},
   "source": [
    "#### 216. 215에서 정의한 함수를 호출하라. 파라미터는 \"안녕하세요\"로 입력하라.\n",
    "\n",
    " \n",
    "\n"
   ]
  },
  {
   "cell_type": "code",
   "execution_count": 32,
   "id": "dc96999b",
   "metadata": {},
   "outputs": [
    {
     "name": "stdin",
     "output_type": "stream",
     "text": [
      " 안녕하세요\n"
     ]
    },
    {
     "name": "stdout",
     "output_type": "stream",
     "text": [
      "안녕하세요:D\n"
     ]
    }
   ],
   "source": [
    "a = input()\n",
    "print_with_smile(a)"
   ]
  },
  {
   "cell_type": "markdown",
   "id": "224672b1",
   "metadata": {},
   "source": [
    "#### 217. 현재 가격을 입력 받아 상한가 (30%)를 출력하는 print_upper_price 함수를 정의하라."
   ]
  },
  {
   "cell_type": "code",
   "execution_count": 34,
   "id": "18021e55",
   "metadata": {},
   "outputs": [],
   "source": [
    "def print_upper_price(price) :\n",
    "    max = price * 1.3\n",
    "    print(max)"
   ]
  },
  {
   "cell_type": "markdown",
   "id": "1749a819",
   "metadata": {},
   "source": [
    "#### 218. 두 개의 숫자를 입력받아 두 수의 합을 출력하는 print_sum 함수를 정의하라."
   ]
  },
  {
   "cell_type": "code",
   "execution_count": 36,
   "id": "162c8cac",
   "metadata": {},
   "outputs": [],
   "source": [
    "def print_sum(a, b) :\n",
    "    sum = a + b\n",
    "    print(sum)"
   ]
  },
  {
   "cell_type": "markdown",
   "id": "871bece9",
   "metadata": {},
   "source": [
    "#### 219. 두 개의 숫자를 입력받아 합/차/곱/나눗셈을 출력하는 print_arithmetic_operation 함수를 작성하라."
   ]
  },
  {
   "cell_type": "code",
   "execution_count": null,
   "id": "37f676b7",
   "metadata": {},
   "outputs": [],
   "source": [
    "def print_arithmetic_operation(a, b) :\n",
    "    sum = a + b\n",
    "    min = a - b\n",
    "    mul = a * b\n",
    "    div = a / b\n",
    "    print(sum, min, mul, div)"
   ]
  },
  {
   "cell_type": "markdown",
   "id": "afa2521d",
   "metadata": {},
   "source": [
    "#### 220. 세 개의 숫자를 입력받아 가장 큰수를 출력하는 print_max 함수를 정의하라. 단 if 문을 사용해서 수를 비교하라."
   ]
  },
  {
   "cell_type": "code",
   "execution_count": 38,
   "id": "a31aea58",
   "metadata": {},
   "outputs": [],
   "source": [
    "def print_max(a, b, c) :\n",
    "    if a > b :\n",
    "        if a > c :\n",
    "            print(a)\n",
    "        elif a == c :\n",
    "            print(a)\n",
    "        else :\n",
    "            print(c)\n",
    "    elif a < b :\n",
    "        if b > c :\n",
    "            print(b)\n",
    "        elif b == c :\n",
    "            print(b)\n",
    "        else :\n",
    "            print(c)\n",
    "    else :\n",
    "        if a > c :\n",
    "            print(a)\n",
    "        elif a == c :\n",
    "            print(a)\n",
    "        else :\n",
    "            print(c)"
   ]
  },
  {
   "cell_type": "markdown",
   "id": "d4684c0f",
   "metadata": {},
   "source": [
    "#### 221. 입력된 문자열을 역순으로 출력하는 print_reverse 함수를 정의하라.\n",
    "\n",
    "> print_reverse(\"python\")\n",
    "\n",
    "> nohtyp"
   ]
  },
  {
   "cell_type": "code",
   "execution_count": 40,
   "id": "f5e69485-b783-405d-86f9-ddc0e3cacbba",
   "metadata": {},
   "outputs": [
    {
     "name": "stdout",
     "output_type": "stream",
     "text": [
      "nohtyp\n"
     ]
    }
   ],
   "source": [
    "def print_reverse(a) :\n",
    "    print(a[::-1])\n",
    "print_reverse(\"python\")"
   ]
  },
  {
   "cell_type": "markdown",
   "id": "84f267b5",
   "metadata": {},
   "source": [
    "#### 222. 성적 리스트를 입력 받아 평균을 출력하는 print_score 함수를 정의하라.\n",
    "\n",
    "> print_score ([1, 2, 3])\n",
    "\n",
    "> 2.0"
   ]
  },
  {
   "cell_type": "code",
   "execution_count": 54,
   "id": "967a1353",
   "metadata": {},
   "outputs": [
    {
     "name": "stdin",
     "output_type": "stream",
     "text": [
      " 44\n",
      " 23\n",
      " 15\n"
     ]
    },
    {
     "name": "stdout",
     "output_type": "stream",
     "text": [
      "27.333333333333332\n"
     ]
    }
   ],
   "source": [
    "def print_score(list1) :\n",
    "    sum = 0\n",
    "    avg = 0\n",
    "    for i in range(len(list1)) :\n",
    "        sum += list1[i]\n",
    "    avg = sum / len(list1)\n",
    "    print(avg)\n",
    "\n",
    "list1 = [1, 2, 3]\n",
    "for i in range(len(list1)) :\n",
    "    list1[i] = int(input())\n",
    "\n",
    "print_score(list1)"
   ]
  },
  {
   "cell_type": "markdown",
   "id": "84fec643",
   "metadata": {},
   "source": [
    "#### 223. 하나의 리스트를 입력받아 짝수만 화면에 출력하는 print_even 함수를 정의하라.\n",
    "\n",
    "> print_even ([1, 3, 2, 10, 12, 11, 15])\n",
    "\n",
    "> 2\n",
    "\n",
    "> 10\n",
    "\n",
    "> 12"
   ]
  },
  {
   "cell_type": "code",
   "execution_count": 56,
   "id": "b4e0bfe2",
   "metadata": {},
   "outputs": [
    {
     "name": "stdout",
     "output_type": "stream",
     "text": [
      "2\n",
      "10\n",
      "12\n"
     ]
    }
   ],
   "source": [
    "def print_even(even) :\n",
    "    for i in range(len(even)) :\n",
    "        if even[i] % 2 == 0 :\n",
    "            print(even[i])\n",
    "\n",
    "print_even([1, 3, 2, 10, 12, 11, 15])"
   ]
  },
  {
   "cell_type": "markdown",
   "id": "3b08d467",
   "metadata": {},
   "source": [
    "#### 224. 하나의 딕셔너리를 입력받아 딕셔너리의 key 값을 화면에 출력하는 print_keys 함수를 정의하라.\n",
    "\n",
    "> print_keys ({\"이름\":\"김말똥\", \"나이\":30, \"성별\":0})\n",
    "\n",
    "> 이름\n",
    "\n",
    "> 나이\n",
    "\n",
    "> 성별"
   ]
  },
  {
   "cell_type": "code",
   "execution_count": 58,
   "id": "b8377a37",
   "metadata": {},
   "outputs": [
    {
     "name": "stdout",
     "output_type": "stream",
     "text": [
      "이름\n",
      "나이\n",
      "성별\n"
     ]
    }
   ],
   "source": [
    "def print_keys(dict1) :\n",
    "    for i, j in dict1.items() :\n",
    "        print(i)\n",
    "\n",
    "print_keys ({\"이름\":\"김말똥\", \"나이\":30, \"성별\":0})"
   ]
  },
  {
   "cell_type": "markdown",
   "id": "530f981b",
   "metadata": {},
   "source": [
    "#### 225. my_dict에는 날짜를 키값으로 OHLC가 리스트로 저장돼 있다.\n",
    "\n",
    "> my_dict = {\"10/26\" : [100, 130, 100, 100], \"10/27\" : [10, 12, 10, 11]}\n",
    "\n",
    "#### my_dict와 날짜 키값을 입력받아 OHLC 리스트를 출력하는 print_value_by_key 함수를 정의하라.\n",
    "\n",
    "> print_value_by_key  (my_dict, \"10/26\")\n",
    "\n",
    "> [100, 130, 100, 100]"
   ]
  },
  {
   "cell_type": "code",
   "execution_count": 64,
   "id": "a19b6d7f",
   "metadata": {},
   "outputs": [
    {
     "name": "stdout",
     "output_type": "stream",
     "text": [
      "[100, 130, 100, 100]\n"
     ]
    }
   ],
   "source": [
    "def print_value_by_key(dict1, str1) :\n",
    "    for i, j in dict1.items() :\n",
    "        if i == str1 :\n",
    "            print(dict1[i])\n",
    "\n",
    "my_dict = {\"10/26\" : [100, 130, 100, 100], \"10/27\" : [10, 12, 10, 11]}\n",
    "print_value_by_key(my_dict, \"10/26\")"
   ]
  },
  {
   "cell_type": "markdown",
   "id": "31a913c6",
   "metadata": {},
   "source": [
    "#### 226. 입력 문자열을 한 줄에 다섯글자씩 출력하는 print_5xn(string) 함수를 작성하라.\n",
    "\n",
    "> print_5xn(\"아이엠어보이유알어걸\")\n",
    "\n",
    "> 아이엠어보\n",
    "\n",
    "> 이유알어걸"
   ]
  },
  {
   "cell_type": "code",
   "execution_count": 88,
   "id": "aa5e2b9c",
   "metadata": {},
   "outputs": [
    {
     "name": "stdout",
     "output_type": "stream",
     "text": [
      "아이엠어보\n",
      "이유알어걸\n"
     ]
    }
   ],
   "source": [
    "def print_5xn(str1) :\n",
    "    for i in range(0, len(str1)) :\n",
    "        if i % 5 == 0 :\n",
    "            print(str1[i:i+5])\n",
    "print_5xn(\"아이엠어보이유알어걸\")"
   ]
  },
  {
   "cell_type": "markdown",
   "id": "efae0457",
   "metadata": {},
   "source": [
    "#### 227. 문자열과 한줄에 출력될 글자 수를 입력을 받아 한 줄에 입력된 글자 수만큼 출력하는 print_mxn(string) 함수를 작성하라.\n",
    "\n",
    "> printmxn(\"아이엠어보이유알어걸\", 3)\n",
    "\n",
    "> 아이엠\n",
    "\n",
    "> 어보이\n",
    "\n",
    "> 유알어\n",
    "\n",
    "> 걸"
   ]
  },
  {
   "cell_type": "code",
   "execution_count": 92,
   "id": "e308e03d",
   "metadata": {},
   "outputs": [
    {
     "name": "stdout",
     "output_type": "stream",
     "text": [
      "아이엠\n",
      "어보이\n",
      "유알어\n",
      "걸\n"
     ]
    }
   ],
   "source": [
    "def printmxn(str1, num) :\n",
    "    for i in range(0, len(str1)) :\n",
    "        if i % num == 0 :\n",
    "            print(str1[i:i+num])\n",
    "printmxn(\"아이엠어보이유알어걸\", 3)"
   ]
  },
  {
   "cell_type": "markdown",
   "id": "e456b3e0",
   "metadata": {},
   "source": [
    "#### 228. 연봉을 입력받아 월급을 계산하는 calc_monthly_salary(annual_salary) 함수를 정의하라. 회사는 연봉을 12개월로 나누어 분할 지급하며, 이 때 1원 미만은 버림한다.\n",
    "\n",
    "> calc_monthly_salary(12000000)\n",
    "\n",
    "> 1000000"
   ]
  },
  {
   "cell_type": "code",
   "execution_count": 94,
   "id": "aafe5ba3",
   "metadata": {},
   "outputs": [
    {
     "name": "stdout",
     "output_type": "stream",
     "text": [
      "1000000.0\n"
     ]
    }
   ],
   "source": [
    "def calc_monthly_salary(annual_salary) :\n",
    "    salary = annual_salary / 12\n",
    "    print(salary)\n",
    "calc_monthly_salary(12000000)"
   ]
  },
  {
   "cell_type": "markdown",
   "id": "63e3e838",
   "metadata": {},
   "source": [
    "#### 229. 아래 코드의 실행 결과를 예측하라.\n",
    "\n",
    "> def my_print (a, b) :\n",
    ">>     print(\"왼쪽:\", a)\n",
    ">>     print(\"오른쪽:\", b)\n",
    "\n",
    "> my_print(a=100, b=200)"
   ]
  },
  {
   "cell_type": "code",
   "execution_count": 96,
   "id": "1e95005f",
   "metadata": {},
   "outputs": [
    {
     "name": "stdout",
     "output_type": "stream",
     "text": [
      "왼쪽: 100\n",
      "오른쪽: 200\n"
     ]
    },
    {
     "data": {
      "text/plain": [
       "200"
      ]
     },
     "execution_count": 96,
     "metadata": {},
     "output_type": "execute_result"
    }
   ],
   "source": [
    "def my_print (a, b) :\n",
    "    print(\"왼쪽:\", a)\n",
    "    print(\"오른쪽:\", b)\n",
    "my_print(a=100, b=200)\n",
    "\n",
    "왼쪽: 100\n",
    "오른쪽: 200"
   ]
  },
  {
   "cell_type": "markdown",
   "id": "c2f9c27f",
   "metadata": {},
   "source": [
    "#### 230. 아래 코드의 실행 결과를 예측하라.\n",
    "\n",
    "> def my_print (a, b) :\n",
    ">>     print(\"왼쪽:\", a)\n",
    ">>     print(\"오른쪽:\", b)\n",
    "\n",
    "> my_print(b=100, a=200)"
   ]
  },
  {
   "cell_type": "code",
   "execution_count": null,
   "id": "1d5f657e",
   "metadata": {},
   "outputs": [],
   "source": [
    "왼쪽: 200\n",
    "오른쪽: 100"
   ]
  },
  {
   "cell_type": "markdown",
   "id": "6216cf8d",
   "metadata": {},
   "source": [
    "#### 231. 아래 코드를 실행한 결과를 예상하라.\n",
    "\n",
    "> def n_plus_1 (n) :\n",
    ">>     result = n + 1\n",
    "\n",
    "> n_plus_1(3)\n",
    "\n",
    "> print (result)"
   ]
  },
  {
   "cell_type": "code",
   "execution_count": null,
   "id": "15b1b7fe",
   "metadata": {},
   "outputs": [],
   "source": [
    "에러\n",
    "result는 선언되어있지 않다"
   ]
  },
  {
   "cell_type": "markdown",
   "id": "b7ccdd6f",
   "metadata": {},
   "source": [
    "#### 232. 문자열 하나를 입력받아 인터넷 주소를 반환하는 make_url 함수를 정의하라.\n",
    "\n",
    "> make_url(\"naver\")\n",
    "\n",
    "> www.naver.com"
   ]
  },
  {
   "cell_type": "code",
   "execution_count": 100,
   "id": "4e08cc6f",
   "metadata": {},
   "outputs": [
    {
     "name": "stdout",
     "output_type": "stream",
     "text": [
      "www.naver.com\n"
     ]
    }
   ],
   "source": [
    "def make_url(str1) :\n",
    "    print(\"www.\" + str1 + \".com\")\n",
    "make_url(\"naver\")"
   ]
  },
  {
   "cell_type": "markdown",
   "id": "771ea185",
   "metadata": {},
   "source": [
    "#### 233. 문자열을 입력받아 각 문자들로 구성된 리스트로 반환하는 make_list 함수를 정의하라.\n",
    "\n",
    "> make_list(\"abcd\")\n",
    "\n",
    "> ['a', 'b', 'c', 'd']"
   ]
  },
  {
   "cell_type": "code",
   "execution_count": 108,
   "id": "b35bc0aa",
   "metadata": {},
   "outputs": [
    {
     "name": "stdout",
     "output_type": "stream",
     "text": [
      "['a', 'b', 'c', 'd']\n"
     ]
    }
   ],
   "source": [
    "def make_list(str1) :\n",
    "    list1 = []\n",
    "    for i in range(len(str1)) :\n",
    "        list1.append(str1[i:i+1])\n",
    "    print(list1)\n",
    "make_list(\"abcd\")"
   ]
  },
  {
   "cell_type": "markdown",
   "id": "f56054ed",
   "metadata": {},
   "source": [
    "#### 234. 숫자로 구성된 하나의 리스트를 입력받아, 짝수들을 추출하여 리스트로 반환하는 pickup_even 함수를 구현하라.\n",
    "\n",
    "> pickup_even([3, 4, 5, 6, 7, 8])\n",
    "\n",
    "> [4, 6, 8]"
   ]
  },
  {
   "cell_type": "code",
   "execution_count": 110,
   "id": "c66b716b",
   "metadata": {},
   "outputs": [
    {
     "name": "stdout",
     "output_type": "stream",
     "text": [
      "[4, 6, 8]\n"
     ]
    }
   ],
   "source": [
    "def pickup_even(list1) :\n",
    "    even_list = []\n",
    "    for i in range(len(list1)) :\n",
    "        if list1[i] % 2 == 0 :\n",
    "            even_list.append(list1[i])\n",
    "    print(even_list)\n",
    "pickup_even([3, 4, 5, 6, 7, 8])"
   ]
  },
  {
   "cell_type": "markdown",
   "id": "ff15684c",
   "metadata": {},
   "source": [
    "#### 235. 콤마가 포함된 문자열 숫자를 입력받아 정수로 변환하는 convert_int 함수를 정의하라.\n",
    "\n",
    "> convert_int(\"1,234,567\")\n",
    "\n",
    "> 1234567"
   ]
  },
  {
   "cell_type": "code",
   "execution_count": 112,
   "id": "a77d8fdc",
   "metadata": {},
   "outputs": [
    {
     "name": "stdout",
     "output_type": "stream",
     "text": [
      "1234567\n"
     ]
    }
   ],
   "source": [
    "def convert_int(str1) :\n",
    "    list1 = str1.split(',')\n",
    "    str2 = ''\n",
    "    for i in range(len(list1)) :\n",
    "        str2 += list1[i]\n",
    "    int1 = int(str2)\n",
    "    print(int1)\n",
    "convert_int(\"1,234,567\")"
   ]
  },
  {
   "cell_type": "markdown",
   "id": "320ca0da",
   "metadata": {},
   "source": [
    "#### 236. 아래 코드의 실행 결과를 예측하라.\n",
    "\n",
    "> def 함수(num) :\n",
    ">>     return num + 4\n",
    "\n",
    "> a = 함수(10)\n",
    "\n",
    "> b = 함수(a)\n",
    "\n",
    "> c = 함수(b)\n",
    "\n",
    "> print(c)"
   ]
  },
  {
   "cell_type": "code",
   "execution_count": null,
   "id": "7644ca77",
   "metadata": {},
   "outputs": [],
   "source": [
    "22"
   ]
  },
  {
   "cell_type": "markdown",
   "id": "1196b5e2",
   "metadata": {},
   "source": [
    "#### 237. 아래 코드의 실행 결과를 예측하라.\n",
    "\n",
    "> def 함수(num) :\n",
    ">>     return num + 4\n",
    "\n",
    "> c = 함수(함수(함수(10)))\n",
    "\n",
    "> print(c)"
   ]
  },
  {
   "cell_type": "code",
   "execution_count": null,
   "id": "1928d332",
   "metadata": {},
   "outputs": [],
   "source": [
    "22"
   ]
  },
  {
   "cell_type": "markdown",
   "id": "189e5c3a",
   "metadata": {},
   "source": [
    "#### 238. 아래 코드의 실행 결과를 예측하라.\n",
    "\n",
    "> def 함수1(num) :\n",
    ">>     return num + 4\n",
    "\n",
    "> def 함수2(num) :\n",
    ">>     return num * 10\n",
    "\n",
    "> a = 함수1(10)\n",
    "\n",
    "> c = 함수2(a)\n",
    "\n",
    "> print(c)"
   ]
  },
  {
   "cell_type": "code",
   "execution_count": null,
   "id": "a902bc1a-3a6b-4072-8ff0-d73cf6390cba",
   "metadata": {},
   "outputs": [],
   "source": [
    "140"
   ]
  },
  {
   "cell_type": "markdown",
   "id": "1d5eea3a",
   "metadata": {},
   "source": [
    "#### 239. 아래 코드의 실행 결과를 예측하라.\n",
    "\n",
    "> def 함수1(num) :\n",
    ">>     return num + 4\n",
    "\n",
    "> def 함수2(num) :\n",
    ">>     num = num + 2\n",
    ">>     return 함수1(num)\n",
    "\n",
    "> c = 함수2(10)\n",
    "\n",
    "> print(c)"
   ]
  },
  {
   "cell_type": "code",
   "execution_count": null,
   "id": "dcbea886",
   "metadata": {},
   "outputs": [],
   "source": [
    "16"
   ]
  },
  {
   "cell_type": "markdown",
   "id": "dea2a767",
   "metadata": {},
   "source": [
    "#### 240. 아래 코드의 실행 결과를 예측하라.\n",
    "\n",
    "> def 함수0(num) :\n",
    ">>     return num * 2\n",
    "\n",
    "> def 함수1(num) :\n",
    ">>     return 함수0(num + 2)\n",
    "\n",
    "> def 함수2(num) :\n",
    ">>     num = num + 10\n",
    ">>     return 함수1(num)\n",
    "\n",
    "> c = 함수2(2)\n",
    "\n",
    "> print(c)"
   ]
  },
  {
   "cell_type": "code",
   "execution_count": null,
   "id": "56ebeefe",
   "metadata": {},
   "outputs": [],
   "source": [
    "28"
   ]
  }
 ],
 "metadata": {
  "kernelspec": {
   "display_name": "Python 3 (ipykernel)",
   "language": "python",
   "name": "python3"
  },
  "language_info": {
   "codemirror_mode": {
    "name": "ipython",
    "version": 3
   },
   "file_extension": ".py",
   "mimetype": "text/x-python",
   "name": "python",
   "nbconvert_exporter": "python",
   "pygments_lexer": "ipython3",
   "version": "3.12.4"
  }
 },
 "nbformat": 4,
 "nbformat_minor": 5
}
