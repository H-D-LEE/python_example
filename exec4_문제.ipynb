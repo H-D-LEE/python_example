{
 "cells": [
  {
   "cell_type": "code",
   "execution_count": null,
   "metadata": {},
   "outputs": [],
   "source": [
    "[문제1] \n",
    "다음 lst 변수를 대상으로 (lst = [10,1,5,2])\n",
    "각 단계별로 list를 연산하시오\n",
    "\n",
    "<각 단계별 출력 결과 예시>\n",
    "단계 1 : [10,1,5,2,10,1,5,2]\n",
    "단계 2 : [10,1,5,2,10,1,5,2,20]\n",
    "단계 3 : [1,2,1,2]"
   ]
  },
  {
   "cell_type": "code",
   "execution_count": 19,
   "metadata": {},
   "outputs": [
    {
     "name": "stdout",
     "output_type": "stream",
     "text": [
      "[10, 1, 5, 2, 10, 1, 5, 2]\n"
     ]
    }
   ],
   "source": [
    "# 단계 1 :\n",
    "lst = [10, 1, 5, 2]\n",
    "list_ = []\n",
    "\n",
    "for i in range(2) :\n",
    "    list_.extend(lst)\n",
    "\n",
    "print(list_)"
   ]
  },
  {
   "cell_type": "code",
   "execution_count": 6,
   "metadata": {},
   "outputs": [
    {
     "name": "stdout",
     "output_type": "stream",
     "text": [
      "단계 2 :  [10, 1, 5, 2, 10, 1, 5, 2, 20]\n"
     ]
    }
   ],
   "source": [
    "# 단계 2 : lst의 첫번째 원소에 2를 곱하여 result 변수에 추가/출력"
   ]
  },
  {
   "cell_type": "code",
   "execution_count": 23,
   "metadata": {},
   "outputs": [
    {
     "name": "stdout",
     "output_type": "stream",
     "text": [
      "[10, 1, 5, 2, 10, 1, 5, 2, 20]\n"
     ]
    }
   ],
   "source": [
    "list_.append(list_[0]*2)\n",
    "print(list_)"
   ]
  },
  {
   "cell_type": "code",
   "execution_count": 21,
   "metadata": {},
   "outputs": [
    {
     "name": "stdout",
     "output_type": "stream",
     "text": [
      "[1, 2, 1, 2]\n",
      "단계 3 :  []\n"
     ]
    }
   ],
   "source": [
    "# 단계 3 : lst의 홀수번째 원소만 result2 변수에 추가/출력 = "
   ]
  },
  {
   "cell_type": "code",
   "execution_count": 31,
   "metadata": {},
   "outputs": [
    {
     "data": {
      "text/plain": [
       "[1, 2, 1, 2]"
      ]
     },
     "execution_count": 31,
     "metadata": {},
     "output_type": "execute_result"
    }
   ],
   "source": [
    "list1 = []\n",
    "for i in range(len(list_)) :\n",
    "    if i % 2 != 0 :\n",
    "        list1.append(list_[i])\n",
    "\n",
    "list1"
   ]
  },
  {
   "cell_type": "code",
   "execution_count": null,
   "metadata": {},
   "outputs": [],
   "source": [
    "[문제2-A형] list 원소 추가 및 요소 검사하기\n",
    "list 크기를 키보드로 입력 받은후 \n",
    "입력 받은 크기만큼 임의 숫자를 list에 추가하고 \n",
    "list의 크기를 출력하시오.\n",
    "\n",
    "<출력 결과예시>\n",
    "vector 수 : 3\n",
    "4\n",
    "2\n",
    "5\n",
    "vector 크기 : 3\n"
   ]
  },
  {
   "cell_type": "code",
   "execution_count": 35,
   "metadata": {},
   "outputs": [
    {
     "name": "stdin",
     "output_type": "stream",
     "text": [
      "vector 수 :  5\n"
     ]
    },
    {
     "name": "stdout",
     "output_type": "stream",
     "text": [
      "6\n",
      "7\n",
      "7\n",
      "1\n",
      "8\n",
      "vector 크기 : 5\n"
     ]
    }
   ],
   "source": [
    "import random\n",
    "\n",
    "num = int(input('vector 수 : '))\n",
    "vector = [0 for i in range(num)]\n",
    "\n",
    "for i in range(len(vector)) :\n",
    "    vec = random.randint(1, 9)\n",
    "    vector[i] = vec\n",
    "    print(vector[i])\n",
    "\n",
    "print(f'vector 크기 : {len(vector)}')"
   ]
  },
  {
   "cell_type": "code",
   "execution_count": null,
   "metadata": {},
   "outputs": [],
   "source": [
    "[문제2-B형] list 크기를 키보드로 입력 받은 후 \n",
    "입력 받은 크기만큼 임의 숫자를 list에 추가한다. \n",
    "이후 list에서 찾을 값을 키보드로 입력한 후 \n",
    "해당 값이 list에 있으면 “Yes”, 없으면 “NO”를 출력하시오.\n",
    "\n",
    "<출력화면 예시>\n",
    "vector 수 : 5\n",
    "1\n",
    "2\n",
    "3\n",
    "4\n",
    "5\n",
    "3\n",
    "YES"
   ]
  },
  {
   "cell_type": "code",
   "execution_count": 41,
   "metadata": {},
   "outputs": [
    {
     "name": "stdin",
     "output_type": "stream",
     "text": [
      "vector 수 :  5\n"
     ]
    },
    {
     "name": "stdout",
     "output_type": "stream",
     "text": [
      "8\n",
      "4\n",
      "9\n",
      "2\n",
      "2\n"
     ]
    },
    {
     "name": "stdin",
     "output_type": "stream",
     "text": [
      " 2\n"
     ]
    },
    {
     "name": "stdout",
     "output_type": "stream",
     "text": [
      "Yes\n"
     ]
    }
   ],
   "source": [
    "import random\n",
    "\n",
    "num = int(input('vector 수 : '))\n",
    "vector = [0 for i in range(num)]\n",
    "\n",
    "for i in range(len(vector)) :\n",
    "    vec = random.randint(1, 9)\n",
    "    vector[i] = vec\n",
    "    print(vector[i])\n",
    "\n",
    "num_select = int(input())\n",
    "\n",
    "if num_select in vector: \n",
    "    print('Yes')\n",
    "else:\n",
    "    print('NO')"
   ]
  },
  {
   "cell_type": "code",
   "execution_count": null,
   "metadata": {},
   "outputs": [],
   "source": [
    "# 문[문제3-A] list 내포를 이용하여 문자열 처리하기\n",
    "message 변수를 대상으로 (message = ['spam','ham','spam','ham','spam'])\n",
    "spam’ 원소는 1, ‘ham’원소는 0으로 \n",
    "dummy 변수를 생성하시오.\n",
    "\n",
    "<조건>\n",
    "list + for 형식 사용\n",
    "\n",
    "<출력화면 예시>\n",
    "\n",
    "[1,0,1,0,1]"
   ]
  },
  {
   "cell_type": "code",
   "execution_count": 43,
   "metadata": {},
   "outputs": [
    {
     "name": "stdout",
     "output_type": "stream",
     "text": [
      "[1, 0, 1, 0, 1]\n"
     ]
    }
   ],
   "source": [
    "message = ['spam','ham','spam','ham','spam']\n",
    "list = [1 if t == 'spam' else 0 for t in message]\n",
    "print(list)"
   ]
  },
  {
   "cell_type": "code",
   "execution_count": null,
   "metadata": {},
   "outputs": [],
   "source": [
    "[문제3-B] list 내포를 이용하여 문자열 처리하기\n",
    "message 변수를 대상으로 ‘spam’ 원소만 추출하여 \n",
    "spam_list에 추가하시오.\n",
    "\n",
    "<조건>\n",
    "list + for + if 형식 사용\n",
    "\n",
    "<출력화면 예시>\n",
    "[‘spam’, ‘spam’, ‘spam’]"
   ]
  },
  {
   "cell_type": "code",
   "execution_count": 61,
   "metadata": {},
   "outputs": [
    {
     "name": "stdout",
     "output_type": "stream",
     "text": [
      "['spam', 'spam', 'spam']\n"
     ]
    }
   ],
   "source": [
    "message = ['spam','ham','spam','ham','spam']\n",
    "list = []\n",
    "list_ham = []\n",
    "for i in message :\n",
    "    if i == 'spam' :\n",
    "        list.append(i)\n",
    "    else :\n",
    "        list_ham.append(i)\n",
    "print(list)"
   ]
  },
  {
   "cell_type": "code",
   "execution_count": null,
   "metadata": {},
   "outputs": [],
   "source": [
    "[문제4] \n",
    "position 변수를 대상으로 (positon = {'과장','부장','대리','사장','대리','과장'})\n",
    "중복되지 않은 직위와 직위별 빈동수를 출력하시오.\n",
    "\n",
    "<조건>\n",
    "list + for + if 형식 사용\n",
    "\n",
    "<출력 결과 예시>\n",
    "중복되지 않은 직위 : [‘사장’, ‘과장’, ‘대리’,’부 장’]\n",
    "각 직위별 빈도수 : [‘과장’:2, ‘부장’:1,’대리’:2, ‘사장’:1]"
   ]
  },
  {
   "cell_type": "code",
   "execution_count": 21,
   "metadata": {},
   "outputs": [
    {
     "name": "stdout",
     "output_type": "stream",
     "text": [
      "['사장', '대리', '부장', '과장']\n"
     ]
    }
   ],
   "source": [
    "import collections\n",
    "\n",
    "position = ['과장','부장','대리','사장','대리','과장']\n",
    "position_dic = {}\n",
    "position_list = list(set(position))\n",
    "\n",
    "print(position_list)"
   ]
  },
  {
   "cell_type": "code",
   "execution_count": 23,
   "metadata": {},
   "outputs": [
    {
     "name": "stdout",
     "output_type": "stream",
     "text": [
      "Counter({'과장': 2, '대리': 2, '부장': 1, '사장': 1})\n"
     ]
    }
   ],
   "source": [
    "position_dic = collections.Counter(position)\n",
    "print(position_dic)"
   ]
  },
  {
   "cell_type": "code",
   "execution_count": 25,
   "metadata": {},
   "outputs": [
    {
     "name": "stdout",
     "output_type": "stream",
     "text": [
      "중복되지 않은 직위 : ['과장', '부장', '대리', '사장']\n",
      "각 직위별 빈도수 : {'과장': 2, '부장': 1, '대리': 2, '사장': 1}\n"
     ]
    }
   ],
   "source": [
    "position = ['과장','부장','대리','사장','대리','과장']\n",
    "unique_positions = []\n",
    "for pos in position :\n",
    "    if pos not in unique_positions :\n",
    "        unique_positions.append(pos)\n",
    "\n",
    "position_counts = {}\n",
    "for pos in position :\n",
    "    if pos in position_counts :\n",
    "        position_counts[pos] += 1\n",
    "    else :\n",
    "        position_counts[pos] = 1\n",
    "\n",
    "print(f'중복되지 않은 직위 : {unique_positions}')\n",
    "print(f'각 직위별 빈도수 : {position_counts}')"
   ]
  },
  {
   "cell_type": "code",
   "execution_count": null,
   "metadata": {},
   "outputs": [],
   "source": []
  }
 ],
 "metadata": {
  "kernelspec": {
   "display_name": "Python 3 (ipykernel)",
   "language": "python",
   "name": "python3"
  },
  "language_info": {
   "codemirror_mode": {
    "name": "ipython",
    "version": 3
   },
   "file_extension": ".py",
   "mimetype": "text/x-python",
   "name": "python",
   "nbconvert_exporter": "python",
   "pygments_lexer": "ipython3",
   "version": "3.12.4"
  }
 },
 "nbformat": 4,
 "nbformat_minor": 4
}
