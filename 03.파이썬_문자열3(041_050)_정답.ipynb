{
 "cells": [
  {
   "cell_type": "markdown",
   "id": "b481d8d2",
   "metadata": {},
   "source": [
    "\n",
    "### 파이썬 문자열은 인덱싱, 슬라이싱 기능과 다양한 메서드를 제공합니다."
   ]
  },
  {
   "cell_type": "markdown",
   "id": "cc799c25",
   "metadata": {},
   "source": [
    "#### 041 upper 메서드\n",
    "다음과 같은 문자열이 있을 때 이를 대문자 BTC_KRW로 변경하세요.\n",
    "\n",
    "ticker = \"btc_krw\""
   ]
  },
  {
   "cell_type": "code",
   "execution_count": 1,
   "id": "ed6cba2f",
   "metadata": {},
   "outputs": [
    {
     "name": "stdout",
     "output_type": "stream",
     "text": [
      "BTC_KRW\n"
     ]
    }
   ],
   "source": [
    "# upper 메서드를 호출하면 문자열을 대문자로 만들 수 있습니다. 다만 이 경우에도 원본 문자열은 유지되고 대문자로 변경된 새로운 문자열 객체가 반환되는 겁니다. 반환된 새로운 객체를 새로운 변수로 바인딩한 후 이를 print 함수로 출력하면 됩니다.\n",
    "\n",
    "ticker = \"btc_krw\"\n",
    "ticker1 = ticker.upper()\n",
    "print(ticker1)"
   ]
  },
  {
   "cell_type": "markdown",
   "id": "00d410e8",
   "metadata": {},
   "source": [
    "#### 042 lower 메서드\n",
    "다음과 같은 문자열이 있을 때 이를 소문자 btc_krw로 변경하세요.\n",
    "\n",
    "ticker = \"BTC_KRW\""
   ]
  },
  {
   "cell_type": "code",
   "execution_count": 2,
   "id": "45a15894",
   "metadata": {},
   "outputs": [
    {
     "name": "stdout",
     "output_type": "stream",
     "text": [
      "btc_krw\n"
     ]
    }
   ],
   "source": [
    "# lower 메서드를\n",
    "\n",
    "ticker = \"BTC_KRW\"\n",
    "ticker = ticker.lower()\n",
    "print(ticker)"
   ]
  },
  {
   "cell_type": "markdown",
   "id": "555a0e13",
   "metadata": {},
   "source": [
    "#### 043 capitalize 메서드\n",
    "문자열 'hello'가 있을 때 이를 'Hello'로 변경해보세요."
   ]
  },
  {
   "cell_type": "code",
   "execution_count": 4,
   "id": "6a4cf546",
   "metadata": {},
   "outputs": [
    {
     "name": "stdout",
     "output_type": "stream",
     "text": [
      "Hello\n"
     ]
    }
   ],
   "source": [
    "a = \"hello\"\n",
    "a = a.capitalize()\n",
    "print(a)"
   ]
  },
  {
   "cell_type": "markdown",
   "id": "5075b888",
   "metadata": {},
   "source": [
    "#### 044 endswith 메서드\n",
    "파일 이름이 문자열로 저장되어 있을 때 endswith 메서드를 사용해서 파일 이름이 'xlsx'로 끝나는지 확인해보세요.\n",
    "\n",
    "file_name = \"보고서.xlsx\""
   ]
  },
  {
   "cell_type": "code",
   "execution_count": 5,
   "id": "837133fb",
   "metadata": {},
   "outputs": [
    {
     "data": {
      "text/plain": [
       "True"
      ]
     },
     "execution_count": 5,
     "metadata": {},
     "output_type": "execute_result"
    }
   ],
   "source": [
    "file_name = \"보고서.xlsx\"\n",
    "file_name.endswith(\"xlsx\")"
   ]
  },
  {
   "cell_type": "markdown",
   "id": "18a38676",
   "metadata": {},
   "source": [
    "#### 045 endswith 메서드\n",
    "파일 이름이 문자열로 저장되어 있을 때 endswith 메서드를 사용해서 파일 이름이 'xlsx' 또는 'xls'로 끝나는지 확인해보세요.\n",
    "\n",
    "file_name = \"보고서.xlsx\""
   ]
  },
  {
   "cell_type": "code",
   "execution_count": 6,
   "id": "bdca6b37",
   "metadata": {},
   "outputs": [
    {
     "data": {
      "text/plain": [
       "True"
      ]
     },
     "execution_count": 6,
     "metadata": {},
     "output_type": "execute_result"
    }
   ],
   "source": [
    "file_name = \"보고서.xlsx\"\n",
    "file_name.endswith((\"xlsx\", \"xls\"))"
   ]
  },
  {
   "cell_type": "markdown",
   "id": "4ad56e16",
   "metadata": {},
   "source": [
    "#### 046 startswith 메서드\n",
    "파일 이름이 문자열로 저장되어 있을 때 startswith 메서드를 사용해서 파일 이름이 '2020'로 시작하는지 확인해보세요.\n",
    "\n",
    "file_name = \"2020_보고서.xlsx\"\n",
    "\n",
    " \n",
    "\n"
   ]
  },
  {
   "cell_type": "code",
   "execution_count": 1,
   "id": "d768bd61",
   "metadata": {},
   "outputs": [
    {
     "data": {
      "text/plain": [
       "True"
      ]
     },
     "execution_count": 1,
     "metadata": {},
     "output_type": "execute_result"
    }
   ],
   "source": [
    "file_name = \"2020_보고서.xlsx\"\n",
    "file_name.startswith(\"2020\")"
   ]
  },
  {
   "cell_type": "markdown",
   "id": "7d265a61",
   "metadata": {},
   "source": [
    "#### 047 split 메서드\n",
    "다음과 같은 문자열이 있을 때 공백을 기준으로 문자열을 나눠보세요.\n",
    "\n",
    "a = \"hello world\""
   ]
  },
  {
   "cell_type": "code",
   "execution_count": 9,
   "id": "d546942a",
   "metadata": {},
   "outputs": [
    {
     "data": {
      "text/plain": [
       "['hello', 'world']"
      ]
     },
     "execution_count": 9,
     "metadata": {},
     "output_type": "execute_result"
    }
   ],
   "source": [
    "# 문자열의 split() 메서드를 사용하면 문자열에서 공백을 기준으로 분리해줍니다.\n",
    "\n",
    "a = \"hello world\"\n",
    "a.split()"
   ]
  },
  {
   "cell_type": "markdown",
   "id": "c9e94387",
   "metadata": {},
   "source": [
    "#### 048 split 메서드\n",
    "다음과 같이 문자열이 있을 때 btc와 krw로 나눠보세요.\n",
    "\n",
    "ticker = \"btc_krw\""
   ]
  },
  {
   "cell_type": "code",
   "execution_count": 10,
   "id": "efa091f8",
   "metadata": {},
   "outputs": [
    {
     "data": {
      "text/plain": [
       "['btc', 'krw']"
      ]
     },
     "execution_count": 10,
     "metadata": {},
     "output_type": "execute_result"
    }
   ],
   "source": [
    "# 문자열에서 split() 메서드는 문자열을 분리할 때 사용합니다. 이때 어떤 값을 넘겨주면 그 값을 기준으로 문자열을 분리해줍니다.\n",
    "\n",
    "ticker = \"btc_krw\"\n",
    "ticker.split(\"_\")"
   ]
  },
  {
   "cell_type": "markdown",
   "id": "8cabe197",
   "metadata": {},
   "source": [
    "#### 049 split 메서드\n",
    "다음과 같이 날짜를 표현하는 문자열이 있을 때 연도, 월, 일로 나눠보세요.\n",
    "\n",
    "date = \"2020-05-01\""
   ]
  },
  {
   "cell_type": "code",
   "execution_count": 11,
   "id": "cd65cf20",
   "metadata": {},
   "outputs": [
    {
     "data": {
      "text/plain": [
       "['2020', '05', '01']"
      ]
     },
     "execution_count": 11,
     "metadata": {},
     "output_type": "execute_result"
    }
   ],
   "source": [
    "date = \"2020-05-01\"\n",
    "date.split(\"-\")"
   ]
  },
  {
   "cell_type": "markdown",
   "id": "5fd7c3bb",
   "metadata": {},
   "source": [
    "#### 050 rstrip 메서드\n",
    "문자열의 오른쪽에 공백이 있을 때 이를 제거해보세요.\n",
    "\n",
    "data = \"039490     \""
   ]
  },
  {
   "cell_type": "code",
   "execution_count": 15,
   "id": "5e5b2a69",
   "metadata": {},
   "outputs": [
    {
     "name": "stdout",
     "output_type": "stream",
     "text": [
      "039490     \n",
      "039490\n"
     ]
    }
   ],
   "source": [
    "# rstrip() 메서드를 사용하면 오른쪽 공백이 제거된 새로운 문자열 객체가 반환됩니다. 그 값을 data라는 변수가 새로 바인딩합니다. 기존의 공백이 포함된 문자열은 메모리에서 자동으로 삭제됩니다.\n",
    "\n",
    "data = \"039490     \"\n",
    "print(data)\n",
    "data = data.rstrip()\n",
    "print(data)"
   ]
  },
  {
   "cell_type": "code",
   "execution_count": null,
   "id": "d86bd348",
   "metadata": {},
   "outputs": [],
   "source": []
  }
 ],
 "metadata": {
  "kernelspec": {
   "display_name": "Python 3 (ipykernel)",
   "language": "python",
   "name": "python3"
  },
  "language_info": {
   "codemirror_mode": {
    "name": "ipython",
    "version": 3
   },
   "file_extension": ".py",
   "mimetype": "text/x-python",
   "name": "python",
   "nbconvert_exporter": "python",
   "pygments_lexer": "ipython3",
   "version": "3.12.4"
  }
 },
 "nbformat": 4,
 "nbformat_minor": 5
}
