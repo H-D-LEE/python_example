{
 "cells": [
  {
   "cell_type": "code",
   "execution_count": null,
   "id": "eff2f1f4-1947-42ac-b366-0e8e0c5d1b2c",
   "metadata": {},
   "outputs": [],
   "source": [
    "자료형\n",
    "1.숫자형\n",
    "1.1.정수형 int\n",
    "1.2.실수형 float, double\n",
    "2.문자형 \n",
    "3.논리형 (True/False)\n",
    "list  : [1, '1', 2, 3.12, True]\n",
    "tuple : (1, '1', 2, 3.12, True)\n",
    "set   : (1, 2, 3, 2, 1) => (1, 2, 3)\n",
    "dictionary : ('홍길동', 'A', '유관순', 'B')\n",
    "\n",
    "연산자\n",
    "1. 산술연산자\n",
    "2. 관계연산자\n",
    "3. 논리연산자\n",
    "4. 대입연산자"
   ]
  },
  {
   "cell_type": "code",
   "execution_count": 29,
   "id": "7c9a78cb-c958-43a4-9bb3-637da053b138",
   "metadata": {},
   "outputs": [
    {
     "name": "stdout",
     "output_type": "stream",
     "text": [
      "3\n",
      "<class 'int'>\n",
      "10\n",
      "3.14\n",
      "<class 'float'>\n"
     ]
    }
   ],
   "source": [
    "var_int = 3\n",
    "print(var_int)\n",
    "print(type(var_int))\n",
    "\n",
    "var_int = 10\n",
    "print(var_int)\n",
    "var_float = 3.14\n",
    "print(var_float)\n",
    "print(type(var_float))"
   ]
  },
  {
   "cell_type": "code",
   "execution_count": 37,
   "id": "adc0c25c-864c-49be-bb87-ff6225a0ba23",
   "metadata": {},
   "outputs": [
    {
     "name": "stdout",
     "output_type": "stream",
     "text": [
      "a\n",
      "<class 'str'>\n",
      "a\n",
      "<class 'str'>\n",
      "var_str의 길이 :  1\n",
      "def\n",
      "<class 'str'>\n",
      "var_str의 길이 :  3\n"
     ]
    }
   ],
   "source": [
    "var_char = 'a'\n",
    "print(var_char)\n",
    "print(type(var_char))\n",
    "\n",
    "var_str = \"a\"\n",
    "print(var_str)\n",
    "print(type(var_str))\n",
    "print(\"var_str의 길이 : \", len(var_str))\n",
    "\n",
    "var_str = \"def\"\n",
    "print(var_str)\n",
    "print(type(var_str))\n",
    "print(\"var_str의 길이 : \", len(var_str))\n"
   ]
  },
  {
   "cell_type": "code",
   "execution_count": 17,
   "id": "879bfd53-40b1-42c6-a99b-78014e8ec9c7",
   "metadata": {},
   "outputs": [
    {
     "name": "stdout",
     "output_type": "stream",
     "text": [
      "var_str_1 : abc\n",
      "var_str_2 : def\n"
     ]
    }
   ],
   "source": [
    "var_str_1 = \"abc\"\n",
    "var_str_2 = \"def\"\n",
    "print(\"var_str_1 :\", var_str_1)\n",
    "print(\"var_str_2 :\", var_str_2)"
   ]
  },
  {
   "cell_type": "code",
   "execution_count": 43,
   "id": "df936ecc-ddb5-4f21-b12d-242af592fe52",
   "metadata": {},
   "outputs": [
    {
     "data": {
      "text/plain": [
       "'3.45'"
      ]
     },
     "execution_count": 43,
     "metadata": {},
     "output_type": "execute_result"
    }
   ],
   "source": [
    "# 형변환\n",
    "# 실수 <-> 정수\n",
    "# 실수 <-> 문자 <-> 정수\n",
    "int(3.45)\n",
    "float(3)\n",
    "str(3.45)"
   ]
  },
  {
   "cell_type": "code",
   "execution_count": 49,
   "id": "0da0bda2-b732-40b0-80b5-98f24d9248c4",
   "metadata": {},
   "outputs": [
    {
     "name": "stdout",
     "output_type": "stream",
     "text": [
      "var_str :  10\n"
     ]
    }
   ],
   "source": [
    "var_int = 10\n",
    "var_str = str(var_int)\n",
    "print(\"var_str : \", var_str)"
   ]
  },
  {
   "cell_type": "code",
   "execution_count": 51,
   "id": "e11a31a8-b936-4fcc-831d-738c2a1c645c",
   "metadata": {},
   "outputs": [
    {
     "data": {
      "text/plain": [
       "'1010'"
      ]
     },
     "execution_count": 51,
     "metadata": {},
     "output_type": "execute_result"
    }
   ],
   "source": [
    "var_str * 2"
   ]
  },
  {
   "cell_type": "code",
   "execution_count": 57,
   "id": "38de5114-fb7a-48fc-9eb5-eeece0e6c267",
   "metadata": {},
   "outputs": [
    {
     "name": "stdout",
     "output_type": "stream",
     "text": [
      "120\n",
      "5.0\n",
      "80\n",
      "2000\n",
      "10000\n"
     ]
    }
   ],
   "source": [
    "num1 = 100\n",
    "num2 = 20\n",
    "\n",
    "add = num1 + num2\n",
    "print(add)\n",
    "\n",
    "div = num1 / num2\n",
    "print(div)\n",
    "\n",
    "min = num1 - num2\n",
    "print(min)\n",
    "\n",
    "mul = num1 * num2\n",
    "print(mul)\n",
    "\n",
    "square = num1 ** 2\n",
    "print(square)"
   ]
  },
  {
   "cell_type": "code",
   "execution_count": 59,
   "id": "d0030661-5bc0-46d8-b4b6-28d842c70a6c",
   "metadata": {},
   "outputs": [
    {
     "name": "stdout",
     "output_type": "stream",
     "text": [
      "11 21\n"
     ]
    }
   ],
   "source": [
    "i = tot = 10\n",
    "i += 1\n",
    "tot += i\n",
    "print(i, tot)"
   ]
  },
  {
   "cell_type": "code",
   "execution_count": 63,
   "id": "f27402db-e680-4f09-811c-8ad9f578633d",
   "metadata": {},
   "outputs": [
    {
     "name": "stdout",
     "output_type": "stream",
     "text": [
      "1 [2, 3, 4] 5\n"
     ]
    }
   ],
   "source": [
    "# 패킹(packing)\n",
    "lst = [1, 2, 3, 4, 5]\n",
    "v1, *v2, v3 = lst\n",
    "print(v1, v2, v3)"
   ]
  },
  {
   "cell_type": "code",
   "execution_count": null,
   "id": "a1703c19-d287-479b-9321-a3a19f6673cd",
   "metadata": {},
   "outputs": [],
   "source": [
    "fn(v1, v2, v3) :\n",
    "    add = v1 + v3\n",
    "    lst = v2 * 3\n"
   ]
  },
  {
   "cell_type": "code",
   "execution_count": 73,
   "id": "9075ba32-2522-4091-853b-94ff861cff1f",
   "metadata": {},
   "outputs": [
    {
     "name": "stdout",
     "output_type": "stream",
     "text": [
      "10 + 20 = 30\n",
      "10 + 20 = 30\n",
      "10.300000 + 20.400000 = 30.700000\n",
      "이름은 홍길동 이고, 나이는 35입니다.\n"
     ]
    }
   ],
   "source": [
    "num1 = 10.3; num2 = 20.4\n",
    "tot = num1 + num2\n",
    "print('10 + 20 = %d' %tot) # tot(30)\n",
    "print('%d + %d = %d' %(num1, num2, tot))\n",
    "print('%f + %f = %f' %(num1, num2, tot))\n",
    "print('이름은 %s 이고, 나이는 %d입니다.' %('홍길동', 35))"
   ]
  },
  {
   "cell_type": "code",
   "execution_count": 75,
   "id": "828a34d3-218a-48a6-8e0c-0a94d138ed10",
   "metadata": {},
   "outputs": [
    {
     "name": "stdout",
     "output_type": "stream",
     "text": [
      "이름은 홍길동이고, 나이는 35 입니다.\n",
      "이름은 홍길동이고, 나이는35 입니다.\n",
      "이름은 홍길동이고, 나이는 35입니다.\n"
     ]
    }
   ],
   "source": [
    "print('이름은 {}이고, 나이는 {} 입니다.' .format('홍길동', 35))\n",
    "print('이름은 {1}이고, 나이는{0} 입니다.' .format(35, '홍길동'))\n",
    "name = \"홍길동\"; age = 35\n",
    "print(f\"이름은 {name}이고, 나이는 {age}입니다.\")"
   ]
  },
  {
   "cell_type": "code",
   "execution_count": 81,
   "id": "ad15f38e-deec-4feb-9c2b-3c51cbb39eac",
   "metadata": {},
   "outputs": [
    {
     "name": "stdin",
     "output_type": "stream",
     "text": [
      "첫 번째 숫자 입력 :  40\n",
      "두 번째 숫자 입력 :  20\n",
      "세 번째 숫자 입력 :  10\n"
     ]
    },
    {
     "name": "stdout",
     "output_type": "stream",
     "text": [
      "60\n",
      "30\n",
      "0.5\n",
      "200\n"
     ]
    }
   ],
   "source": [
    "a = int(input('첫 번째 숫자 입력 : '))\n",
    "b = int(input('두 번째 숫자 입력 : '))\n",
    "c = int(input('세 번째 숫자 입력 : '))\n",
    "\n",
    "add = a + b\n",
    "min = a - c\n",
    "div = c / b\n",
    "mul = b * c\n",
    "print(add)\n",
    "print(min)\n",
    "print(div)\n",
    "print(mul)"
   ]
  },
  {
   "cell_type": "code",
   "execution_count": 83,
   "id": "d66a6ed9-af94-4e62-afeb-a1fba631d91a",
   "metadata": {},
   "outputs": [
    {
     "name": "stdin",
     "output_type": "stream",
     "text": [
      "첫번째 숫자 입력 :  10.5\n",
      "두번째 숫자 입력 :  20.3\n"
     ]
    },
    {
     "name": "stdout",
     "output_type": "stream",
     "text": [
      "30.8\n"
     ]
    }
   ],
   "source": [
    "a = float(input('첫번째 숫자 입력 : '))\n",
    "b = float(input('두번째 숫자 입력 : '))\n",
    "\n",
    "add = a + b\n",
    "print(add)"
   ]
  },
  {
   "cell_type": "code",
   "execution_count": 85,
   "id": "fabdd673-bbc6-4652-859b-2d238ad5347a",
   "metadata": {},
   "outputs": [
    {
     "name": "stdout",
     "output_type": "stream",
     "text": [
      "24\n",
      "4\n"
     ]
    }
   ],
   "source": [
    "print(int(24.5)) # 24\n",
    "print(2 + int('2')) # 4"
   ]
  },
  {
   "cell_type": "code",
   "execution_count": 87,
   "id": "d7c61ca0-ce1d-40a5-aed9-f4ab487d0e10",
   "metadata": {},
   "outputs": [
    {
     "name": "stdout",
     "output_type": "stream",
     "text": [
      "1\n",
      "\n",
      "0\n"
     ]
    }
   ],
   "source": [
    "print(int(True)) # 1\n",
    "print()\n",
    "print(int(False)) # 0"
   ]
  },
  {
   "cell_type": "code",
   "execution_count": 5,
   "id": "2fafea7c-2655-4339-84d4-361f1603912a",
   "metadata": {},
   "outputs": [
    {
     "name": "stdout",
     "output_type": "stream",
     "text": [
      "010-1234-5678"
     ]
    }
   ],
   "source": [
    "print('010', '1234', '5678', sep = '-', end = '')"
   ]
  },
  {
   "cell_type": "code",
   "execution_count": 97,
   "id": "45726c69-586e-4c77-b238-9153450d8066",
   "metadata": {},
   "outputs": [
    {
     "name": "stdout",
     "output_type": "stream",
     "text": [
      "first second\n"
     ]
    }
   ],
   "source": [
    "print(\"first\", end = ' ')\n",
    "print(\"second\")"
   ]
  },
  {
   "cell_type": "code",
   "execution_count": 7,
   "id": "c08cd5cc-7c07-46f4-bd54-e958b7bfd86c",
   "metadata": {},
   "outputs": [
    {
     "name": "stdout",
     "output_type": "stream",
     "text": [
      "this is\n",
      "multi line\n",
      "string \n"
     ]
    }
   ],
   "source": [
    "# 문자(character) : 1차\n",
    "# 문자열 (string) : 문자들의 집합\n",
    "# oneline : \"this is one line string\"\n",
    "# print(oneline)\n",
    "multiLine = \"\"\"this is\n",
    "multi line\n",
    "string \"\"\"\n",
    "print(multiLine)"
   ]
  },
  {
   "cell_type": "code",
   "execution_count": 11,
   "id": "dff8fd0f-ab65-45bf-aa55-ead2ac8e8173",
   "metadata": {},
   "outputs": [
    {
     "name": "stdout",
     "output_type": "stream",
     "text": [
      "y\n"
     ]
    }
   ],
   "source": [
    "string = \"python\"\n",
    "print(string[-5])"
   ]
  },
  {
   "cell_type": "code",
   "execution_count": 13,
   "id": "26d96c91-2683-41cb-96e3-b9f5a93f5ac9",
   "metadata": {},
   "outputs": [
    {
     "name": "stdout",
     "output_type": "stream",
     "text": [
      "python program\n"
     ]
    }
   ],
   "source": [
    "print(\"python\" + \" \" + \"program\")"
   ]
  },
  {
   "cell_type": "code",
   "execution_count": 19,
   "id": "a5378b0f-b190-40bd-b688-5919d72bea4f",
   "metadata": {},
   "outputs": [
    {
     "name": "stdout",
     "output_type": "stream",
     "text": [
      "python-3.7.exe\n"
     ]
    }
   ],
   "source": [
    "v1 = 3.7\n",
    "print(\"python-\" + str(v1) + \".exe\")"
   ]
  },
  {
   "cell_type": "code",
   "execution_count": 27,
   "id": "b3322e05-12c2-475d-86a2-2b5423802942",
   "metadata": {},
   "outputs": [
    {
     "name": "stdout",
     "output_type": "stream",
     "text": [
      "this is one line string\n",
      "this is one line string\n",
      "this\n",
      "this\n",
      "ti so\n",
      "string\n",
      "\n",
      "g\n",
      "\n"
     ]
    }
   ],
   "source": [
    "# slicing 슬라이싱\n",
    "oneline = \"this is one line string\"\n",
    "print(oneline)\n",
    "print(oneline[:])\n",
    "print(oneline[0:4])\n",
    "print(oneline[:4])\n",
    "print(oneline[:10:2])\n",
    "print(oneline[-6:])\n",
    "print(oneline[:-1:-2])\n",
    "print(oneline[-1])\n",
    "print(oneline[-6:-1:-2])"
   ]
  },
  {
   "cell_type": "code",
   "execution_count": 35,
   "id": "e02e000a-2a2a-428f-94c2-ab176f80cb1a",
   "metadata": {},
   "outputs": [
    {
     "name": "stdout",
     "output_type": "stream",
     "text": [
      "t 글자 수 :  2\n",
      "True\n",
      "False\n",
      "thisisonelinestring\n",
      "단어 :  ['this', 'is', 'one', 'line', 'string']\n"
     ]
    }
   ],
   "source": [
    "print('t 글자 수 : ', oneline.count('t'))\n",
    "print(oneline.startswith('this'))\n",
    "print(oneline.startswith('that'))\n",
    "print(oneline.replace(' ', ''))\n",
    "words = oneline.split(' ')\n",
    "print('단어 : ', words)"
   ]
  },
  {
   "cell_type": "code",
   "execution_count": null,
   "id": "c5e101b9-818d-4104-8702-c3d3f74abd6b",
   "metadata": {},
   "outputs": [],
   "source": [
    "# 제조\n",
    "2024071610075232.624..."
   ]
  },
  {
   "cell_type": "code",
   "execution_count": 41,
   "id": "a1524b7d-17c9-462d-b51a-570866de7b71",
   "metadata": {},
   "outputs": [
    {
     "name": "stdout",
     "output_type": "stream",
     "text": [
      "\\t 출력 이스케이프 문자\n",
      "\\n 출력 이스케이프 문자\n"
     ]
    }
   ],
   "source": [
    "# 이스케이프(escape) 문자 : \\n(엔터), \\t(탭)\n",
    "print(r\"\\t 출력 이스케이프 문자\")\n",
    "print(\"\\\\n 출력 이스케이프 문자\")"
   ]
  },
  {
   "cell_type": "code",
   "execution_count": 45,
   "id": "827cdd7a-52b5-4e91-a934-fdc23ba4c320",
   "metadata": {},
   "outputs": [
    {
     "name": "stdout",
     "output_type": "stream",
     "text": [
      "path =  C:\\Python\\test\n"
     ]
    },
    {
     "name": "stderr",
     "output_type": "stream",
     "text": [
      "<>:1: SyntaxWarning: invalid escape sequence '\\P'\n",
      "<>:1: SyntaxWarning: invalid escape sequence '\\P'\n",
      "C:\\Users\\user\\AppData\\Local\\Temp\\ipykernel_2400\\1733880221.py:1: SyntaxWarning: invalid escape sequence '\\P'\n",
      "  v1 = 'C:\\Python\\\\test'\n"
     ]
    }
   ],
   "source": [
    "v1 = 'C:\\Python\\\\test'\n",
    "print('path = ', v1)"
   ]
  },
  {
   "cell_type": "code",
   "execution_count": 47,
   "id": "a365d264-ff48-4ecf-9513-fc838e1237c6",
   "metadata": {},
   "outputs": [
    {
     "name": "stdout",
     "output_type": "stream",
     "text": [
      "c:\\'aa'\\\"abc.txt\"\n"
     ]
    }
   ],
   "source": [
    "print(\"c:\\\\\\'aa\\'\\\\\\\"abc.txt\\\"\")"
   ]
  },
  {
   "cell_type": "code",
   "execution_count": null,
   "id": "565370cf-d312-4789-880a-a4838f73329a",
   "metadata": {},
   "outputs": [],
   "source": [
    "# 자료 구조형\n",
    "1. string\n",
    "2. list - 모든 타입 가능 , 인덱스 > 슬라이싱 list(), 삽입(insert, 추가(append), 변경(del list1 = '값'), 삭제(remove)\n",
    "3. tuple - 모든 타입 가능 , 인덱스 > 슬라이싱 tuple() > 원소값을 변경할 수 없음(Immutable)\n",
    "4. set - 중복 허용안함 set()\n",
    "5. dict - 모든 타입 가능 , 인덱스, 키 > 값(keys()/values(), items()"
   ]
  },
  {
   "cell_type": "code",
   "execution_count": null,
   "id": "29720b4a-6923-4459-850e-1e45ed9bf2ee",
   "metadata": {},
   "outputs": [],
   "source": [
    "# string 문자들의 모음, 일정한 순서 > 인덱스 > 슬라이싱\n",
    "# list['문자형', '숫자형', '논리형'] 차원 배열 구조 ['문자형', '숫자형', '논리형', ['문자형', '숫자형', '논리형']]\n",
    "#                                    다양한 자료형 값을 가질 수 있다. 값을 삽입 insert, 추가 append, 수정 update 함수X , 삭제 delete"
   ]
  },
  {
   "cell_type": "code",
   "execution_count": 49,
   "id": "976c8b00-d705-48b5-b63e-f3420ef2e23a",
   "metadata": {},
   "outputs": [
    {
     "name": "stdout",
     "output_type": "stream",
     "text": [
      "[1, 2, 3, 4, 5]\n",
      "<class 'list'>\n"
     ]
    }
   ],
   "source": [
    "lst = [1, 2, 3, 4, 5]\n",
    "print(lst)\n",
    "print(type(lst))"
   ]
  },
  {
   "cell_type": "code",
   "execution_count": 53,
   "id": "9263dc8e-c82f-43aa-80d0-8868f31160e7",
   "metadata": {},
   "outputs": [
    {
     "name": "stdout",
     "output_type": "stream",
     "text": [
      "1\n",
      "[1]\n",
      "[1, 2, 3, 4, 5]\n",
      "2\n",
      "[1, 2]\n",
      "[2, 3, 4, 5]\n",
      "3\n",
      "[1, 2, 3]\n",
      "[3, 4, 5]\n",
      "4\n",
      "[1, 2, 3, 4]\n",
      "[4, 5]\n",
      "5\n",
      "[1, 2, 3, 4, 5]\n",
      "[5]\n"
     ]
    }
   ],
   "source": [
    "for i in lst :\n",
    "    print(i)\n",
    "    print(lst[:i])\n",
    "    print(lst[i-1:])"
   ]
  },
  {
   "cell_type": "code",
   "execution_count": 55,
   "id": "6bcce2a3-5eba-4a13-a587-dcd10962439d",
   "metadata": {},
   "outputs": [
    {
     "name": "stdout",
     "output_type": "stream",
     "text": [
      "[1, 2, 3, 4, 5, 6, 7, 8, 9, 10]\n",
      "[1, 2, 3, 4, 5]\n"
     ]
    }
   ],
   "source": [
    "x = list(range(1, 11))\n",
    "print(x)\n",
    "print(x[:5])"
   ]
  },
  {
   "cell_type": "code",
   "execution_count": null,
   "id": "95e74104-3e0d-4dbb-a952-0a07245858fb",
   "metadata": {},
   "outputs": [],
   "source": [
    "b = [10, 20, ['a', 'b', 'c'], 5, True, \"문자열\"]\n",
    "print(b[0])"
   ]
  },
  {
   "cell_type": "code",
   "execution_count": null,
   "id": "0ddbc8ac-f292-40e3-aba6-c3a83d327cdb",
   "metadata": {},
   "outputs": [],
   "source": []
  },
  {
   "cell_type": "code",
   "execution_count": 65,
   "id": "9ebf00f2-a262-417f-a4f1-33b887f1da1a",
   "metadata": {},
   "outputs": [
    {
     "name": "stdout",
     "output_type": "stream",
     "text": [
      "10\n",
      "<class 'int'>\n",
      "(10,)\n",
      "<class 'tuple'>\n",
      "(1, 2, 3, 4, 5)\n",
      "(2, 3)\n"
     ]
    },
    {
     "ename": "TypeError",
     "evalue": "'tuple' object does not support item assignment",
     "output_type": "error",
     "traceback": [
      "\u001b[1;31m---------------------------------------------------------------------------\u001b[0m",
      "\u001b[1;31mTypeError\u001b[0m                                 Traceback (most recent call last)",
      "Cell \u001b[1;32mIn[65], line 13\u001b[0m\n\u001b[0;32m     11\u001b[0m \u001b[38;5;28mprint\u001b[39m(t2)\n\u001b[0;32m     12\u001b[0m \u001b[38;5;28mprint\u001b[39m(t2[\u001b[38;5;241m1\u001b[39m:\u001b[38;5;241m3\u001b[39m])\n\u001b[1;32m---> 13\u001b[0m t2[\u001b[38;5;241m1\u001b[39m] \u001b[38;5;241m=\u001b[39m \u001b[38;5;241m10\u001b[39m\n",
      "\u001b[1;31mTypeError\u001b[0m: 'tuple' object does not support item assignment"
     ]
    }
   ],
   "source": [
    "# 튜플 tuple 수치형, 문자형, 불린형\n",
    "# - 수정 불가 > 함수 제공 없음\n",
    "# - 리스트 보다 속도 빠름\n",
    "t = 10\n",
    "print(t)\n",
    "print(type(t))\n",
    "t1 = (10,)\n",
    "print(t1)\n",
    "print(type(t1))\n",
    "t2 = (1, 2, 3, 4, 5)\n",
    "print(t2)\n",
    "print(t2[1:3])\n",
    "t2[1] = 10"
   ]
  },
  {
   "cell_type": "code",
   "execution_count": 69,
   "id": "847f93d4-0185-451a-a6d1-85991a3cecc8",
   "metadata": {},
   "outputs": [
    {
     "name": "stdout",
     "output_type": "stream",
     "text": [
      "var_tuple =  (1, 2, 3, 4, 5, 6, 7, 8, 9, 10)\n",
      "var_list =  [1, 2, 3, 4, 5, 6, 7, 8, 9, 10]\n"
     ]
    }
   ],
   "source": [
    "var_list = list(range(1, 11))\n",
    "var_tuple = tuple(range(1,11))\n",
    "print('var_tuple = ', var_tuple)\n",
    "var_list = list(var_tuple)\n",
    "print('var_list = ', var_list)"
   ]
  },
  {
   "cell_type": "code",
   "execution_count": null,
   "id": "561ad49f-00ff-4dab-8e25-99054619b73e",
   "metadata": {},
   "outputs": [],
   "source": [
    "# set - 순서가 없다. 중복허용을 하지 않음, 합집합, 교집합, 차집합 "
   ]
  },
  {
   "cell_type": "code",
   "execution_count": 71,
   "id": "e11bdf1f-5dc6-4703-9cba-018035fd4275",
   "metadata": {},
   "outputs": [
    {
     "name": "stdout",
     "output_type": "stream",
     "text": [
      "합집합 =  {1, 2, 3, 5, 6}\n",
      "교집합 =  {3}\n",
      "차집합 =  {1, 2, 5}\n"
     ]
    }
   ],
   "source": [
    "s = {1, 2, 3, 5, 3, 1}\n",
    "s2 = { 3, 6 }\n",
    "print('합집합 = ', s.union(s2))\n",
    "print('교집합 = ', s.intersection(s2))\n",
    "print('차집합 = ', s.difference(s2))"
   ]
  },
  {
   "cell_type": "code",
   "execution_count": 73,
   "id": "56b5af40-5daa-4e71-b739-93b83be7f17e",
   "metadata": {},
   "outputs": [
    {
     "data": {
      "text/plain": [
       "{1, 3, 5, 7, '다섯'}"
      ]
     },
     "execution_count": 73,
     "metadata": {},
     "output_type": "execute_result"
    }
   ],
   "source": [
    "s3 = {1, 3, 5}\n",
    "s3.add(7)\n",
    "s3.update([3, '다섯'])\n",
    "s3"
   ]
  },
  {
   "cell_type": "code",
   "execution_count": null,
   "id": "e104d2ec-0a0b-4c00-a444-c57f3840885f",
   "metadata": {},
   "outputs": [],
   "source": []
  },
  {
   "cell_type": "code",
   "execution_count": null,
   "id": "54ce523b-8f61-451a-bba4-cabc108e5662",
   "metadata": {},
   "outputs": [],
   "source": []
  },
  {
   "cell_type": "code",
   "execution_count": null,
   "id": "5f099362-ddbd-4056-b287-266c1960284e",
   "metadata": {},
   "outputs": [],
   "source": [
    "# dictionary {} {key1:value1, key2:value2, ..., keyn:valuen}\n",
    "# .json 키로 값에 접근 (인덱스 없음)"
   ]
  },
  {
   "cell_type": "code",
   "execution_count": 75,
   "id": "05778bb5-698e-45ce-a381-e59e2684fb9d",
   "metadata": {},
   "outputs": [
    {
     "name": "stdout",
     "output_type": "stream",
     "text": [
      "{'key1': 100, 'key2': 200, 'key3': 300}\n"
     ]
    }
   ],
   "source": [
    "var_dic = {'key1':100, 'key2':200, 'key3':300}\n",
    "print(var_dic)"
   ]
  },
  {
   "cell_type": "code",
   "execution_count": 81,
   "id": "381738f6-9969-43d8-b195-04b66ee3c4a5",
   "metadata": {},
   "outputs": [
    {
     "name": "stdout",
     "output_type": "stream",
     "text": [
      "{'name': '홍길동', 'age': 35, 'address': '서울시'}\n",
      "서울시\n",
      "<class 'dict'>\n"
     ]
    }
   ],
   "source": [
    "person = {'name':'홍길동', 'age':35, 'address':'서울시'}\n",
    "print(person)\n",
    "print(person['address'])\n",
    "print(type(person))"
   ]
  },
  {
   "cell_type": "code",
   "execution_count": 87,
   "id": "09c7a37f-7a66-41bb-ace3-24f84017bbdb",
   "metadata": {},
   "outputs": [
    {
     "name": "stdout",
     "output_type": "stream",
     "text": [
      "{'name': '홍길동', 'age': 40, 'address': '서울시', 'pay': 350}\n"
     ]
    }
   ],
   "source": [
    "person['age'] = 40\n",
    "person['pay'] = 350\n",
    "print(person)"
   ]
  },
  {
   "cell_type": "code",
   "execution_count": 91,
   "id": "e1b1f552-89b0-4e46-adc8-59cc43e78361",
   "metadata": {},
   "outputs": [
    {
     "name": "stdout",
     "output_type": "stream",
     "text": [
      "dict_keys(['name', 'age', 'address', 'pay'])\n",
      "dict_values(['홍길동', 40, '서울시', 350])\n",
      "dict_items([('name', '홍길동'), ('age', 40), ('address', '서울시'), ('pay', 350)])\n"
     ]
    }
   ],
   "source": [
    "print(person.keys())\n",
    "print(person.values())\n",
    "print(person.items())"
   ]
  },
  {
   "cell_type": "code",
   "execution_count": 95,
   "id": "d1b67c61-3901-48d7-b788-08824212a5e1",
   "metadata": {},
   "outputs": [
    {
     "name": "stdout",
     "output_type": "stream",
     "text": [
      "{}\n"
     ]
    }
   ],
   "source": [
    "person.clear()\n",
    "print(person)"
   ]
  },
  {
   "cell_type": "code",
   "execution_count": 101,
   "id": "95b71b8e-3516-43bf-af4c-e547ef0164a2",
   "metadata": {},
   "outputs": [
    {
     "name": "stdout",
     "output_type": "stream",
     "text": [
      "광해 [9.24, 1200]\n",
      "관상 [8.01, 900]\n",
      "누적관객수 :  2100\n"
     ]
    }
   ],
   "source": [
    "tot = 0\n",
    "movie = {'광해':[9.24, 1200], '공작':[7.86, 500], '관상':[8.01, 900]}\n",
    "for r,d in movie.items() :\n",
    "    if d[0] >= 8.0 :\n",
    "        print(r, d)\n",
    "        tot+=d[1]\n",
    "print('누적관객수 : ', tot)"
   ]
  },
  {
   "cell_type": "code",
   "execution_count": 109,
   "id": "e91422f8-40e3-4eb6-ae66-d265ca2c26c7",
   "metadata": {},
   "outputs": [
    {
     "name": "stdout",
     "output_type": "stream",
     "text": [
      "{'hong': 350, 'lee': 450, 'kang': 550}\n",
      "{'hong': 350, 'lee': 300, 'kang': 550}\n",
      "있음\n",
      "name : hong => pay 350\n",
      "name : lee => pay 300\n",
      "name : kang => pay 550\n"
     ]
    }
   ],
   "source": [
    "emp = {'hong': 350, 'lee':450, 'kang':550}\n",
    "print(emp)\n",
    "emp['lee'] = 300\n",
    "print(emp)\n",
    "\n",
    "if 'kang' in emp :\n",
    "    print('있음')\n",
    "else :\n",
    "    print('없음')\n",
    "\n",
    "for name, pay in emp.items() :\n",
    "    print(f'name : {name} => pay {pay}')"
   ]
  },
  {
   "cell_type": "code",
   "execution_count": null,
   "id": "4c3c0ae0-a23c-4f75-aeda-e56b5029c85a",
   "metadata": {},
   "outputs": [],
   "source": [
    "제어문\n",
    "- 분기문\n",
    "if 조건1 : True\n",
    "    print\n",
    "elif 조건2 : True\n",
    "    print\n",
    "elif 조건3 : True\n",
    "    print\n",
    ".\n",
    ".\n",
    ".\n",
    "else :\n",
    "    print\n",
    "\n",
    "print()\n",
    "반복문\n",
    "for in\n",
    "while"
   ]
  },
  {
   "cell_type": "code",
   "execution_count": null,
   "id": "951280ff-c7cf-4507-9daa-81e76c184b0a",
   "metadata": {},
   "outputs": [],
   "source": [
    "while 조건식 : # True\n",
    "    실행문 1\n",
    "    ...\n",
    "    실행문 n"
   ]
  },
  {
   "cell_type": "code",
   "execution_count": 7,
   "id": "c95456a1-f74b-4338-b18a-7a43b67dcc52",
   "metadata": {},
   "outputs": [
    {
     "name": "stdout",
     "output_type": "stream",
     "text": [
      "idx =  1 tot =  1\n",
      "idx =  2 tot =  3\n",
      "idx =  3 tot =  6\n",
      "idx =  4 tot =  10\n",
      "idx =  5 tot =  15\n",
      "idx 끝\n"
     ]
    }
   ],
   "source": [
    "idx = tot = 0\n",
    "while idx < 5 :\n",
    "    idx += 1\n",
    "    tot += idx\n",
    "    print('idx = ', idx, 'tot = ', tot)\n",
    "print('idx 끝')"
   ]
  },
  {
   "cell_type": "code",
   "execution_count": null,
   "id": "b8f75db6-98cd-4db0-a172-a22d0668e82b",
   "metadata": {},
   "outputs": [],
   "source": [
    "# 1 ~ 100까지 3의 배수 합과 원소 추출하기\n",
    "sum = cnt = 0\n",
    "dataset = []\n",
    "while cnt <= 100:\n",
    "    cnt += 1\n",
    "    if cnt % 3 == 0 :\n",
    "        dataset.append(cnt)\n",
    "        sum += cnt\n",
    "print('원소 = ', dataset, '3의 배수 합 = ', sum)"
   ]
  },
  {
   "cell_type": "code",
   "execution_count": null,
   "id": "43dcaea4-9b84-4626-938f-2f75aae633c3",
   "metadata": {},
   "outputs": [],
   "source": []
  },
  {
   "cell_type": "code",
   "execution_count": null,
   "id": "3a67a40f-2952-41fa-8876-d70908af8587",
   "metadata": {},
   "outputs": [],
   "source": []
  },
  {
   "cell_type": "code",
   "execution_count": null,
   "id": "d1538a3f-e143-41aa-8762-b293c0ca2a91",
   "metadata": {},
   "outputs": [],
   "source": []
  },
  {
   "cell_type": "code",
   "execution_count": null,
   "id": "adc2db47-f56a-4346-8809-790a82f60bba",
   "metadata": {},
   "outputs": [],
   "source": []
  },
  {
   "cell_type": "code",
   "execution_count": null,
   "id": "40a3a54d-a1a7-42b7-96d6-5873173e8279",
   "metadata": {},
   "outputs": [],
   "source": []
  },
  {
   "cell_type": "code",
   "execution_count": null,
   "id": "c588dab3-5005-48e1-b4d0-90183b8640c8",
   "metadata": {},
   "outputs": [],
   "source": []
  },
  {
   "cell_type": "code",
   "execution_count": null,
   "id": "b29c43d4-9ea4-4214-ac99-e1983ffe50c5",
   "metadata": {},
   "outputs": [],
   "source": []
  },
  {
   "cell_type": "code",
   "execution_count": null,
   "id": "682c820c-b4f4-4410-8eee-6d89c99eedde",
   "metadata": {},
   "outputs": [],
   "source": []
  }
 ],
 "metadata": {
  "kernelspec": {
   "display_name": "Python 3 (ipykernel)",
   "language": "python",
   "name": "python3"
  },
  "language_info": {
   "codemirror_mode": {
    "name": "ipython",
    "version": 3
   },
   "file_extension": ".py",
   "mimetype": "text/x-python",
   "name": "python",
   "nbconvert_exporter": "python",
   "pygments_lexer": "ipython3",
   "version": "3.12.4"
  }
 },
 "nbformat": 4,
 "nbformat_minor": 5
}
