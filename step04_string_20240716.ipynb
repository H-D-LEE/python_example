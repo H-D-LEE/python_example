{
 "cells": [
  {
   "cell_type": "code",
   "execution_count": 1,
   "metadata": {},
   "outputs": [
    {
     "name": "stdout",
     "output_type": "stream",
     "text": [
      "this is one line string\n",
      "\n",
      "this is\n",
      "multi line\n",
      "string\n",
      "\n",
      "this is\n",
      "multi line\n",
      "string\n"
     ]
    }
   ],
   "source": [
    "'''\n",
    "문자열 특징\n",
    " - 문자들의 집합\n",
    " - 순서(index)를 갖는다.\n",
    " - 문자열 처리 함수 제공\n",
    "'''\n",
    "\n",
    "# 1. 문자열 유형\n",
    "oneLine = \"this is one line string\" # 'this is one line string'\n",
    "multiLine = \"\"\"this is\n",
    "multi line\n",
    "string\"\"\"\n",
    "multiLine2 =\"this is\\nmulti line\\nstring\"\n",
    "\n",
    "print(oneLine)\n",
    "print()\n",
    "\n",
    "print(multiLine)\n",
    "print()\n",
    "\n",
    "print(multiLine2)"
   ]
  },
  {
   "cell_type": "code",
   "execution_count": 4,
   "metadata": {},
   "outputs": [
    {
     "name": "stdout",
     "output_type": "stream",
     "text": [
      "P\n",
      "\n",
      "N\n",
      "\n",
      "N\n",
      "\n",
      "P\n"
     ]
    }
   ],
   "source": [
    "# 2. 색인과 문자열 연산 : +, *\n",
    "\n",
    "####### 1) 문자열 색인\n",
    "string = \"PYTHON\"\n",
    "print(string[0])\n",
    "print()\n",
    "\n",
    "print(string[5])\n",
    "print()\n",
    "\n",
    "print(string[-1])\n",
    "print()\n",
    "\n",
    "print(string[-6])\n",
    "#print(string[-7])"
   ]
  },
  {
   "cell_type": "code",
   "execution_count": 12,
   "metadata": {},
   "outputs": [
    {
     "name": "stdout",
     "output_type": "stream",
     "text": [
      "python program\n",
      "\n",
      "python-3.7.exe\n",
      "\n",
      "python-3.7.exe\n",
      "\n",
      "------------------------------\n"
     ]
    }
   ],
   "source": [
    "# 2) 문자열 연산\n",
    "print(\"python\" + \" program\") # 결합연산자\n",
    "print()\n",
    "\n",
    "# python-3.7.exe\n",
    "#print(\"python-\" + 3.7 + \".exe\") # error\n",
    "print(\"python-\" + str(3.7) + \".exe\") # python-3.7.exe\n",
    "print()\n",
    "print(\"python-\" + \"3.7\" + \".exe\") \n",
    "print()\n",
    "print(\"-\"*30) # 반복연산자"
   ]
  },
  {
   "cell_type": "code",
   "execution_count": 6,
   "metadata": {},
   "outputs": [
    {
     "name": "stdout",
     "output_type": "stream",
     "text": [
      "this is one line string\n",
      "\n",
      "문자열 길이 :  23\n",
      "\n",
      "this\n",
      "\n",
      "this\n",
      "\n",
      "this is one line string\n",
      "\n",
      "ti soeln tig\n"
     ]
    }
   ],
   "source": [
    "# 3) 문자열 슬라이싱(slicing)\n",
    "oneLine = \"this is one line string\"\n",
    "\n",
    "# 왼쪽 기준\n",
    "print(oneLine)\n",
    "print()\n",
    "print(\"문자열 길이 : \", len(oneLine))\n",
    "print()\n",
    "print(oneLine[0:4]) # 1~4문자[start:end-1] - this\n",
    "print()\n",
    "print(oneLine[:4]) # [:end-1] : 처음부터 ~\n",
    "print()\n",
    "print(oneLine[:]) # 전체 원소 : this is one line string\n",
    "print()\n",
    "###########print(oneLine[::2]) # 2의 배수 index : ti soeln tig"
   ]
  },
  {
   "cell_type": "code",
   "execution_count": 23,
   "metadata": {},
   "outputs": [
    {
     "name": "stdout",
     "output_type": "stream",
     "text": [
      "this is one line string\n",
      "\n",
      "ti soeln ti\n",
      "\n",
      "g\n",
      "s\n",
      "\n",
      "strin\n",
      "\n",
      "\n",
      "git\n",
      "\n",
      "string\n"
     ]
    }
   ],
   "source": [
    "##### 오른쪽 기준\n",
    "oneLine = \"this is one line string\"\n",
    "print(oneLine)\n",
    "print()\n",
    "print(oneLine[0:-1:2])\n",
    "print()\n",
    "print(oneLine[-1])\n",
    "print(oneLine[-6])\n",
    "print()\n",
    "print(oneLine[-6:-1]) # strin\n",
    "print()\n",
    "print(oneLine[-1:-6])\n",
    "\n",
    "print(oneLine[-1:-6:-2])   #oneLine[-1:-6]- string\n",
    "print()\n",
    "print(oneLine[-6:]) # [start:end] - string"
   ]
  },
  {
   "cell_type": "code",
   "execution_count": 8,
   "metadata": {},
   "outputs": [
    {
     "name": "stdout",
     "output_type": "stream",
     "text": [
      "line string\n"
     ]
    }
   ],
   "source": [
    "# 부분 문자열 생성\n",
    "subString = oneLine[-11:]\n",
    "print(subString) # line string"
   ]
  },
  {
   "cell_type": "code",
   "execution_count": 11,
   "metadata": {},
   "outputs": [
    {
     "name": "stdout",
     "output_type": "stream",
     "text": [
      "t 글자 수 :  2\n"
     ]
    }
   ],
   "source": [
    "# 4) 문자열 처리 함수\n",
    "# 특정 글자 수 반환\n",
    "oneLine = \"this is one line string\"\n",
    "print('t 글자 수 : ', oneLine.count('t'))"
   ]
  },
  {
   "cell_type": "code",
   "execution_count": 18,
   "metadata": {},
   "outputs": [
    {
     "name": "stdout",
     "output_type": "stream",
     "text": [
      "대문자 변환 :  THIS IS ONE LINE STRING\n",
      "소문자 변환 :  this is one line string\n",
      "첫자리 대문자 변환 :  This is one line string\n"
     ]
    }
   ],
   "source": [
    "oneLine = \"this is one line STRING\"\n",
    "print('대문자 변환 : ', oneLine.upper())\n",
    "print('소문자 변환 : ', oneLine.lower())\n",
    "print('첫자리 대문자 변환 : ', oneLine.capitalize())"
   ]
  },
  {
   "cell_type": "code",
   "execution_count": 7,
   "metadata": {},
   "outputs": [
    {
     "name": "stdout",
     "output_type": "stream",
     "text": [
      "True\n",
      "False\n"
     ]
    }
   ],
   "source": [
    "# 접두어 문자 비교 판단\n",
    "print(oneLine.startswith('this'))\n",
    "print(oneLine.startswith('that'))"
   ]
  },
  {
   "cell_type": "code",
   "execution_count": 10,
   "metadata": {},
   "outputs": [
    {
     "data": {
      "text/plain": [
       "True"
      ]
     },
     "execution_count": 10,
     "metadata": {},
     "output_type": "execute_result"
    }
   ],
   "source": [
    "# 접어 문자 비교 판단\n",
    "file_name = \"보고서.xlsx\"\n",
    "file_name.endswith(\"xlsx\")"
   ]
  },
  {
   "cell_type": "code",
   "execution_count": 9,
   "metadata": {},
   "outputs": [
    {
     "name": "stdout",
     "output_type": "stream",
     "text": [
      "that is one line string\n",
      "문장 :  ['this is', 'multi line', 'string']\n"
     ]
    }
   ],
   "source": [
    "# 문자열 교체\n",
    "print(oneLine.replace('this', 'that'))\n",
    "print()\n",
    "\n",
    "# 문자열 분리(split) : 문단 -> 문장\n",
    "multiLine = \"\"\"this is\n",
    "multi line\n",
    "string\"\"\"\n",
    "sent = multiLine.split('\\n')\n",
    "print('문장 : ', sent)\n",
    "# ['This ', 'is multi line', 'string']"
   ]
  },
  {
   "cell_type": "code",
   "execution_count": 9,
   "metadata": {},
   "outputs": [
    {
     "name": "stdout",
     "output_type": "stream",
     "text": [
      "this is one line string\n",
      "\n",
      "단어 : ['this', 'is', 'one', 'line', 'string']\n"
     ]
    }
   ],
   "source": [
    "# 문자열 분리(split)2 : 문장 -> 단어\n",
    "print(oneLine)\n",
    "print()\n",
    "words = oneLine.split(' ')  # split(sep = ' ') : default\n",
    "print('단어 :', words)  # ['this', 'is', 'one', 'line', 'string']"
   ]
  },
  {
   "cell_type": "code",
   "execution_count": 10,
   "metadata": {},
   "outputs": [
    {
     "name": "stdout",
     "output_type": "stream",
     "text": [
      "['this', 'is', 'one', 'line', 'string']\n",
      "\n",
      "this,is,one,line,string\n",
      "\n",
      "<class 'str'>\n"
     ]
    }
   ],
   "source": [
    "# 문자열 결합(join) : 단어들 -> 문장\n",
    "print(words)\n",
    "print()\n",
    "sent2 = ','.join(words) # '구분자'.join(string) : 'this is',\n",
    "print(sent2) # this,is,one,line,string\n",
    "print()\n",
    "print(type(sent2))"
   ]
  },
  {
   "cell_type": "code",
   "execution_count": null,
   "metadata": {},
   "outputs": [],
   "source": []
  }
 ],
 "metadata": {
  "kernelspec": {
   "display_name": "Python 3 (ipykernel)",
   "language": "python",
   "name": "python3"
  },
  "language_info": {
   "codemirror_mode": {
    "name": "ipython",
    "version": 3
   },
   "file_extension": ".py",
   "mimetype": "text/x-python",
   "name": "python",
   "nbconvert_exporter": "python",
   "pygments_lexer": "ipython3",
   "version": "3.12.4"
  }
 },
 "nbformat": 4,
 "nbformat_minor": 4
}
