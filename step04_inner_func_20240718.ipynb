{
 "cells": [
  {
   "cell_type": "code",
   "execution_count": null,
   "metadata": {},
   "outputs": [],
   "source": [
    "'''\n",
    "4. 중첩함수(inner function)\n",
    "\n",
    "형식)\n",
    "def  outer_func(인수) :\n",
    "    문장1\n",
    "\n",
    "    def inner_func(인수) :\n",
    "        문장2\n",
    "        return 문장2\n",
    "\n",
    "    return inner_func\n",
    "'''"
   ]
  },
  {
   "attachments": {
    "7638434d-3008-49a8-991e-748b51d7462a.png": {
     "image/png": "[encoded data removed]"
    }
   },
   "cell_type": "markdown",
   "metadata": {},
   "source": [
    "![image.png](attachment:7638434d-3008-49a8-991e-748b51d7462a.png)"
   ]
  },
  {
   "cell_type": "code",
   "execution_count": null,
   "metadata": {},
   "outputs": [],
   "source": [
    "def outer():\n",
    "    def inner():\n",
    "        print(\"inner\")\n",
    "    return inner\n",
    "\n",
    "f = outer()\n",
    "f()"
   ]
  },
  {
   "cell_type": "code",
   "execution_count": 44,
   "metadata": {},
   "outputs": [
    {
     "name": "stdout",
     "output_type": "stream",
     "text": [
      "평균 :  4.466666666666667\n",
      "분산 :  1.9466666666666668\n",
      "표준편차 : 1.39522996909709\n"
     ]
    }
   ],
   "source": [
    "# 문) 중첩함수 문제 \n",
    "# - outer 함수 : data 생성, inner 함수 포함 \n",
    "# - inner 함수 : data 대상으로 avg -> var(avg_val) -> std(var_val)\n",
    "\n",
    "from statistics import mean  # 평균\n",
    "from math import sqrt  # 제곱근\n",
    "\n",
    "data = [4, 5, 3.5, 2.5, 6.3, 5.5]\n",
    "#print(data)\n",
    "\n",
    "def scattering_func(data):  # outer\n",
    "    dataSet = data  # data 생성\n",
    "\n",
    "    # inner\n",
    "    def avg_func():\n",
    "        avg_val = mean(dataSet)\n",
    "        #print('avg_val =  ', avg_val)\n",
    "        #print()\n",
    "        return avg_val\n",
    "\n",
    "    def var_func(avg):\n",
    "        #print('avg =  ', avg)\n",
    "        # var = (sum(변량-산술평균)**2)) / (n-1)\n",
    "        diff = [ (data - avg) ** 2 for data in dataSet ]\n",
    "        #print(diff)  # 1차원\n",
    "        #print(sum(diff))  # 0차원\n",
    "        var_val = sum(diff) / (len(dataSet) - 1)\n",
    "        #print('var_val =  ', var_val)\n",
    "        #print()\n",
    "\n",
    "        return var_val\n",
    "\n",
    "    def std_func(var):\n",
    "        #print('var =  ', var)\n",
    "        std_val = sqrt(var)\n",
    "        #print()\n",
    "        return std_val\n",
    "\n",
    "    return avg_func, var_func, std_func  # inner 반환\n",
    "\n",
    "\n",
    "# outer 호출\n",
    "avg, var, std = scattering_func(data)\n",
    "#print(avg)\n",
    "# 내부 함수 호출\n",
    "print('평균 : ', avg())\n",
    "print('분산 : ', var(avg()))\n",
    "print('표준편차 :', std(var(avg())))"
   ]
  },
  {
   "cell_type": "code",
   "execution_count": null,
   "metadata": {},
   "outputs": [],
   "source": []
  }
 ],
 "metadata": {
  "kernelspec": {
   "display_name": "Python 3 (ipykernel)",
   "language": "python",
   "name": "python3"
  },
  "language_info": {
   "codemirror_mode": {
    "name": "ipython",
    "version": 3
   },
   "file_extension": ".py",
   "mimetype": "text/x-python",
   "name": "python",
   "nbconvert_exporter": "python",
   "pygments_lexer": "ipython3",
   "version": "3.12.4"
  }
 },
 "nbformat": 4,
 "nbformat_minor": 4
}
