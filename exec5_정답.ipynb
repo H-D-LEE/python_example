{
 "cells": [
  {
   "cell_type": "code",
   "execution_count": 1,
   "metadata": {},
   "outputs": [],
   "source": [
    "[문제1] \n",
    "다음 height 변수에 별(star)의 층수를 입력하면 \n",
    "각 층 마다 별의 개수가 한 개씩 증가하여 출력되고, \n",
    "마지막 줄에 별의 개수가 출력되도록 \n",
    "프로그램을 작성하여 출력하시오.\n"
   ]
  },
  {
   "cell_type": "code",
   "execution_count": 11,
   "metadata": {},
   "outputs": [
    {
     "name": "stdout",
     "output_type": "stream",
     "text": [
      "*\n",
      "**\n",
      "***\n",
      "****\n",
      "*****\n",
      "h_cnt: 5\n"
     ]
    }
   ],
   "source": [
    "def StarCount(height):\n",
    "    \n",
    "    # 층수, 별수 변수 선언\n",
    "    h_cnt = 0\n",
    "    s_cnt = 0\n",
    "    while h_cnt < height :\n",
    "        h_cnt += 1\n",
    "        print('*' * h_cnt) #별 출력\n",
    "        s_cnt += h_cnt #별수 카운트\n",
    "    return print('h_cnt:' ,h_cnt)\n",
    "\n",
    "StarCount(5)"
   ]
  },
  {
   "cell_type": "code",
   "execution_count": 9,
   "metadata": {},
   "outputs": [],
   "source": [
    "[문제2] \n",
    "중첩함수를 적용하여 다음<조건>에 맞게 \n",
    "은행계좌 함수의 빈 칸을 채우시오.\n",
    "\n",
    "<조건1> 외부 함수 : bank_account() : 잔액(balance) outer 변수\n",
    "<조건2> 내부 함수 : getbalance() : 잔액확인\n",
    "                           deposit(money) : 입금하기\n",
    "                           withdraw(money) : 출금하기\n",
    "<조건3> 출금액이 잔액보다 많은 경우 ‘잔액이 부족합니다.’ \n",
    "             메시지 출력\n",
    "<조건4> 기타 나머지는 출력 예시 참조\n",
    "\n",
    "<출력화면 예시>\n",
    "최초 계좌의 잔액을 입력하세요 : 1000\n",
    "현재 계좌 잔액은 1000원 입니다.\n",
    "15000원 입금후 잔액은 16000원 입니다.\n",
    "출금액을 입력하세요 : 3000\n",
    "3000원 출금후 잔액은 13000원 입니다."
   ]
  },
  {
   "cell_type": "code",
   "execution_count": 15,
   "metadata": {},
   "outputs": [],
   "source": [
    "def bank_account(bal1):\n",
    "    balance = bal # 잔액 초기화(1000)\n",
    "    \n",
    "    def getBalance() : # 잔액확인(getter)\n",
    "        return balance\n",
    "    \n",
    "    def deposit(money) : # 입금하기(setter)\n",
    "        nonlocal balance\n",
    "        balance += money \n",
    "        \n",
    "        def withdraw(money) : # 출금하기(setter)\n",
    "            nonlocal balance\n",
    "            if balance < money  :\n",
    "                print('잔액이 부족합니다.')\n",
    "            else :\n",
    "                balance -= money \n",
    "    return getBalance, deposit, withdraw #클로저 함수 리턴"
   ]
  },
  {
   "cell_type": "code",
   "execution_count": null,
   "metadata": {},
   "outputs": [],
   "source": []
  },
  {
   "cell_type": "code",
   "execution_count": null,
   "metadata": {},
   "outputs": [],
   "source": [
    "[문제3] \n",
    "팩토리얼(Factorial)을 계산하는 재귀함수 프로그램을 작성하시오\n",
    "\n",
    "예) 5(5*4*3*2*1) = 120"
   ]
  },
  {
   "cell_type": "code",
   "execution_count": 19,
   "metadata": {},
   "outputs": [
    {
     "name": "stdout",
     "output_type": "stream",
     "text": [
      "5\n",
      "4\n",
      "3\n",
      "2\n",
      "1\n",
      "0\n",
      "1*2*3*4*5*=: 120\n"
     ]
    }
   ],
   "source": [
    "def Factorial(n) :\n",
    "    print(n)\n",
    "    if n == 0 :\n",
    "        #print()\n",
    "        return 1\n",
    "    else :\n",
    "        result = n * Factorial(n-1)\n",
    "        print(n, end= '*')\n",
    "        return result\n",
    "    print()    \n",
    "\n",
    "Sum_Fac = Factorial(5)     \n",
    "print( '=:', Sum_Fac)"
   ]
  },
  {
   "cell_type": "code",
   "execution_count": 20,
   "metadata": {},
   "outputs": [
    {
     "name": "stdout",
     "output_type": "stream",
     "text": [
      "120\n"
     ]
    }
   ],
   "source": [
    "def factorial(n):\n",
    "    if n == 1:      # n이 1일 때\n",
    "        return 1    # 1을 반환하고 재귀호출을 끝냄\n",
    "    return n * factorial(n - 1)    # n과 factorial 함수에 n - 1을 넣어서 반환된 값을 곱함\n",
    " \n",
    "print(factorial(5))"
   ]
  },
  {
   "cell_type": "code",
   "execution_count": null,
   "metadata": {},
   "outputs": [],
   "source": []
  },
  {
   "cell_type": "code",
   "execution_count": null,
   "metadata": {},
   "outputs": [],
   "source": []
  }
 ],
 "metadata": {
  "kernelspec": {
   "display_name": "Python 3 (ipykernel)",
   "language": "python",
   "name": "python3"
  },
  "language_info": {
   "codemirror_mode": {
    "name": "ipython",
    "version": 3
   },
   "file_extension": ".py",
   "mimetype": "text/x-python",
   "name": "python",
   "nbconvert_exporter": "python",
   "pygments_lexer": "ipython3",
   "version": "3.12.4"
  }
 },
 "nbformat": 4,
 "nbformat_minor": 4
}
