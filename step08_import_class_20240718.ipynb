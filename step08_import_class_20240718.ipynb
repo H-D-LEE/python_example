{
 "cells": [
  {
   "cell_type": "markdown",
   "metadata": {},
   "source": [
    "### (1) builtins모듈 내장 클래스"
   ]
  },
  {
   "cell_type": "markdown",
   "metadata": {},
   "source": [
    "#### 리스트"
   ]
  },
  {
   "cell_type": "code",
   "execution_count": 2,
   "metadata": {},
   "outputs": [
    {
     "name": "stdout",
     "output_type": "stream",
     "text": [
      "색인 :  0, 내용 : 1\n",
      "색인 :  1, 내용 : 3\n",
      "색인 :  2, 내용 : 5\n",
      "\n"
     ]
    }
   ],
   "source": [
    "lst = [1,3,5]\n",
    "# print(enumerate(lst))\n",
    "\n",
    "for i, c in enumerate(lst) :  # enumerate()-열거형 자료를 순회하여 색인과 값을 반환하는 객제를 생성한다.\n",
    "    print('i = ', i, 'c = ', c)\n",
    "    print('내용 :', c)"
   ]
  },
  {
   "cell_type": "markdown",
   "metadata": {},
   "source": [
    "#### 딕셔너리"
   ]
  },
  {
   "cell_type": "code",
   "execution_count": 2,
   "metadata": {},
   "outputs": [
    {
     "name": "stdout",
     "output_type": "stream",
     "text": [
      "색인 :  0, 키 : name, 값 : 홍길동\n",
      "색인 :  1, 키 : job, 값 : 회사원\n",
      "색인 :  2, 키 : addr, 값 : 서울시\n"
     ]
    }
   ],
   "source": [
    "dit = {'name' : '홍길동', 'job': '회사원', 'addr':'서울시'}\n",
    "for i, k in enumerate(dit) :\n",
    "    # print('색인 : ', i, end=', ', '키 :', k, end=', ', '값 :', dit[k])\n",
    "    print('색인 : ', i, end=', ')\n",
    "    print('키 :', k, end=', ')\n",
    "    print('값 :', dit[k])"
   ]
  },
  {
   "cell_type": "code",
   "execution_count": null,
   "metadata": {},
   "outputs": [],
   "source": []
  },
  {
   "cell_type": "markdown",
   "metadata": {},
   "source": [
    "### (2) datatime 모듈 내장클래스"
   ]
  },
  {
   "cell_type": "code",
   "execution_count": 40,
   "metadata": {},
   "outputs": [],
   "source": [
    "import  datetime\n",
    "from datetime import date, time # from 모듈 import 내장 클래스"
   ]
  },
  {
   "cell_type": "code",
   "execution_count": 41,
   "metadata": {},
   "outputs": [
    {
     "data": {
      "text/plain": [
       "datetime.datetime(2024, 7, 18, 16, 50, 15, 967964)"
      ]
     },
     "execution_count": 41,
     "metadata": {},
     "output_type": "execute_result"
    }
   ],
   "source": [
    "dt = datetime.datetime.now()\n",
    "dt"
   ]
  },
  {
   "cell_type": "code",
   "execution_count": 95,
   "metadata": {},
   "outputs": [
    {
     "data": {
      "text/plain": [
       "datetime.datetime(2024, 7, 18, 17, 44, 19, 444994)"
      ]
     },
     "execution_count": 95,
     "metadata": {},
     "output_type": "execute_result"
    }
   ],
   "source": [
    "from datetime import datetime, timedelta\n",
    "datetime.now()"
   ]
  },
  {
   "cell_type": "code",
   "execution_count": 96,
   "metadata": {},
   "outputs": [
    {
     "name": "stdout",
     "output_type": "stream",
     "text": [
      "dt.year :  2024\n",
      "dt.month :  7\n",
      "dt.day :  18\n",
      "dt.hour :  17\n",
      "dt.minute :  37\n",
      "dt.second :  43\n",
      "dt.microsecond :  851473\n"
     ]
    }
   ],
   "source": [
    "print(\"dt.year : \", dt.year)\n",
    "print(\"dt.month : \", dt.month)\n",
    "print(\"dt.day : \", dt.day)\n",
    "print(\"dt.hour : \", dt.hour)\n",
    "print(\"dt.minute : \", dt.minute)\n",
    "print(\"dt.second : \", dt.second)\n",
    "print(\"dt.microsecond : \", dt.microsecond)"
   ]
  },
  {
   "cell_type": "code",
   "execution_count": 97,
   "metadata": {},
   "outputs": [
    {
     "data": {
      "text/plain": [
       "(2024, 7, 18, 17, 37, 43, 851473)"
      ]
     },
     "execution_count": 97,
     "metadata": {},
     "output_type": "execute_result"
    }
   ],
   "source": [
    "dt.year, dt.month, dt.day, dt.hour, dt.minute, dt.second, dt.microsecond"
   ]
  },
  {
   "cell_type": "code",
   "execution_count": 98,
   "metadata": {},
   "outputs": [
    {
     "data": {
      "text/plain": [
       "(1, 2, 3)"
      ]
     },
     "execution_count": 98,
     "metadata": {},
     "output_type": "execute_result"
    }
   ],
   "source": [
    "[dt.year, dt.month, dt.day, dt.hour, dt.minute, dt.second, dt.microsecond]"
   ]
  },
  {
   "cell_type": "code",
   "execution_count": 99,
   "metadata": {},
   "outputs": [
    {
     "name": "stdout",
     "output_type": "stream",
     "text": [
      "dt.weekday() :  3\n",
      "dt.strftime() :  2024-07-18 17:37:43, Thursday, July\n",
      "dt.strftime() :  2017-01-02 14:44:00\n",
      "dt.date() :  2024-07-18\n",
      "dt.hour() :  17:37:43.851473\n"
     ]
    }
   ],
   "source": [
    "print(\"dt.weekday() : \", dt.weekday()) #요일 반환 (0:월, 1:화, 2:수, 3:목, 4:금, 5:토, 6:일)\n",
    "print(\"dt.strftime() : \", dt.strftime(\"%Y-%m-%d %H:%M:%S, %A, %B\")) # 시간을 문자열로 반환\n",
    "print(\"dt.strftime() : \", dt.strptime(\"2017-01-02 14:44\", \"%Y-%m-%d %H:%M\")) #  문자열을 시간으로 반환\n",
    "print(\"dt.date() : \", dt.date())\n",
    "print(\"dt.hour() : \", dt.time())"
   ]
  },
  {
   "cell_type": "markdown",
   "metadata": {},
   "source": [
    "##### timedelta 클래스와 날짜/시간 연산"
   ]
  },
  {
   "cell_type": "code",
   "execution_count": 100,
   "metadata": {},
   "outputs": [
    {
     "name": "stdout",
     "output_type": "stream",
     "text": [
      "td.days :  48\n",
      "td.seconds :  3600\n",
      "td.microseconds :  0\n",
      "td.total_seconds() :  4150800.0\n"
     ]
    }
   ],
   "source": [
    "dt1 = datetime(2016, 2, 19, 14)\n",
    "dt2 = datetime(2016, 1, 2, 13)\n",
    "td = dt1 - dt2\n",
    "td\n",
    "\n",
    "print(\"td.days : \", td.days)\n",
    "print(\"td.seconds : \", td.seconds)\n",
    "print(\"td.microseconds : \", td.microseconds)\n",
    "print(\"td.total_seconds() : \", td.total_seconds())\n",
    "# print(\"td.total_seconds() : \", td.total_hours())"
   ]
  },
  {
   "cell_type": "markdown",
   "metadata": {},
   "source": [
    "##### datetime.datetime 클래스 객체에 datetime.timedelta 클래스 객체를 더해서 새로운 시간을 구할 수도 있다."
   ]
  },
  {
   "cell_type": "code",
   "execution_count": 101,
   "metadata": {},
   "outputs": [
    {
     "data": {
      "text/plain": [
       "datetime.datetime(2018, 11, 30, 14, 0)"
      ]
     },
     "execution_count": 101,
     "metadata": {},
     "output_type": "execute_result"
    }
   ],
   "source": [
    "t = datetime(2018, 9, 1, 13)\n",
    "d = timedelta(days=90, seconds=3600)\n",
    "t + d"
   ]
  }
 ],
 "metadata": {
  "kernelspec": {
   "display_name": "Python 3 (ipykernel)",
   "language": "python",
   "name": "python3"
  },
  "language_info": {
   "codemirror_mode": {
    "name": "ipython",
    "version": 3
   },
   "file_extension": ".py",
   "mimetype": "text/x-python",
   "name": "python",
   "nbconvert_exporter": "python",
   "pygments_lexer": "ipython3",
   "version": "3.12.4"
  }
 },
 "nbformat": 4,
 "nbformat_minor": 4
}
