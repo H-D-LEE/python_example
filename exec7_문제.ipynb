{
 "cells": [
  {
   "cell_type": "code",
   "execution_count": null,
   "metadata": {},
   "outputs": [],
   "source": [
    "[문제1] 다음과 같은 여러 문자열을 대상으로 \n",
    "<email 양식 처리조건>에 맞게 정규표현식을 적용하여 \n",
    "email 양식이 올바른 것만 출력되도록 표시하시오\n",
    "email = \"\"\"hong@12.com\n",
    "you2@naver.com\n",
    "12kang@hanmail.net\n",
    "kimjs@gmail.com\n",
    "\"\"\"\n",
    "\n",
    "<email 양식 처리 조건>\n",
    "1. 아이디 : 첫자는 영문소문자, 단어길이는 4자리 이상\n",
    "2. 호스트 이름 : 영문소문자, 단어길이는 3자리 이상\n",
    "3. 최상위 도메인 : 영문소문자 3자리 이상\n",
    "4. 정규표현식 기본 패턴 : ‘메타문자@매터문자.메타문자\n",
    "    \n",
    "<출력화면 예시>\n",
    "you2@naver.com\n",
    "kimjs@gmail.com"
   ]
  },
  {
   "cell_type": "code",
   "execution_count": 1,
   "metadata": {},
   "outputs": [
    {
     "name": "stdout",
     "output_type": "stream",
     "text": [
      "you2@naver.com\n",
      "kimjs@gmail.com\n"
     ]
    }
   ],
   "source": [
    "email = \"\"\"hong@12.com\n",
    "you2@naver.com\n",
    "12kang@hanmail.net\n",
    "kimjs@gmail.com\n",
    "\"\"\"\n",
    "\n",
    "from re import findall, match, sub\n",
    "\n",
    "for e in email.split(sep='\\n') :\n",
    "    result = findall('^[a-z]\\\\w{3,}@[a-z]\\\\w{2,}.[a-z]\\\\w{2,}', e)\n",
    "\n",
    "    if result :\n",
    "        print(e)"
   ]
  },
  {
   "cell_type": "code",
   "execution_count": null,
   "metadata": {},
   "outputs": [],
   "source": [
    "[문제2] \n",
    "다음 emp 변수는 ‘입사년도, 이름, 급여’순으로 사원의 정보가 기록된 자료이다. \n",
    "emp 변수를 이용하여 사원의 이름만 추출하는 함수를 정의하시오.\n",
    "emp =['2014홍길동220','2002이순신300','2010유관순2260']\n",
    "\n",
    "<출력 결과>\n",
    "names = [‘홍길동’,  ‘이순신’, ‘유관순’]"
   ]
  },
  {
   "cell_type": "code",
   "execution_count": 7,
   "metadata": {},
   "outputs": [
    {
     "name": "stdout",
     "output_type": "stream",
     "text": [
      "names = ['홍길동', '이순신', '유관순']\n"
     ]
    }
   ],
   "source": [
    "from re import findall, sub\n",
    "emp =['2014홍길동220','2002이순신300','2010유관순260']\n",
    "\n",
    "def name_pro(emp) :\n",
    "    emp_re = sub('[0-9]', '', emp)\n",
    "    emp_re2 = ' '.join(emp_re.split())\n",
    "    return emp_re2\n",
    "\n",
    "names = [name_pro(emp) for emp in emp]\n",
    "print(f'names = {names}')"
   ]
  },
  {
   "cell_type": "code",
   "execution_count": null,
   "metadata": {},
   "outputs": [],
   "source": [
    "[문제3] \n",
    "다음 emp 변수는 ‘입사년도, 이름, 급여’순으로 사원의 정보가 기록된 자료이다. \n",
    "emp 변수를 이용하여 사원의 평균 급여를 추출하는 함수를 정의하시오.\n",
    "emp =['2014홍길동220','2002이순신300','2010유관순2260']\n",
    "\n",
    "<출력 결과>\n",
    "전체 사원 급여 평균 : 260"
   ]
  },
  {
   "cell_type": "code",
   "execution_count": 9,
   "metadata": {},
   "outputs": [
    {
     "name": "stdout",
     "output_type": "stream",
     "text": [
      "전체 사원의 급여 평균 : 260\n"
     ]
    }
   ],
   "source": [
    "from re import findall, sub\n",
    "from statistics import mean\n",
    "emp =['2014홍길동220','2002이순신300','2010유관순260']\n",
    "\n",
    "def pay_pro(emp) :\n",
    "    emp_re = sub('[가-힣]', '', emp)\n",
    "    emp_re2 = sub('[0-9]{4}', '', emp_re)\n",
    "    return emp_re2\n",
    "\n",
    "pays_mean = [int(pay_pro(emp)) for emp in emp]\n",
    "avg = mean(pays_mean)\n",
    "print(f'전체 사원의 급여 평균 : {avg}')"
   ]
  },
  {
   "cell_type": "code",
   "execution_count": null,
   "metadata": {},
   "outputs": [],
   "source": [
    "[문제4] \n",
    "다음 emp 변수는 ‘입사년도, 이름, 급여’순으로 사원의 정보가 기록된 자료이다. \n",
    "emp 변수를 이용하여 전체 급여 평균과 평균 이상 급여 수령자를 추출하는 함수를 정의하시오.\n",
    "emp =['2014홍길동220','2002이순신300','2010유관순2260']\n",
    "\n",
    "<출력 결과>\n",
    "전체 사원 급여 평균 : 260\n",
    "평균 이상 급여 수령자\n",
    "이순신 => 300\n",
    "유관순 => 260"
   ]
  },
  {
   "cell_type": "code",
   "execution_count": 15,
   "metadata": {},
   "outputs": [
    {
     "name": "stdout",
     "output_type": "stream",
     "text": [
      "전체 사원의 평균 급여 : 260\n",
      "평균 급여 이상 수령자\n",
      "['이순신'] => 300\n",
      "['유관순'] => 260\n"
     ]
    }
   ],
   "source": [
    "from re import findall, sub\n",
    "from statistics import mean\n",
    "import re\n",
    "emp =['2014홍길동220','2002이순신300','2010유관순260']\n",
    "name = [re.findall('[가-힣]{3}', a) for a in emp]\n",
    "name2 = [i[0] for i in name]\n",
    "\n",
    "def pay_pro(emp) :\n",
    "    emp_re = sub('[가-힣]', '', emp)\n",
    "    emp_re2 = sub('[0-9]{4}', '', emp_re)\n",
    "    return emp_re2\n",
    "\n",
    "pays_mean = [int(pay_pro(emp)) for emp in emp]\n",
    "avg = mean(pays_mean)\n",
    "print(f'전체 사원의 평균 급여 : {avg}')\n",
    "print('평균 급여 이상 수령자')\n",
    "for i in range(len(emp)) :\n",
    "    if pays_mean[i] >= avg :\n",
    "        print(name[i], '=>', pays_mean[i])"
   ]
  },
  {
   "cell_type": "code",
   "execution_count": 88,
   "metadata": {},
   "outputs": [
    {
     "name": "stdout",
     "output_type": "stream",
     "text": [
      "['afabasabag', 'abtta a', 'uysfsfaa']\n"
     ]
    }
   ],
   "source": [
    "from re import findall, sub\n",
    "\n",
    "texts = ['AFAB54747,ASABAG?', 'abTTa $$;a12:2824', 'uysfsfA,A124&***$?']\n",
    "\n",
    "# 텍스트 전처리 함수\n",
    "def crean_text(text) : # 문자열 인수\n",
    "    # 1~6단계\n",
    "    texts_re = text.lower()  # 소문자 변경\n",
    "    texts_re2 = sub('[0-9]', '', texts_re)  # 숫자 제거\n",
    "    texts_re3 = sub('[,.?!;:]', '', texts_re2)  # 문장부호 제거\n",
    "    texts_re4 = sub('[@#$%^&*()]', '', texts_re3)   # 특수문자 제거\n",
    "    texts_re5 = ' '.join(texts_re4.split()) # white space 제거(단어 구분)\n",
    "    return texts_re5 # 반환값\n",
    "\n",
    "# 함수 호출\n",
    "texts_result = [crean_text(text) for text in texts]\n",
    "print(texts_result)\n"
   ]
  },
  {
   "cell_type": "code",
   "execution_count": 19,
   "metadata": {},
   "outputs": [
    {
     "name": "stdout",
     "output_type": "stream",
     "text": [
      "['afabasabag', 'abtta a', 'uysfsfaa']\n"
     ]
    }
   ],
   "source": [
    "from re import findall, sub\n",
    "\n",
    "def clean_text(text) :\n",
    "    texts_re = text.lower()  # 소문자 변경\n",
    "    texts_re2 = sub('[0-9]', '', texts_re)  # 숫자 제거\n",
    "    texts_re3 = sub('[,.?!;:]', '', texts_re2)  # 문장부호 제거\n",
    "    texts_re4 = sub('[@#$%^&*()]', '', texts_re3)   # 특수문자 제거\n",
    "    texts_re5 = ' '.join(texts_re4.split()) # white space 제거(단어 구분)\n",
    "\n",
    "    return texts_re5\n",
    "\n",
    "texts = ['AFAB54747,ASABAG?', 'abTTa $$;a12:2824', 'uysfsfA,A124&***$?']\n",
    "text_result = [clean_text(text) for text in texts]\n",
    "print(text_result)"
   ]
  },
  {
   "cell_type": "code",
   "execution_count": null,
   "metadata": {},
   "outputs": [],
   "source": []
  }
 ],
 "metadata": {
  "kernelspec": {
   "display_name": "Python 3 (ipykernel)",
   "language": "python",
   "name": "python3"
  },
  "language_info": {
   "codemirror_mode": {
    "name": "ipython",
    "version": 3
   },
   "file_extension": ".py",
   "mimetype": "text/x-python",
   "name": "python",
   "nbconvert_exporter": "python",
   "pygments_lexer": "ipython3",
   "version": "3.12.4"
  }
 },
 "nbformat": 4,
 "nbformat_minor": 4
}
