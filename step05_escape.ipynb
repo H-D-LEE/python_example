{
 "cells": [
  {
   "cell_type": "code",
   "execution_count": 1,
   "metadata": {},
   "outputs": [
    {
     "name": "stdout",
     "output_type": "stream",
     "text": [
      "escape 문자 차단 \n",
      "\n",
      "출력 이스케이프 문자\n",
      "\n",
      "\\n출력 이스케이프 차단1\n",
      "\n",
      "\\n출력 이스케이프 차단2\n"
     ]
    }
   ],
   "source": [
    "# 3. escape 처리 : 특수기능('', \"\",\\n, \\t)으로 부터 탈출[차단]\n",
    "'''\n",
    "escape : 탈출하다, 기능 차단(어떤 기능으로 부터 벗어나다.)\n",
    "'''\n",
    "###### escape 기능 차단\n",
    "print('escape 문자 차단 ')\n",
    "print('\\n출력 이스케이프 문자') # \\n : 줄 바꿈 기능\n",
    "print()\n",
    "print('\\\\n출력 이스케이프 차단1') # escape 기능 차단1 - \\\n",
    "print()\n",
    "print(r'\\n출력 이스케이프 차단2') # escape 기능 차단2 - r"
   ]
  },
  {
   "cell_type": "code",
   "execution_count": 2,
   "metadata": {},
   "outputs": [
    {
     "name": "stdout",
     "output_type": "stream",
     "text": [
      "path = C:\\Python\test\n",
      "path = C:\\Python\\test\n",
      "path = C:\\Python\\test\n"
     ]
    }
   ],
   "source": [
    "#경로 표현  : C:\\Python\\test\n",
    "print('path =', 'C:\\Python\\test')   #\\t-tab     path = C:\\Python    est\n",
    "print('path =', 'C:\\\\Python\\\\test') #path = C:\\Python\\test\n",
    "print('path =', r'C:\\Python\\test')  #path = C:\\Python\\test"
   ]
  },
  {
   "cell_type": "code",
   "execution_count": null,
   "metadata": {},
   "outputs": [],
   "source": []
  }
 ],
 "metadata": {
  "kernelspec": {
   "display_name": "Python 3 (ipykernel)",
   "language": "python",
   "name": "python3"
  },
  "language_info": {
   "codemirror_mode": {
    "name": "ipython",
    "version": 3
   },
   "file_extension": ".py",
   "mimetype": "text/x-python",
   "name": "python",
   "nbconvert_exporter": "python",
   "pygments_lexer": "ipython3",
   "version": "3.12.4"
  }
 },
 "nbformat": 4,
 "nbformat_minor": 4
}
