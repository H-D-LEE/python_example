{
 "cells": [
  {
   "cell_type": "code",
   "execution_count": null,
   "metadata": {},
   "outputs": [],
   "source": [
    "[문제1] 다음과 같은 여러 문자열을 대상으로 \n",
    "<email 양식 처리조건>에 맞게 정규표현식을 적용하여 \n",
    "email 양식이 올바른 것만 출력되도록 표시하시오\n",
    "email = \"\"\"hong@12.com\n",
    "you2@naver.com\n",
    "12kang@hanmail.net\n",
    "kimjs@gmail.com\n",
    "\"\"\"\n",
    "\n",
    "<email 양식 처리 조건>\n",
    "1. 아이디 : 첫자는 영문소문자, 단어길이는 4자리 이상\n",
    "2. 호스트 이름 : 영문소문자, 단어길이는 3자리 이상\n",
    "3. 최상위 도메인 : 영문소문자 3자리 이상\n",
    "4. 정규표현식 기본 패턴 : ‘메타문자@매터문자.메타문자\n",
    "    \n",
    "<출력화면 예시>\n",
    "you2@naver.com\n",
    "kimjs@gmail.com"
   ]
  },
  {
   "cell_type": "code",
   "execution_count": 8,
   "metadata": {},
   "outputs": [
    {
     "name": "stdout",
     "output_type": "stream",
     "text": [
      "findall : you2@naver.com\n",
      "match : you2@naver.com\n",
      "findall : kimjs@gmail.com\n",
      "match : kimjs@gmail.com}\n"
     ]
    }
   ],
   "source": [
    "email = \"\"\"hong@12.com\n",
    "you2@naver.com\n",
    "12kang@hanmail.net\n",
    "kimjs@gmail.com}\n",
    "\"\"\"\n",
    "from re import findall, match, sub\n",
    "\n",
    "for e in email.split(sep='\\n') :\n",
    "    #findall\n",
    "    result = findall('^[a-z]\\\\w{3,}@[a-z]\\\\w{2,}.[a-z]\\\\w{2,}',e)\n",
    "    \n",
    "    #패턴과 일치하는 email\n",
    "    if result :\n",
    "        str_result = result[0]\n",
    "        print('findall :', str_result)\n",
    "\n",
    "    #match\n",
    "    result2 = match('^[a-z]\\\\w{3,}@[a-z]\\\\w{2,}.[a-z]\\\\w{2,}', e)\n",
    "        \n",
    "    if result2 :\n",
    "        print('match :', e)\n"
   ]
  },
  {
   "cell_type": "code",
   "execution_count": null,
   "metadata": {},
   "outputs": [],
   "source": [
    "[문제2] \n",
    "다음 emp 변수는 ‘입사년도, 이름, 급여’순으로 사원의 정보가 기록된 자료이다. \n",
    "emp 변수를 이용하여 사원의 이름만 추출하는 함수를 정의하시오.\n",
    "emp =['2014홍길동220','2002이순신300','2010유관순2260']\n",
    "\n",
    "<출력 결과>\n",
    "names = [‘홍길동’,  ‘이순신’, ‘유관순’]"
   ]
  },
  {
   "cell_type": "code",
   "execution_count": 10,
   "metadata": {},
   "outputs": [
    {
     "data": {
      "text/plain": [
       "['홍길동', '이순신', '유관순']"
      ]
     },
     "execution_count": 10,
     "metadata": {},
     "output_type": "execute_result"
    }
   ],
   "source": [
    "from re import findall\n",
    "\n",
    "emp =['2014홍길동220','2002이순신300','2010유관순2260']\n",
    "\n",
    "def name_pro(emp) :\n",
    "    names=[]\n",
    "    \n",
    "    for e in emp :\n",
    "        name = findall('[가-힣]{3}', e)\n",
    "        names.append(name[0])\n",
    "        \n",
    "    return names\n",
    "\n",
    "name_pro(emp)\n"
   ]
  },
  {
   "cell_type": "code",
   "execution_count": null,
   "metadata": {},
   "outputs": [],
   "source": [
    "[문제3] \n",
    "다음 emp 변수는 ‘입사년도, 이름, 급여’순으로 사원의 정보가 기록된 자료이다. \n",
    "emp 변수를 이용하여 사원의 평균 급여를 추출하는 함수를 정의하시오.\n",
    "emp =['2014홍길동220','2002이순신300','2010유관순2260']\n",
    "\n",
    "<출력 결과>\n",
    "전체 사원 급여 평균 : 260"
   ]
  },
  {
   "cell_type": "code",
   "execution_count": 22,
   "metadata": {},
   "outputs": [
    {
     "name": "stdout",
     "output_type": "stream",
     "text": [
      "[220, 300, 226]\n"
     ]
    },
    {
     "data": {
      "text/plain": [
       "248.66666666666666"
      ]
     },
     "execution_count": 22,
     "metadata": {},
     "output_type": "execute_result"
    }
   ],
   "source": [
    "from re import findall\n",
    "from statistics import mean\n",
    "\n",
    "emp =['2014홍길동220','2002이순신300','2010유관순2260']\n",
    "\n",
    "def pay_pro(emp) :\n",
    "    pays=[]\n",
    "    \n",
    "    for e in emp :\n",
    "        tmp = findall('[가-힣][0-9]{3}', e)\n",
    "        #print(tmp)\n",
    "        pay = findall('[0-9]{3}', tmp[0])\n",
    "        #print(tmp)\n",
    "        pays.append(int(pay[0]))\n",
    "                    \n",
    "    print(pays)\n",
    "    return mean(pays)\n",
    "\n",
    "pay_pro(emp)"
   ]
  },
  {
   "cell_type": "code",
   "execution_count": null,
   "metadata": {},
   "outputs": [],
   "source": [
    "[문제4] \n",
    "다음 emp 변수는 ‘입사년도, 이름, 급여’순으로 사원의 정보가 기록된 자료이다. \n",
    "emp 변수를 이용하여 전체 급여 평균과 평균 이상 급여 수령자를 추출하는 함수를 정의하시오.\n",
    "emp =['2014홍길동220','2002이순신300','2010유관순2260']\n",
    "\n",
    "<출력 결과>\n",
    "전체 사원 급여 평균 : 260\n",
    "평균 이상 급여 수령자\n",
    "이순신 => 300\n",
    "유관순 => 260"
   ]
  },
  {
   "cell_type": "code",
   "execution_count": null,
   "metadata": {},
   "outputs": [],
   "source": []
  },
  {
   "cell_type": "code",
   "execution_count": 4,
   "metadata": {},
   "outputs": [
    {
     "name": "stdout",
     "output_type": "stream",
     "text": [
      "전체 평균 급여 : 248\n",
      "평균이상 급여 수령자\n",
      "이순신 => 300\n"
     ]
    }
   ],
   "source": [
    "from re import findall\n",
    "from statistics import mean\n",
    "\n",
    "emp =['2014홍길동220','2002이순신300','2010유관순2260']\n",
    "\n",
    "def pay_pro(x) :\n",
    "    from re import findall\n",
    "    from statistics import mean\n",
    "    \n",
    "    tmp = [findall('[가-힣]{3}', user) for user in x]\n",
    "    name= [user[0] for user in tmp]\n",
    "           \n",
    "    pay = []\n",
    "    tmp = [findall('[가-힣][0-9]{3}', user) for user in x]\n",
    "    \n",
    "    for user in tmp :\n",
    "           str_user = user[0]\n",
    "           pay.append(int(str_user[1:]))\n",
    "                    \n",
    "\n",
    "    pay_avg = mean(pay)\n",
    "    print('전체 평균 급여 : %d'%pay_avg)\n",
    "    print('평균이상 급여 수령자')\n",
    "           \n",
    "    for i in range(len(x)) :\n",
    "           if pay[i] >= pay_avg :\n",
    "               print(name[i], '=>', pay[i])\n",
    "\n",
    "pay_pro(emp)\n"
   ]
  },
  {
   "cell_type": "code",
   "execution_count": null,
   "metadata": {},
   "outputs": [],
   "source": [
    "[문제5] \n",
    "다음 texts 변수의 텍스트를 출력  결과와 같이 전처리 하시오. \n",
    "texts = ['AFAB54747,ASABAG?', 'abTTa $$;a12:2824', 'uysfsfA,A124&***$?']\n",
    "\n",
    "<출력 결과>\n",
    "[‘afabasabag’, ‘abttaa’, ‘uysfsfaa’]"
   ]
  },
  {
   "cell_type": "code",
   "execution_count": 88,
   "metadata": {},
   "outputs": [
    {
     "name": "stdout",
     "output_type": "stream",
     "text": [
      "['afabasabag', 'abtta a', 'uysfsfaa']\n"
     ]
    }
   ],
   "source": [
    "from re import findall, sub\n",
    "\n",
    "texts = ['AFAB54747,ASABAG?', 'abTTa $$;a12:2824', 'uysfsfA,A124&***$?']\n",
    "\n",
    "# 텍스트 전처리 함수\n",
    "def crean_text(text) : # 문자열 인수\n",
    "    # 1~6단계\n",
    "    texts_re = text.lower()  # 소문자 변경\n",
    "    texts_re2 = sub('[0-9]', '', texts_re)  # 숫자 제거\n",
    "    texts_re3 = sub('[,.?!;:]', '', texts_re2)  # 문장부호 제거\n",
    "    texts_re4 = sub('[@#$%^&*()]', '', texts_re3)   # 특수문자 제거\n",
    "    texts_re5 = ' '.join(texts_re4.split()) # white space 제거(단어 구분)\n",
    "    return texts_re5 # 반환값\n",
    "\n",
    "# 함수 호출\n",
    "texts_result = [crean_text(text) for text in texts]\n",
    "print(texts_result)\n"
   ]
  },
  {
   "cell_type": "code",
   "execution_count": null,
   "metadata": {},
   "outputs": [],
   "source": []
  }
 ],
 "metadata": {
  "kernelspec": {
   "display_name": "Python 3",
   "language": "python",
   "name": "python3"
  },
  "language_info": {
   "codemirror_mode": {
    "name": "ipython",
    "version": 3
   },
   "file_extension": ".py",
   "mimetype": "text/x-python",
   "name": "python",
   "nbconvert_exporter": "python",
   "pygments_lexer": "ipython3",
   "version": "3.8.5"
  }
 },
 "nbformat": 4,
 "nbformat_minor": 4
}
