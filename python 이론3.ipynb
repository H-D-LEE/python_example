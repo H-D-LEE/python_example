{
 "cells": [
  {
   "cell_type": "code",
   "execution_count": 1,
   "id": "c59ec50b-3c62-4dc1-9746-80c98a14eebe",
   "metadata": {},
   "outputs": [],
   "source": [
    "# 파일 읽고 쓰기\n",
    "# open(\"파일 경로/파일 이름\", mode = 'r'/'w'/'a', encodig = 'utf-8')"
   ]
  },
  {
   "cell_type": "code",
   "execution_count": 3,
   "id": "bfa8564f-f5df-4257-8cd5-ff7739636b16",
   "metadata": {},
   "outputs": [
    {
     "data": {
      "text/plain": [
       "'C:\\\\Users\\\\user\\\\Documents\\\\python'"
      ]
     },
     "execution_count": 3,
     "metadata": {},
     "output_type": "execute_result"
    }
   ],
   "source": [
    "import os\n",
    "\n",
    "os.getcwd()"
   ]
  },
  {
   "cell_type": "code",
   "execution_count": 42,
   "id": "64bfa973-f7bf-473e-b7f3-b0a142771e75",
   "metadata": {},
   "outputs": [
    {
     "data": {
      "text/plain": [
       "<_io.TextIOWrapper name='C:/File_Test/ftest.txt' mode='r' encoding='cp949'>"
      ]
     },
     "execution_count": 42,
     "metadata": {},
     "output_type": "execute_result"
    }
   ],
   "source": [
    "open('C:/File_Test/ftest.txt', mode = 'r')"
   ]
  },
  {
   "cell_type": "code",
   "execution_count": 44,
   "id": "14c137ec-1279-4aad-be48-bccf243c4711",
   "metadata": {},
   "outputs": [],
   "source": [
    "ftest1 = open('C:/File_Test/ftest.txt', mode = 'r')\n",
    "ftest1.read()\n",
    "ftest1.close()"
   ]
  },
  {
   "cell_type": "code",
   "execution_count": 46,
   "id": "a96388a6-e802-418d-ac41-e5be7cb3925c",
   "metadata": {},
   "outputs": [],
   "source": [
    "ftest2 = open('C:/File_Test/ftest.txt', mode = 'w')\n",
    "ftest2.write('my first text~~~')\n",
    "ftest2.close()"
   ]
  },
  {
   "cell_type": "code",
   "execution_count": 48,
   "id": "53cd05d2-693b-4803-8fd4-966883665f02",
   "metadata": {},
   "outputs": [
    {
     "ename": "ValueError",
     "evalue": "I/O operation on closed file.",
     "output_type": "error",
     "traceback": [
      "\u001b[1;31m---------------------------------------------------------------------------\u001b[0m",
      "\u001b[1;31mValueError\u001b[0m                                Traceback (most recent call last)",
      "Cell \u001b[1;32mIn[48], line 1\u001b[0m\n\u001b[1;32m----> 1\u001b[0m ftest1\u001b[38;5;241m.\u001b[39mread()\n",
      "\u001b[1;31mValueError\u001b[0m: I/O operation on closed file."
     ]
    }
   ],
   "source": [
    "ftest1.read()"
   ]
  },
  {
   "cell_type": "code",
   "execution_count": 50,
   "id": "e06db648-c663-43c4-8ff9-cdc5eea0deb6",
   "metadata": {},
   "outputs": [],
   "source": [
    "os.chdir('C:/File_Test/')"
   ]
  },
  {
   "cell_type": "code",
   "execution_count": 62,
   "id": "b482fa74-e7a6-49ee-ac7c-f5460026cb30",
   "metadata": {},
   "outputs": [
    {
     "name": "stdout",
     "output_type": "stream",
     "text": [
      "programming is fun!\n",
      "very fun!\n",
      "have a good time\n",
      "mouse is input device\n",
      "keyboard is input device\n",
      "computer is input output system\n"
     ]
    }
   ],
   "source": [
    "ftest1 = open('C:/File_Test/ftest.txt', mode = 'r')\n",
    "print(ftest1.read())\n",
    "ftest1.close()"
   ]
  },
  {
   "cell_type": "code",
   "execution_count": 64,
   "id": "716c802b-70ab-40ae-8c00-97370e5309c9",
   "metadata": {},
   "outputs": [],
   "source": [
    "os.chdir('C:/File_Test/')"
   ]
  },
  {
   "cell_type": "code",
   "execution_count": 66,
   "id": "da1860f6-6cbb-4ec9-b24a-2aafc4a0cab0",
   "metadata": {},
   "outputs": [
    {
     "data": {
      "text/plain": [
       "['ftest.txt', 'ftest2.txt', 'test_tmp']"
      ]
     },
     "execution_count": 66,
     "metadata": {},
     "output_type": "execute_result"
    }
   ],
   "source": [
    "os.listdir()"
   ]
  },
  {
   "cell_type": "markdown",
   "id": "49b34f2c-d979-4950-86a7-e0837c4f98bb",
   "metadata": {},
   "source": [
    "os.mkdir('C:/File_test/test_tmp')"
   ]
  },
  {
   "cell_type": "code",
   "execution_count": 69,
   "id": "aebe77f6-caf7-4a2a-9419-ae0b75bf99ae",
   "metadata": {},
   "outputs": [
    {
     "ename": "FileExistsError",
     "evalue": "[WinError 183] 파일이 이미 있으므로 만들 수 없습니다: 'C:/File_test/test_tmp'",
     "output_type": "error",
     "traceback": [
      "\u001b[1;31m---------------------------------------------------------------------------\u001b[0m",
      "\u001b[1;31mFileExistsError\u001b[0m                           Traceback (most recent call last)",
      "Cell \u001b[1;32mIn[69], line 1\u001b[0m\n\u001b[1;32m----> 1\u001b[0m os\u001b[38;5;241m.\u001b[39mmkdir(\u001b[38;5;124m'\u001b[39m\u001b[38;5;124mC:/File_test/test_tmp\u001b[39m\u001b[38;5;124m'\u001b[39m)\n",
      "\u001b[1;31mFileExistsError\u001b[0m: [WinError 183] 파일이 이미 있으므로 만들 수 없습니다: 'C:/File_test/test_tmp'"
     ]
    }
   ],
   "source": [
    "os.mkdir('C:/File_test/test_tmp')"
   ]
  },
  {
   "cell_type": "code",
   "execution_count": 81,
   "id": "644e6419-ec19-4a35-a30c-f987a331e528",
   "metadata": {},
   "outputs": [],
   "source": [
    "ftest2 = open('C:/File_test/test_tmp/ftest2.txt', mode = 'w')\n",
    "ftest2.write('my first text~~~')\n",
    "ftest2.close()"
   ]
  },
  {
   "cell_type": "code",
   "execution_count": 83,
   "id": "cb6ce2d5-7ef1-490b-a87f-18157c6f0e84",
   "metadata": {},
   "outputs": [],
   "source": [
    "ftest2 = open('C:/File_test/test_tmp/ftest2.txt', mode = 'w')\n",
    "ftest2.write('\\n my second text~~~')\n",
    "ftest2.close()"
   ]
  },
  {
   "cell_type": "code",
   "execution_count": 85,
   "id": "d699231e-a96e-47eb-b1cb-dbacd698195a",
   "metadata": {},
   "outputs": [],
   "source": [
    "ftest2 = open('C:/File_test/test_tmp/ftest2.txt', mode = 'w')\n",
    "ftest2.write('\\n my third text~~~')\n",
    "ftest2.close()"
   ]
  },
  {
   "cell_type": "code",
   "execution_count": 87,
   "id": "25a90cab-7448-494e-be65-0d94577a93bf",
   "metadata": {},
   "outputs": [
    {
     "name": "stdout",
     "output_type": "stream",
     "text": [
      "\n",
      " my third text~~~\n"
     ]
    }
   ],
   "source": [
    "ftest2 = open('C:/File_test/test_tmp/ftest2.txt', mode = 'r')\n",
    "print(ftest2.read())\n",
    "ftest2.close()"
   ]
  },
  {
   "cell_type": "code",
   "execution_count": 89,
   "id": "d93d9c93-17a0-4d6b-8133-f664d2e9260a",
   "metadata": {},
   "outputs": [],
   "source": [
    "ftest1 = open('C:/File_test/test_tmp/ftest.txt', mode = 'r')"
   ]
  },
  {
   "cell_type": "code",
   "execution_count": 93,
   "id": "5fa1d017-6997-426f-a958-59a8c1c8dd7d",
   "metadata": {},
   "outputs": [
    {
     "name": "stdout",
     "output_type": "stream",
     "text": [
      "['programming is fun!\\n', 'very fun!\\n', 'have a good time\\n', 'mouse is input device\\n', 'keyboard is input device\\n', 'computer is input output system']\n",
      "None\n"
     ]
    },
    {
     "ename": "TypeError",
     "evalue": "'NoneType' object is not iterable",
     "output_type": "error",
     "traceback": [
      "\u001b[1;31m---------------------------------------------------------------------------\u001b[0m",
      "\u001b[1;31mTypeError\u001b[0m                                 Traceback (most recent call last)",
      "Cell \u001b[1;32mIn[93], line 4\u001b[0m\n\u001b[0;32m      2\u001b[0m \u001b[38;5;28mprint\u001b[39m(lines)\n\u001b[0;32m      3\u001b[0m doc \u001b[38;5;241m=\u001b[39m []\n\u001b[1;32m----> 4\u001b[0m \u001b[38;5;28;01mfor\u001b[39;00m line \u001b[38;5;129;01min\u001b[39;00m lines :\n\u001b[0;32m      5\u001b[0m     \u001b[38;5;28mprint\u001b[39m(line\u001b[38;5;241m.\u001b[39mstrip())\n\u001b[0;32m      6\u001b[0m     doc\u001b[38;5;241m.\u001b[39mappend(line\u001b[38;5;241m.\u001b[39mstrip())\n",
      "\u001b[1;31mTypeError\u001b[0m: 'NoneType' object is not iterable"
     ]
    }
   ],
   "source": [
    "lines = print(ftest1.readlines())\n",
    "print(lines)\n",
    "doc = []\n",
    "for line in lines :\n",
    "    print(line.strip())\n",
    "    doc.append(line.strip())\n",
    "\n",
    "print('doc = ', doc)"
   ]
  },
  {
   "cell_type": "code",
   "execution_count": 99,
   "id": "1e598a77-7d5f-44f1-8ea0-b387bdd38139",
   "metadata": {},
   "outputs": [
    {
     "ename": "SyntaxError",
     "evalue": "incomplete input (3662952710.py, line 1)",
     "output_type": "error",
     "traceback": [
      "\u001b[1;36m  Cell \u001b[1;32mIn[99], line 1\u001b[1;36m\u001b[0m\n\u001b[1;33m    with open('ftest3.txt', mode = 'w', encoding = 'utf-8') as ftest :\u001b[0m\n\u001b[1;37m                                                                      ^\u001b[0m\n\u001b[1;31mSyntaxError\u001b[0m\u001b[1;31m:\u001b[0m incomplete input\n"
     ]
    }
   ],
   "source": [
    "with open('ftest3.txt', mode = 'w', encoding = 'utf-8') as ftest :"
   ]
  },
  {
   "cell_type": "code",
   "execution_count": 103,
   "id": "87a5db85-739b-4de9-91cf-8aa8f3510ad6",
   "metadata": {},
   "outputs": [
    {
     "name": "stdout",
     "output_type": "stream",
     "text": [
      "['programming is fun!\\n', 'very fun!\\n', 'have a good time\\n', 'mouse is input device\\n', 'keyboard is input device\\n', 'computer is input output system']\n",
      "<class 'list'>\n",
      "문단 수 :  6\n",
      "programming is fun!\n",
      "doc :  ['programming is fun!']\n",
      "\n",
      "very fun!\n",
      "doc :  ['programming is fun!', 'very fun!']\n",
      "\n",
      "have a good time\n",
      "doc :  ['programming is fun!', 'very fun!', 'have a good time']\n",
      "\n",
      "mouse is input device\n",
      "doc :  ['programming is fun!', 'very fun!', 'have a good time', 'mouse is input device']\n",
      "\n",
      "keyboard is input device\n",
      "doc :  ['programming is fun!', 'very fun!', 'have a good time', 'mouse is input device', 'keyboard is input device']\n",
      "\n",
      "computer is input output system\n",
      "doc :  ['programming is fun!', 'very fun!', 'have a good time', 'mouse is input device', 'keyboard is input device', 'computer is input output system']\n",
      "\n",
      "['programming is fun!', 'very fun!', 'have a good time', 'mouse is input device', 'keyboard is input device', 'computer is input output system']\n"
     ]
    }
   ],
   "source": [
    "ftest = open('C:/File_test/test_tmp/ftest.txt', mode = 'r')\n",
    "lines = ftest.readlines()\n",
    "print(lines)\n",
    "print(type(lines))\n",
    "print('문단 수 : ', len(lines))\n",
    "\n",
    "doc = []\n",
    "for line in lines :\n",
    "    print(line.strip())\n",
    "    doc.append(line.strip())\n",
    "    print('doc : ', doc)\n",
    "    print()\n",
    "\n",
    "print(doc)"
   ]
  },
  {
   "cell_type": "code",
   "execution_count": 105,
   "id": "367b7a8b-a3bc-4f62-ac3f-873bf6fb90b9",
   "metadata": {},
   "outputs": [
    {
     "ename": "OSError",
     "evalue": "[WinError 145] 디렉터리가 비어 있지 않습니다: 'test_tmp'",
     "output_type": "error",
     "traceback": [
      "\u001b[1;31m---------------------------------------------------------------------------\u001b[0m",
      "\u001b[1;31mOSError\u001b[0m                                   Traceback (most recent call last)",
      "Cell \u001b[1;32mIn[105], line 1\u001b[0m\n\u001b[1;32m----> 1\u001b[0m os\u001b[38;5;241m.\u001b[39mrmdir(\u001b[38;5;124m'\u001b[39m\u001b[38;5;124mtest_tmp\u001b[39m\u001b[38;5;124m'\u001b[39m)\n\u001b[0;32m      2\u001b[0m os\u001b[38;5;241m.\u001b[39mlistdir()\n",
      "\u001b[1;31mOSError\u001b[0m: [WinError 145] 디렉터리가 비어 있지 않습니다: 'test_tmp'"
     ]
    }
   ],
   "source": [
    "os.rmdir('test_tmp')\n",
    "os.listdir()"
   ]
  },
  {
   "cell_type": "code",
   "execution_count": 111,
   "id": "3ff0eb88-d661-4aea-b345-837245939ad6",
   "metadata": {},
   "outputs": [
    {
     "data": {
      "text/plain": [
       "'C:\\\\File_Test'"
      ]
     },
     "execution_count": 111,
     "metadata": {},
     "output_type": "execute_result"
    }
   ],
   "source": [
    "import glob\n",
    "os.getcwd()"
   ]
  },
  {
   "cell_type": "code",
   "execution_count": 113,
   "id": "61fa39ee-7c14-490f-a3e1-abe3ec93a796",
   "metadata": {},
   "outputs": [
    {
     "data": {
      "text/plain": [
       "['bmi.csv', 'emp.csv', 'score.csv', 'spam_data.csv']"
      ]
     },
     "execution_count": 113,
     "metadata": {},
     "output_type": "execute_result"
    }
   ],
   "source": [
    "glob.glob('*.csv')"
   ]
  },
  {
   "cell_type": "code",
   "execution_count": 123,
   "id": "30b9f824-8cf5-47e2-9a13-dbbf5f8b7dc6",
   "metadata": {},
   "outputs": [
    {
     "data": {
      "text/plain": [
       "['.\\\\1.txt.txt']"
      ]
     },
     "execution_count": 123,
     "metadata": {},
     "output_type": "execute_result"
    }
   ],
   "source": [
    "glob.glob('./[0-9].*')"
   ]
  },
  {
   "cell_type": "code",
   "execution_count": 127,
   "id": "179dbf15-a37f-4da9-8a1f-3ae348b26178",
   "metadata": {},
   "outputs": [
    {
     "data": {
      "text/plain": [
       "['1.txt.txt',\n",
       " 'ftest.txt',\n",
       " 'ftest2.txt',\n",
       " 'ftest3.txt',\n",
       " 'test.txt',\n",
       " 'usagov_bitly.txt',\n",
       " 'zipcode.txt']"
      ]
     },
     "execution_count": 127,
     "metadata": {},
     "output_type": "execute_result"
    }
   ],
   "source": [
    "glob.glob('*.txt')"
   ]
  },
  {
   "cell_type": "code",
   "execution_count": null,
   "id": "a9c0eb51-3fe3-4ba0-8f3b-37a8b6b9e946",
   "metadata": {},
   "outputs": [],
   "source": []
  }
 ],
 "metadata": {
  "kernelspec": {
   "display_name": "Python 3 (ipykernel)",
   "language": "python",
   "name": "python3"
  },
  "language_info": {
   "codemirror_mode": {
    "name": "ipython",
    "version": 3
   },
   "file_extension": ".py",
   "mimetype": "text/x-python",
   "name": "python",
   "nbconvert_exporter": "python",
   "pygments_lexer": "ipython3",
   "version": "3.12.4"
  }
 },
 "nbformat": 4,
 "nbformat_minor": 5
}
