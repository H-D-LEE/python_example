{
 "cells": [
  {
   "cell_type": "code",
   "execution_count": null,
   "metadata": {},
   "outputs": [],
   "source": [
    "[문제1] 다음과 같은 <처리조건>에 맞게 Rectangle 클래스를 작성하시오.\n",
    "<처리 조건>\n",
    "1. 멤버변수 : 가로(width), 세로(height)\n",
    "2. 생성자 : 가로(width), 세로(height) 맴버 변수 초기화\n",
    "3. 메서드(area_calc) : 사각형의 넓이를 구하는 함수\n",
    "                            사각형 넓이 = 가로 * 세로\n",
    "4. 메서드(circum_calc) : 사각형의 둘레를 구하는 함수\n",
    "                               사각형 둘레 = (가로 + 세로) * 2\n",
    "5. 기타 세부 내용 < 출력 화면 예시> 참고\n",
    "\n",
    "<출력화면 예시>\n",
    "사각형의 넓이와 둘레를 계산합니다.\n",
    "사각형의 가로 입력 : 10\n",
    "사각형의 세로 입력 : 5\n",
    "---------------------------------------------\n",
    "사각형의 넓이 : 50\n",
    "사각형의 둘레 :30\n"
   ]
  },
  {
   "cell_type": "code",
   "execution_count": 7,
   "metadata": {},
   "outputs": [
    {
     "name": "stdout",
     "output_type": "stream",
     "text": [
      "사각형의 넓이와 둘레를 계산합니다.\n"
     ]
    },
    {
     "name": "stdin",
     "output_type": "stream",
     "text": [
      "사각형의 가로 입력 :  50\n",
      "사각형의 세로 입력 :  10\n"
     ]
    },
    {
     "name": "stdout",
     "output_type": "stream",
     "text": [
      "----------------------------\n",
      "사각형의 넓이 : 500\n",
      "사각형의 둘레 : 120\n"
     ]
    }
   ],
   "source": [
    "class Rectangle :\n",
    "    w = 0\n",
    "    h = 0\n",
    "    \n",
    "    def __init__(self, w, h) :\n",
    "        self.w = w\n",
    "        self.h = h\n",
    "\n",
    "    def area_calc(self) :\n",
    "        area = self.w * self.h\n",
    "        print(f'사각형의 넓이 : {area}')\n",
    "\n",
    "    def circum_calc(self) :\n",
    "        circum = (self.w + self.h) * 2\n",
    "        print(f'사각형의 둘레 : {circum}')\n",
    "\n",
    "print('사각형의 넓이와 둘레를 계산합니다.')\n",
    "width = int(input('사각형의 가로 입력 : '))\n",
    "height = int(input('사각형의 세로 입력 : '))\n",
    "print('----------------------------')\n",
    "rectangle = Rectangle(width, height)\n",
    "rectangle.area_calc()\n",
    "rectangle.circum_calc()"
   ]
  },
  {
   "cell_type": "code",
   "execution_count": null,
   "metadata": {},
   "outputs": [],
   "source": [
    "[문제2] \n",
    "동적 멤버 변수를 생성하여 \n",
    "다음과 같은 산포도를 구하는 클래스를 정의하시오\n",
    "\n",
    "<출력화면 예시>\n",
    "분산 : 7.466666666\n",
    "표준편차 : 2.73252020"
   ]
  },
  {
   "cell_type": "code",
   "execution_count": 13,
   "metadata": {},
   "outputs": [
    {
     "name": "stdout",
     "output_type": "stream",
     "text": [
      "분산 : 1101.8777777777777\n",
      "표준편차 : 33.19454439780395\n"
     ]
    }
   ],
   "source": [
    "import random as rd\n",
    "from statistics import mean\n",
    "from math import sqrt\n",
    "\n",
    "class Dispersion :\n",
    "    x = []\n",
    "    def __init__(self, x) :\n",
    "        self.x = x\n",
    "\n",
    "    def function_var(self) :\n",
    "        avg = mean(self.x)\n",
    "        diff = [ (i - avg) ** 2 for i in self.x ]\n",
    "        self.var = sum(diff) / (len(self.x) - 1)\n",
    "        return self.var\n",
    "\n",
    "    def function_std(self) :\n",
    "        sd = sqrt(self.var)\n",
    "        return sd\n",
    "\n",
    "dispersion = []\n",
    "for i in range(10) :\n",
    "    num = rd.randint(1, 99)\n",
    "    dispersion.append(num)\n",
    "\n",
    "dis = Dispersion(dispersion)\n",
    "var1 = dis.function_var()\n",
    "print(f'분산 : {var1}')\n",
    "\n",
    "var2 = dis.function_std()\n",
    "print(f'표준편차 : {var2}')"
   ]
  },
  {
   "cell_type": "code",
   "execution_count": null,
   "metadata": {},
   "outputs": [],
   "source": [
    "[문제3] 다음과 같은 <처리조건>에 맞게 Person 클래스를 작성하시오.\n",
    "\n",
    "<처리 조건>\n",
    "1. 멤버변수 : 이름(name), 성별(gender), 나이(age)\n",
    "2. 생성자 : 이름, 성별, 나이 맴버 변수 초기화\n",
    "3. 메서드(display) : 이름, 성별, 나이 출력 기능\n",
    "4. 기타 세부 내용 < 출력 화면 예시> 참고\n",
    "\n",
    "<출력화면 예시>\n",
    "이름 : 유관순\n",
    "나이 : 35\n",
    "성별(male/female)  : female\n",
    "======================\n",
    "이름 : 유관순\n",
    "나이 : 35\n",
    "성별 : 여자"
   ]
  },
  {
   "cell_type": "code",
   "execution_count": 25,
   "metadata": {},
   "outputs": [
    {
     "name": "stdin",
     "output_type": "stream",
     "text": [
      "이름 :  홍길동\n",
      "나이 :  25\n",
      "성별(male, female) :  female\n"
     ]
    },
    {
     "name": "stdout",
     "output_type": "stream",
     "text": [
      "==================================================\n",
      "이름 : 홍길동\n",
      " 나이 : 25\n",
      " 성별 : 여자\n"
     ]
    }
   ],
   "source": [
    "class Person :\n",
    "    name = ''\n",
    "    gender = ''\n",
    "    age = 0\n",
    "\n",
    "    def __init__(self, name, gender, age) :\n",
    "        self.n = name\n",
    "        self.g = gender\n",
    "        self.a = age\n",
    "        print('=' * 50)\n",
    "\n",
    "    def display(self) :\n",
    "        if self.g == 'male' :\n",
    "            print(f'이름 : {self.n}\\n 나이 : {self.a}\\n 성별 : 남자')\n",
    "        else :\n",
    "            print(f'이름 : {self.n}\\n 나이 : {self.a}\\n 성별 : 여자')\n",
    "\n",
    "name = input('이름 : ')\n",
    "age = int(input('나이 : '))\n",
    "gender = input('성별(male, female) : ')\n",
    "\n",
    "human = Person(name, gender, age)\n",
    "human.display()"
   ]
  },
  {
   "cell_type": "code",
   "execution_count": null,
   "metadata": {},
   "outputs": [],
   "source": [
    "[문제4] 다음과 같은 <처리조건>에 맞게 Employee 클래스를 상속 받아서 permanent와 Temporary 클래스를 구현하시오.\n",
    "    \n",
    "<처리 조건>\n",
    "조건1. 키보드로 정규직과 임시직을 구분한다.\n",
    "조건2. 정규직인 경우에는 기본급과 상여금을 입력 받아서 급여를 계산한다.\n",
    "조건3. 임시직인 경우에는 작업시간과 시급을 입력 받아서 급여를 계산한다."
   ]
  },
  {
   "cell_type": "code",
   "execution_count": 3,
   "metadata": {},
   "outputs": [
    {
     "name": "stdin",
     "output_type": "stream",
     "text": [
      "고용형태 선택 : 정규직(P) 또는 임시직(T) 임시직\n",
      "이름 홍길동\n",
      "작업시간 :  45\n",
      "시급 :  2\n"
     ]
    },
    {
     "name": "stdout",
     "output_type": "stream",
     "text": [
      "------------------------------\n",
      "고용형태 : 임시직\n",
      "이름 : 홍길동\n",
      "급여 : 90원\n"
     ]
    }
   ],
   "source": [
    "class Employee :\n",
    "    name = None\n",
    "    pay = 0\n",
    "    def __init__(self, name) :\n",
    "        self.name = name\n",
    "\n",
    "class Permanent(Employee) :\n",
    "    def __init__(self, name) :\n",
    "        super().__init__(name)\n",
    "\n",
    "    def pay_calc(self, base, bonus) :\n",
    "        self.pay = base + bonus\n",
    "        print('-'*30)\n",
    "        print('고용형태 : 정규직')\n",
    "        print(f'이름 : {self.name}')\n",
    "        print(f'급여 : {self.pay}원')\n",
    "        \n",
    "class Temporary(Employee) :\n",
    "    def __init__(self, name) :\n",
    "        super().__init__(name)\n",
    "\n",
    "    def pay_calc(self, time_pay, time) :\n",
    "        self.pay = time_pay * time\n",
    "        print('-' * 30)\n",
    "        print('고용형태 : 임시직')\n",
    "        print(f'이름 : {self.name}')\n",
    "        print(f'급여 : {self.pay}원')\n",
    "\n",
    "employee = input('고용형태 선택 : 정규직(P) 또는 임시직(T)')\n",
    "if employee == '정규직' or employee == 'P' or employee == 'p' :\n",
    "    name = input('이름')\n",
    "    base = int(input('기본급 : '))\n",
    "    bonus = int(input('상여금 : '))\n",
    "    p = Permanent(name)\n",
    "    p.pay_calc(base, bonus)\n",
    "elif employee == '임시직' or employee == 'T' or employee == 't' :\n",
    "    name = input('이름')\n",
    "    time = int(input('작업시간 : '))\n",
    "    time_pay = int(input('시급 : '))\n",
    "    p = Temporary(name)\n",
    "    p.pay_calc(time_pay, time)\n",
    "else :\n",
    "    print('-' * 30)\n",
    "    print('입력 오류')"
   ]
  },
  {
   "cell_type": "code",
   "execution_count": null,
   "metadata": {},
   "outputs": [],
   "source": [
    "[문제5] 다음과 같은 <처리조건>에 맞게 \n",
    "사칙연산 관련 패키지와 모듈을 작성하고, \n",
    "다른 모듈에서 import하여 결과를 확인하시오.\n",
    "\n",
    "<처리 조건>\n",
    "1. 패키지명 : myCalcPackage\n",
    "2. 모듈명 : calcModule.py\n",
    "3. 함수명 : Add(), Sub(), Mul(), Div()\n",
    "4. 함수 호출명 : emample.py\n",
    "5. 호출 모듈에서 사칙연산 함수를 호출한 결과 <출력 결과 예시> 참조\n",
    "\n",
    "<출력화면 예시>\n",
    "x = 10; y = 5일때\n",
    "Add = 15\n",
    "Sub = 5\n",
    "Mul = 50\n",
    "Div = 2.0"
   ]
  },
  {
   "cell_type": "code",
   "execution_count": 13,
   "metadata": {},
   "outputs": [
    {
     "name": "stdout",
     "output_type": "stream",
     "text": [
      "x = 10; y = 5일때\n",
      "Add = 15\n",
      "Add = 5\n",
      "Add = 50\n",
      "Add = 2.0\n"
     ]
    }
   ],
   "source": [
    "from calcModule import Add, Sub, Mul, Div\n",
    "\n",
    "x = 10\n",
    "y = 5\n",
    "\n",
    "print(f'x = {x}; y = {y}일때')\n",
    "print(f'Add = {Add(x, y)}')\n",
    "print(f'Add = {Sub(x, y)}')\n",
    "print(f'Add = {Mul(x, y)}')\n",
    "print(f'Add = {Div(x, y)}')"
   ]
  }
 ],
 "metadata": {
  "kernelspec": {
   "display_name": "Python 3 (ipykernel)",
   "language": "python",
   "name": "python3"
  },
  "language_info": {
   "codemirror_mode": {
    "name": "ipython",
    "version": 3
   },
   "file_extension": ".py",
   "mimetype": "text/x-python",
   "name": "python",
   "nbconvert_exporter": "python",
   "pygments_lexer": "ipython3",
   "version": "3.12.4"
  }
 },
 "nbformat": 4,
 "nbformat_minor": 4
}
