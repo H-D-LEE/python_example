{
 "cells": [
  {
   "cell_type": "code",
   "execution_count": null,
   "metadata": {},
   "outputs": [],
   "source": [
    "'''\n",
    "반복문(while)\n",
    "\n",
    "형식)\n",
    "while 조건식 :\n",
    "    반복문\n",
    "    반복문 \n",
    "\n",
    "loop : 반복문 집합    \n",
    "'''"
   ]
  },
  {
   "cell_type": "code",
   "execution_count": 1,
   "metadata": {},
   "outputs": [
    {
     "name": "stdout",
     "output_type": "stream",
     "text": [
      "1 1\n",
      "2 3\n",
      "3 6\n",
      "4 10\n",
      "5 15\n",
      "5 15\n"
     ]
    }
   ],
   "source": [
    "# 카운터(index)/누적변수 \n",
    "idx = tot = 0\n",
    "\n",
    "while idx < 5 : # 0 < 5    # True : loop(명령문 집합)- 수행\n",
    "    idx += 1 # 카운터 변수\n",
    "    tot += idx # 누적변수 : tot = tot + idx \n",
    "    print(idx, tot)\n",
    "\n",
    "print(idx, tot) # 5 10"
   ]
  },
  {
   "cell_type": "code",
   "execution_count": 2,
   "metadata": {},
   "outputs": [
    {
     "name": "stdout",
     "output_type": "stream",
     "text": [
      "1 ~ 100사이 3의 배수 합 = 1683\n",
      "dataset = [3, 6, 9, 12, 15, 18, 21, 24, 27, 30, 33, 36, 39, 42, 45, 48, 51, 54, 57, 60, 63, 66, 69, 72, 75, 78, 81, 84, 87, 90, 93, 96, 99]\n"
     ]
    }
   ],
   "source": [
    "# 1 ~ 100 까지 3의 배수 합과 원소 추출하기\n",
    "cnt = tot = 0\n",
    "dataset = []  # 빈 list\n",
    "\n",
    "while cnt < 100:  # 100회 반복\n",
    "    cnt += 1  # 카운터\n",
    "\n",
    "    if cnt % 3 == 0:\n",
    "        tot += cnt  # 누적변수\n",
    "        dataset.append(cnt)  # 3차 작성\n",
    "\n",
    "print('1 ~ 100사이 3의 배수 합 = %d' % tot)  # 1683\n",
    "print('dataset =', dataset)  # [3, 6, 9, ... 99]"
   ]
  },
  {
   "cell_type": "code",
   "execution_count": null,
   "metadata": {},
   "outputs": [
    {
     "name": "stdout",
     "output_type": "stream",
     "text": [
      "숫자 입력 : 9\n",
      "9\n"
     ]
    }
   ],
   "source": [
    "# 무한 loop : exit 조건식 포함\n",
    "numData = []\n",
    " \n",
    "while True :\n",
    "    num = int(input(\"숫자 입력 : \"))\n",
    "    \n",
    "    if num % 10 == 0 : # exit 조건식 \n",
    "        print(\"프로그램 종료\")\n",
    "        break \n",
    "    else :\n",
    "        print(num)\n",
    "        numData.append(num)\n",
    "        \n",
    "print(numData)"
   ]
  },
  {
   "cell_type": "code",
   "execution_count": 34,
   "metadata": {},
   "outputs": [
    {
     "name": "stdout",
     "output_type": "stream",
     "text": [
      "1 2 4 5 "
     ]
    }
   ],
   "source": [
    "'''\n",
    "continue, break\n",
    " - continue : 계속 반복, 다음 문장 skip\n",
    " - break : 탈출(exit)\n",
    "'''\n",
    "\n",
    "i = 0\n",
    "while i < 10:\n",
    "    i += 1  # 카운터\n",
    "    if i == 3:\n",
    "        continue  # 1 2 4 5 6 7 8 9 10 -> 다음 문장 skip\n",
    "    if i == 6:  # 2차 작성\n",
    "        break  # 1 2 4 5  -> exit\n",
    "    print(i, end=' ')"
   ]
  },
  {
   "cell_type": "code",
   "execution_count": null,
   "metadata": {},
   "outputs": [],
   "source": []
  },
  {
   "cell_type": "code",
   "execution_count": null,
   "metadata": {},
   "outputs": [],
   "source": []
  }
 ],
 "metadata": {
  "kernelspec": {
   "display_name": "Python 3 (ipykernel)",
   "language": "python",
   "name": "python3"
  },
  "language_info": {
   "codemirror_mode": {
    "name": "ipython",
    "version": 3
   },
   "file_extension": ".py",
   "mimetype": "text/x-python",
   "name": "python",
   "nbconvert_exporter": "python",
   "pygments_lexer": "ipython3",
   "version": "3.12.4"
  }
 },
 "nbformat": 4,
 "nbformat_minor": 4
}
