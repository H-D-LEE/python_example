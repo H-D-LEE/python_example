{
 "cells": [
  {
   "cell_type": "code",
   "execution_count": 4,
   "metadata": {},
   "outputs": [],
   "source": [
    "from re import split, match, compile\n",
    "\n",
    "multi_line = \"\"\"http://www.naver.com\n",
    "http://www.daum.net\n",
    "www.hongkildong.com\"\"\""
   ]
  },
  {
   "cell_type": "markdown",
   "metadata": {},
   "source": [
    "#### (1) 구분자를 이용하여 문자열 분리"
   ]
  },
  {
   "cell_type": "code",
   "execution_count": 5,
   "metadata": {},
   "outputs": [
    {
     "name": "stdout",
     "output_type": "stream",
     "text": [
      "['http://www.naver.com', 'http://www.daum.net', 'www.hongkildong.com']\n",
      "\n"
     ]
    }
   ],
   "source": [
    "web_site = split(\"\\n\", multi_line) # st4.split(sep=\"\\n\")\n",
    "web_site # ['http://www.naver.com', 'http://www.daum.net', 'www.hongkildong.com']\n",
    "print(web_site)\n",
    "print()"
   ]
  },
  {
   "cell_type": "markdown",
   "metadata": {},
   "source": [
    "#### (2) 패턴 객체 만들기"
   ]
  },
  {
   "cell_type": "code",
   "execution_count": 6,
   "metadata": {},
   "outputs": [
    {
     "name": "stdout",
     "output_type": "stream",
     "text": [
      "re.compile('http://')\n",
      "\n"
     ]
    }
   ],
   "source": [
    "pat = compile(\"http://\")\n",
    "print(pat)"
   ]
  },
  {
   "cell_type": "markdown",
   "metadata": {},
   "source": [
    "#### (3) 패턴 객체를 이용하여 정상 웹 주소 선택하기"
   ]
  },
  {
   "cell_type": "code",
   "execution_count": 7,
   "metadata": {},
   "outputs": [
    {
     "name": "stdout",
     "output_type": "stream",
     "text": [
      "['http://www.naver.com', 'http://www.daum.net']\n"
     ]
    }
   ],
   "source": [
    "sel_site = [site for site in web_site if match(pat, site)]\n",
    "print(sel_site) # ['http://www.naver.com', 'http://www.daum.net']"
   ]
  },
  {
   "cell_type": "code",
   "execution_count": null,
   "metadata": {},
   "outputs": [],
   "source": []
  }
 ],
 "metadata": {
  "kernelspec": {
   "display_name": "Python 3 (ipykernel)",
   "language": "python",
   "name": "python3"
  },
  "language_info": {
   "codemirror_mode": {
    "name": "ipython",
    "version": 3
   },
   "file_extension": ".py",
   "mimetype": "text/x-python",
   "name": "python",
   "nbconvert_exporter": "python",
   "pygments_lexer": "ipython3",
   "version": "3.12.4"
  }
 },
 "nbformat": 4,
 "nbformat_minor": 4
}
