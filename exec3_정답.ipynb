{
 "cells": [
  {
   "cell_type": "code",
   "execution_count": null,
   "metadata": {},
   "outputs": [],
   "source": [
    "# [문제1-A형] 조건문을 이용한 ‘짐의 무게 계산하기’\n",
    "# 항공사에서는 짐을 부칠때 10kg 이상이면 수수료 10,000원을 내야한다. \n",
    "# 만약 10kg 이하이면 수수료는 없다. \n",
    "# 사용자의 짐의 무게를 키보드를 입력 받아서 사용자가 지불하여야 할 \n",
    "# 금액을 계산하는 프로그램을 작성하시요\n",
    "# \n",
    "# <출력 결과 예시>\n",
    "# 짐의 무게는 얼마입니까? 8\n",
    "# 수수료는 없습니다.\n",
    "# \n",
    "# 짐의 무게는 얼마입니까? 15\n",
    "# 수수료는 10,000원 입니다."
   ]
  },
  {
   "cell_type": "code",
   "execution_count": null,
   "metadata": {
    "scrolled": true
   },
   "outputs": [],
   "source": [
    "weight = int(input('짐의 무게는 얼마입니까?(단위 kg)') )\n",
    "if weight < 10 :\n",
    "    print('수수료는 없습니다.')\n",
    "else :\n",
    "    fee = 10000\n",
    "    #print('수수료는 %d'%fee, '원 입니다.')    \n",
    "    print('수수료는' + format(fee,'3,d') + '원 입니다.')  "
   ]
  },
  {
   "cell_type": "code",
   "execution_count": null,
   "metadata": {},
   "outputs": [],
   "source": []
  },
  {
   "cell_type": "code",
   "execution_count": null,
   "metadata": {},
   "outputs": [],
   "source": [
    "# [문제1-B형] 조건문을 이용한 ‘짐의 무게 계산하기’\n",
    "# 항공사에서는 짐을 부칠때 10kg 이상부터 수수료를 내야한다. \n",
    "# 수수료는 10의 배수 단위로 10,000원씩 증가한다. \n",
    "# 만약 10kg 이하이면 수수료는 없다. \n",
    "# 사용자의 짐의 무게를 키보드를 입력 받아서 사용자가 지불하여야 할 \n",
    "# 금액을 계산하는 프로그램을 작성하시요\n",
    "# \n",
    "# <출력 결과 예시>\n",
    "# 짐의 무게는 얼마입니까? 8\n",
    "# 수수료는 없습니다.\n",
    "# \n",
    "# 짐의 무게는 얼마입니까? 15\n",
    "# 수수료는 10,000원 입니다.\n",
    "# \n",
    "# 짐의 무게는 얼마입니까? 25\n",
    "# 수수료는 20,000원 입니다."
   ]
  },
  {
   "cell_type": "code",
   "execution_count": 23,
   "metadata": {},
   "outputs": [
    {
     "name": "stdout",
     "output_type": "stream",
     "text": [
      "짐의 무게는 얼마입니까?(단위 kg)35\n",
      "수수료는30,000원 입니다.\n"
     ]
    }
   ],
   "source": [
    "weight = int(input('짐의 무게는 얼마입니까?(단위 kg)') )\n",
    "if weight < 10 :\n",
    "    print('수수료는 없습니다.')\n",
    "else :\n",
    "    fee = weight // 10 * 10000\n",
    "    #fee = int(weight / 10) * 10000\n",
    "    print('수수료는' + format(fee,'3,d') + '원 입니다.')   "
   ]
  },
  {
   "cell_type": "code",
   "execution_count": null,
   "metadata": {},
   "outputs": [],
   "source": []
  },
  {
   "cell_type": "code",
   "execution_count": null,
   "metadata": {},
   "outputs": [],
   "source": [
    "# [문제2] while 반복문을 이용한 ‘숫자 맞추기 게임’\n",
    "# \n",
    "# 컴퓨터에 의해서 1~10 사이의 난수가 발생될때 \n",
    "# 사용자가 예상되는 숫자를 키보드를 입력한 경우 일치하면 \n",
    "# ‘~~성공~~’ 메시지를 출력하고 반복을 탈출한다. \n",
    "# 만약 사용자가 입력한 수가 난수 보다 더 크면  \n",
    "# ‘더 작은 수 입력’ 메시지를 출력하고 반복을 계속한다. \n",
    "# 또한 사용자가 입력한 수가 난수 보다 작은면  \n",
    "# ‘더 큰 수 입력’ 메시지를 출력하고 반복을 계속한다. "
   ]
  },
  {
   "cell_type": "code",
   "execution_count": null,
   "metadata": {},
   "outputs": [
    {
     "name": "stdout",
     "output_type": "stream",
     "text": [
      ">>숫자 맞추기 게임<<\n",
      "예상 숫자를 입력하시오5\n",
      "더 큰 수 입니다\n",
      "예상 숫자를 입력하시오6\n",
      "더 큰 수 입니다\n",
      "예상 숫자를 입력하시오10\n",
      "더 작은 수 입니다\n",
      "예상 숫자를 입력하시오9\n",
      "더 작은 수 입니다\n",
      "예상 숫자를 입력하시오8\n",
      "더 작은 수 입니다\n",
      "예상 숫자를 입력하시오7\n",
      "성공\n"
     ]
    }
   ],
   "source": [
    "import random\n",
    "\n",
    "print('>>숫자 맞추기 게임<<')\n",
    "com = random.randint(1,10)\n",
    "\n",
    "while True :\n",
    "    my = int(input('예상 숫자를 입력하시오') )\n",
    "    if my == com :\n",
    "        print('성공')\n",
    "    elif  my > com :\n",
    "        print('더 작은 수 입니다')\n",
    "    elif  my < com :\n",
    "        print('더 큰 수 입니다')"
   ]
  },
  {
   "cell_type": "code",
   "execution_count": null,
   "metadata": {},
   "outputs": [],
   "source": []
  },
  {
   "cell_type": "code",
   "execution_count": null,
   "metadata": {},
   "outputs": [],
   "source": [
    "# [문제3] for 반복문을 이용한 ‘수열 출력하기’\n",
    "# 1~100 사이에서 3의 배수이면서 2의 배수가 아닌수를 \n",
    "# 한줄에 출력하고 누적합을 출력하시오."
   ]
  },
  {
   "cell_type": "code",
   "execution_count": 4,
   "metadata": {},
   "outputs": [
    {
     "name": "stdout",
     "output_type": "stream",
     "text": [
      "수열 = 3 9 15 21 27 33 39 45 51 57 63 69 75 81 87 93 99 \n",
      "누적합 = 867\n"
     ]
    }
   ],
   "source": [
    "tot = 0\n",
    "print('수열 =', end=' ')\n",
    "for i in range(1,101) :\n",
    "    if i % 3 == 0 and i % 2 !=0 :\n",
    "        print(i, end=' ')\n",
    "        tot += i\n",
    "        \n",
    "print('\\n누적합 = %d' %tot)        "
   ]
  },
  {
   "cell_type": "code",
   "execution_count": null,
   "metadata": {},
   "outputs": [],
   "source": []
  },
  {
   "cell_type": "code",
   "execution_count": null,
   "metadata": {},
   "outputs": [],
   "source": [
    "# [문제4] 중첩 반복문을 이용한 ‘단어 카운트 하기’\n",
    "#\n",
    "# 다음과 같은 multiline의 문자열 객체를 이용하여 \n",
    "# 단어를 추출하고 단어의 개수를 출력하시오.\n",
    "# \n",
    "# multiline=“””안녕하세요. 파이썬 세계로 오신걸\n",
    "# 환영합니다.\n",
    "# 파이썬은 비단뱀 처럼 매력적인 언어입니다.\n",
    "# \n",
    "# <출력 결과>\n",
    "# 안녕하세요.\n",
    "# 파이썬\n",
    "# …\n",
    "# 언어입니다.\n",
    "# 단어개수 : 10"
   ]
  },
  {
   "cell_type": "code",
   "execution_count": 12,
   "metadata": {},
   "outputs": [
    {
     "name": "stdout",
     "output_type": "stream",
     "text": [
      "['안녕하세요. 파이썬 세계로 오신걸', '환영합니다.', '파이썬은 비단뱀 처럼 매력적인 언어입니다.']\n",
      "['안녕하세요.', '파이썬', '세계로', '오신걸', '환영합니다.', '파이썬은', '비단뱀', '처럼', '매력적인', '언어입니다.']\n",
      "단어수 : 10\n"
     ]
    }
   ],
   "source": [
    "multiline =\"\"\"안녕하세요. 파이썬 세계로 오신걸\n",
    "환영합니다.\n",
    "파이썬은 비단뱀 처럼 매력적인 언어입니다.\"\"\"\n",
    "\n",
    "\n",
    "#공백 문자를 기준으로 단어수 카운트\n",
    "cnt=0\n",
    "doc = []\n",
    "word = []\n",
    "\n",
    "for line in multiline.split(\"\\n\") :\n",
    "    doc.append(line)\n",
    "    for w in line.split(\" \") :\n",
    "        word.append(w)\n",
    "        #print(w)\n",
    "        cnt += 1\n",
    "        \n",
    "#결과 출력\n",
    "print(doc)    \n",
    "print(word)    \n",
    "print('단어수 :', cnt)    "
   ]
  },
  {
   "cell_type": "code",
   "execution_count": null,
   "metadata": {},
   "outputs": [],
   "source": []
  }
 ],
 "metadata": {
  "kernelspec": {
   "display_name": "Python 3",
   "language": "python",
   "name": "python3"
  },
  "language_info": {
   "codemirror_mode": {
    "name": "ipython",
    "version": 3
   },
   "file_extension": ".py",
   "mimetype": "text/x-python",
   "name": "python",
   "nbconvert_exporter": "python",
   "pygments_lexer": "ipython3",
   "version": "3.8.5"
  }
 },
 "nbformat": 4,
 "nbformat_minor": 2
}
