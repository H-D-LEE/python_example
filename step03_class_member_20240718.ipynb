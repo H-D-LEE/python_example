{
 "cells": [
  {
   "cell_type": "code",
   "execution_count": 2,
   "metadata": {},
   "outputs": [],
   "source": [
    "# method :\n",
    "#  - class에서 정의한 함수 \n",
    "#  - method 유형 \n",
    "#  1. instance method : object.method() 호출, (self) 기본 인수 \n",
    "#  2. class method : class.method() 호출, (cls) 기본 인수 "
   ]
  },
  {
   "cell_type": "markdown",
   "metadata": {},
   "source": [
    "#### 인스턴스(객체) 메서드"
   ]
  },
  {
   "cell_type": "code",
   "execution_count": 20,
   "metadata": {},
   "outputs": [],
   "source": [
    "class DatePro :\n",
    "    # 멤버 변수\n",
    "    content = \"날짜 처리 클래스\"\n",
    "\n",
    "    # 생성자\n",
    "    def __init__(self, year, month, day):\n",
    "        self.year = year\n",
    "        self.month = month\n",
    "        self.day = day\n",
    "        \n",
    "    # 인스턴스(객체) 메서드(instance method)\n",
    "    def display(self):\n",
    "        print(\"%d-%d-%d\"%(self.year, self.month, self.day))"
   ]
  },
  {
   "cell_type": "code",
   "execution_count": 21,
   "metadata": {},
   "outputs": [
    {
     "name": "stdout",
     "output_type": "stream",
     "text": [
      "날짜 처리 클래스\n",
      "1995\n",
      "1995-10-25\n",
      "\n"
     ]
    }
   ],
   "source": [
    "date = DatePro(1995, 10, 25) #  생성자\n",
    "print(date.content) # 날짜 처리 클래스\n",
    "print(date.year) # 1995\n",
    "date.display() # 1995-10-25\n",
    "print()"
   ]
  },
  {
   "cell_type": "markdown",
   "metadata": {},
   "source": [
    "##### 클래스 메서드(class method) :  별도의 생성자와 Self 객제 없이 함수 장식자(@classmethod)를 이용하는 방법  "
   ]
  },
  {
   "cell_type": "code",
   "execution_count": 28,
   "metadata": {},
   "outputs": [],
   "source": [
    "class DatePro :\n",
    "    # # 멤버 변수\n",
    "    content = \"날짜 처리 클래스\"\n",
    "\n",
    "    # # 클래스 메서드(class method)\n",
    "    @classmethod # 함수 장식자 \n",
    "    def date_string(cls, dateStr): # '19951025'\n",
    "        year = dateStr[:4]\n",
    "        month = dateStr[4:6]\n",
    "        day = dateStr[6:]\n",
    "        \n",
    "        print(f\"{year}년 {month}월 {day}일\") # 1995년 10월 25일"
   ]
  },
  {
   "cell_type": "code",
   "execution_count": 29,
   "metadata": {},
   "outputs": [
    {
     "name": "stdout",
     "output_type": "stream",
     "text": [
      "날짜 처리 클래스\n",
      "1995년 10월 25일\n"
     ]
    }
   ],
   "source": [
    "# 클래스 멤버\n",
    "print(DatePro.content) # 날짜 처리 클래스\n",
    "DatePro.date_string('19951025') # 1995년 10월 25일"
   ]
  },
  {
   "cell_type": "code",
   "execution_count": null,
   "metadata": {},
   "outputs": [],
   "source": []
  }
 ],
 "metadata": {
  "kernelspec": {
   "display_name": "Python 3 (ipykernel)",
   "language": "python",
   "name": "python3"
  },
  "language_info": {
   "codemirror_mode": {
    "name": "ipython",
    "version": 3
   },
   "file_extension": ".py",
   "mimetype": "text/x-python",
   "name": "python",
   "nbconvert_exporter": "python",
   "pygments_lexer": "ipython3",
   "version": "3.12.4"
  }
 },
 "nbformat": 4,
 "nbformat_minor": 4
}
