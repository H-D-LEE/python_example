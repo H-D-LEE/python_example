{
 "cells": [
  {
   "cell_type": "code",
   "execution_count": 2,
   "metadata": {},
   "outputs": [
    {
     "name": "stdout",
     "output_type": "stream",
     "text": [
      "텍스트 전처리 후 \n",
      "['우리나라 대한민국 우리나라 만세', '비아그라 정력 최고', '나는 대한민국 사람', '보험료 원에 평생 보장 마감 임박', '나는 홍길동']\n"
     ]
    }
   ],
   "source": [
    "'''\n",
    "텍스트 전처리 함수 정의\n",
    "'''\n",
    "\n",
    "# 텍스트 전처리2\n",
    "texts = [' 우리나라    대한민국, 우리나라%$ 만세', '비아그&라 500GRAM 정력 최고!', '나는 대한민국 사람', '보험료 15000원에 평생 보장 마감 임박', '나는 홍길동']\n",
    "\n",
    "import re\n",
    "\n",
    "# 1. 텍스트 전처리\n",
    "def clean_text(text_string):\n",
    "    # 문장부호 제거\n",
    "    text_string_re = re.sub('[,.?!:;]', '', text_string)\n",
    "    # 특수문자, 숫자 제거 \n",
    "    text_string_re = re.sub('[!@#$%^&*()]|[0-9]', '', text_string_re)\n",
    "    # 영문 소문자 -> 영문 제거 \n",
    "    text_string_re = text_string_re.lower()\n",
    "    text_string_re = re.sub('[a-z]', '', text_string_re)\n",
    "    # 공백 제거\n",
    "    text_string_re = ' '.join(text_string_re.split()) # '우리나라 대한민국'\n",
    "    \n",
    "    return text_string_re\n",
    "     \n",
    "# 함수 호출 : [실행문 for ] \n",
    "text_string_re = [clean_text(string)  for string in texts]    \n",
    "print('텍스트 전처리 후 ')\n",
    "print(text_string_re) \n",
    "# ['우리나라 대한민국 우리나라 만세', '비아그라 정력 최고', '나는 대한민국 사람', '보험료 원에 평생 보장 마감 임박', '나는 홍길동']"
   ]
  },
  {
   "cell_type": "code",
   "execution_count": null,
   "metadata": {},
   "outputs": [],
   "source": []
  }
 ],
 "metadata": {
  "kernelspec": {
   "display_name": "Python 3 (ipykernel)",
   "language": "python",
   "name": "python3"
  },
  "language_info": {
   "codemirror_mode": {
    "name": "ipython",
    "version": 3
   },
   "file_extension": ".py",
   "mimetype": "text/x-python",
   "name": "python",
   "nbconvert_exporter": "python",
   "pygments_lexer": "ipython3",
   "version": "3.12.4"
  }
 },
 "nbformat": 4,
 "nbformat_minor": 4
}
