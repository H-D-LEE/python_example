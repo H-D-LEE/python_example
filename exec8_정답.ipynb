{
 "cells": [
  {
   "cell_type": "code",
   "execution_count": null,
   "metadata": {},
   "outputs": [],
   "source": [
    "[문제1] ftest.txt 파일을 읽어서 다음과 같이 줄 수와 단어 수를 카운트 하시오.\n",
    "\n",
    "<처리 조건>\n",
    "1. 문장은 ‘n’을 구분자로 한다.\n",
    "2. 단어는 공백을 구분자로 한다.\n",
    "\n",
    "<출력 결과>\n",
    "문장내용\n",
    "[‘programming is fun’,  ‘very fun!’, ‘hava a good time’, ‘mouse is input device’, ‘keyboard is input device’, ‘computer’]\n",
    "문장수 : 6\n",
    "\n",
    "단어내용\n",
    "[‘programming ‘, ‘is’, ‘fun’,  ‘very’, fun!’, ‘hava’, ‘a’, ‘good’, ‘time’, ‘mouse’, ‘is’, ‘input’, ‘device’, ‘keyboard’, ‘is’, ‘input’, ‘device’, ‘computer’]\n",
    "단어 수 : 12"
   ]
  },
  {
   "cell_type": "code",
   "execution_count": 5,
   "metadata": {},
   "outputs": [
    {
     "name": "stdout",
     "output_type": "stream",
     "text": [
      "['programming is fun', 'very fun!', 'have a good time', 'mouse is input device', 'keyboard is input device', 'computer is input output system']\n",
      "['programming', 'is', 'fun', 'very', 'fun!', 'have', 'a', 'good', 'time', 'mouse', 'is', 'input', 'device', 'keyboard', 'is', 'input', 'device', 'computer', 'is', 'input', 'output', 'system']\n"
     ]
    }
   ],
   "source": [
    "#1. 파일 읽기\n",
    "file = open(\"C:\\\\Users\\\\이병관\\\\Documents\\\\0.강의\\\\2021.01.11~22_국민대\\\\0.국민대_1주차\\\\010.(강의용)실전예제로 배우는 파이썬 프로그래밍_엠제이씨북스\\\\chap8.파일처리와 패키지 설치\\\\data\\\\ftest.txt\", mode = 'r')\n",
    "lines =file.readlines() #줄 단위 전체 읽기\n",
    "\n",
    "docs = []  #문장 저장\n",
    "words = [] #단어 저장\n",
    "\n",
    "for line in lines :\n",
    "    docs.append(line.strip())\n",
    "    for word in line.split() :\n",
    "        words.append(word)\n",
    "        \n",
    "print(docs)\n",
    "print(words)"
   ]
  },
  {
   "cell_type": "code",
   "execution_count": null,
   "metadata": {},
   "outputs": [],
   "source": [
    "[문제2] emp.csv 파일을 읽어서 다음 출력 예시와 같이 출력하시오.\n",
    "\n",
    "<출력 예시>\n",
    "관측치 길이 : 5\n",
    "전체 평균 급여 : 370.0\n",
    "최저 급여 : 150, 이름 : 홍길동\n",
    "최고 급여 : 500, 이름 : 강감찬"
   ]
  },
  {
   "cell_type": "code",
   "execution_count": 20,
   "metadata": {},
   "outputs": [
    {
     "name": "stdout",
     "output_type": "stream",
     "text": [
      "    No Name  Pay\n",
      "0  101  홍길동  150\n",
      "1  102  이순신  450\n",
      "2  103  강감찬  500\n",
      "3  104  유관순  350\n",
      "4  105  김유신  400\n",
      "관축치 길이 :  5\n",
      "전체 평균 급여 :  370.0\n",
      "최저 급여 : 150, 이름 : 홍길동\n",
      "최고 급여 : 150, 이름 : 강감찬\n"
     ]
    }
   ],
   "source": [
    "import pandas as pd\n",
    "\n",
    "#file read\n",
    "emp = pd.read_csv('C:\\\\Users\\\\이병관\\\\Documents\\\\0.강의\\\\2021.01.11~22_국민대\\\\0.국민대_1주차\\\\010.(강의용)실전예제로 배우는 파이썬 프로그래밍_엠제이씨북스\\\\chap8.파일처리와 패키지 설치\\\\data\\\\emp.csv', encoding = 'utf-8')\n",
    "#print(emp.info)\n",
    "\n",
    "print(emp)\n",
    "print('관축치 길이 : ', len(emp))\n",
    "\n",
    "pay = emp.Pay\n",
    "name = emp.Name\n",
    "\n",
    "print('전체 평균 급여 : ', pay.mean())\n",
    "max_pay = max(pay)\n",
    "min_pay = min(pay)\n",
    "\n",
    "for idx in range(len(pay)) :\n",
    "    if pay[idx] == min_pay :\n",
    "        print('최저 급여 : %d, 이름 : %s'%(min_pay, name[idx]))\n",
    "    if pay[idx] == max_pay :\n",
    "        print('최고 급여 : %d, 이름 : %s'%(min_pay, name[idx]))\n",
    "    "
   ]
  },
  {
   "cell_type": "code",
   "execution_count": null,
   "metadata": {},
   "outputs": [],
   "source": []
  }
 ],
 "metadata": {
  "kernelspec": {
   "display_name": "Python 3",
   "language": "python",
   "name": "python3"
  },
  "language_info": {
   "codemirror_mode": {
    "name": "ipython",
    "version": 3
   },
   "file_extension": ".py",
   "mimetype": "text/x-python",
   "name": "python",
   "nbconvert_exporter": "python",
   "pygments_lexer": "ipython3",
   "version": "3.8.5"
  }
 },
 "nbformat": 4,
 "nbformat_minor": 4
}
