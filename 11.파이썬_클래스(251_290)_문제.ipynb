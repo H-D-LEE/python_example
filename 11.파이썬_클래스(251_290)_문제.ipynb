{
 "cells": [
  {
   "cell_type": "markdown",
   "id": "b481d8d2",
   "metadata": {},
   "source": [
    "\n",
    "### 파이썬 클래스는 타입을 만들어내는 도구입니다. int, float, str과 같이 여러분의 새로운 타입을 만들 수 있습니다."
   ]
  },
  {
   "cell_type": "markdown",
   "id": "cc799c25",
   "metadata": {},
   "source": [
    "#### 251 클래스, 객체, 인스턴스\n",
    "클래스, 객체, 인스턴스에 대해 설명해봅시다."
   ]
  },
  {
   "cell_type": "code",
   "execution_count": null,
   "id": "5fafc030",
   "metadata": {},
   "outputs": [],
   "source": [
    "클래스 - 객체를 정의하고 만들기 위한 변수와 메서드의 집합\n",
    "객체 - 실제로 존재하는 모든것(변수, 함수)\n",
    "인스턴스 - 클래스와 연관되어 있는 객체"
   ]
  },
  {
   "cell_type": "markdown",
   "id": "00d410e8",
   "metadata": {},
   "source": [
    "#### 252 클래스 정의\n",
    "비어있는 사람 (Human) 클래스를 \"정의\" 해보세요."
   ]
  },
  {
   "cell_type": "code",
   "execution_count": null,
   "id": "45a15894",
   "metadata": {},
   "outputs": [],
   "source": [
    "class Human :\n",
    "    pass"
   ]
  },
  {
   "cell_type": "markdown",
   "id": "35d02fdc",
   "metadata": {},
   "source": [
    "#### 253 인스턴스 생성\n",
    "사람 (Human) 클래스의 인스턴스를 \"생성\" 하고 이를 areum 변수로 바인딩해보세요."
   ]
  },
  {
   "cell_type": "code",
   "execution_count": 18,
   "id": "f154ebb6",
   "metadata": {},
   "outputs": [],
   "source": [
    "class Human :\n",
    "    pass\n",
    "\n",
    "areum = Human()"
   ]
  },
  {
   "cell_type": "markdown",
   "id": "72327e11",
   "metadata": {},
   "source": [
    "#### 254 클래스 생성자-1\n",
    "사람 (Human) 클래스에 \"응애응애\"를 출력하는 생성자를 추가하세요."
   ]
  },
  {
   "cell_type": "code",
   "execution_count": 20,
   "id": "d4dd8fb8",
   "metadata": {},
   "outputs": [
    {
     "name": "stdout",
     "output_type": "stream",
     "text": [
      "응애응애\n"
     ]
    }
   ],
   "source": [
    "class Human :\n",
    "    def __init__(self):\n",
    "        print(\"응애응애\")\n",
    "\n",
    "areum = Human()"
   ]
  },
  {
   "cell_type": "markdown",
   "id": "18a38676",
   "metadata": {},
   "source": [
    "#### 255 클래스 생성자-2\n",
    "사람 (Human) 클래스에 (이름, 나이, 성별)을 받는 생성자를 추가하세요."
   ]
  },
  {
   "cell_type": "code",
   "execution_count": 22,
   "id": "b0c4dbeb",
   "metadata": {},
   "outputs": [
    {
     "name": "stdout",
     "output_type": "stream",
     "text": [
      "홍길동 23 남성\n",
      "홍길동\n"
     ]
    }
   ],
   "source": [
    "class Human :\n",
    "    def __init__(self, name, age, gender) :\n",
    "        self.name = name\n",
    "        self.age = age\n",
    "        self.gender = gender\n",
    "        print(self.name, self.age, self.gender)\n",
    "\n",
    "areum = Human(\"홍길동\", 23, \"남성\")\n",
    "print(areum.name)"
   ]
  },
  {
   "cell_type": "markdown",
   "id": "f5fd9152",
   "metadata": {},
   "source": [
    "#### 256 인스턴스 속성에 접근\n",
    "255에서 생성한 인스턴스의 이름, 나이, 성별을 출력하세요. 인스턴스 변수에 접근하여 값을 출력하면 됩니다."
   ]
  },
  {
   "cell_type": "code",
   "execution_count": 24,
   "id": "bdca6b37",
   "metadata": {},
   "outputs": [
    {
     "name": "stdout",
     "output_type": "stream",
     "text": [
      "홍길동 23 남성\n"
     ]
    }
   ],
   "source": [
    "person = Human(\"홍길동\", 23, \"남성\")"
   ]
  },
  {
   "cell_type": "markdown",
   "id": "7d265a61",
   "metadata": {},
   "source": [
    "#### 257 클래스 메소드 - 1\n",
    "사람 (Human) 클래스에서 이름, 나이, 성별을 출력하는 who() 메소드를 추가하세요.\n",
    "\n",
    "print(\"A\")\n",
    "\n",
    "def message() :\n",
    ">    print(\"B\")\n",
    "\n",
    "print(\"C\")\n",
    "message()"
   ]
  },
  {
   "cell_type": "code",
   "execution_count": 26,
   "id": "d546942a",
   "metadata": {},
   "outputs": [
    {
     "name": "stdout",
     "output_type": "stream",
     "text": [
      "홍길동 23 남성\n"
     ]
    }
   ],
   "source": [
    "class Human :\n",
    "    def __init__(self, name, age, gender) :\n",
    "        self.name = name\n",
    "        self.age = age\n",
    "        self.gender = gender\n",
    "        \n",
    "    def who(self) :\n",
    "        print(self.name, self.age, self.gender)\n",
    "areum = Human(\"홍길동\", 23, \"남성\")\n",
    "areum.who()"
   ]
  },
  {
   "cell_type": "markdown",
   "id": "c9e94387",
   "metadata": {},
   "source": [
    "#### 258 클래스 메소드 - 2\n",
    "사람 (Human) 클래스에 (이름, 나이, 성별)을 받는 setInfo 메소드를 추가하세요."
   ]
  },
  {
   "cell_type": "code",
   "execution_count": 30,
   "id": "efa091f8",
   "metadata": {},
   "outputs": [
    {
     "name": "stdout",
     "output_type": "stream",
     "text": [
      "불명 미상 모름\n"
     ]
    },
    {
     "ename": "NameError",
     "evalue": "name 'setInfo' is not defined",
     "output_type": "error",
     "traceback": [
      "\u001b[1;31m---------------------------------------------------------------------------\u001b[0m",
      "\u001b[1;31mNameError\u001b[0m                                 Traceback (most recent call last)",
      "Cell \u001b[1;32mIn[30], line 18\u001b[0m\n\u001b[0;32m     15\u001b[0m areum \u001b[38;5;241m=\u001b[39m Human(\u001b[38;5;124m\"\u001b[39m\u001b[38;5;124m불명\u001b[39m\u001b[38;5;124m\"\u001b[39m, \u001b[38;5;124m\"\u001b[39m\u001b[38;5;124m미상\u001b[39m\u001b[38;5;124m\"\u001b[39m, \u001b[38;5;124m\"\u001b[39m\u001b[38;5;124m모름\u001b[39m\u001b[38;5;124m\"\u001b[39m)\n\u001b[0;32m     16\u001b[0m areum\u001b[38;5;241m.\u001b[39mwho()\n\u001b[1;32m---> 18\u001b[0m areum \u001b[38;5;241m=\u001b[39m setInfo(\u001b[38;5;124m\"\u001b[39m\u001b[38;5;124m유관순\u001b[39m\u001b[38;5;124m\"\u001b[39m, \u001b[38;5;241m19\u001b[39m, \u001b[38;5;124m\"\u001b[39m\u001b[38;5;124m여자\u001b[39m\u001b[38;5;124m\"\u001b[39m)\n\u001b[0;32m     19\u001b[0m areum\u001b[38;5;241m.\u001b[39mwho()\n",
      "\u001b[1;31mNameError\u001b[0m: name 'setInfo' is not defined"
     ]
    }
   ],
   "source": [
    "class Human :\n",
    "    def __init__(self, name, age, gender) :\n",
    "        self.name = name\n",
    "        self.age = age\n",
    "        self.gender = gender\n",
    "        \n",
    "    def who(self) :\n",
    "        print(self.name, self.age, self.gender)\n",
    "\n",
    "    def setInfo(self, name, age, gender) :\n",
    "        self.name = name\n",
    "        self.age = age\n",
    "        self.gender = gender\n",
    "\n",
    "areum = Human(\"불명\", \"미상\", \"모름\")\n",
    "areum.who()\n",
    "\n",
    "areum = setInfo(\"유관순\", 19, \"여자\")\n",
    "areum.who()"
   ]
  },
  {
   "cell_type": "markdown",
   "id": "8cabe197",
   "metadata": {},
   "source": [
    "#### 259 클래스 소멸자\n",
    "사람 (human) 클래스에 \"나의 죽음을 알리지 말라\"를 출력하는 소멸자를 추가하세요."
   ]
  },
  {
   "cell_type": "code",
   "execution_count": 36,
   "id": "cd65cf20",
   "metadata": {},
   "outputs": [
    {
     "name": "stdout",
     "output_type": "stream",
     "text": [
      "유관순 19 여자\n",
      "나의 죽음을 알리지 마라\n"
     ]
    }
   ],
   "source": [
    "class Human :\n",
    "    def __init__(self, name, age, gender) :\n",
    "        self.name = name\n",
    "        self.age = age\n",
    "        self.gender = gender\n",
    "        \n",
    "    def who(self) :\n",
    "        print(self.name, self.age, self.gender)\n",
    "\n",
    "    def setInfo(self, name, age, gender) :\n",
    "        self.name = name\n",
    "        self.age = age\n",
    "        self.gender = gender\n",
    "\n",
    "    def __del__(self) :\n",
    "        print(\"나의 죽음을 알리지 마라\")\n",
    "\n",
    "areum = Human(\"유관순\", 19, \"여자\")\n",
    "areum.who()\n",
    "del(areum)"
   ]
  },
  {
   "cell_type": "markdown",
   "id": "5fd7c3bb",
   "metadata": {},
   "source": [
    "#### 260 에러의 원인\n",
    "아래와 같은 에러가 발생한 원인에 대해 설명하세요.\n",
    "\n",
    "> class OMG : \n",
    ">>     def print() :\n",
    ">>         print(\"Oh my god\")\n",
    "\n",
    "> myStock = OMG()\n",
    "> myStock.print()\n",
    "> TypeError Traceback (most recent call last)\n",
    "> <ipython-input-233-c85c04535b22> in <module>()\n",
    ">> ----> myStock.print()\n",
    "\n",
    "> TypeError: print() takes 0 positional arguments but 1 was given"
   ]
  },
  {
   "cell_type": "code",
   "execution_count": null,
   "id": "5e5b2a69",
   "metadata": {},
   "outputs": [],
   "source": [
    "데이터 인자를 받는 것이 존재하지 않는데 데이터 인자를 받았기 때문에 발생하는 오류이다."
   ]
  },
  {
   "cell_type": "markdown",
   "id": "28cd8342",
   "metadata": {},
   "source": [
    "#### 261 Stock 클래스 생성\n",
    "주식 종목에 대한 정보를 저장하는 Stock 클래스를 정의해보세요. 클래스는 속성과 메서드를 갖고 있지 않습니다."
   ]
  },
  {
   "cell_type": "code",
   "execution_count": null,
   "id": "924553ff",
   "metadata": {},
   "outputs": [],
   "source": [
    "class Stock :\n",
    "    pass"
   ]
  },
  {
   "cell_type": "markdown",
   "id": "de312537",
   "metadata": {},
   "source": [
    "#### 262 생성자\n",
    "Stock 클래스의 객체가 생성될 때 종목명과 종목코드를 입력 받을 수 있도록 생성자를 정의해보세요."
   ]
  },
  {
   "cell_type": "code",
   "execution_count": 38,
   "id": "b8dc6834",
   "metadata": {},
   "outputs": [
    {
     "name": "stdout",
     "output_type": "stream",
     "text": [
      "삼성전자\n",
      "005930\n"
     ]
    }
   ],
   "source": [
    "class Stock :\n",
    "    def __init__(self, company_name, company_code) :\n",
    "        self.company_name = company_name\n",
    "        self.company_code = company_code\n",
    "\n",
    "company = Stock(\"삼성전자\", \"005930\")\n",
    "print(company.company_name)\n",
    "print(company.company_code)"
   ]
  },
  {
   "cell_type": "markdown",
   "id": "c411bb39",
   "metadata": {},
   "source": [
    "#### 263 메서드\n",
    "객체에 종목명을 입력할 수 있는 set_name 메서드를 추가해보세요."
   ]
  },
  {
   "cell_type": "code",
   "execution_count": 40,
   "id": "732c96fa",
   "metadata": {},
   "outputs": [
    {
     "name": "stdout",
     "output_type": "stream",
     "text": [
      "삼성전자\n"
     ]
    }
   ],
   "source": [
    "class Stock :\n",
    "    def __init__(self, company_name, company_code) :\n",
    "        self.company_name = company_name\n",
    "        self.company_code = company_code\n",
    "\n",
    "    def set_name(self, company_name) :\n",
    "        self.company_name = company_name\n",
    "\n",
    "a = Stock(None, None)\n",
    "a.set_name(\"삼성전자\")\n",
    "print(a.company_name)"
   ]
  },
  {
   "cell_type": "markdown",
   "id": "f50e0c17",
   "metadata": {},
   "source": [
    "#### 264 메서드\n",
    "객체에 종목코드를 입력할 수 있는 set_code 메서드를 추가해보세요."
   ]
  },
  {
   "cell_type": "code",
   "execution_count": 42,
   "id": "aea5035d",
   "metadata": {},
   "outputs": [
    {
     "name": "stdout",
     "output_type": "stream",
     "text": [
      "삼성전자\n",
      "005930\n"
     ]
    }
   ],
   "source": [
    "class Stock :\n",
    "    def __init__(self, company_name, company_code) :\n",
    "        self.company_name = company_name\n",
    "        self.company_code = company_code\n",
    "\n",
    "    def set_name(self, company_name) :\n",
    "        self.company_name = company_name\n",
    "\n",
    "    def set_code(self, company_code) :\n",
    "        self.company_code = company_code\n",
    "\n",
    "a = Stock(None, None)\n",
    "a.set_name(\"삼성전자\")\n",
    "print(a.company_name)\n",
    "a.set_code(\"005930\")\n",
    "print(a.company_code)"
   ]
  },
  {
   "cell_type": "markdown",
   "id": "6e4066d2",
   "metadata": {},
   "source": [
    "#### 265 메서드\n",
    "종목명과 종목코드를 리턴하는 get_name, get_code 메서드를 추가하세요. 해당 메서드를 사용하여 종목명과 종목코드를 얻고 이를 출력해보세요.\n",
    "\n",
    "삼성 = Stock(\"삼성전자\", \"005930\")"
   ]
  },
  {
   "cell_type": "code",
   "execution_count": 46,
   "id": "87b8f1a9",
   "metadata": {},
   "outputs": [
    {
     "name": "stdout",
     "output_type": "stream",
     "text": [
      "삼성전자\n",
      "005930\n",
      "삼성전자\n",
      "005930\n"
     ]
    }
   ],
   "source": [
    "class Stock :\n",
    "    def __init__(self, company_name, company_code) :\n",
    "        self.company_name = company_name\n",
    "        self.company_code = company_code\n",
    "\n",
    "    def set_name(self, company_name) :\n",
    "        self.company_name = company_name\n",
    "\n",
    "    def set_code(self, company_code) :\n",
    "        self.company_code = company_code\n",
    "\n",
    "    def get_name(self) :\n",
    "        return self.company_name\n",
    "        \n",
    "    def get_code(self) :\n",
    "        return self.company_code\n",
    "\n",
    "samsung = Stock(\"삼성전자\", \"005930\")\n",
    "print(samsung.company_name)\n",
    "print(samsung.company_code)\n",
    "print(samsung.get_name())\n",
    "print(samsung.get_code())"
   ]
  },
  {
   "cell_type": "markdown",
   "id": "3cf842fc",
   "metadata": {},
   "source": [
    "#### 266 객체의 속성값 업데이트\n",
    "생성자에서 종목명, 종목코드, PER, PBR, 배당수익률을 입력 받을 수 있도록 생성자를 수정하세요. PER, PBR, 배당수익률은 float 타입입니다."
   ]
  },
  {
   "cell_type": "code",
   "execution_count": 54,
   "id": "dc96999b",
   "metadata": {},
   "outputs": [],
   "source": [
    "class Stock :\n",
    "    def __init__(self, company_name, company_code, per, pbr, dividend_yield) :\n",
    "        self.company_name = company_name\n",
    "        self.company_code = company_code\n",
    "        self.per = per\n",
    "        self.pbr = pbr\n",
    "        self.dividend_yield = dividend_yield\n",
    "\n",
    "    def set_name(self, company_name) :\n",
    "        self.company_name = company_name\n",
    "\n",
    "    def set_code(self, company_code) :\n",
    "        self.company_code = company_code\n",
    "\n",
    "    def get_name(self) :\n",
    "        return self.company_name\n",
    "        \n",
    "    def get_code(self) :\n",
    "        return self.company_code"
   ]
  },
  {
   "cell_type": "markdown",
   "id": "224672b1",
   "metadata": {},
   "source": [
    "#### 267 객체 생성\n",
    "266번에서 정의한 생성자를 통해 다음 정보를 갖는 객체를 생성해보세요.\n",
    "\n",
    "\n",
    "- 항목 |정보\n",
    "- 종목명 | 삼성전자\n",
    "- 종목코드 | 005930\n",
    "- PER\t| 15.79\n",
    "- PBR\t| 1.33\n",
    "- 배당수익률 |\t2.83"
   ]
  },
  {
   "cell_type": "code",
   "execution_count": 64,
   "id": "18021e55",
   "metadata": {},
   "outputs": [
    {
     "name": "stdout",
     "output_type": "stream",
     "text": [
      "2.83\n"
     ]
    }
   ],
   "source": [
    "samsung = Stock(\"삼성전자\", \"005930\", 15.79, 1.33, 2.83)\n",
    "print(samsung.dividend_yield)"
   ]
  },
  {
   "cell_type": "markdown",
   "id": "1749a819",
   "metadata": {},
   "source": [
    "#### 268. 객체의 속성 수정\n",
    "PER, PBR, 배당수익률은 변경될 수 있는 값입니다. 이 값을 변경할 때 사용하는 set_per, set_pbr, set_dividend 메서드를 추가하세요."
   ]
  },
  {
   "cell_type": "code",
   "execution_count": 66,
   "id": "162c8cac",
   "metadata": {},
   "outputs": [],
   "source": [
    "class Stock :\n",
    "    def __init__(self, company_name, company_code, per, pbr, dividend_yield) :\n",
    "        self.company_name = company_name\n",
    "        self.company_code = company_code\n",
    "        self.per = per\n",
    "        self.pbr = pbr\n",
    "        self.dividend_yield = dividend_yield\n",
    "\n",
    "    def set_name(self, company_name) :\n",
    "        self.company_name = company_name\n",
    "\n",
    "    def set_code(self, company_code) :\n",
    "        self.company_code = company_code\n",
    "\n",
    "    def set_per(self, per) :\n",
    "        self.per = per\n",
    "\n",
    "    def set_pbr(self, pbr) :\n",
    "        self.pbr = pbr\n",
    "\n",
    "    def set_dividend(self, dividend_yield) :\n",
    "        self.dividend_yield = dividend_yield\n",
    "\n",
    "    def get_name(self) :\n",
    "        return self.company_name\n",
    "        \n",
    "    def get_code(self) :\n",
    "        return self.company_code"
   ]
  },
  {
   "cell_type": "markdown",
   "id": "871bece9",
   "metadata": {},
   "source": [
    "#### 269. 객체의 속성 수정\n",
    "267번에서 생성한 객체에 set_per 메서드를 호출하여 per 값을 12.75로 수정해보세요."
   ]
  },
  {
   "cell_type": "code",
   "execution_count": 68,
   "id": "37f676b7",
   "metadata": {},
   "outputs": [
    {
     "name": "stdout",
     "output_type": "stream",
     "text": [
      "12.75\n"
     ]
    }
   ],
   "source": [
    "samsung = Stock(\"삼성전자\", \"005930\", 15.79, 1.33, 2.83)\n",
    "samsung.set_per(12.75)\n",
    "print(samsung.per)"
   ]
  },
  {
   "cell_type": "markdown",
   "id": "afa2521d",
   "metadata": {},
   "source": [
    "#### 270. 여러 종목의 객체 생성\n",
    "아래의 표를 참조하여 3종목에 대해 객체를 생성하고 이를 파이썬 리스트에 저장하세요. 파이썬 리스트에 저장된 각 종목에 대해 for 루프를 통해 종목코드와 PER을 출력해보세요.\n",
    "\n",
    "- 종목명\t종목코드\tPER\tPBR\t배당수익률\n",
    "- 삼성전자\t005930\t15.79\t1.33\t2.83\n",
    "- 현대차\t005380\t8.70\t0.35\t4.27\n",
    "- LG전자\t066570\t317.34\t0.69\t1.37"
   ]
  },
  {
   "cell_type": "code",
   "execution_count": 74,
   "id": "a31aea58",
   "metadata": {},
   "outputs": [
    {
     "name": "stdout",
     "output_type": "stream",
     "text": [
      "005930 15.79\n",
      "005380 8.7\n",
      "066570 317.34\n"
     ]
    }
   ],
   "source": [
    "class Stock :\n",
    "    def __init__(self, company_name, company_code, per, pbr, dividend_yield) :\n",
    "        self.company_name = company_name\n",
    "        self.company_code = company_code\n",
    "        self.per = per\n",
    "        self.pbr = pbr\n",
    "        self.dividend_yield = dividend_yield\n",
    "\n",
    "    def set_name(self, company_name) :\n",
    "        self.company_name = company_name\n",
    "\n",
    "    def set_code(self, company_code) :\n",
    "        self.company_code = company_code\n",
    "\n",
    "    def set_per(self, per) :\n",
    "        self.per = per\n",
    "\n",
    "    def set_pbr(self, pbr) :\n",
    "        self.pbr = pbr\n",
    "\n",
    "    def set_dividend(self, dividend_yield) :\n",
    "        self.dividend_yield = dividend_yield\n",
    "\n",
    "    def get_name(self) :\n",
    "        return self.company_name\n",
    "        \n",
    "    def get_code(self) :\n",
    "        return self.company_code\n",
    "\n",
    "stocks = []\n",
    "Samsung = Stock(\"삼성전자\", \"005930\", 15.79, 1.33, 2.83)\n",
    "LG = Stock(\"LG전자\", \"066570\", 317.34, 0.69, 1.37)\n",
    "Hyundai = Stock(\"현대차\", \"005380\", 8.70, 0.35, 4.27)\n",
    "\n",
    "stocks.append(Samsung)\n",
    "stocks.append(Hyundai)\n",
    "stocks.append(LG)\n",
    "\n",
    "for i in stocks :\n",
    "    print(i.company_code, i.per)"
   ]
  },
  {
   "cell_type": "markdown",
   "id": "d4684c0f",
   "metadata": {},
   "source": [
    "#### 271. Account 클래스\n",
    "은행에 가서 계좌를 개설하면 은행이름, 예금주, 계좌번호, 잔액이 설정됩니다. Account 클래스를 생성한 후 생성자를 구현해보세요. 생성자에서는 예금주와 초기 잔액만 입력 받습니다. 은행이름은 SC은행으로 계좌번호는 3자리-2자리-6자리 형태로 랜덤하게 생성됩니다.\n",
    "- 은행이름: SC은행\n",
    "- 계좌번호: 111-11-111111"
   ]
  },
  {
   "cell_type": "code",
   "execution_count": null,
   "id": "26ce1d42-a81f-47ff-b7d3-9a0d7b071f2a",
   "metadata": {},
   "outputs": [],
   "source": [
    "import random\n",
    "\n",
    "class Account :\n",
    "    def __init__(self, name, balance) :\n",
    "        self.name = name\n",
    "        self.balance = balance\n",
    "        self.bank = \"SC 은행\"\n",
    "        num1 = random.randint(0, 99)"
   ]
  },
  {
   "cell_type": "markdown",
   "id": "84f267b5",
   "metadata": {},
   "source": [
    "#### 272. 클래스 변수\n",
    "클래스 변수를 사용해서 Account 클래스로부터 생성된 계좌 객체의 개수를 저장하세요."
   ]
  },
  {
   "cell_type": "code",
   "execution_count": null,
   "id": "967a1353",
   "metadata": {},
   "outputs": [],
   "source": []
  },
  {
   "cell_type": "markdown",
   "id": "84fec643",
   "metadata": {},
   "source": [
    "#### 273. 클래스 변수 출력\n",
    "Account 클래스로부터 생성된 계좌의 개수를 출력하는 get_account_num() 메서드를 추가하세요."
   ]
  },
  {
   "cell_type": "code",
   "execution_count": null,
   "id": "b4e0bfe2",
   "metadata": {},
   "outputs": [],
   "source": []
  },
  {
   "cell_type": "markdown",
   "id": "3b08d467",
   "metadata": {},
   "source": [
    "#### 274. 입금 메서드\n",
    "Account 클래스에 입금을 위한 deposit 메서드를 추가하세요. 입금은 최소 1원 이상만 가능합니다."
   ]
  },
  {
   "cell_type": "code",
   "execution_count": null,
   "id": "b8377a37",
   "metadata": {},
   "outputs": [],
   "source": []
  },
  {
   "cell_type": "markdown",
   "id": "530f981b",
   "metadata": {},
   "source": [
    "#### 275. 출금 메서드\n",
    "Account 클래스에 출금을 위한 withdraw 메서드를 추가하세요. 출금은 계좌의 잔고 이상으로 출금할 수는 없습니다."
   ]
  },
  {
   "cell_type": "code",
   "execution_count": null,
   "id": "a19b6d7f",
   "metadata": {},
   "outputs": [],
   "source": []
  },
  {
   "cell_type": "markdown",
   "id": "31a913c6",
   "metadata": {},
   "source": [
    "#### 276. 정보 출력 메서드\n",
    "Account 인스턴스에 저장된 정보를 출력하는 display_info() 메서드를 추가하세요. 잔고는 세자리마다 쉼표를 출력하세요.\n",
    "\n",
    "- 은행이름: SC은행\n",
    "- 예금주: 파이썬\n",
    "- 계좌번호: 111-11-111111\n",
    "- 잔고: 10,000원"
   ]
  },
  {
   "cell_type": "code",
   "execution_count": null,
   "id": "aa5e2b9c",
   "metadata": {},
   "outputs": [],
   "source": []
  },
  {
   "cell_type": "markdown",
   "id": "efae0457",
   "metadata": {},
   "source": [
    "#### 277. 이자 지급하기\n",
    "입금 횟수가 5회가 될 때 잔고를 기준으로 1%의 이자가 잔고에 추가되도록 코드를 변경해보세요."
   ]
  },
  {
   "cell_type": "code",
   "execution_count": null,
   "id": "e308e03d",
   "metadata": {},
   "outputs": [],
   "source": []
  },
  {
   "cell_type": "markdown",
   "id": "e456b3e0",
   "metadata": {},
   "source": [
    "#### 278. 여러 객체 생성\n",
    "Account 클래스로부터 3개 이상 인스턴스를 생성하고 생성된 인스턴스를 리스트에 저장해보세요."
   ]
  },
  {
   "cell_type": "code",
   "execution_count": null,
   "id": "aafe5ba3",
   "metadata": {},
   "outputs": [],
   "source": []
  },
  {
   "cell_type": "markdown",
   "id": "63e3e838",
   "metadata": {},
   "source": [
    "#### 279. 객체 순회\n",
    "반복문을 통해 리스트에 있는 객체를 순회하면서 잔고가 100만원 이상인 고객의 정보만 출력하세요."
   ]
  },
  {
   "cell_type": "code",
   "execution_count": null,
   "id": "1e95005f",
   "metadata": {},
   "outputs": [],
   "source": []
  },
  {
   "cell_type": "markdown",
   "id": "c2f9c27f",
   "metadata": {},
   "source": [
    "#### 280. 입출금 내역\n",
    "입금과 출금 내역이 기록되도록 코드를 업데이트 하세요. 입금 내역과 출금 내역을 출력하는 deposit_history와 withdraw_history 메서드를 추가하세요."
   ]
  },
  {
   "cell_type": "code",
   "execution_count": null,
   "id": "1d5f657e",
   "metadata": {},
   "outputs": [],
   "source": []
  },
  {
   "cell_type": "markdown",
   "id": "6216cf8d",
   "metadata": {},
   "source": [
    "#### 281. 클래스 정의\n",
    "다음 코드가 동작하도록 차 클래스를 정의하세요.\n",
    "\n",
    ">> car = 차(2, 1000)\n",
    ">> car.바퀴\n",
    "2\n",
    ">> car.가격\n",
    "1000"
   ]
  },
  {
   "cell_type": "code",
   "execution_count": null,
   "id": "15b1b7fe",
   "metadata": {},
   "outputs": [],
   "source": []
  },
  {
   "cell_type": "markdown",
   "id": "b7ccdd6f",
   "metadata": {},
   "source": [
    "#### 282. 클래스 상속\n",
    "차 클래스를 상속받은 자전차 클래스를 정의하세요."
   ]
  },
  {
   "cell_type": "code",
   "execution_count": null,
   "id": "4e08cc6f",
   "metadata": {},
   "outputs": [],
   "source": []
  },
  {
   "cell_type": "markdown",
   "id": "771ea185",
   "metadata": {},
   "source": [
    "#### 283. 클래스 상속\n",
    "다음 코드가 동작하도록 자전차 클래스를 정의하세요. 단 자전차 클래스는 차 클래스를 상속받습니다.\n",
    "\n",
    ">> bicycle = 자전차(2, 100)\n",
    ">> bicycle.가격\n",
    "100"
   ]
  },
  {
   "cell_type": "code",
   "execution_count": null,
   "id": "b35bc0aa",
   "metadata": {},
   "outputs": [],
   "source": []
  },
  {
   "cell_type": "markdown",
   "id": "f56054ed",
   "metadata": {},
   "source": [
    "#### 284. 클래스 상속\n",
    "다음 코드가 동작하도록 자전차 클래스를 정의하세요. 단 자전차 클래스는 차 클래스를 상속받습니다.\n",
    "\n",
    "- bicycle = 자전차(2, 100, \"시마노\")\n",
    "- bicycle.구동계\n",
    "- 시마노"
   ]
  },
  {
   "cell_type": "code",
   "execution_count": null,
   "id": "c66b716b",
   "metadata": {},
   "outputs": [],
   "source": []
  },
  {
   "cell_type": "markdown",
   "id": "ff15684c",
   "metadata": {},
   "source": [
    "#### 285. 클래스 상속\n",
    "다음 코드가 동작하도록 차 클래스를 상속받는 자동차 클래스를 정의하세요.\n",
    "\n",
    "- car = 자동차(4, 1000)\n",
    "- car.정보()\n",
    "- 바퀴수 4\n",
    "- 가격 1000"
   ]
  },
  {
   "cell_type": "code",
   "execution_count": null,
   "id": "a77d8fdc",
   "metadata": {},
   "outputs": [],
   "source": []
  },
  {
   "cell_type": "markdown",
   "id": "320ca0da",
   "metadata": {},
   "source": [
    "#### 286. 부모 클래스 생성자 호출\n",
    "다음 코드가 동작하도록 자전차 클래스를 수정하세요.\n",
    "\n",
    "- bicycle = 자전차(2, 100, \"시마노\")\n",
    "- bicycle.정보()\n",
    "- 바퀴수 2\n",
    "- 가격 100"
   ]
  },
  {
   "cell_type": "code",
   "execution_count": null,
   "id": "7644ca77",
   "metadata": {},
   "outputs": [],
   "source": []
  },
  {
   "cell_type": "markdown",
   "id": "1196b5e2",
   "metadata": {},
   "source": [
    "#### 287. 부모 클래스 메서드 호출\n",
    "자전차의 정보() 메서드로 구동계 정보까지 출력하도록 수정해보세요.\n",
    "\n",
    "- bicycle = 자전차(2, 100, \"시마노\")\n",
    "- bicycle.정보()\n",
    "- 바퀴수 2\n",
    "- 가격 100\n",
    "- 구동계 시마노"
   ]
  },
  {
   "cell_type": "code",
   "execution_count": null,
   "id": "1928d332",
   "metadata": {},
   "outputs": [],
   "source": []
  },
  {
   "cell_type": "markdown",
   "id": "189e5c3a",
   "metadata": {},
   "source": [
    "#### 288. 메서드 오버라이딩\n",
    "다음 코드의 실행 결과를 예상해보세요.\n",
    "\n",
    "> class 부모:\n",
    ">>   def 호출(self):\n",
    ">>>     print(\"부모호출\")\n",
    "\n",
    "> class 자식(부모):\n",
    ">>   def 호출(self):\n",
    ">>>     print(\"자식호출\")\n",
    "- 나 = 자식()\n",
    "- 나.호출()"
   ]
  },
  {
   "cell_type": "markdown",
   "id": "1d5eea3a",
   "metadata": {},
   "source": [
    "#### 289 생성자\n",
    "다음 코드의 실행 결과를 예상해보세요.\n",
    "\n",
    "> class 부모:\n",
    ">>   def __init__(self):\n",
    ">>>     print(\"부모생성\")\n",
    "\n",
    "> class 자식(부모):\n",
    ">>   def __init__(self):\n",
    ">>>     print(\"자식생성\")\n",
    "- 나 = 자식()"
   ]
  },
  {
   "cell_type": "code",
   "execution_count": null,
   "id": "dcbea886",
   "metadata": {},
   "outputs": [],
   "source": []
  },
  {
   "cell_type": "markdown",
   "id": "dea2a767",
   "metadata": {},
   "source": [
    "#### 290. 부모클래스 생성자 호출\n",
    "다음 코드의 실행 결과를 예상해보세요.\n",
    "\n",
    "> class 부모:\n",
    ">>   def __init__(self):\n",
    ">>>     print(\"부모생성\")\n",
    "\n",
    "> class 자식(부모):\n",
    ">>   def __init__(self):\n",
    ">>>     print(\"자식생성\")\n",
    ">>>     super().__init__()\n",
    "\n",
    "- 나 = 자식()"
   ]
  },
  {
   "cell_type": "code",
   "execution_count": null,
   "id": "56ebeefe",
   "metadata": {},
   "outputs": [],
   "source": [
    "291 ~ 300 문제"
   ]
  },
  {
   "cell_type": "code",
   "execution_count": null,
   "id": "1dd3a668-edd0-4be2-aa08-602295dfdf02",
   "metadata": {},
   "outputs": [],
   "source": [
    "file_loc = open(\"C:/Users/hyunh/Desktop/매수종목1.txt\", mode=\"wt\", encoding=\"utf-8\")\n",
    "file_loc.write(\"005930\\n\")\n",
    "file_loc.write(\"005380\\n\")\n",
    "file_loc.write(\"035420\")\n",
    "file_loc.close()"
   ]
  },
  {
   "cell_type": "code",
   "execution_count": null,
   "id": "d6df4b56-7dc5-4fc9-a1d4-a98d5bff1334",
   "metadata": {},
   "outputs": [],
   "source": [
    "file_loc = open(\"C:/Users/hyunh/Desktop/매수종목2.txt\", mode=\"wt\", encoding=\"utf-8\")\n",
    "file_loc.write(\"005930 삼성전자\\n\")\n",
    "file_loc.write(\"005380 현대차\\n\")\n",
    "file_loc.write(\"035420 NAVER\\n\")\n",
    "file_loc.close()"
   ]
  },
  {
   "cell_type": "code",
   "execution_count": null,
   "id": "da5e51b3-bf50-4d40-85b9-2d8523da4254",
   "metadata": {},
   "outputs": [],
   "source": [
    "import csv\n",
    "\n",
    "file_loc = open(\"C:/Users/hyunh/Desktop/매수종목.csv\", mode=\"wt\", encoding=\"cp949\", newline='')\n",
    "writer = csv.writer(file_loc)\n",
    "writer.writerow([\"종목명\", \"종목코드\", \"PER\"])\n",
    "writer.writerow([\"삼성전자\", \"005930\", 15.59])\n",
    "writer.writerow([\"NAVER\", \"035420\", 55.82])\n",
    "file_loc.close()"
   ]
  },
  {
   "cell_type": "code",
   "execution_count": null,
   "id": "59837d05-9934-42c6-95c0-9bb79d7cde28",
   "metadata": {},
   "outputs": [],
   "source": [
    "file_loc = open(\"C:/Users/hyunh/Desktop/매수종목1.txt\", encoding=\"utf-8\")\n",
    "lines = file_loc.readlines()   # python list\n",
    "\n",
    "codes = []\n",
    "for line in lines:\n",
    "    code = line.strip()  #'\\n'\n",
    "    codes.append(code)\n",
    "\n",
    "print(codes)\n",
    "\n",
    "file_loc.close()"
   ]
  },
  {
   "cell_type": "code",
   "execution_count": null,
   "id": "fb256c2f-abff-4fc0-90bd-2fadb75d49f7",
   "metadata": {},
   "outputs": [],
   "source": [
    "file_loc = open(\"C:/Users/hyunh/Desktop/매수종목2.txt\", encoding=\"utf-8\")\n",
    "lines = file_loc.readlines()\n",
    "\n",
    "data = {}\n",
    "for line in lines:\n",
    "    line = line.strip()     # '\\n' 제거\n",
    "    k, v = line.split()\n",
    "    #print(k, v)\n",
    "    data[k] = v\n",
    "\n",
    "print(data)\n",
    "file_loc.close()"
   ]
  },
  {
   "cell_type": "code",
   "execution_count": null,
   "id": "9f8ed937-df74-4bc5-bc61-d20074444fd6",
   "metadata": {},
   "outputs": [],
   "source": [
    "per = [\"10.31\", \"\", \"8.00\"]\n",
    "\n",
    "for i in per:\n",
    "    try:\n",
    "        print(float(i))\n",
    "    except:\n",
    "        print(0)"
   ]
  },
  {
   "cell_type": "code",
   "execution_count": null,
   "id": "d8e21175-5cbe-4605-9486-9d322893799c",
   "metadata": {},
   "outputs": [],
   "source": [
    "per = [\"10.31\", \"\", \"8.00\"]\n",
    "new_per = []\n",
    "\n",
    "for i in per:\n",
    "    try:\n",
    "        v = float(i)\n",
    "    except:\n",
    "        v = 0\n",
    "    new_per.append(v)\n",
    "\n",
    "print(new_per)"
   ]
  },
  {
   "cell_type": "code",
   "execution_count": null,
   "id": "376943be-0e2a-4993-98e0-8fddc05eab23",
   "metadata": {},
   "outputs": [],
   "source": [
    "try:\n",
    "    b = 3 / 0\n",
    "except ZeroDivisionError:\n",
    "    print(\"0으로 나누면 안되요\")\n"
   ]
  },
  {
   "cell_type": "code",
   "execution_count": null,
   "id": "a3248cfd-4cc9-4d5d-933a-28088e4fc168",
   "metadata": {},
   "outputs": [],
   "source": [
    "data = [1, 2, 3]\n",
    "\n",
    "for i in range(5):\n",
    "    try:\n",
    "        print(data[i])\n",
    "    except IndexError as e:\n",
    "        print(e)"
   ]
  },
  {
   "cell_type": "code",
   "execution_count": null,
   "id": "94f19cfd-31d8-4e3c-8174-e3af92d34026",
   "metadata": {},
   "outputs": [],
   "source": [
    "per = [\"10.31\", \"\", \"8.00\"]\n",
    "\n",
    "for i in per:\n",
    "    try:\n",
    "        print(float(i))\n",
    "    except:\n",
    "        print(0)\n",
    "    else:\n",
    "        print(\"clean data\")\n",
    "    finally:\n",
    "        print(\"변환 완료\")"
   ]
  }
 ],
 "metadata": {
  "kernelspec": {
   "display_name": "Python 3 (ipykernel)",
   "language": "python",
   "name": "python3"
  },
  "language_info": {
   "codemirror_mode": {
    "name": "ipython",
    "version": 3
   },
   "file_extension": ".py",
   "mimetype": "text/x-python",
   "name": "python",
   "nbconvert_exporter": "python",
   "pygments_lexer": "ipython3",
   "version": "3.12.4"
  }
 },
 "nbformat": 4,
 "nbformat_minor": 5
}
