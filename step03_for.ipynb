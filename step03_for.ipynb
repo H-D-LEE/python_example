{
 "cells": [
  {
   "cell_type": "code",
   "execution_count": null,
   "metadata": {},
   "outputs": [],
   "source": [
    "'''\n",
    "반복문(for)\n",
    "\n",
    "형식)\n",
    "for 변수 in 열거형data :\n",
    "    실행문\n",
    "    실행문\n",
    "    \n",
    "제너레이터식 : 변수 in 열거형data(object)  \n",
    "열거형data(iterable) : string,list,tuple,set,dict  \n",
    "'''"
   ]
  },
  {
   "cell_type": "code",
   "execution_count": 1,
   "metadata": {},
   "outputs": [
    {
     "name": "stdout",
     "output_type": "stream",
     "text": [
      "3\n",
      "홍\n",
      "길\n",
      "동\n",
      "\n"
     ]
    }
   ],
   "source": [
    "# 문자열 열거형객체 이용\n",
    "string = \"홍길동\"\n",
    "\n",
    "# 1문자 -> 변수 넘김 : 3회\n",
    "print(len(string)) # 3\n",
    "\n",
    "for s in string : \n",
    "    print(s) # 나는 홍길동 입니다.\n",
    "\n",
    "print() # line skip"
   ]
  },
  {
   "cell_type": "code",
   "execution_count": 2,
   "metadata": {},
   "outputs": [
    {
     "name": "stdout",
     "output_type": "stream",
     "text": [
      "홍길동 \n"
     ]
    }
   ],
   "source": [
    "# split -> 변수 넘김 : 3회 \n",
    "for s in string.split() : # sep=' '\n",
    "    print(s, end=' ') # 나는 홍길동 입니다.\n",
    "     \n",
    "print()"
   ]
  },
  {
   "cell_type": "code",
   "execution_count": 3,
   "metadata": {},
   "outputs": [
    {
     "name": "stdout",
     "output_type": "stream",
     "text": [
      "원소 :  1\n",
      "원소 :  2\n",
      "원소 :  3\n",
      "원소 :  4\n",
      "원소 :  5\n"
     ]
    }
   ],
   "source": [
    "# list 열거형객체 이용\n",
    "lstset = [1,2,3,4,5] # 1차원(vector)\n",
    "\n",
    "for e in lstset :\n",
    "    print('원소 : ', e)"
   ]
  },
  {
   "cell_type": "code",
   "execution_count": 1,
   "metadata": {},
   "outputs": [
    {
     "name": "stdout",
     "output_type": "stream",
     "text": [
      "num1 :  range(0, 10)\n",
      "num2 :  range(1, 10)\n",
      "num3 : range(1, 10, 2)\n",
      "0 1 2 3 4 5 6 7 8 9 \n",
      "1 2 3 4 5 6 7 8 9 \n",
      "1 3 5 7 9 num2 :  range(1, 5)\n",
      "[1, 2, 3, 4]\n"
     ]
    }
   ],
   "source": [
    "num1 = list(range(1,11))\n",
    "print(num1)\n",
    "\n",
    "for e in num1 : # [1, 2, 3, 4, 5, 6, 7, 8, 9, 10]\n",
    "    print(e)\n"
   ]
  },
  {
   "cell_type": "code",
   "execution_count": 5,
   "metadata": {},
   "outputs": [
    {
     "name": "stdout",
     "output_type": "stream",
     "text": [
      "lst : [1, 2, 3, 4, 5, 6, 7, 8, 9, 10, 11, 12, 13, 14, 15, 16, 17, 18, 19, 20, 21, 22, 23, 24, 25, 26, 27, 28, 29, 30, 31, 32, 33, 34, 35, 36, 37, 38, 39, 40, 41, 42, 43, 44, 45, 46, 47, 48, 49, 50, 51, 52, 53, 54, 55, 56, 57, 58, 59, 60, 61, 62, 63, 64, 65, 66, 67, 68, 69, 70, 71, 72, 73, 74, 75, 76, 77, 78, 79, 80, 81, 82, 83, 84, 85, 86, 87, 88, 89, 90, 91, 92, 93, 94, 95, 96, 97, 98, 99, 100]\n",
      "5 10 15 20 25 30 35 40 45 50 55 60 65 70 75 80 85 90 95 100 \n",
      "[5, 10, 15, 20, 25, 30, 35, 40, 45, 50, 55, 60, 65, 70, 75, 80, 85, 90, 95, 100]\n"
     ]
    }
   ],
   "source": [
    "lst = list(range(1,101)) # 1 ~ 100\n",
    "print('lst :', lst)\n",
    "lst2 = [] # 빈list\n",
    "\n",
    "for i in lst : # 100회 \n",
    "    if i % 5 == 0 :\n",
    "        print(i, end = ' ') \n",
    "        lst2.append(i)   \n",
    "# 5 10 15 20 25 30 35 40 45 50 55 60 65 70 75 80 85 90 95 100\n",
    "print()\n",
    "print(lst2)\n",
    "# [5, 10, 15, 20, 25, 30, 35, 40, 45, 50, 55, 60, 65, 70, 75, 80, 85, 90, 95, 100]"
   ]
  },
  {
   "cell_type": "code",
   "execution_count": 6,
   "metadata": {},
   "outputs": [
    {
     "name": "stdout",
     "output_type": "stream",
     "text": [
      "[3, 6, 9, 12, 15, 18, 21, 24, 27, 30, 33, 36, 39, 42, 45, 48, 51, 54, 57, 60, 63, 66, 69, 72, 75, 78, 81, 84, 87, 90, 93, 96, 99] \n"
     ]
    }
   ],
   "source": [
    "# 문) lst(1~100) 중에서 3의 배수만  lst3 추가/출력 \n",
    "lst3 = []\n",
    "\n",
    "for i in lst :\n",
    "    if i % 3 == 0 :\n",
    "        lst3.append(i)\n",
    "        \n",
    "print(lst3, end = ' ')        \n",
    "\n",
    "print()"
   ]
  },
  {
   "cell_type": "code",
   "execution_count": 11,
   "metadata": {},
   "outputs": [
    {
     "name": "stdout",
     "output_type": "stream",
     "text": [
      "~~~ 2단 ~~~\n",
      "2 * 1 = 2\n",
      "2 * 2 = 4\n",
      "2 * 3 = 6\n",
      "2 * 4 = 8\n",
      "2 * 5 = 10\n",
      "2 * 6 = 12\n",
      "2 * 7 = 14\n",
      "2 * 8 = 16\n",
      "2 * 9 = 18\n",
      "~~~ 3단 ~~~\n",
      "3 * 1 = 3\n",
      "3 * 2 = 6\n",
      "3 * 3 = 9\n",
      "3 * 4 = 12\n",
      "3 * 5 = 15\n",
      "3 * 6 = 18\n",
      "3 * 7 = 21\n",
      "3 * 8 = 24\n",
      "3 * 9 = 27\n",
      "~~~ 5단 ~~~\n",
      "5 * 1 = 5\n",
      "5 * 2 = 10\n",
      "5 * 3 = 15\n",
      "5 * 4 = 20\n",
      "5 * 5 = 25\n",
      "5 * 6 = 30\n",
      "5 * 7 = 35\n",
      "5 * 8 = 40\n",
      "5 * 9 = 45\n"
     ]
    }
   ],
   "source": [
    "# 중첩 반복문\n",
    "# 구구단 출력(2, 3, 5)\n",
    "for i in [2, 3, 5]:\n",
    "    # 바깥쪽 영역\n",
    "    print('~~~ {}단 ~~~'.format(i))\n",
    "    for j in [1, 2, 3, 4, 5, 6, 7, 8, 9]:\n",
    "        # 안쪽 영역\n",
    "        print('%d * %d = %d' % (i, j, i * j))"
   ]
  },
  {
   "cell_type": "code",
   "execution_count": 12,
   "metadata": {},
   "outputs": [
    {
     "name": "stdout",
     "output_type": "stream",
     "text": [
      "~~~ 2단 ~~~\n",
      "2 * 1 = 2\n",
      "2 * 2 = 4\n",
      "2 * 3 = 6\n",
      "2 * 4 = 8\n",
      "2 * 5 = 10\n",
      "2 * 6 = 12\n",
      "2 * 7 = 14\n",
      "2 * 8 = 16\n",
      "2 * 9 = 18\n",
      "~~~ 3단 ~~~\n",
      "3 * 1 = 3\n",
      "3 * 2 = 6\n",
      "3 * 3 = 9\n",
      "3 * 4 = 12\n",
      "3 * 5 = 15\n",
      "3 * 6 = 18\n",
      "3 * 7 = 21\n",
      "3 * 8 = 24\n",
      "3 * 9 = 27\n",
      "~~~ 4단 ~~~\n",
      "4 * 1 = 4\n",
      "4 * 2 = 8\n",
      "4 * 3 = 12\n",
      "4 * 4 = 16\n",
      "4 * 5 = 20\n",
      "4 * 6 = 24\n",
      "4 * 7 = 28\n",
      "4 * 8 = 32\n",
      "4 * 9 = 36\n",
      "~~~ 5단 ~~~\n",
      "5 * 1 = 5\n",
      "5 * 2 = 10\n",
      "5 * 3 = 15\n",
      "5 * 4 = 20\n",
      "5 * 5 = 25\n",
      "5 * 6 = 30\n",
      "5 * 7 = 35\n",
      "5 * 8 = 40\n",
      "5 * 9 = 45\n",
      "~~~ 6단 ~~~\n",
      "6 * 1 = 6\n",
      "6 * 2 = 12\n",
      "6 * 3 = 18\n",
      "6 * 4 = 24\n",
      "6 * 5 = 30\n",
      "6 * 6 = 36\n",
      "6 * 7 = 42\n",
      "6 * 8 = 48\n",
      "6 * 9 = 54\n",
      "~~~ 7단 ~~~\n",
      "7 * 1 = 7\n",
      "7 * 2 = 14\n",
      "7 * 3 = 21\n",
      "7 * 4 = 28\n",
      "7 * 5 = 35\n",
      "7 * 6 = 42\n",
      "7 * 7 = 49\n",
      "7 * 8 = 56\n",
      "7 * 9 = 63\n",
      "~~~ 8단 ~~~\n",
      "8 * 1 = 8\n",
      "8 * 2 = 16\n",
      "8 * 3 = 24\n",
      "8 * 4 = 32\n",
      "8 * 5 = 40\n",
      "8 * 6 = 48\n",
      "8 * 7 = 56\n",
      "8 * 8 = 64\n",
      "8 * 9 = 72\n",
      "~~~ 9단 ~~~\n",
      "9 * 1 = 9\n",
      "9 * 2 = 18\n",
      "9 * 3 = 27\n",
      "9 * 4 = 36\n",
      "9 * 5 = 45\n",
      "9 * 6 = 54\n",
      "9 * 7 = 63\n",
      "9 * 8 = 72\n",
      "9 * 9 = 81\n"
     ]
    }
   ],
   "source": [
    "# 구구단 출력 : range() 함수 이용\n",
    "for i in range(2, 10):\n",
    "    # 바깥쪽 영역\n",
    "    print('~~~ {}단 ~~~'.format(i))\n",
    "    for j in range(1, 10):\n",
    "        # 안쪽 영역\n",
    "        print('%d * %d = %d' % (i, j, i * j))"
   ]
  },
  {
   "cell_type": "code",
   "execution_count": 15,
   "metadata": {},
   "outputs": [
    {
     "name": "stdout",
     "output_type": "stream",
     "text": [
      "문장 : ['나는 홍길동 입니다.', '주소는 서울시 입니다.', '나이는 35세 입니다.']\n",
      "문장수 : 3\n",
      "단어 : ['나는', '홍길동', '입니다.', '주소는', '서울시', '입니다.', '나이는', '35세', '입니다.']\n",
      "단어수 : 9\n"
     ]
    },
    {
     "data": {
      "text/plain": [
       "\"\\n문장 : ['나는 홍길동 입니다.', '주소는 서울시 입니다.', '나이는 35세 입니다.']\\n단어 : ['나는', '홍길동', '입니다.', '주소는', '서울시', '입니다.', '나이는', '35세', '입니다.']\\n단어수 : 9\\n문장:단어 [{'나는 홍길동 입니다.': '나는'}, {'나는 홍길동 입니다.': '홍길동'}, {'나는 홍길동 입니다.': '입니다.'}, {'주소는 서울시 입니다.': '주소는'}, {'주소는 서울시 입니다.': '서울시'}, {'주소는 서울시 입니다.': '입니다.'}, {'나이는 35세 입니다.': '나이는'}, {'나이는 35세 입니다.': '35세'}, {'나이는 35세 입니다.': '입니다.'}]\\n\""
      ]
     },
     "execution_count": 15,
     "metadata": {},
     "output_type": "execute_result"
    }
   ],
   "source": [
    "'''\n",
    "for 변수 in data1 :  -> 문장\n",
    "    실행문 -> 문장 저장  \n",
    "    for 변수 in data2: ->  단어 \n",
    "        실행문 -> 단어 저장 \n",
    "'''\n",
    "\n",
    "string = \"\"\"나는 홍길동 입니다.\n",
    "주소는 서울시 입니다.\n",
    "나이는 35세 입니다.\"\"\"\n",
    "\n",
    "sents = [] # 문장 저장\n",
    "words = [] # 단어 저장\n",
    "\n",
    "for sen in string.split(sep = \"\\n\") : # 문단 -> 문장\n",
    "    sents.append(sen)\n",
    "    for word in sen.split() : # 문장 -> 단어\n",
    "        words.append(word)\n",
    "\n",
    "        \n",
    "print('문장 :',  sents)\n",
    "print('문장수 :', len(sents))\n",
    "print('단어 :', words)\n",
    "print('단어수 :', len(words))"
   ]
  },
  {
   "cell_type": "code",
   "execution_count": null,
   "metadata": {},
   "outputs": [],
   "source": []
  }
 ],
 "metadata": {
  "kernelspec": {
   "display_name": "Python 3 (ipykernel)",
   "language": "python",
   "name": "python3"
  },
  "language_info": {
   "codemirror_mode": {
    "name": "ipython",
    "version": 3
   },
   "file_extension": ".py",
   "mimetype": "text/x-python",
   "name": "python",
   "nbconvert_exporter": "python",
   "pygments_lexer": "ipython3",
   "version": "3.12.4"
  }
 },
 "nbformat": 4,
 "nbformat_minor": 4
}
