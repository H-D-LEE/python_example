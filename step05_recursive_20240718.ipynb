{
 "cells": [
  {
   "cell_type": "code",
   "execution_count": 1,
   "metadata": {},
   "outputs": [
    {
     "data": {
      "text/plain": [
       "'\\n재귀호출(recursive call)\\n - 함수 내부에서 자신의 함수를 반복적으로 호출하는 기법\\n - 조건 : exit 조건  \\n - 용도 : 반복적으로 변수를 조금씩 변경하여 연산\\n   ex) 5! = 1*2*3*4*5\\n'"
      ]
     },
     "execution_count": 1,
     "metadata": {},
     "output_type": "execute_result"
    }
   ],
   "source": [
    "'''\n",
    "재귀호출(recursive call)\n",
    " - 함수 내부에서 자신의 함수를 반복적으로 호출하는 기법\n",
    " - 조건 : exit 조건  \n",
    " - 용도 : 반복적으로 변수를 조금씩 변경하여 연산\n",
    "   ex) 5! = 1*2*3*4*5\n",
    "'''"
   ]
  },
  {
   "cell_type": "code",
   "execution_count": 3,
   "metadata": {},
   "outputs": [
    {
     "name": "stdout",
     "output_type": "stream",
     "text": [
      "n=0 :  0\n",
      "\n",
      "n =  5\n",
      "n =  4\n",
      "n =  3\n",
      "n =  2\n",
      "n =  1\n",
      "1 2 3 4 5 "
     ]
    }
   ],
   "source": [
    "# (1) 1~n 카운트(n=5: 1 2 3 4 5)\n",
    "def Counter(n):\n",
    "    if n == 0 :\n",
    "        return 0 # exit 조건 \n",
    "    else :\n",
    "        print('n = ', n)\n",
    "#        print()\n",
    "        Counter(n-1) # 재귀 호출5(first) -> 4(5-1) -> 3(4-1) -> 2(3-1) -> 1(2-1) [0(1-1)]\n",
    "#        print('n = ', n)\n",
    "#        print()\n",
    "        '''\n",
    "        stack(5, 4, 3, 2, 1) : LIFO\n",
    "        return 값은 stack 저장되지 않음 \n",
    "        '''\n",
    "        print(n, end = ' ') # 중복 출력\n",
    "        # 1 2 3 4 5  \n",
    "\n",
    "# 함수 호출1\n",
    "print('n=0 : ', Counter(0)) # n=0 :  0\n",
    "print()\n",
    "\n",
    "# 함수 호출2\n",
    "Counter(5)\n",
    "#print()"
   ]
  },
  {
   "cell_type": "code",
   "execution_count": 1,
   "metadata": {},
   "outputs": [
    {
     "name": "stdout",
     "output_type": "stream",
     "text": [
      "n=1 : 1\n",
      "\n",
      "n =: 5\n",
      "n =: 4\n",
      "n =: 3\n",
      "n =: 2\n",
      "result =: 3\n",
      "2 \n",
      "result =: 6\n",
      "3 \n",
      "result =: 10\n",
      "4 \n",
      "result =: 15\n",
      "5 \n",
      "\n",
      "n=5 : 15\n"
     ]
    }
   ],
   "source": [
    "# (2) 1~n 누적합(1+2+3+4+5=15)\n",
    "def Adder(n):\n",
    "    if n == 1 : # n=1 -> exit 조건 \n",
    "        return 1\n",
    "    else :\n",
    "        # 재귀호출 \n",
    "        print('n =:', n)\n",
    "        result = n + Adder(n-1) \n",
    "        print('result =:', result)\n",
    "        # 5(first)->4(5-1) -> 3(4-1) -> 2(3-1) | [1(2-1)] \n",
    "        '''\n",
    "        1. stack(5, 4, 3, 2)\n",
    "        2. 덧셈 : 1 + [2 + 3 + 4 + 5 ]         \n",
    "        '''   \n",
    "        print(n, end = ' ')   # 2 3 4 5   \n",
    "        print()\n",
    "        return result # 15\n",
    "    \n",
    "print('n=1 :', Adder(1)) # n=1 : 1\n",
    "print()\n",
    "print('\\nn=5 :', Adder(5)) # n=5 : 15"
   ]
  },
  {
   "cell_type": "code",
   "execution_count": null,
   "metadata": {},
   "outputs": [],
   "source": []
  }
 ],
 "metadata": {
  "kernelspec": {
   "display_name": "Python 3 (ipykernel)",
   "language": "python",
   "name": "python3"
  },
  "language_info": {
   "codemirror_mode": {
    "name": "ipython",
    "version": 3
   },
   "file_extension": ".py",
   "mimetype": "text/x-python",
   "name": "python",
   "nbconvert_exporter": "python",
   "pygments_lexer": "ipython3",
   "version": "3.12.4"
  }
 },
 "nbformat": 4,
 "nbformat_minor": 4
}
